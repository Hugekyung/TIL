{
  "nbformat": 4,
  "nbformat_minor": 0,
  "metadata": {
    "colab": {
      "name": "sklearn_decisionTree.ipynb",
      "provenance": [],
      "collapsed_sections": [],
      "authorship_tag": "ABX9TyOegnuvIh4EeJ3Y7HAZhnnu",
      "include_colab_link": true
    },
    "kernelspec": {
      "name": "python3",
      "display_name": "Python 3"
    }
  },
  "cells": [
    {
      "cell_type": "markdown",
      "metadata": {
        "id": "view-in-github",
        "colab_type": "text"
      },
      "source": [
        "<a href=\"https://colab.research.google.com/github/Hugekyung/TIL/blob/master/machine_learning/sklearn_decisionTree.ipynb\" target=\"_parent\"><img src=\"https://colab.research.google.com/assets/colab-badge.svg\" alt=\"Open In Colab\"/></a>"
      ]
    },
    {
      "cell_type": "markdown",
      "metadata": {
        "id": "XbtFs7q-6avN"
      },
      "source": [
        "# 모델 파라미터 조정(최적의 파라미터 찾기)"
      ]
    },
    {
      "cell_type": "code",
      "metadata": {
        "id": "uJabBTA8NUMq"
      },
      "source": [
        "import pandas as pd\r\n",
        "import numpy as np\r\n",
        "import seaborn as sns\r\n",
        "import matplotlib.pyplot as plt"
      ],
      "execution_count": 1,
      "outputs": []
    },
    {
      "cell_type": "code",
      "metadata": {
        "colab": {
          "base_uri": "https://localhost:8080/"
        },
        "id": "wgWaJicz6G0o",
        "outputId": "af6eba68-1c0a-41f3-adc9-d66921092f53"
      },
      "source": [
        "df = pd.read_csv(\"diabetes_feature.csv\")\r\n",
        "df.shape"
      ],
      "execution_count": 2,
      "outputs": [
        {
          "output_type": "execute_result",
          "data": {
            "text/plain": [
              "(768, 16)"
            ]
          },
          "metadata": {
            "tags": []
          },
          "execution_count": 2
        }
      ]
    },
    {
      "cell_type": "code",
      "metadata": {
        "colab": {
          "base_uri": "https://localhost:8080/",
          "height": 215
        },
        "id": "s1yqwbsI6hdG",
        "outputId": "297f9773-ba4c-4f80-aece-9a694d9a3a2c"
      },
      "source": [
        "df.head()"
      ],
      "execution_count": 4,
      "outputs": [
        {
          "output_type": "execute_result",
          "data": {
            "text/html": [
              "<div>\n",
              "<style scoped>\n",
              "    .dataframe tbody tr th:only-of-type {\n",
              "        vertical-align: middle;\n",
              "    }\n",
              "\n",
              "    .dataframe tbody tr th {\n",
              "        vertical-align: top;\n",
              "    }\n",
              "\n",
              "    .dataframe thead th {\n",
              "        text-align: right;\n",
              "    }\n",
              "</style>\n",
              "<table border=\"1\" class=\"dataframe\">\n",
              "  <thead>\n",
              "    <tr style=\"text-align: right;\">\n",
              "      <th></th>\n",
              "      <th>Pregnancies</th>\n",
              "      <th>Glucose</th>\n",
              "      <th>BloodPressure</th>\n",
              "      <th>SkinThickness</th>\n",
              "      <th>Insulin</th>\n",
              "      <th>BMI</th>\n",
              "      <th>DiabetesPedigreeFunction</th>\n",
              "      <th>Age</th>\n",
              "      <th>Outcome</th>\n",
              "      <th>Pregnancies_high</th>\n",
              "      <th>Age_low</th>\n",
              "      <th>Age_middle</th>\n",
              "      <th>Age_high</th>\n",
              "      <th>Insulin_nan</th>\n",
              "      <th>Insulin_log</th>\n",
              "      <th>low_glu_insulin</th>\n",
              "    </tr>\n",
              "  </thead>\n",
              "  <tbody>\n",
              "    <tr>\n",
              "      <th>0</th>\n",
              "      <td>6</td>\n",
              "      <td>148</td>\n",
              "      <td>72</td>\n",
              "      <td>35</td>\n",
              "      <td>0</td>\n",
              "      <td>33.6</td>\n",
              "      <td>0.627</td>\n",
              "      <td>50</td>\n",
              "      <td>1</td>\n",
              "      <td>False</td>\n",
              "      <td>False</td>\n",
              "      <td>True</td>\n",
              "      <td>False</td>\n",
              "      <td>169.5</td>\n",
              "      <td>5.138735</td>\n",
              "      <td>False</td>\n",
              "    </tr>\n",
              "    <tr>\n",
              "      <th>1</th>\n",
              "      <td>1</td>\n",
              "      <td>85</td>\n",
              "      <td>66</td>\n",
              "      <td>29</td>\n",
              "      <td>0</td>\n",
              "      <td>26.6</td>\n",
              "      <td>0.351</td>\n",
              "      <td>31</td>\n",
              "      <td>0</td>\n",
              "      <td>False</td>\n",
              "      <td>False</td>\n",
              "      <td>True</td>\n",
              "      <td>False</td>\n",
              "      <td>102.5</td>\n",
              "      <td>4.639572</td>\n",
              "      <td>True</td>\n",
              "    </tr>\n",
              "    <tr>\n",
              "      <th>2</th>\n",
              "      <td>8</td>\n",
              "      <td>183</td>\n",
              "      <td>64</td>\n",
              "      <td>0</td>\n",
              "      <td>0</td>\n",
              "      <td>23.3</td>\n",
              "      <td>0.672</td>\n",
              "      <td>32</td>\n",
              "      <td>1</td>\n",
              "      <td>True</td>\n",
              "      <td>False</td>\n",
              "      <td>True</td>\n",
              "      <td>False</td>\n",
              "      <td>169.5</td>\n",
              "      <td>5.138735</td>\n",
              "      <td>False</td>\n",
              "    </tr>\n",
              "    <tr>\n",
              "      <th>3</th>\n",
              "      <td>1</td>\n",
              "      <td>89</td>\n",
              "      <td>66</td>\n",
              "      <td>23</td>\n",
              "      <td>94</td>\n",
              "      <td>28.1</td>\n",
              "      <td>0.167</td>\n",
              "      <td>21</td>\n",
              "      <td>0</td>\n",
              "      <td>False</td>\n",
              "      <td>True</td>\n",
              "      <td>False</td>\n",
              "      <td>False</td>\n",
              "      <td>94.0</td>\n",
              "      <td>4.553877</td>\n",
              "      <td>True</td>\n",
              "    </tr>\n",
              "    <tr>\n",
              "      <th>4</th>\n",
              "      <td>0</td>\n",
              "      <td>137</td>\n",
              "      <td>40</td>\n",
              "      <td>35</td>\n",
              "      <td>168</td>\n",
              "      <td>43.1</td>\n",
              "      <td>2.288</td>\n",
              "      <td>33</td>\n",
              "      <td>1</td>\n",
              "      <td>False</td>\n",
              "      <td>False</td>\n",
              "      <td>True</td>\n",
              "      <td>False</td>\n",
              "      <td>168.0</td>\n",
              "      <td>5.129899</td>\n",
              "      <td>False</td>\n",
              "    </tr>\n",
              "  </tbody>\n",
              "</table>\n",
              "</div>"
            ],
            "text/plain": [
              "   Pregnancies  Glucose  ...  Insulin_log  low_glu_insulin\n",
              "0            6      148  ...     5.138735            False\n",
              "1            1       85  ...     4.639572             True\n",
              "2            8      183  ...     5.138735            False\n",
              "3            1       89  ...     4.553877             True\n",
              "4            0      137  ...     5.129899            False\n",
              "\n",
              "[5 rows x 16 columns]"
            ]
          },
          "metadata": {
            "tags": []
          },
          "execution_count": 4
        }
      ]
    },
    {
      "cell_type": "markdown",
      "metadata": {
        "id": "GvERJ4d-6v_n"
      },
      "source": [
        "## train, test 데이터셋 만들기"
      ]
    },
    {
      "cell_type": "code",
      "metadata": {
        "colab": {
          "base_uri": "https://localhost:8080/"
        },
        "id": "F--EDLsQ7Gef",
        "outputId": "3f769024-bdbc-4db4-d5dd-9eed0da65ea1"
      },
      "source": [
        "df.columns"
      ],
      "execution_count": 5,
      "outputs": [
        {
          "output_type": "execute_result",
          "data": {
            "text/plain": [
              "Index(['Pregnancies', 'Glucose', 'BloodPressure', 'SkinThickness', 'Insulin',\n",
              "       'BMI', 'DiabetesPedigreeFunction', 'Age', 'Outcome', 'Pregnancies_high',\n",
              "       'Age_low', 'Age_middle', 'Age_high', 'Insulin_nan', 'Insulin_log',\n",
              "       'low_glu_insulin'],\n",
              "      dtype='object')"
            ]
          },
          "metadata": {
            "tags": []
          },
          "execution_count": 5
        }
      ]
    },
    {
      "cell_type": "code",
      "metadata": {
        "colab": {
          "base_uri": "https://localhost:8080/"
        },
        "id": "KORkzX-D7JwF",
        "outputId": "0c30b51d-7c20-4d47-9a7c-bff2bdd2e9fd"
      },
      "source": [
        "X = df[['Glucose', 'BloodPressure', 'SkinThickness',\r\n",
        "       'BMI', 'DiabetesPedigreeFunction', 'Age', 'Pregnancies_high',\r\n",
        "       'Insulin_nan', 'low_glu_insulin']]\r\n",
        "\r\n",
        "X.shape"
      ],
      "execution_count": 6,
      "outputs": [
        {
          "output_type": "execute_result",
          "data": {
            "text/plain": [
              "(768, 9)"
            ]
          },
          "metadata": {
            "tags": []
          },
          "execution_count": 6
        }
      ]
    },
    {
      "cell_type": "code",
      "metadata": {
        "colab": {
          "base_uri": "https://localhost:8080/"
        },
        "id": "vzFScnaK7jSB",
        "outputId": "a419cc4b-a916-4c31-be0b-ebb1f5a85069"
      },
      "source": [
        "y = df['Outcome']\r\n",
        "y.shape"
      ],
      "execution_count": 7,
      "outputs": [
        {
          "output_type": "execute_result",
          "data": {
            "text/plain": [
              "(768,)"
            ]
          },
          "metadata": {
            "tags": []
          },
          "execution_count": 7
        }
      ]
    },
    {
      "cell_type": "code",
      "metadata": {
        "id": "fbZoprYn6reB"
      },
      "source": [
        "from sklearn.model_selection import train_test_split # 비율대로 랜덤하게 나눈다\r\n",
        "\r\n",
        "X_train, X_test, y_train, y_test = train_test_split(X, y, test_size=0.2, random_state=42) # random_state=42 가져오는 데이터 고정"
      ],
      "execution_count": 8,
      "outputs": []
    },
    {
      "cell_type": "code",
      "metadata": {
        "colab": {
          "base_uri": "https://localhost:8080/"
        },
        "id": "PxHDsq8m7yAm",
        "outputId": "0a810a94-cf61-45b4-ed26-9917836458f4"
      },
      "source": [
        "X_train.shape, y_train.shape"
      ],
      "execution_count": 11,
      "outputs": [
        {
          "output_type": "execute_result",
          "data": {
            "text/plain": [
              "((614, 9), (614,))"
            ]
          },
          "metadata": {
            "tags": []
          },
          "execution_count": 11
        }
      ]
    },
    {
      "cell_type": "code",
      "metadata": {
        "colab": {
          "base_uri": "https://localhost:8080/"
        },
        "id": "ynhlO2FI70Kg",
        "outputId": "0fe6de15-0e55-4adf-bb22-88c943b79268"
      },
      "source": [
        "X_test.shape, y_test.shape"
      ],
      "execution_count": 12,
      "outputs": [
        {
          "output_type": "execute_result",
          "data": {
            "text/plain": [
              "((154, 9), (154,))"
            ]
          },
          "metadata": {
            "tags": []
          },
          "execution_count": 12
        }
      ]
    },
    {
      "cell_type": "markdown",
      "metadata": {
        "id": "v8p2KwyO8Zd2"
      },
      "source": [
        "## 랜덤값을 고정하여 디시전트리로 학습과 예측하기"
      ]
    },
    {
      "cell_type": "code",
      "metadata": {
        "id": "cvYN3lOr8OxY"
      },
      "source": [
        "from sklearn.tree import DecisionTreeClassifier"
      ],
      "execution_count": 50,
      "outputs": []
    },
    {
      "cell_type": "code",
      "metadata": {
        "colab": {
          "base_uri": "https://localhost:8080/"
        },
        "id": "89OJ3eGM_r6M",
        "outputId": "4f31f671-d438-4e77-8b2c-63575208ddf6"
      },
      "source": [
        "for max_depth in range(3, 12):\r\n",
        "    model = DecisionTreeClassifier(random_state=42, max_depth=max_depth) # random_state=42 고정\r\n",
        "    y_predict = model.fit(X_train, y_train).predict(X_test)\r\n",
        "    score = accuracy_score(y_test, y_predict) * 100\r\n",
        "    print(max_depth, score)"
      ],
      "execution_count": 59,
      "outputs": [
        {
          "output_type": "stream",
          "text": [
            "3 85.06493506493507\n",
            "4 87.66233766233766\n",
            "5 85.71428571428571\n",
            "6 81.81818181818183\n",
            "7 81.81818181818183\n",
            "8 81.81818181818183\n",
            "9 83.76623376623377\n",
            "10 79.22077922077922\n",
            "11 81.81818181818183\n"
          ],
          "name": "stdout"
        }
      ]
    },
    {
      "cell_type": "code",
      "metadata": {
        "colab": {
          "base_uri": "https://localhost:8080/"
        },
        "id": "EuI-tJzF8r7X",
        "outputId": "c9dbd63c-861f-46a9-9583-5f1e86b48544"
      },
      "source": [
        "model.fit(X_train, y_train)"
      ],
      "execution_count": 51,
      "outputs": [
        {
          "output_type": "execute_result",
          "data": {
            "text/plain": [
              "DecisionTreeClassifier(ccp_alpha=0.0, class_weight=None, criterion='gini',\n",
              "                       max_depth=5, max_features=None, max_leaf_nodes=None,\n",
              "                       min_impurity_decrease=0.0, min_impurity_split=None,\n",
              "                       min_samples_leaf=1, min_samples_split=2,\n",
              "                       min_weight_fraction_leaf=0.0, presort='deprecated',\n",
              "                       random_state=42, splitter='best')"
            ]
          },
          "metadata": {
            "tags": []
          },
          "execution_count": 51
        }
      ]
    },
    {
      "cell_type": "code",
      "metadata": {
        "colab": {
          "base_uri": "https://localhost:8080/"
        },
        "id": "Ko4cBekH8uqU",
        "outputId": "5ceb3bb5-df21-4514-d823-61485e23d444"
      },
      "source": [
        "y_predict = model.predict(X_test)\r\n",
        "y_predict"
      ],
      "execution_count": 52,
      "outputs": [
        {
          "output_type": "execute_result",
          "data": {
            "text/plain": [
              "array([0, 0, 0, 0, 0, 0, 0, 0, 1, 0, 1, 0, 0, 0, 0, 0, 0, 0, 1, 0, 0, 0,\n",
              "       0, 0, 1, 1, 0, 0, 0, 0, 1, 1, 1, 1, 0, 1, 1, 1, 0, 1, 0, 0, 0, 1,\n",
              "       0, 0, 0, 0, 0, 1, 0, 1, 0, 1, 0, 0, 0, 0, 0, 1, 1, 0, 0, 0, 0, 0,\n",
              "       0, 1, 0, 1, 0, 0, 0, 0, 0, 0, 0, 1, 0, 0, 1, 0, 0, 0, 0, 1, 1, 0,\n",
              "       0, 0, 0, 0, 0, 1, 0, 0, 0, 0, 1, 0, 1, 0, 1, 0, 1, 0, 0, 1, 0, 1,\n",
              "       0, 0, 0, 1, 0, 0, 0, 0, 0, 0, 0, 0, 1, 0, 0, 1, 1, 1, 1, 1, 1, 0,\n",
              "       0, 1, 1, 0, 1, 1, 1, 0, 0, 0, 0, 0, 0, 0, 1, 0, 0, 1, 0, 0, 0, 0])"
            ]
          },
          "metadata": {
            "tags": []
          },
          "execution_count": 52
        }
      ]
    },
    {
      "cell_type": "markdown",
      "metadata": {
        "id": "ieT9rsBx86jK"
      },
      "source": [
        "## 정확도 측정하기"
      ]
    },
    {
      "cell_type": "code",
      "metadata": {
        "colab": {
          "base_uri": "https://localhost:8080/"
        },
        "id": "KUamALO781CP",
        "outputId": "78b00e09-5dcb-4c23-c70e-d0b2741372ba"
      },
      "source": [
        "# 실제값 - 예측값 = 틀린것의 개수\r\n",
        "abs(y_predict - y_test).sum()"
      ],
      "execution_count": 53,
      "outputs": [
        {
          "output_type": "execute_result",
          "data": {
            "text/plain": [
              "22"
            ]
          },
          "metadata": {
            "tags": []
          },
          "execution_count": 53
        }
      ]
    },
    {
      "cell_type": "code",
      "metadata": {
        "colab": {
          "base_uri": "https://localhost:8080/"
        },
        "id": "O4qkvKAi84sW",
        "outputId": "baad943a-3cd3-4dc2-b72d-05934d29077f"
      },
      "source": [
        "from sklearn.metrics import accuracy_score\r\n",
        "\r\n",
        "accuracy_score(y_test, y_predict) * 100"
      ],
      "execution_count": 54,
      "outputs": [
        {
          "output_type": "execute_result",
          "data": {
            "text/plain": [
              "85.71428571428571"
            ]
          },
          "metadata": {
            "tags": []
          },
          "execution_count": 54
        }
      ]
    },
    {
      "cell_type": "markdown",
      "metadata": {
        "id": "zsYTHzOt-L5_"
      },
      "source": [
        "## 최적의 max_depth 파라미터값 찾기"
      ]
    },
    {
      "cell_type": "code",
      "metadata": {
        "id": "BesdnBJ1-jZc"
      },
      "source": [
        "feature_names = X_train.columns.tolist()"
      ],
      "execution_count": 55,
      "outputs": []
    },
    {
      "cell_type": "code",
      "metadata": {
        "colab": {
          "base_uri": "https://localhost:8080/",
          "height": 611
        },
        "id": "DJ89BFhr90L_",
        "outputId": "52d464b5-62e4-4aac-bd45-248d590e73ac"
      },
      "source": [
        "from sklearn.tree import plot_tree\r\n",
        "\r\n",
        "plt.figure(figsize=(15,15))\r\n",
        "tree = plot_tree(model, fontsize=10, feature_names=feature_names, filled=True)"
      ],
      "execution_count": 57,
      "outputs": [
        {
          "output_type": "display_data",
          "data": {
            "image/png": "[encoded data removed]",
            "text/plain": [
              "<Figure size 1080x1080 with 1 Axes>"
            ]
          },
          "metadata": {
            "tags": [],
            "needs_background": "light"
          }
        }
      ]
    },
    {
      "cell_type": "markdown",
      "metadata": {
        "id": "5nHUP802BH0-"
      },
      "source": [
        "## GridSearchCV 를 사용해서 최적의 하이퍼 파라미터 값 찾기\r\n",
        "- 우리가 지정해준 범위 내에서만 최적의 값을 찾는다."
      ]
    },
    {
      "cell_type": "code",
      "metadata": {
        "colab": {
          "base_uri": "https://localhost:8080/"
        },
        "id": "74t85Qwp-b-K",
        "outputId": "100f5c28-2d9e-403c-fb66-efb6562260c0"
      },
      "source": [
        "from sklearn.model_selection import GridSearchCV\r\n",
        "\r\n",
        "model = DecisionTreeClassifier(random_state=42)\r\n",
        "param_grid = {\"max_depth\" : (3, 12),\r\n",
        "              \"max_features\" : [0.3, 0.5, 0.7, 0.9, 1]}\r\n",
        "clf = GridSearchCV(model, param_grid=param_grid, n_jobs=-1, cv=5, verbose=1)\r\n",
        "# n_jobs=-1로 지정하면 모든 프로세스 다 사용\r\n",
        "# cv는 cross validation(fold를 5개로 나눠서 학습)\r\n",
        "# verbose=1 로그를 볼 수 있다.\r\n",
        "clf.fit(X_train, y_train)"
      ],
      "execution_count": 62,
      "outputs": [
        {
          "output_type": "stream",
          "text": [
            "Fitting 5 folds for each of 10 candidates, totalling 50 fits\n"
          ],
          "name": "stdout"
        },
        {
          "output_type": "stream",
          "text": [
            "[Parallel(n_jobs=-1)]: Using backend LokyBackend with 2 concurrent workers.\n",
            "[Parallel(n_jobs=-1)]: Done  50 out of  50 | elapsed:    1.7s finished\n"
          ],
          "name": "stderr"
        },
        {
          "output_type": "execute_result",
          "data": {
            "text/plain": [
              "GridSearchCV(cv=5, error_score=nan,\n",
              "             estimator=DecisionTreeClassifier(ccp_alpha=0.0, class_weight=None,\n",
              "                                              criterion='gini', max_depth=None,\n",
              "                                              max_features=None,\n",
              "                                              max_leaf_nodes=None,\n",
              "                                              min_impurity_decrease=0.0,\n",
              "                                              min_impurity_split=None,\n",
              "                                              min_samples_leaf=1,\n",
              "                                              min_samples_split=2,\n",
              "                                              min_weight_fraction_leaf=0.0,\n",
              "                                              presort='deprecated',\n",
              "                                              random_state=42,\n",
              "                                              splitter='best'),\n",
              "             iid='deprecated', n_jobs=-1,\n",
              "             param_grid={'max_depth': (3, 12),\n",
              "                         'max_features': [0.3, 0.5, 0.7, 0.9, 1]},\n",
              "             pre_dispatch='2*n_jobs', refit=True, return_train_score=False,\n",
              "             scoring=None, verbose=1)"
            ]
          },
          "metadata": {
            "tags": []
          },
          "execution_count": 62
        }
      ]
    },
    {
      "cell_type": "code",
      "metadata": {
        "colab": {
          "base_uri": "https://localhost:8080/"
        },
        "id": "Ug6yq9jFUDft",
        "outputId": "7dabd657-9bc4-4904-a96e-7d159f62a324"
      },
      "source": [
        "clf.best_params_"
      ],
      "execution_count": 63,
      "outputs": [
        {
          "output_type": "execute_result",
          "data": {
            "text/plain": [
              "{'max_depth': 3, 'max_features': 0.5}"
            ]
          },
          "metadata": {
            "tags": []
          },
          "execution_count": 63
        }
      ]
    },
    {
      "cell_type": "code",
      "metadata": {
        "colab": {
          "base_uri": "https://localhost:8080/"
        },
        "id": "AzWusqzKUTBt",
        "outputId": "d2afc6c4-7c90-46db-9a85-1289984bd6a3"
      },
      "source": [
        "clf.best_estimator_"
      ],
      "execution_count": 64,
      "outputs": [
        {
          "output_type": "execute_result",
          "data": {
            "text/plain": [
              "DecisionTreeClassifier(ccp_alpha=0.0, class_weight=None, criterion='gini',\n",
              "                       max_depth=3, max_features=0.5, max_leaf_nodes=None,\n",
              "                       min_impurity_decrease=0.0, min_impurity_split=None,\n",
              "                       min_samples_leaf=1, min_samples_split=2,\n",
              "                       min_weight_fraction_leaf=0.0, presort='deprecated',\n",
              "                       random_state=42, splitter='best')"
            ]
          },
          "metadata": {
            "tags": []
          },
          "execution_count": 64
        }
      ]
    },
    {
      "cell_type": "code",
      "metadata": {
        "colab": {
          "base_uri": "https://localhost:8080/"
        },
        "id": "uoK83P6yUUk2",
        "outputId": "0516f3f1-86e9-4209-87d3-3358d6cbb6b6"
      },
      "source": [
        "clf.best_score_"
      ],
      "execution_count": 65,
      "outputs": [
        {
          "output_type": "execute_result",
          "data": {
            "text/plain": [
              "0.8551512728242037"
            ]
          },
          "metadata": {
            "tags": []
          },
          "execution_count": 65
        }
      ]
    },
    {
      "cell_type": "code",
      "metadata": {
        "colab": {
          "base_uri": "https://localhost:8080/",
          "height": 467
        },
        "id": "N1h75S2ZUZQB",
        "outputId": "8a35aa0a-cf75-4194-bdd8-f4ad1a7dfe8e"
      },
      "source": [
        "pd.DataFrame(clf.cv_results_).sort_values(by=\"rank_test_score\").head()"
      ],
      "execution_count": 69,
      "outputs": [
        {
          "output_type": "execute_result",
          "data": {
            "text/html": [
              "<div>\n",
              "<style scoped>\n",
              "    .dataframe tbody tr th:only-of-type {\n",
              "        vertical-align: middle;\n",
              "    }\n",
              "\n",
              "    .dataframe tbody tr th {\n",
              "        vertical-align: top;\n",
              "    }\n",
              "\n",
              "    .dataframe thead th {\n",
              "        text-align: right;\n",
              "    }\n",
              "</style>\n",
              "<table border=\"1\" class=\"dataframe\">\n",
              "  <thead>\n",
              "    <tr style=\"text-align: right;\">\n",
              "      <th></th>\n",
              "      <th>mean_fit_time</th>\n",
              "      <th>std_fit_time</th>\n",
              "      <th>mean_score_time</th>\n",
              "      <th>std_score_time</th>\n",
              "      <th>param_max_depth</th>\n",
              "      <th>param_max_features</th>\n",
              "      <th>params</th>\n",
              "      <th>split0_test_score</th>\n",
              "      <th>split1_test_score</th>\n",
              "      <th>split2_test_score</th>\n",
              "      <th>split3_test_score</th>\n",
              "      <th>split4_test_score</th>\n",
              "      <th>mean_test_score</th>\n",
              "      <th>std_test_score</th>\n",
              "      <th>rank_test_score</th>\n",
              "    </tr>\n",
              "  </thead>\n",
              "  <tbody>\n",
              "    <tr>\n",
              "      <th>1</th>\n",
              "      <td>0.005650</td>\n",
              "      <td>0.002824</td>\n",
              "      <td>0.002537</td>\n",
              "      <td>0.001594</td>\n",
              "      <td>3</td>\n",
              "      <td>0.5</td>\n",
              "      <td>{'max_depth': 3, 'max_features': 0.5}</td>\n",
              "      <td>0.780488</td>\n",
              "      <td>0.910569</td>\n",
              "      <td>0.813008</td>\n",
              "      <td>0.853659</td>\n",
              "      <td>0.918033</td>\n",
              "      <td>0.855151</td>\n",
              "      <td>0.053625</td>\n",
              "      <td>1</td>\n",
              "    </tr>\n",
              "    <tr>\n",
              "      <th>8</th>\n",
              "      <td>0.005612</td>\n",
              "      <td>0.000216</td>\n",
              "      <td>0.001755</td>\n",
              "      <td>0.000077</td>\n",
              "      <td>12</td>\n",
              "      <td>0.9</td>\n",
              "      <td>{'max_depth': 12, 'max_features': 0.9}</td>\n",
              "      <td>0.821138</td>\n",
              "      <td>0.878049</td>\n",
              "      <td>0.796748</td>\n",
              "      <td>0.878049</td>\n",
              "      <td>0.860656</td>\n",
              "      <td>0.846928</td>\n",
              "      <td>0.032584</td>\n",
              "      <td>2</td>\n",
              "    </tr>\n",
              "    <tr>\n",
              "      <th>6</th>\n",
              "      <td>0.005851</td>\n",
              "      <td>0.001993</td>\n",
              "      <td>0.001710</td>\n",
              "      <td>0.000031</td>\n",
              "      <td>12</td>\n",
              "      <td>0.5</td>\n",
              "      <td>{'max_depth': 12, 'max_features': 0.5}</td>\n",
              "      <td>0.837398</td>\n",
              "      <td>0.886179</td>\n",
              "      <td>0.780488</td>\n",
              "      <td>0.853659</td>\n",
              "      <td>0.868852</td>\n",
              "      <td>0.845315</td>\n",
              "      <td>0.036218</td>\n",
              "      <td>3</td>\n",
              "    </tr>\n",
              "    <tr>\n",
              "      <th>5</th>\n",
              "      <td>0.004301</td>\n",
              "      <td>0.000147</td>\n",
              "      <td>0.001591</td>\n",
              "      <td>0.000065</td>\n",
              "      <td>12</td>\n",
              "      <td>0.3</td>\n",
              "      <td>{'max_depth': 12, 'max_features': 0.3}</td>\n",
              "      <td>0.804878</td>\n",
              "      <td>0.869919</td>\n",
              "      <td>0.804878</td>\n",
              "      <td>0.869919</td>\n",
              "      <td>0.868852</td>\n",
              "      <td>0.843689</td>\n",
              "      <td>0.031692</td>\n",
              "      <td>4</td>\n",
              "    </tr>\n",
              "    <tr>\n",
              "      <th>7</th>\n",
              "      <td>0.005049</td>\n",
              "      <td>0.000088</td>\n",
              "      <td>0.001701</td>\n",
              "      <td>0.000087</td>\n",
              "      <td>12</td>\n",
              "      <td>0.7</td>\n",
              "      <td>{'max_depth': 12, 'max_features': 0.7}</td>\n",
              "      <td>0.829268</td>\n",
              "      <td>0.845528</td>\n",
              "      <td>0.829268</td>\n",
              "      <td>0.853659</td>\n",
              "      <td>0.844262</td>\n",
              "      <td>0.840397</td>\n",
              "      <td>0.009642</td>\n",
              "      <td>5</td>\n",
              "    </tr>\n",
              "  </tbody>\n",
              "</table>\n",
              "</div>"
            ],
            "text/plain": [
              "   mean_fit_time  std_fit_time  ...  std_test_score  rank_test_score\n",
              "1       0.005650      0.002824  ...        0.053625                1\n",
              "8       0.005612      0.000216  ...        0.032584                2\n",
              "6       0.005851      0.001993  ...        0.036218                3\n",
              "5       0.004301      0.000147  ...        0.031692                4\n",
              "7       0.005049      0.000088  ...        0.009642                5\n",
              "\n",
              "[5 rows x 15 columns]"
            ]
          },
          "metadata": {
            "tags": []
          },
          "execution_count": 69
        }
      ]
    },
    {
      "cell_type": "code",
      "metadata": {
        "colab": {
          "base_uri": "https://localhost:8080/"
        },
        "id": "oB3P9oXQUbLn",
        "outputId": "f2f14148-d0bb-40c3-97ae-38dac05ef387"
      },
      "source": [
        "clf.predict(X_test)"
      ],
      "execution_count": 70,
      "outputs": [
        {
          "output_type": "execute_result",
          "data": {
            "text/plain": [
              "array([1, 0, 0, 0, 0, 1, 0, 0, 1, 0, 1, 0, 1, 0, 0, 1, 0, 0, 1, 1, 0, 0,\n",
              "       0, 0, 1, 1, 0, 0, 0, 0, 1, 1, 1, 1, 0, 1, 1, 1, 0, 1, 0, 0, 0, 1,\n",
              "       0, 1, 1, 0, 0, 1, 0, 1, 1, 0, 0, 0, 0, 0, 0, 1, 1, 0, 1, 1, 1, 0,\n",
              "       0, 1, 0, 1, 1, 0, 0, 0, 0, 0, 0, 0, 1, 0, 1, 0, 0, 1, 0, 1, 1, 1,\n",
              "       0, 0, 0, 0, 0, 1, 1, 0, 0, 0, 1, 0, 0, 0, 1, 1, 1, 1, 0, 1, 0, 1,\n",
              "       0, 0, 0, 1, 1, 0, 1, 0, 0, 0, 0, 0, 1, 0, 0, 1, 1, 1, 1, 0, 1, 1,\n",
              "       0, 1, 1, 0, 0, 1, 1, 0, 0, 0, 0, 1, 0, 0, 1, 0, 0, 1, 0, 0, 1, 0])"
            ]
          },
          "metadata": {
            "tags": []
          },
          "execution_count": 70
        }
      ]
    },
    {
      "cell_type": "code",
      "metadata": {
        "colab": {
          "base_uri": "https://localhost:8080/"
        },
        "id": "uQTezxDTUzZI",
        "outputId": "b90f7c7d-d18c-4c17-819c-86d210d3b361"
      },
      "source": [
        "clf.score(X_test, y_test)"
      ],
      "execution_count": 71,
      "outputs": [
        {
          "output_type": "execute_result",
          "data": {
            "text/plain": [
              "0.8571428571428571"
            ]
          },
          "metadata": {
            "tags": []
          },
          "execution_count": 71
        }
      ]
    },
    {
      "cell_type": "markdown",
      "metadata": {
        "id": "Pqwr2A3XVTDi"
      },
      "source": [
        "## RamdomSearchCV 를 사용해서 최적의 하이퍼 파라미터 값 찾기"
      ]
    },
    {
      "cell_type": "code",
      "metadata": {
        "id": "xl4RwTG_WqAy"
      },
      "source": [
        "max_depth = np.random.randint(3, 20, 10)"
      ],
      "execution_count": 96,
      "outputs": []
    },
    {
      "cell_type": "code",
      "metadata": {
        "id": "-18mFLXeW3VA"
      },
      "source": [
        "max_features = np.random.uniform(0.7, 1.0, 100)"
      ],
      "execution_count": 97,
      "outputs": []
    },
    {
      "cell_type": "code",
      "metadata": {
        "colab": {
          "base_uri": "https://localhost:8080/"
        },
        "id": "S6fdUhJeU12W",
        "outputId": "3eae7e52-7f78-48f1-8334-1578b2502ca8"
      },
      "source": [
        "from sklearn.model_selection import RandomizedSearchCV\r\n",
        "\r\n",
        "param_distributions = {\"max_depth\" : max_depth,\r\n",
        "                       \"max_features\" : max_features,\r\n",
        "                       \"min_samples_split\" : list(range(2,7))\r\n",
        "                       }\r\n",
        "clf = RandomizedSearchCV(model,\r\n",
        "                   param_distributions,\r\n",
        "                   n_iter=500,\r\n",
        "                   scoring=\"accuracy\",\r\n",
        "                   n_jobs=-1,\r\n",
        "                   cv=5,\r\n",
        "                   verbose=1,\r\n",
        "                   random_state=42\r\n",
        "                   )\r\n",
        "\r\n",
        "clf.fit(X_train, y_train)\r\n"
      ],
      "execution_count": 98,
      "outputs": [
        {
          "output_type": "stream",
          "text": [
            "Fitting 5 folds for each of 500 candidates, totalling 2500 fits\n"
          ],
          "name": "stdout"
        },
        {
          "output_type": "stream",
          "text": [
            "[Parallel(n_jobs=-1)]: Using backend LokyBackend with 2 concurrent workers.\n",
            "[Parallel(n_jobs=-1)]: Done 540 tasks      | elapsed:    2.3s\n",
            "[Parallel(n_jobs=-1)]: Done 2500 out of 2500 | elapsed:   10.6s finished\n"
          ],
          "name": "stderr"
        },
        {
          "output_type": "execute_result",
          "data": {
            "text/plain": [
              "RandomizedSearchCV(cv=5, error_score=nan,\n",
              "                   estimator=DecisionTreeClassifier(ccp_alpha=0.0,\n",
              "                                                    class_weight=None,\n",
              "                                                    criterion='gini',\n",
              "                                                    max_depth=None,\n",
              "                                                    max_features=None,\n",
              "                                                    max_leaf_nodes=None,\n",
              "                                                    min_impurity_decrease=0.0,\n",
              "                                                    min_impurity_split=None,\n",
              "                                                    min_samples_leaf=1,\n",
              "                                                    min_samples_split=2,\n",
              "                                                    min_weight_fraction_leaf=0.0,\n",
              "                                                    presort='deprecated',\n",
              "                                                    random_state=42,\n",
              "                                                    splitter='best'),\n",
              "                   iid...\n",
              "       0.76473604, 0.90935954, 0.71197473, 0.80450515, 0.85761553,\n",
              "       0.94084035, 0.96477497, 0.81937487, 0.87050501, 0.94829088,\n",
              "       0.94393553, 0.70031433, 0.89555922, 0.99341077, 0.74800218,\n",
              "       0.74539139, 0.87957791, 0.79815196, 0.77565017, 0.820759  ]),\n",
              "                                        'min_samples_split': [2, 3, 4, 5, 6]},\n",
              "                   pre_dispatch='2*n_jobs', random_state=42, refit=True,\n",
              "                   return_train_score=False, scoring='accuracy', verbose=1)"
            ]
          },
          "metadata": {
            "tags": []
          },
          "execution_count": 98
        }
      ]
    },
    {
      "cell_type": "code",
      "metadata": {
        "colab": {
          "base_uri": "https://localhost:8080/"
        },
        "id": "9_X6LyBvWeN6",
        "outputId": "fbbf68e6-6f0b-4528-a60d-65fa29aa1367"
      },
      "source": [
        "clf.best_params_"
      ],
      "execution_count": 99,
      "outputs": [
        {
          "output_type": "execute_result",
          "data": {
            "text/plain": [
              "{'max_depth': 10, 'max_features': 0.8626000767196103, 'min_samples_split': 4}"
            ]
          },
          "metadata": {
            "tags": []
          },
          "execution_count": 99
        }
      ]
    },
    {
      "cell_type": "code",
      "metadata": {
        "colab": {
          "base_uri": "https://localhost:8080/"
        },
        "id": "8OCZ_Jo8WgSk",
        "outputId": "285cc3da-689b-422c-c52f-8931c1fa9990"
      },
      "source": [
        "clf.best_score_"
      ],
      "execution_count": 100,
      "outputs": [
        {
          "output_type": "execute_result",
          "data": {
            "text/plain": [
              "0.8713847794215648"
            ]
          },
          "metadata": {
            "tags": []
          },
          "execution_count": 100
        }
      ]
    },
    {
      "cell_type": "code",
      "metadata": {
        "colab": {
          "base_uri": "https://localhost:8080/"
        },
        "id": "Iyw1Iz1iWhvV",
        "outputId": "a82875f5-f7e2-4976-df77-458feca01829"
      },
      "source": [
        "clf.score(X_test, y_test)"
      ],
      "execution_count": 101,
      "outputs": [
        {
          "output_type": "execute_result",
          "data": {
            "text/plain": [
              "0.8571428571428571"
            ]
          },
          "metadata": {
            "tags": []
          },
          "execution_count": 101
        }
      ]
    },
    {
      "cell_type": "code",
      "metadata": {
        "colab": {
          "base_uri": "https://localhost:8080/",
          "height": 383
        },
        "id": "QZUZSk6kXPZf",
        "outputId": "29ef6faa-8931-405d-a77f-9cc1cc005e29"
      },
      "source": [
        "pd.DataFrame(clf.cv_results_).sort_values(by=\"rank_test_score\").head()"
      ],
      "execution_count": 102,
      "outputs": [
        {
          "output_type": "execute_result",
          "data": {
            "text/html": [
              "<div>\n",
              "<style scoped>\n",
              "    .dataframe tbody tr th:only-of-type {\n",
              "        vertical-align: middle;\n",
              "    }\n",
              "\n",
              "    .dataframe tbody tr th {\n",
              "        vertical-align: top;\n",
              "    }\n",
              "\n",
              "    .dataframe thead th {\n",
              "        text-align: right;\n",
              "    }\n",
              "</style>\n",
              "<table border=\"1\" class=\"dataframe\">\n",
              "  <thead>\n",
              "    <tr style=\"text-align: right;\">\n",
              "      <th></th>\n",
              "      <th>mean_fit_time</th>\n",
              "      <th>std_fit_time</th>\n",
              "      <th>mean_score_time</th>\n",
              "      <th>std_score_time</th>\n",
              "      <th>param_min_samples_split</th>\n",
              "      <th>param_max_features</th>\n",
              "      <th>param_max_depth</th>\n",
              "      <th>params</th>\n",
              "      <th>split0_test_score</th>\n",
              "      <th>split1_test_score</th>\n",
              "      <th>split2_test_score</th>\n",
              "      <th>split3_test_score</th>\n",
              "      <th>split4_test_score</th>\n",
              "      <th>mean_test_score</th>\n",
              "      <th>std_test_score</th>\n",
              "      <th>rank_test_score</th>\n",
              "    </tr>\n",
              "  </thead>\n",
              "  <tbody>\n",
              "    <tr>\n",
              "      <th>144</th>\n",
              "      <td>0.007486</td>\n",
              "      <td>0.002661</td>\n",
              "      <td>0.001975</td>\n",
              "      <td>0.000191</td>\n",
              "      <td>4</td>\n",
              "      <td>0.798152</td>\n",
              "      <td>10</td>\n",
              "      <td>{'min_samples_split': 4, 'max_features': 0.798...</td>\n",
              "      <td>0.910569</td>\n",
              "      <td>0.886179</td>\n",
              "      <td>0.813008</td>\n",
              "      <td>0.845528</td>\n",
              "      <td>0.901639</td>\n",
              "      <td>0.871385</td>\n",
              "      <td>0.036731</td>\n",
              "      <td>1</td>\n",
              "    </tr>\n",
              "    <tr>\n",
              "      <th>328</th>\n",
              "      <td>0.005402</td>\n",
              "      <td>0.000501</td>\n",
              "      <td>0.001717</td>\n",
              "      <td>0.000077</td>\n",
              "      <td>4</td>\n",
              "      <td>0.882597</td>\n",
              "      <td>10</td>\n",
              "      <td>{'min_samples_split': 4, 'max_features': 0.882...</td>\n",
              "      <td>0.910569</td>\n",
              "      <td>0.886179</td>\n",
              "      <td>0.813008</td>\n",
              "      <td>0.845528</td>\n",
              "      <td>0.901639</td>\n",
              "      <td>0.871385</td>\n",
              "      <td>0.036731</td>\n",
              "      <td>1</td>\n",
              "    </tr>\n",
              "    <tr>\n",
              "      <th>135</th>\n",
              "      <td>0.006697</td>\n",
              "      <td>0.002644</td>\n",
              "      <td>0.002044</td>\n",
              "      <td>0.000496</td>\n",
              "      <td>4</td>\n",
              "      <td>0.8626</td>\n",
              "      <td>10</td>\n",
              "      <td>{'min_samples_split': 4, 'max_features': 0.862...</td>\n",
              "      <td>0.910569</td>\n",
              "      <td>0.886179</td>\n",
              "      <td>0.813008</td>\n",
              "      <td>0.845528</td>\n",
              "      <td>0.901639</td>\n",
              "      <td>0.871385</td>\n",
              "      <td>0.036731</td>\n",
              "      <td>1</td>\n",
              "    </tr>\n",
              "    <tr>\n",
              "      <th>202</th>\n",
              "      <td>0.005063</td>\n",
              "      <td>0.000309</td>\n",
              "      <td>0.001880</td>\n",
              "      <td>0.000280</td>\n",
              "      <td>4</td>\n",
              "      <td>0.744076</td>\n",
              "      <td>5</td>\n",
              "      <td>{'min_samples_split': 4, 'max_features': 0.744...</td>\n",
              "      <td>0.878049</td>\n",
              "      <td>0.910569</td>\n",
              "      <td>0.813008</td>\n",
              "      <td>0.853659</td>\n",
              "      <td>0.893443</td>\n",
              "      <td>0.869745</td>\n",
              "      <td>0.033985</td>\n",
              "      <td>4</td>\n",
              "    </tr>\n",
              "    <tr>\n",
              "      <th>475</th>\n",
              "      <td>0.004708</td>\n",
              "      <td>0.000050</td>\n",
              "      <td>0.001691</td>\n",
              "      <td>0.000086</td>\n",
              "      <td>4</td>\n",
              "      <td>0.74282</td>\n",
              "      <td>5</td>\n",
              "      <td>{'min_samples_split': 4, 'max_features': 0.742...</td>\n",
              "      <td>0.878049</td>\n",
              "      <td>0.910569</td>\n",
              "      <td>0.813008</td>\n",
              "      <td>0.853659</td>\n",
              "      <td>0.893443</td>\n",
              "      <td>0.869745</td>\n",
              "      <td>0.033985</td>\n",
              "      <td>4</td>\n",
              "    </tr>\n",
              "  </tbody>\n",
              "</table>\n",
              "</div>"
            ],
            "text/plain": [
              "     mean_fit_time  std_fit_time  ...  std_test_score  rank_test_score\n",
              "144       0.007486      0.002661  ...        0.036731                1\n",
              "328       0.005402      0.000501  ...        0.036731                1\n",
              "135       0.006697      0.002644  ...        0.036731                1\n",
              "202       0.005063      0.000309  ...        0.033985                4\n",
              "475       0.004708      0.000050  ...        0.033985                4\n",
              "\n",
              "[5 rows x 16 columns]"
            ]
          },
          "metadata": {
            "tags": []
          },
          "execution_count": 102
        }
      ]
    },
    {
      "cell_type": "markdown",
      "metadata": {
        "id": "XoOrTzh0YEIA"
      },
      "source": [
        "# 랜덤포레스트 & 그래디언트 부스팅"
      ]
    },
    {
      "cell_type": "markdown",
      "metadata": {
        "id": "o3cQ3zYWc0b2"
      },
      "source": [
        "## single tree"
      ]
    },
    {
      "cell_type": "code",
      "metadata": {
        "id": "lVbGcFU2YFxy"
      },
      "source": [
        "# 일반 디시전 트리\r\n",
        "# from sklearn.tree import DecisionTreeClassifier\r\n",
        "\r\n",
        "# model = DecisionTreeClassifier(random_state=42)\r\n",
        "# model"
      ],
      "execution_count": 113,
      "outputs": []
    },
    {
      "cell_type": "markdown",
      "metadata": {
        "id": "LqAzxqm-c34L"
      },
      "source": [
        "## Bagging(랜덤포레스트)"
      ]
    },
    {
      "cell_type": "code",
      "metadata": {
        "id": "DpKwDZTmaEwr"
      },
      "source": [
        "# 랜덤 포레스트\r\n",
        "# from sklearn.ensemble import  RandomForestClassifier\r\n",
        "\r\n",
        "# model = RandomForestClassifier(random_state=42)"
      ],
      "execution_count": 115,
      "outputs": []
    },
    {
      "cell_type": "markdown",
      "metadata": {
        "id": "zx5pXwk_c7mg"
      },
      "source": [
        "## Boosting(그래디언트 부스팅)"
      ]
    },
    {
      "cell_type": "code",
      "metadata": {
        "colab": {
          "base_uri": "https://localhost:8080/"
        },
        "id": "fKiChEyrcC2g",
        "outputId": "51a160df-24be-471b-91bf-e37bb18ee7eb"
      },
      "source": [
        "# 그래디언트 부스팅\r\n",
        "from sklearn.ensemble import GradientBoostingClassifier\r\n",
        "\r\n",
        "model = GradientBoostingClassifier(max_depth=4, random_state=42)\r\n",
        "model"
      ],
      "execution_count": 134,
      "outputs": [
        {
          "output_type": "execute_result",
          "data": {
            "text/plain": [
              "GradientBoostingClassifier(ccp_alpha=0.0, criterion='friedman_mse', init=None,\n",
              "                           learning_rate=0.1, loss='deviance', max_depth=4,\n",
              "                           max_features=None, max_leaf_nodes=None,\n",
              "                           min_impurity_decrease=0.0, min_impurity_split=None,\n",
              "                           min_samples_leaf=1, min_samples_split=2,\n",
              "                           min_weight_fraction_leaf=0.0, n_estimators=100,\n",
              "                           n_iter_no_change=None, presort='deprecated',\n",
              "                           random_state=42, subsample=1.0, tol=0.0001,\n",
              "                           validation_fraction=0.1, verbose=0,\n",
              "                           warm_start=False)"
            ]
          },
          "metadata": {
            "tags": []
          },
          "execution_count": 134
        }
      ]
    },
    {
      "cell_type": "markdown",
      "metadata": {
        "id": "FmhJVbHqdV6e"
      },
      "source": [
        "## 여러 개 알고리즘으로 한번에 테스트하기"
      ]
    },
    {
      "cell_type": "code",
      "metadata": {
        "colab": {
          "base_uri": "https://localhost:8080/"
        },
        "id": "aZBAy1ZAdkNL",
        "outputId": "27943eca-1221-42db-ccd3-ed0f54b88766"
      },
      "source": [
        "from sklearn.tree import DecisionTreeClassifier\r\n",
        "from sklearn.ensemble import RandomForestClassifier, GradientBoostingClassifier\r\n",
        "\r\n",
        "estimator = [DecisionTreeClassifier(random_state=42),\r\n",
        "             RandomForestClassifier(random_state=42),\r\n",
        "             GradientBoostingClassifier(random_state=42)\r\n",
        "             ]\r\n",
        "estimator"
      ],
      "execution_count": 156,
      "outputs": [
        {
          "output_type": "execute_result",
          "data": {
            "text/plain": [
              "[DecisionTreeClassifier(ccp_alpha=0.0, class_weight=None, criterion='gini',\n",
              "                        max_depth=None, max_features=None, max_leaf_nodes=None,\n",
              "                        min_impurity_decrease=0.0, min_impurity_split=None,\n",
              "                        min_samples_leaf=1, min_samples_split=2,\n",
              "                        min_weight_fraction_leaf=0.0, presort='deprecated',\n",
              "                        random_state=42, splitter='best'),\n",
              " RandomForestClassifier(bootstrap=True, ccp_alpha=0.0, class_weight=None,\n",
              "                        criterion='gini', max_depth=None, max_features='auto',\n",
              "                        max_leaf_nodes=None, max_samples=None,\n",
              "                        min_impurity_decrease=0.0, min_impurity_split=None,\n",
              "                        min_samples_leaf=1, min_samples_split=2,\n",
              "                        min_weight_fraction_leaf=0.0, n_estimators=100,\n",
              "                        n_jobs=None, oob_score=False, random_state=42, verbose=0,\n",
              "                        warm_start=False),\n",
              " GradientBoostingClassifier(ccp_alpha=0.0, criterion='friedman_mse', init=None,\n",
              "                            learning_rate=0.1, loss='deviance', max_depth=3,\n",
              "                            max_features=None, max_leaf_nodes=None,\n",
              "                            min_impurity_decrease=0.0, min_impurity_split=None,\n",
              "                            min_samples_leaf=1, min_samples_split=2,\n",
              "                            min_weight_fraction_leaf=0.0, n_estimators=100,\n",
              "                            n_iter_no_change=None, presort='deprecated',\n",
              "                            random_state=42, subsample=1.0, tol=0.0001,\n",
              "                            validation_fraction=0.1, verbose=0,\n",
              "                            warm_start=False)]"
            ]
          },
          "metadata": {
            "tags": []
          },
          "execution_count": 156
        }
      ]
    },
    {
      "cell_type": "code",
      "metadata": {
        "colab": {
          "base_uri": "https://localhost:8080/"
        },
        "id": "SvSO8SYodVQp",
        "outputId": "0a8286c5-e2b9-484b-b5df-f29a9a6b3271"
      },
      "source": [
        "from sklearn.model_selection import RandomizedSearchCV\r\n",
        "\r\n",
        "max_depth = np.random.randint(2, 20, 10)\r\n",
        "max_features = np.random.uniform(0.3, 1.0, 10)\r\n",
        "\r\n",
        "param_distributions = {\"max_depth\" : max_depth,\r\n",
        "                       \"max_features\" : max_features\r\n",
        "                       }\r\n",
        "\r\n",
        "for e in estimator:\r\n",
        "    clf = RandomizedSearchCV(e, param_distributions=param_distributions, n_iter=10,\r\n",
        "                    scoring=\"accuracy\", n_jobs=-1, cv=5, verbose=2)\r\n",
        "    clf.fit(X_train, y_train )\r\n",
        "    print(e.__class__.__name__)\r\n",
        "    print(clf.best_params_)\r\n",
        "    print(clf.best_score_)\r\n",
        "    print(clf.score(X_test, y_test))\r\n",
        "    print('===================================================================')"
      ],
      "execution_count": 162,
      "outputs": [
        {
          "output_type": "stream",
          "text": [
            "Fitting 5 folds for each of 10 candidates, totalling 50 fits\n"
          ],
          "name": "stdout"
        },
        {
          "output_type": "stream",
          "text": [
            "[Parallel(n_jobs=-1)]: Using backend LokyBackend with 2 concurrent workers.\n",
            "[Parallel(n_jobs=-1)]: Done  50 out of  50 | elapsed:    0.3s finished\n",
            "[Parallel(n_jobs=-1)]: Using backend LokyBackend with 2 concurrent workers.\n"
          ],
          "name": "stderr"
        },
        {
          "output_type": "stream",
          "text": [
            "DecisionTreeClassifier\n",
            "{'max_features': 0.5437158541397175, 'max_depth': 3}\n",
            "0.8551512728242037\n",
            "0.8571428571428571\n",
            "===================================================================\n",
            "Fitting 5 folds for each of 10 candidates, totalling 50 fits\n"
          ],
          "name": "stdout"
        },
        {
          "output_type": "stream",
          "text": [
            "[Parallel(n_jobs=-1)]: Done  37 tasks      | elapsed:    5.7s\n",
            "[Parallel(n_jobs=-1)]: Done  50 out of  50 | elapsed:    7.7s finished\n"
          ],
          "name": "stderr"
        },
        {
          "output_type": "stream",
          "text": [
            "RandomForestClassifier\n",
            "{'max_features': 0.597955431179622, 'max_depth': 13}\n",
            "0.900719712115154\n",
            "0.8571428571428571\n",
            "===================================================================\n",
            "Fitting 5 folds for each of 10 candidates, totalling 50 fits\n"
          ],
          "name": "stdout"
        },
        {
          "output_type": "stream",
          "text": [
            "[Parallel(n_jobs=-1)]: Using backend LokyBackend with 2 concurrent workers.\n",
            "[Parallel(n_jobs=-1)]: Done  37 tasks      | elapsed:    6.6s\n",
            "[Parallel(n_jobs=-1)]: Done  50 out of  50 | elapsed:    8.3s finished\n"
          ],
          "name": "stderr"
        },
        {
          "output_type": "stream",
          "text": [
            "GradientBoostingClassifier\n",
            "{'max_features': 0.5406815119446113, 'max_depth': 13}\n",
            "0.900693056110889\n",
            "0.8636363636363636\n",
            "===================================================================\n"
          ],
          "name": "stdout"
        }
      ]
    },
    {
      "cell_type": "code",
      "metadata": {
        "id": "jKoh8J8RZkGn"
      },
      "source": [
        "y_predict = model.predict(X_test)"
      ],
      "execution_count": 136,
      "outputs": []
    },
    {
      "cell_type": "code",
      "metadata": {
        "colab": {
          "base_uri": "https://localhost:8080/"
        },
        "id": "sDNBt1dnZpTI",
        "outputId": "8deeacfc-3b65-4546-f9d3-ecf26f00daf0"
      },
      "source": [
        "(y_predict != y_test).sum()"
      ],
      "execution_count": 137,
      "outputs": [
        {
          "output_type": "execute_result",
          "data": {
            "text/plain": [
              "22"
            ]
          },
          "metadata": {
            "tags": []
          },
          "execution_count": 137
        }
      ]
    },
    {
      "cell_type": "code",
      "metadata": {
        "colab": {
          "base_uri": "https://localhost:8080/"
        },
        "id": "sP8368ksZ2I6",
        "outputId": "cad83d66-8184-4f8a-9de7-7d67747f6fc3"
      },
      "source": [
        "from sklearn.metrics import accuracy_score\r\n",
        "\r\n",
        "accuracy_score(y_test, y_predict)"
      ],
      "execution_count": 138,
      "outputs": [
        {
          "output_type": "execute_result",
          "data": {
            "text/plain": [
              "0.8571428571428571"
            ]
          },
          "metadata": {
            "tags": []
          },
          "execution_count": 138
        }
      ]
    },
    {
      "cell_type": "code",
      "metadata": {
        "colab": {
          "base_uri": "https://localhost:8080/"
        },
        "id": "mW-cjOszZ-9I",
        "outputId": "a2a6ec56-f9db-42d4-fc1c-b858a7c93d83"
      },
      "source": [
        "model.feature_importances_"
      ],
      "execution_count": 139,
      "outputs": [
        {
          "output_type": "execute_result",
          "data": {
            "text/plain": [
              "array([1.05452923e-01, 1.63520891e-02, 8.22264226e-02, 3.59723070e-02,\n",
              "       3.08548052e-02, 1.08288903e-01, 4.26092038e-04, 6.20398965e-01,\n",
              "       2.74933152e-05])"
            ]
          },
          "metadata": {
            "tags": []
          },
          "execution_count": 139
        }
      ]
    },
    {
      "cell_type": "code",
      "metadata": {
        "id": "Qdm-LHnva4yZ"
      },
      "source": [
        "feature_names = X_train.columns.tolist()"
      ],
      "execution_count": 140,
      "outputs": []
    },
    {
      "cell_type": "code",
      "metadata": {
        "colab": {
          "base_uri": "https://localhost:8080/",
          "height": 282
        },
        "id": "NivabhNFazZb",
        "outputId": "8ff631a3-5d58-4e5a-a47d-64fc7fa860af"
      },
      "source": [
        "# feature 중요도 시각화\r\n",
        "sns.barplot(x=model.feature_importances_, y=feature_names)"
      ],
      "execution_count": 141,
      "outputs": [
        {
          "output_type": "execute_result",
          "data": {
            "text/plain": [
              "<matplotlib.axes._subplots.AxesSubplot at 0x7fa035211828>"
            ]
          },
          "metadata": {
            "tags": []
          },
          "execution_count": 141
        },
        {
          "output_type": "display_data",
          "data": {
            "image/png": "[encoded data removed]",
            "text/plain": [
              "<Figure size 432x288 with 1 Axes>"
            ]
          },
          "metadata": {
            "tags": [],
            "needs_background": "light"
          }
        }
      ]
    },
    {
      "cell_type": "code",
      "metadata": {
        "id": "zvg20OPybs2X"
      },
      "source": [
        ""
      ],
      "execution_count": null,
      "outputs": []
    }
  ]
}