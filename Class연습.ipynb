{
  "nbformat": 4,
  "nbformat_minor": 0,
  "metadata": {
    "colab": {
      "name": "Class연습.ipynb",
      "provenance": [],
      "collapsed_sections": [],
      "authorship_tag": "ABX9TyP6iDBb1y//JEjdu1J1mRjs",
      "include_colab_link": true
    },
    "kernelspec": {
      "name": "python3",
      "display_name": "Python 3"
    }
  },
  "cells": [
    {
      "cell_type": "markdown",
      "metadata": {
        "id": "view-in-github",
        "colab_type": "text"
      },
      "source": [
        "<a href=\"https://colab.research.google.com/github/Hugekyung/TIL/blob/master/Class%EC%97%B0%EC%8A%B5.ipynb\" target=\"_parent\"><img src=\"https://colab.research.google.com/assets/colab-badge.svg\" alt=\"Open In Colab\"/></a>"
      ]
    },
    {
      "cell_type": "code",
      "metadata": {
        "id": "j0sgFo1PwZvy",
        "colab_type": "code",
        "colab": {}
      },
      "source": [
        "class FourCal:\n",
        "    def __init__(self, first, second):\n",
        "        # __init__은 초기값을 생성해준다, \n",
        "        # 즉 아래의 setdata를 실행해 객체를 만들어줘야하는 \n",
        "        # 번거로운 과정 대신 바로 객체를 생성하는 것.\n",
        "        self.first = first\n",
        "        self.second = second\n",
        "\n",
        "    def setdata(self, first, second):\n",
        "        self.first = first\n",
        "        self.second = second\n",
        "\n",
        "    def add(self):\n",
        "        result = self.first + self.second\n",
        "        return result\n",
        "\n",
        "    def mul(self):\n",
        "        result = self.first * self.second\n",
        "        return result\n",
        "\n",
        "    def sub(self):\n",
        "        result = self.first - self.second\n",
        "        return result\n",
        "    \n",
        "    def div(self):\n",
        "        result = self.first / self.second\n",
        "        return result"
      ],
      "execution_count": null,
      "outputs": []
    },
    {
      "cell_type": "code",
      "metadata": {
        "id": "z-_FyYdQz_4F",
        "colab_type": "code",
        "colab": {}
      },
      "source": [
        "class MoreFourCal(FourCal): # FourCal 클래스를 상속받는다\n",
        "    def pow(self):\n",
        "        result = self.first ** self.second\n",
        "        return result"
      ],
      "execution_count": null,
      "outputs": []
    },
    {
      "cell_type": "code",
      "metadata": {
        "id": "oEKhT5-p0NA6",
        "colab_type": "code",
        "colab": {
          "base_uri": "https://localhost:8080/",
          "height": 34
        },
        "outputId": "9a44ef0f-8054-4356-9288-f1c4a5f6000e"
      },
      "source": [
        "a = MoreFourCal(5,3)\n",
        "a.mul()\n",
        "a.pow()"
      ],
      "execution_count": null,
      "outputs": [
        {
          "output_type": "execute_result",
          "data": {
            "text/plain": [
              "125"
            ]
          },
          "metadata": {
            "tags": []
          },
          "execution_count": 36
        }
      ]
    },
    {
      "cell_type": "code",
      "metadata": {
        "id": "GFguuVMQzdcz",
        "colab_type": "code",
        "colab": {}
      },
      "source": [
        "a = FourCal(6, 3) # 초기값으로 first=6, second=3이 설정된다"
      ],
      "execution_count": null,
      "outputs": []
    },
    {
      "cell_type": "code",
      "metadata": {
        "id": "eCtF-ghrw4ZI",
        "colab_type": "code",
        "colab": {
          "base_uri": "https://localhost:8080/",
          "height": 34
        },
        "outputId": "08b29b28-d78c-45b6-dd7b-f41d2f0b671d"
      },
      "source": [
        "a.add()"
      ],
      "execution_count": null,
      "outputs": [
        {
          "output_type": "execute_result",
          "data": {
            "text/plain": [
              "9"
            ]
          },
          "metadata": {
            "tags": []
          },
          "execution_count": 32
        }
      ]
    },
    {
      "cell_type": "code",
      "metadata": {
        "id": "jif-pQ8QxGcb",
        "colab_type": "code",
        "colab": {}
      },
      "source": [
        "a.setdata(2, 3)"
      ],
      "execution_count": null,
      "outputs": []
    },
    {
      "cell_type": "code",
      "metadata": {
        "id": "EhP3UaDfxM6S",
        "colab_type": "code",
        "colab": {
          "base_uri": "https://localhost:8080/",
          "height": 34
        },
        "outputId": "1154869d-424c-463e-ed94-8b8b1fd4da7a"
      },
      "source": [
        "a.first\n",
        "a.second"
      ],
      "execution_count": null,
      "outputs": [
        {
          "output_type": "execute_result",
          "data": {
            "text/plain": [
              "3"
            ]
          },
          "metadata": {
            "tags": []
          },
          "execution_count": 23
        }
      ]
    },
    {
      "cell_type": "code",
      "metadata": {
        "id": "MomRUnZvxQ91",
        "colab_type": "code",
        "colab": {
          "base_uri": "https://localhost:8080/",
          "height": 34
        },
        "outputId": "67748c89-21c4-4c77-9689-e7b064ea0cfd"
      },
      "source": [
        "a.add()"
      ],
      "execution_count": null,
      "outputs": [
        {
          "output_type": "execute_result",
          "data": {
            "text/plain": [
              "5"
            ]
          },
          "metadata": {
            "tags": []
          },
          "execution_count": 24
        }
      ]
    },
    {
      "cell_type": "code",
      "metadata": {
        "id": "3st0qEpBxjXw",
        "colab_type": "code",
        "colab": {}
      },
      "source": [
        "a.setdata(10, 5)"
      ],
      "execution_count": null,
      "outputs": []
    },
    {
      "cell_type": "code",
      "metadata": {
        "id": "Y-PhCCEQyMb3",
        "colab_type": "code",
        "colab": {
          "base_uri": "https://localhost:8080/",
          "height": 34
        },
        "outputId": "c74390b0-8ddb-4b3f-e308-0687ec7baa86"
      },
      "source": [
        "a.div() + a.sub()"
      ],
      "execution_count": null,
      "outputs": [
        {
          "output_type": "execute_result",
          "data": {
            "text/plain": [
              "7.0"
            ]
          },
          "metadata": {
            "tags": []
          },
          "execution_count": 29
        }
      ]
    },
    {
      "cell_type": "code",
      "metadata": {
        "id": "IgYlIuezyNfe",
        "colab_type": "code",
        "colab": {
          "base_uri": "https://localhost:8080/",
          "height": 34
        },
        "outputId": "fdaaa81f-b84a-40f3-fa12-70fbe8383ee5"
      },
      "source": [
        "a.div()"
      ],
      "execution_count": null,
      "outputs": [
        {
          "output_type": "execute_result",
          "data": {
            "text/plain": [
              "2.0"
            ]
          },
          "metadata": {
            "tags": []
          },
          "execution_count": 28
        }
      ]
    },
    {
      "cell_type": "code",
      "metadata": {
        "id": "UtjvxNGsyQUb",
        "colab_type": "code",
        "colab": {}
      },
      "source": [
        "class Bag:\n",
        "    def __init__(self):\n",
        "        self.data = []\n",
        "    \n",
        "    def add(self, x):\n",
        "        self.data.append(x)\n",
        "\n",
        "    def addtwice(self, x):\n",
        "        self.add(x)\n",
        "        self.add(x)"
      ],
      "execution_count": 1,
      "outputs": []
    },
    {
      "cell_type": "code",
      "metadata": {
        "id": "BXXqDAfF-cOw",
        "colab_type": "code",
        "colab": {}
      },
      "source": [
        "a = Bag()"
      ],
      "execution_count": 9,
      "outputs": []
    },
    {
      "cell_type": "code",
      "metadata": {
        "id": "aHgrJmuQ-e-q",
        "colab_type": "code",
        "colab": {
          "base_uri": "https://localhost:8080/",
          "height": 34
        },
        "outputId": "1a79f8f7-47f7-4bf2-dea7-b6048271d334"
      },
      "source": [
        "a.add(1)\n",
        "a.addtwice(2)\n",
        "a.data"
      ],
      "execution_count": 16,
      "outputs": [
        {
          "output_type": "execute_result",
          "data": {
            "text/plain": [
              "[1, 1, 1, 1, 1, 1, 2, 2, 1, 2, 2]"
            ]
          },
          "metadata": {
            "tags": []
          },
          "execution_count": 16
        }
      ]
    },
    {
      "cell_type": "code",
      "metadata": {
        "id": "LSW0RrX_-rLP",
        "colab_type": "code",
        "colab": {
          "base_uri": "https://localhost:8080/",
          "height": 210
        },
        "outputId": "5ceb0711-3ac4-4f48-b2f8-87014b6bdd44"
      },
      "source": [
        "for element in [1, 2, 3]:\n",
        "    print(element)\n",
        "for element in (1, 2, 3):\n",
        "    print(element)\n",
        "for key in {'one':1, 'two':2}:\n",
        "    print(key)\n",
        "for char in \"123\":\n",
        "    print(char)"
      ],
      "execution_count": 18,
      "outputs": [
        {
          "output_type": "stream",
          "text": [
            "1\n",
            "2\n",
            "3\n",
            "1\n",
            "2\n",
            "3\n",
            "one\n",
            "two\n",
            "1\n",
            "2\n",
            "3\n"
          ],
          "name": "stdout"
        }
      ]
    },
    {
      "cell_type": "code",
      "metadata": {
        "id": "jSGLwrGj_6Ak",
        "colab_type": "code",
        "colab": {
          "base_uri": "https://localhost:8080/",
          "height": 34
        },
        "outputId": "1c8362e8-9bfb-4d2b-bd05-7754aa54a809"
      },
      "source": [
        "print(sum(i*i for i in range(10)))"
      ],
      "execution_count": 21,
      "outputs": [
        {
          "output_type": "stream",
          "text": [
            "285\n"
          ],
          "name": "stdout"
        }
      ]
    },
    {
      "cell_type": "code",
      "metadata": {
        "id": "8ecJOfcTBR06",
        "colab_type": "code",
        "colab": {
          "base_uri": "https://localhost:8080/",
          "height": 34
        },
        "outputId": "5019ce34-4fd6-422e-c908-5e5ef53413a2"
      },
      "source": [
        "print(sum([i*i for i in range(10)]))"
      ],
      "execution_count": 23,
      "outputs": [
        {
          "output_type": "stream",
          "text": [
            "285\n"
          ],
          "name": "stdout"
        }
      ]
    },
    {
      "cell_type": "markdown",
      "metadata": {
        "id": "hs0FZnXpF2Sj",
        "colab_type": "text"
      },
      "source": [
        "## *args(arguments)  \n",
        "사용법 : 변수의 개수를 사용자가 지정"
      ]
    },
    {
      "cell_type": "code",
      "metadata": {
        "id": "lXVCYVXrD916",
        "colab_type": "code",
        "colab": {
          "base_uri": "https://localhost:8080/",
          "height": 70
        },
        "outputId": "80179b86-2311-42ff-e15c-7ce6cb3b2c0a"
      },
      "source": [
        "# *args 사용법 : 변수의 개수를 사용자가 지정\n",
        "def user_name(*input_name):\n",
        "    for name in input_name:\n",
        "        print(name)\n",
        "\n",
        "input_name1 = '양태경'\n",
        "input_name2 = '양해찬'\n",
        "input_name3 = '양우창'\n",
        "\n",
        "user_name(input_name1, input_name2, input_name3)"
      ],
      "execution_count": 29,
      "outputs": [
        {
          "output_type": "stream",
          "text": [
            "양태경\n",
            "양해찬\n",
            "양우창\n"
          ],
          "name": "stdout"
        }
      ]
    },
    {
      "cell_type": "markdown",
      "metadata": {
        "id": "Bs7TpNNJGCqV",
        "colab_type": "text"
      },
      "source": [
        "*args는 다른 변수 뒤에 위치해야 한다(앞에 있으면 오류)"
      ]
    },
    {
      "cell_type": "code",
      "metadata": {
        "id": "eLRddc8WFmbv",
        "colab_type": "code",
        "colab": {
          "base_uri": "https://localhost:8080/",
          "height": 87
        },
        "outputId": "b9e22e01-07e9-46cc-9c42-39e184032b42"
      },
      "source": [
        "def user_name(name, *input_name):\n",
        "    print(name)\n",
        "    for name in input_name:\n",
        "        print(name)\n",
        "\n",
        "name = '내 이름은 무엇일까?'\n",
        "user_name(name, input_name1, input_name2, input_name3)"
      ],
      "execution_count": 33,
      "outputs": [
        {
          "output_type": "stream",
          "text": [
            "내 이름은 무엇일까?\n",
            "양태경\n",
            "양해찬\n",
            "양우창\n"
          ],
          "name": "stdout"
        }
      ]
    },
    {
      "cell_type": "markdown",
      "metadata": {
        "id": "m5Y1E1YZG-oc",
        "colab_type": "text"
      },
      "source": [
        "## **kwargs(keyword argument)  \n",
        "- (키워드 = 특정 값)의 형태로 함수를 호출  \n",
        "- {'키워드':'특정 값'}의 딕셔너리 형태로 함수 내부에 전달된다  \n",
        "- \\*args와 함께 쓰일 때는 \\*args뒤에 위치한다(\\*args, **kawgs)"
      ]
    },
    {
      "cell_type": "code",
      "metadata": {
        "id": "dwDZmw9UGWHG",
        "colab_type": "code",
        "colab": {
          "base_uri": "https://localhost:8080/",
          "height": 70
        },
        "outputId": "fc239d01-3717-4362-f38a-516a8430845f"
      },
      "source": [
        "def whatyourname(**names):\n",
        "    for key, value in names.items():\n",
        "        print(key, 'is', value)\n",
        "\n",
        "whatyourname(myname = 'tkyang', yourname = 'hcyang', age = 29)\n"
      ],
      "execution_count": 39,
      "outputs": [
        {
          "output_type": "stream",
          "text": [
            "myname is tkyang\n",
            "yourname is hcyang\n",
            "age is 29\n"
          ],
          "name": "stdout"
        }
      ]
    },
    {
      "cell_type": "markdown",
      "metadata": {
        "id": "ejy5gLtXJ85S",
        "colab_type": "text"
      },
      "source": [
        "## 사용법 요약  \n",
        "함수의 파라미터 순서 : 일반변수 \\*변수 **변수  \n",
        "- *변수 : 여러 개의 데이터가 들어오면 함수 내부에서는 해당 변수를 '튜플'의 형태로 처리  \n",
        "- **변수 : 딕셔너리의 형태로 키워드='a'로 입력하면 각각 키와 값으로 가져오는 '딕셔너리'로 처리한다"
      ]
    },
    {
      "cell_type": "code",
      "metadata": {
        "id": "1W-Px6tsGAHd",
        "colab_type": "code",
        "colab": {}
      },
      "source": [
        ""
      ],
      "execution_count": null,
      "outputs": []
    }
  ]
}