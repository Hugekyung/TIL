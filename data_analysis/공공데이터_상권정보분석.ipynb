{
 "cells": [
  {
   "cell_type": "markdown",
   "metadata": {},
   "source": [
    "# 공공데이터 상권정보 분석"
   ]
  },
  {
   "cell_type": "code",
   "execution_count": 1,
   "metadata": {
    "ExecuteTime": {
     "end_time": "2020-12-02T13:53:32.684439Z",
     "start_time": "2020-12-02T13:53:29.178531Z"
    }
   },
   "outputs": [],
   "source": [
    "import pandas as pd\n",
    "import numpy as np\n",
    "import seaborn as sns"
   ]
  },
  {
   "cell_type": "markdown",
   "metadata": {},
   "source": [
    "## 시각화를 위한 폰트 설정"
   ]
  },
  {
   "cell_type": "code",
   "execution_count": 2,
   "metadata": {
    "ExecuteTime": {
     "end_time": "2020-12-02T13:56:09.550563Z",
     "start_time": "2020-12-02T13:56:09.540563Z"
    }
   },
   "outputs": [],
   "source": [
    "import matplotlib.pyplot as plt\n",
    "\n",
    "# 윈도우 사용자\n",
    "plt.rc('font', family='Malgun Gothic')\n",
    "\n",
    "# 맥 사용자\n",
    "# plt.rc('font', family='AppleGothic')\n",
    "plt.rc('axes', unicode_minus=False) # 마이너스 폰트가 깨지는 문제\n",
    "\n",
    "# 그래프가 노트북 안에 보이게 하기 위해\n",
    "%matplotlib inline"
   ]
  },
  {
   "cell_type": "code",
   "execution_count": 3,
   "metadata": {
    "ExecuteTime": {
     "end_time": "2020-12-02T13:56:57.260840Z",
     "start_time": "2020-12-02T13:56:57.257780Z"
    }
   },
   "outputs": [],
   "source": [
    "from IPython.display import set_matplotlib_formats\n",
    "# 폰트를 선명하게\n",
    "set_matplotlib_formats('retina')"
   ]
  },
  {
   "cell_type": "markdown",
   "metadata": {},
   "source": [
    "## 데이터 로드하기"
   ]
  },
  {
   "cell_type": "code",
   "execution_count": 16,
   "metadata": {
    "ExecuteTime": {
     "end_time": "2020-12-02T14:02:18.563410Z",
     "start_time": "2020-12-02T14:02:17.363773Z"
    },
    "scrolled": true
   },
   "outputs": [
    {
     "data": {
      "text/plain": [
       "(91335, 39)"
      ]
     },
     "execution_count": 16,
     "metadata": {},
     "output_type": "execute_result"
    }
   ],
   "source": [
    "df = pd.read_csv(r'C:\\Users\\haech\\소상공인시장진흥공단_상가업소정보_의료기관_201909\\소상공인시장진흥공단_상가업소정보_의료기관_201909.csv', low_memory=False)\n",
    "df.shape"
   ]
  },
  {
   "cell_type": "code",
   "execution_count": 17,
   "metadata": {
    "ExecuteTime": {
     "end_time": "2020-12-02T14:02:58.867109Z",
     "start_time": "2020-12-02T14:02:58.832958Z"
    },
    "scrolled": true
   },
   "outputs": [
    {
     "data": {
      "text/html": [
       "<div>\n",
       "<style scoped>\n",
       "    .dataframe tbody tr th:only-of-type {\n",
       "        vertical-align: middle;\n",
       "    }\n",
       "\n",
       "    .dataframe tbody tr th {\n",
       "        vertical-align: top;\n",
       "    }\n",
       "\n",
       "    .dataframe thead th {\n",
       "        text-align: right;\n",
       "    }\n",
       "</style>\n",
       "<table border=\"1\" class=\"dataframe\">\n",
       "  <thead>\n",
       "    <tr style=\"text-align: right;\">\n",
       "      <th></th>\n",
       "      <th>상가업소번호</th>\n",
       "      <th>상호명</th>\n",
       "      <th>지점명</th>\n",
       "      <th>상권업종대분류코드</th>\n",
       "      <th>상권업종대분류명</th>\n",
       "      <th>상권업종중분류코드</th>\n",
       "      <th>상권업종중분류명</th>\n",
       "      <th>상권업종소분류코드</th>\n",
       "      <th>상권업종소분류명</th>\n",
       "      <th>표준산업분류코드</th>\n",
       "      <th>...</th>\n",
       "      <th>건물관리번호</th>\n",
       "      <th>건물명</th>\n",
       "      <th>도로명주소</th>\n",
       "      <th>구우편번호</th>\n",
       "      <th>신우편번호</th>\n",
       "      <th>동정보</th>\n",
       "      <th>층정보</th>\n",
       "      <th>호정보</th>\n",
       "      <th>경도</th>\n",
       "      <th>위도</th>\n",
       "    </tr>\n",
       "  </thead>\n",
       "  <tbody>\n",
       "    <tr>\n",
       "      <th>0</th>\n",
       "      <td>19956873</td>\n",
       "      <td>하나산부인과</td>\n",
       "      <td>NaN</td>\n",
       "      <td>S</td>\n",
       "      <td>의료</td>\n",
       "      <td>S01</td>\n",
       "      <td>병원</td>\n",
       "      <td>S01B10</td>\n",
       "      <td>산부인과</td>\n",
       "      <td>Q86201</td>\n",
       "      <td>...</td>\n",
       "      <td>4127310900110810000010857</td>\n",
       "      <td>산호한양아파트</td>\n",
       "      <td>경기도 안산시 단원구 달미로 10</td>\n",
       "      <td>425764.0</td>\n",
       "      <td>15236.0</td>\n",
       "      <td>NaN</td>\n",
       "      <td>NaN</td>\n",
       "      <td>NaN</td>\n",
       "      <td>126.814295</td>\n",
       "      <td>37.336344</td>\n",
       "    </tr>\n",
       "    <tr>\n",
       "      <th>1</th>\n",
       "      <td>20024149</td>\n",
       "      <td>타워광명내과의원</td>\n",
       "      <td>NaN</td>\n",
       "      <td>S</td>\n",
       "      <td>의료</td>\n",
       "      <td>S01</td>\n",
       "      <td>병원</td>\n",
       "      <td>S01B07</td>\n",
       "      <td>내과/외과</td>\n",
       "      <td>Q86201</td>\n",
       "      <td>...</td>\n",
       "      <td>1168011800104670014000001</td>\n",
       "      <td>NaN</td>\n",
       "      <td>서울특별시 강남구 언주로30길 39</td>\n",
       "      <td>135270.0</td>\n",
       "      <td>6292.0</td>\n",
       "      <td>NaN</td>\n",
       "      <td>4</td>\n",
       "      <td>NaN</td>\n",
       "      <td>127.053198</td>\n",
       "      <td>37.488742</td>\n",
       "    </tr>\n",
       "    <tr>\n",
       "      <th>2</th>\n",
       "      <td>20152277</td>\n",
       "      <td>조정현신경외과의원</td>\n",
       "      <td>NaN</td>\n",
       "      <td>S</td>\n",
       "      <td>의료</td>\n",
       "      <td>S01</td>\n",
       "      <td>병원</td>\n",
       "      <td>S01B15</td>\n",
       "      <td>신경외과</td>\n",
       "      <td>Q86201</td>\n",
       "      <td>...</td>\n",
       "      <td>4139013200117400001017064</td>\n",
       "      <td>한라프라자</td>\n",
       "      <td>경기도 시흥시 중심상가로 178</td>\n",
       "      <td>429450.0</td>\n",
       "      <td>15066.0</td>\n",
       "      <td>NaN</td>\n",
       "      <td>NaN</td>\n",
       "      <td>NaN</td>\n",
       "      <td>126.734841</td>\n",
       "      <td>37.344955</td>\n",
       "    </tr>\n",
       "  </tbody>\n",
       "</table>\n",
       "<p>3 rows × 39 columns</p>\n",
       "</div>"
      ],
      "text/plain": [
       "     상가업소번호        상호명  지점명 상권업종대분류코드 상권업종대분류명 상권업종중분류코드 상권업종중분류명 상권업종소분류코드  \\\n",
       "0  19956873     하나산부인과  NaN         S       의료       S01       병원    S01B10   \n",
       "1  20024149   타워광명내과의원  NaN         S       의료       S01       병원    S01B07   \n",
       "2  20152277  조정현신경외과의원  NaN         S       의료       S01       병원    S01B15   \n",
       "\n",
       "  상권업종소분류명 표준산업분류코드  ...                     건물관리번호      건물명  \\\n",
       "0     산부인과   Q86201  ...  4127310900110810000010857  산호한양아파트   \n",
       "1    내과/외과   Q86201  ...  1168011800104670014000001      NaN   \n",
       "2     신경외과   Q86201  ...  4139013200117400001017064    한라프라자   \n",
       "\n",
       "                 도로명주소     구우편번호    신우편번호  동정보  층정보  호정보          경도  \\\n",
       "0   경기도 안산시 단원구 달미로 10  425764.0  15236.0  NaN  NaN  NaN  126.814295   \n",
       "1  서울특별시 강남구 언주로30길 39  135270.0   6292.0  NaN    4  NaN  127.053198   \n",
       "2    경기도 시흥시 중심상가로 178  429450.0  15066.0  NaN  NaN  NaN  126.734841   \n",
       "\n",
       "          위도  \n",
       "0  37.336344  \n",
       "1  37.488742  \n",
       "2  37.344955  \n",
       "\n",
       "[3 rows x 39 columns]"
      ]
     },
     "execution_count": 17,
     "metadata": {},
     "output_type": "execute_result"
    }
   ],
   "source": [
    "df.head(3)"
   ]
  },
  {
   "cell_type": "code",
   "execution_count": 18,
   "metadata": {
    "ExecuteTime": {
     "end_time": "2020-12-02T14:05:08.243799Z",
     "start_time": "2020-12-02T14:05:08.096762Z"
    },
    "scrolled": true
   },
   "outputs": [
    {
     "name": "stdout",
     "output_type": "stream",
     "text": [
      "<class 'pandas.core.frame.DataFrame'>\n",
      "RangeIndex: 91335 entries, 0 to 91334\n",
      "Data columns (total 39 columns):\n",
      " #   Column     Non-Null Count  Dtype  \n",
      "---  ------     --------------  -----  \n",
      " 0   상가업소번호     91335 non-null  int64  \n",
      " 1   상호명        91335 non-null  object \n",
      " 2   지점명        1346 non-null   object \n",
      " 3   상권업종대분류코드  91335 non-null  object \n",
      " 4   상권업종대분류명   91335 non-null  object \n",
      " 5   상권업종중분류코드  91335 non-null  object \n",
      " 6   상권업종중분류명   91335 non-null  object \n",
      " 7   상권업종소분류코드  91335 non-null  object \n",
      " 8   상권업종소분류명   91335 non-null  object \n",
      " 9   표준산업분류코드   86413 non-null  object \n",
      " 10  표준산업분류명    86413 non-null  object \n",
      " 11  시도코드       90956 non-null  float64\n",
      " 12  시도명        90956 non-null  object \n",
      " 13  시군구코드      90956 non-null  float64\n",
      " 14  시군구명       90956 non-null  object \n",
      " 15  행정동코드      91335 non-null  int64  \n",
      " 16  행정동명       90956 non-null  object \n",
      " 17  법정동코드      91280 non-null  float64\n",
      " 18  법정동명       91280 non-null  object \n",
      " 19  지번코드       91335 non-null  int64  \n",
      " 20  대지구분코드     91335 non-null  int64  \n",
      " 21  대지구분명      91335 non-null  object \n",
      " 22  지번본번지      91335 non-null  int64  \n",
      " 23  지번부번지      72079 non-null  float64\n",
      " 24  지번주소       91335 non-null  object \n",
      " 25  도로명코드      91335 non-null  int64  \n",
      " 26  도로명        91335 non-null  object \n",
      " 27  건물본번지      91335 non-null  int64  \n",
      " 28  건물부번지      10604 non-null  float64\n",
      " 29  건물관리번호     91335 non-null  object \n",
      " 30  건물명        46453 non-null  object \n",
      " 31  도로명주소      91335 non-null  object \n",
      " 32  구우편번호      91323 non-null  float64\n",
      " 33  신우편번호      91333 non-null  float64\n",
      " 34  동정보        7406 non-null   object \n",
      " 35  층정보        44044 non-null  object \n",
      " 36  호정보        15551 non-null  object \n",
      " 37  경도         91335 non-null  float64\n",
      " 38  위도         91335 non-null  float64\n",
      "dtypes: float64(9), int64(7), object(23)\n",
      "memory usage: 27.2+ MB\n"
     ]
    }
   ],
   "source": [
    "df.info()"
   ]
  },
  {
   "cell_type": "code",
   "execution_count": 19,
   "metadata": {
    "ExecuteTime": {
     "end_time": "2020-12-02T14:06:09.674917Z",
     "start_time": "2020-12-02T14:06:09.668916Z"
    }
   },
   "outputs": [
    {
     "data": {
      "text/plain": [
       "Index(['상가업소번호', '상호명', '지점명', '상권업종대분류코드', '상권업종대분류명', '상권업종중분류코드',\n",
       "       '상권업종중분류명', '상권업종소분류코드', '상권업종소분류명', '표준산업분류코드', '표준산업분류명', '시도코드',\n",
       "       '시도명', '시군구코드', '시군구명', '행정동코드', '행정동명', '법정동코드', '법정동명', '지번코드',\n",
       "       '대지구분코드', '대지구분명', '지번본번지', '지번부번지', '지번주소', '도로명코드', '도로명', '건물본번지',\n",
       "       '건물부번지', '건물관리번호', '건물명', '도로명주소', '구우편번호', '신우편번호', '동정보', '층정보',\n",
       "       '호정보', '경도', '위도'],\n",
       "      dtype='object')"
      ]
     },
     "execution_count": 19,
     "metadata": {},
     "output_type": "execute_result"
    }
   ],
   "source": [
    "df.columns"
   ]
  },
  {
   "cell_type": "markdown",
   "metadata": {},
   "source": [
    "## 결측치"
   ]
  },
  {
   "cell_type": "code",
   "execution_count": 25,
   "metadata": {
    "ExecuteTime": {
     "end_time": "2020-12-02T14:10:18.334409Z",
     "start_time": "2020-12-02T14:10:18.170381Z"
    },
    "scrolled": true
   },
   "outputs": [
    {
     "data": {
      "text/plain": [
       "상가업소번호           0\n",
       "상호명              0\n",
       "지점명          89989\n",
       "상권업종대분류코드        0\n",
       "상권업종대분류명         0\n",
       "상권업종중분류코드        0\n",
       "상권업종중분류명         0\n",
       "상권업종소분류코드        0\n",
       "상권업종소분류명         0\n",
       "표준산업분류코드      4922\n",
       "표준산업분류명       4922\n",
       "시도코드           379\n",
       "시도명            379\n",
       "시군구코드          379\n",
       "시군구명           379\n",
       "행정동코드            0\n",
       "행정동명           379\n",
       "법정동코드           55\n",
       "법정동명            55\n",
       "지번코드             0\n",
       "대지구분코드           0\n",
       "대지구분명            0\n",
       "지번본번지            0\n",
       "지번부번지        19256\n",
       "지번주소             0\n",
       "도로명코드            0\n",
       "도로명              0\n",
       "건물본번지            0\n",
       "건물부번지        80731\n",
       "건물관리번호           0\n",
       "건물명          44882\n",
       "도로명주소            0\n",
       "구우편번호           12\n",
       "신우편번호            2\n",
       "동정보          83929\n",
       "층정보          47291\n",
       "호정보          75784\n",
       "경도               0\n",
       "위도               0\n",
       "dtype: int64"
      ]
     },
     "execution_count": 25,
     "metadata": {},
     "output_type": "execute_result"
    }
   ],
   "source": [
    "null_count = df.isnull().sum() # 결측치 개수\n",
    "null_count"
   ]
  },
  {
   "cell_type": "code",
   "execution_count": 32,
   "metadata": {
    "ExecuteTime": {
     "end_time": "2020-12-02T14:12:07.047829Z",
     "start_time": "2020-12-02T14:12:06.592752Z"
    }
   },
   "outputs": [
    {
     "data": {
      "text/plain": [
       "<matplotlib.axes._subplots.AxesSubplot at 0x1d460408a88>"
      ]
     },
     "execution_count": 32,
     "metadata": {},
     "output_type": "execute_result"
    },
    {
     "data": {
      "image/png": "[encoded data removed]",
      "text/plain": [
       "<Figure size 360x720 with 1 Axes>"
      ]
     },
     "metadata": {
      "image/png": {
       "height": 575,
       "width": 390
      },
      "needs_background": "light"
     },
     "output_type": "display_data"
    }
   ],
   "source": [
    "# 시각화해서 확인하기\n",
    "null_count.plot.barh(figsize=(5,10))"
   ]
  },
  {
   "cell_type": "code",
   "execution_count": 45,
   "metadata": {
    "ExecuteTime": {
     "end_time": "2020-12-02T14:16:28.246452Z",
     "start_time": "2020-12-02T14:16:28.232450Z"
    }
   },
   "outputs": [
    {
     "data": {
      "text/html": [
       "<div>\n",
       "<style scoped>\n",
       "    .dataframe tbody tr th:only-of-type {\n",
       "        vertical-align: middle;\n",
       "    }\n",
       "\n",
       "    .dataframe tbody tr th {\n",
       "        vertical-align: top;\n",
       "    }\n",
       "\n",
       "    .dataframe thead th {\n",
       "        text-align: right;\n",
       "    }\n",
       "</style>\n",
       "<table border=\"1\" class=\"dataframe\">\n",
       "  <thead>\n",
       "    <tr style=\"text-align: right;\">\n",
       "      <th></th>\n",
       "      <th>index</th>\n",
       "      <th>0</th>\n",
       "    </tr>\n",
       "  </thead>\n",
       "  <tbody>\n",
       "    <tr>\n",
       "      <th>0</th>\n",
       "      <td>상가업소번호</td>\n",
       "      <td>0</td>\n",
       "    </tr>\n",
       "    <tr>\n",
       "      <th>1</th>\n",
       "      <td>상호명</td>\n",
       "      <td>0</td>\n",
       "    </tr>\n",
       "    <tr>\n",
       "      <th>2</th>\n",
       "      <td>지점명</td>\n",
       "      <td>89989</td>\n",
       "    </tr>\n",
       "  </tbody>\n",
       "</table>\n",
       "</div>"
      ],
      "text/plain": [
       "    index      0\n",
       "0  상가업소번호      0\n",
       "1     상호명      0\n",
       "2     지점명  89989"
      ]
     },
     "execution_count": 45,
     "metadata": {},
     "output_type": "execute_result"
    }
   ],
   "source": [
    "df_null_count = null_count.reset_index() # 다시 데이터프레임 형태로 만들기\n",
    "df_null_count.head(3)"
   ]
  },
  {
   "cell_type": "code",
   "execution_count": 46,
   "metadata": {
    "ExecuteTime": {
     "end_time": "2020-12-02T14:16:28.986043Z",
     "start_time": "2020-12-02T14:16:28.974040Z"
    }
   },
   "outputs": [
    {
     "data": {
      "text/html": [
       "<div>\n",
       "<style scoped>\n",
       "    .dataframe tbody tr th:only-of-type {\n",
       "        vertical-align: middle;\n",
       "    }\n",
       "\n",
       "    .dataframe tbody tr th {\n",
       "        vertical-align: top;\n",
       "    }\n",
       "\n",
       "    .dataframe thead th {\n",
       "        text-align: right;\n",
       "    }\n",
       "</style>\n",
       "<table border=\"1\" class=\"dataframe\">\n",
       "  <thead>\n",
       "    <tr style=\"text-align: right;\">\n",
       "      <th></th>\n",
       "      <th>컬럼명</th>\n",
       "      <th>결측치수</th>\n",
       "    </tr>\n",
       "  </thead>\n",
       "  <tbody>\n",
       "    <tr>\n",
       "      <th>0</th>\n",
       "      <td>상가업소번호</td>\n",
       "      <td>0</td>\n",
       "    </tr>\n",
       "    <tr>\n",
       "      <th>1</th>\n",
       "      <td>상호명</td>\n",
       "      <td>0</td>\n",
       "    </tr>\n",
       "    <tr>\n",
       "      <th>2</th>\n",
       "      <td>지점명</td>\n",
       "      <td>89989</td>\n",
       "    </tr>\n",
       "  </tbody>\n",
       "</table>\n",
       "</div>"
      ],
      "text/plain": [
       "      컬럼명   결측치수\n",
       "0  상가업소번호      0\n",
       "1     상호명      0\n",
       "2     지점명  89989"
      ]
     },
     "execution_count": 46,
     "metadata": {},
     "output_type": "execute_result"
    }
   ],
   "source": [
    "df_null_count.columns = ['컬럼명', '결측치수']\n",
    "df_null_count.head(3)"
   ]
  },
  {
   "cell_type": "markdown",
   "metadata": {},
   "source": [
    "## 정렬하기"
   ]
  },
  {
   "cell_type": "code",
   "execution_count": 52,
   "metadata": {
    "ExecuteTime": {
     "end_time": "2020-12-02T14:19:43.827252Z",
     "start_time": "2020-12-02T14:19:43.822249Z"
    },
    "scrolled": true
   },
   "outputs": [],
   "source": [
    "df_null_count_top = df_null_count.sort_values(by=\"결측치수\", ascending=False).head(10)"
   ]
  },
  {
   "cell_type": "code",
   "execution_count": 50,
   "metadata": {
    "ExecuteTime": {
     "end_time": "2020-12-02T14:18:59.803971Z",
     "start_time": "2020-12-02T14:18:59.795973Z"
    }
   },
   "outputs": [
    {
     "data": {
      "text/plain": [
       "0    NaN\n",
       "1    NaN\n",
       "2    NaN\n",
       "Name: 지점명, dtype: object"
      ]
     },
     "execution_count": 50,
     "metadata": {},
     "output_type": "execute_result"
    }
   ],
   "source": [
    "df[\"지점명\"].head(3)"
   ]
  },
  {
   "cell_type": "code",
   "execution_count": 55,
   "metadata": {
    "ExecuteTime": {
     "end_time": "2020-12-02T14:20:28.072984Z",
     "start_time": "2020-12-02T14:20:28.065978Z"
    }
   },
   "outputs": [
    {
     "data": {
      "text/plain": [
       "['지점명',\n",
       " '동정보',\n",
       " '건물부번지',\n",
       " '호정보',\n",
       " '층정보',\n",
       " '건물명',\n",
       " '지번부번지',\n",
       " '표준산업분류코드',\n",
       " '표준산업분류명',\n",
       " '시도코드']"
      ]
     },
     "execution_count": 55,
     "metadata": {},
     "output_type": "execute_result"
    }
   ],
   "source": [
    "drop_columns = df_null_count_top[\"컬럼명\"].tolist()\n",
    "drop_columns"
   ]
  },
  {
   "cell_type": "code",
   "execution_count": 56,
   "metadata": {
    "ExecuteTime": {
     "end_time": "2020-12-02T14:20:44.499906Z",
     "start_time": "2020-12-02T14:20:44.467544Z"
    }
   },
   "outputs": [
    {
     "data": {
      "text/html": [
       "<div>\n",
       "<style scoped>\n",
       "    .dataframe tbody tr th:only-of-type {\n",
       "        vertical-align: middle;\n",
       "    }\n",
       "\n",
       "    .dataframe tbody tr th {\n",
       "        vertical-align: top;\n",
       "    }\n",
       "\n",
       "    .dataframe thead th {\n",
       "        text-align: right;\n",
       "    }\n",
       "</style>\n",
       "<table border=\"1\" class=\"dataframe\">\n",
       "  <thead>\n",
       "    <tr style=\"text-align: right;\">\n",
       "      <th></th>\n",
       "      <th>지점명</th>\n",
       "      <th>동정보</th>\n",
       "      <th>건물부번지</th>\n",
       "      <th>호정보</th>\n",
       "      <th>층정보</th>\n",
       "      <th>건물명</th>\n",
       "      <th>지번부번지</th>\n",
       "      <th>표준산업분류코드</th>\n",
       "      <th>표준산업분류명</th>\n",
       "      <th>시도코드</th>\n",
       "    </tr>\n",
       "  </thead>\n",
       "  <tbody>\n",
       "    <tr>\n",
       "      <th>0</th>\n",
       "      <td>NaN</td>\n",
       "      <td>NaN</td>\n",
       "      <td>NaN</td>\n",
       "      <td>NaN</td>\n",
       "      <td>NaN</td>\n",
       "      <td>산호한양아파트</td>\n",
       "      <td>NaN</td>\n",
       "      <td>Q86201</td>\n",
       "      <td>일반 의원</td>\n",
       "      <td>41.0</td>\n",
       "    </tr>\n",
       "    <tr>\n",
       "      <th>1</th>\n",
       "      <td>NaN</td>\n",
       "      <td>NaN</td>\n",
       "      <td>NaN</td>\n",
       "      <td>NaN</td>\n",
       "      <td>4</td>\n",
       "      <td>NaN</td>\n",
       "      <td>14.0</td>\n",
       "      <td>Q86201</td>\n",
       "      <td>일반 의원</td>\n",
       "      <td>11.0</td>\n",
       "    </tr>\n",
       "    <tr>\n",
       "      <th>2</th>\n",
       "      <td>NaN</td>\n",
       "      <td>NaN</td>\n",
       "      <td>NaN</td>\n",
       "      <td>NaN</td>\n",
       "      <td>NaN</td>\n",
       "      <td>한라프라자</td>\n",
       "      <td>1.0</td>\n",
       "      <td>Q86201</td>\n",
       "      <td>일반 의원</td>\n",
       "      <td>41.0</td>\n",
       "    </tr>\n",
       "    <tr>\n",
       "      <th>3</th>\n",
       "      <td>NaN</td>\n",
       "      <td>NaN</td>\n",
       "      <td>NaN</td>\n",
       "      <td>NaN</td>\n",
       "      <td>5</td>\n",
       "      <td>NaN</td>\n",
       "      <td>1.0</td>\n",
       "      <td>NaN</td>\n",
       "      <td>NaN</td>\n",
       "      <td>26.0</td>\n",
       "    </tr>\n",
       "    <tr>\n",
       "      <th>4</th>\n",
       "      <td>수지점</td>\n",
       "      <td>NaN</td>\n",
       "      <td>NaN</td>\n",
       "      <td>NaN</td>\n",
       "      <td>1</td>\n",
       "      <td>NaN</td>\n",
       "      <td>2.0</td>\n",
       "      <td>G47811</td>\n",
       "      <td>의약품 및 의료용품 소매업</td>\n",
       "      <td>41.0</td>\n",
       "    </tr>\n",
       "  </tbody>\n",
       "</table>\n",
       "</div>"
      ],
      "text/plain": [
       "   지점명  동정보  건물부번지  호정보  층정보      건물명  지번부번지 표준산업분류코드         표준산업분류명  시도코드\n",
       "0  NaN  NaN    NaN  NaN  NaN  산호한양아파트    NaN   Q86201           일반 의원  41.0\n",
       "1  NaN  NaN    NaN  NaN    4      NaN   14.0   Q86201           일반 의원  11.0\n",
       "2  NaN  NaN    NaN  NaN  NaN    한라프라자    1.0   Q86201           일반 의원  41.0\n",
       "3  NaN  NaN    NaN  NaN    5      NaN    1.0      NaN             NaN  26.0\n",
       "4  수지점  NaN    NaN  NaN    1      NaN    2.0   G47811  의약품 및 의료용품 소매업  41.0"
      ]
     },
     "execution_count": 56,
     "metadata": {},
     "output_type": "execute_result"
    }
   ],
   "source": [
    "df[drop_columns].head()"
   ]
  },
  {
   "cell_type": "markdown",
   "metadata": {},
   "source": [
    "## 결측치 제거\n",
    "- 결측치가 가장 많은 상위 10개 컬럼 제거"
   ]
  },
  {
   "cell_type": "code",
   "execution_count": 58,
   "metadata": {
    "ExecuteTime": {
     "end_time": "2020-12-02T14:22:28.837269Z",
     "start_time": "2020-12-02T14:22:28.800218Z"
    }
   },
   "outputs": [
    {
     "name": "stdout",
     "output_type": "stream",
     "text": [
      "(91335, 39)\n",
      "(91335, 29)\n"
     ]
    }
   ],
   "source": [
    "print(df.shape)\n",
    "df = df.drop(drop_columns, axis=1)\n",
    "print(df.shape)"
   ]
  },
  {
   "cell_type": "code",
   "execution_count": 59,
   "metadata": {
    "ExecuteTime": {
     "end_time": "2020-12-02T14:23:26.409307Z",
     "start_time": "2020-12-02T14:23:26.293784Z"
    },
    "scrolled": true
   },
   "outputs": [
    {
     "name": "stdout",
     "output_type": "stream",
     "text": [
      "<class 'pandas.core.frame.DataFrame'>\n",
      "RangeIndex: 91335 entries, 0 to 91334\n",
      "Data columns (total 29 columns):\n",
      " #   Column     Non-Null Count  Dtype  \n",
      "---  ------     --------------  -----  \n",
      " 0   상가업소번호     91335 non-null  int64  \n",
      " 1   상호명        91335 non-null  object \n",
      " 2   상권업종대분류코드  91335 non-null  object \n",
      " 3   상권업종대분류명   91335 non-null  object \n",
      " 4   상권업종중분류코드  91335 non-null  object \n",
      " 5   상권업종중분류명   91335 non-null  object \n",
      " 6   상권업종소분류코드  91335 non-null  object \n",
      " 7   상권업종소분류명   91335 non-null  object \n",
      " 8   시도명        90956 non-null  object \n",
      " 9   시군구코드      90956 non-null  float64\n",
      " 10  시군구명       90956 non-null  object \n",
      " 11  행정동코드      91335 non-null  int64  \n",
      " 12  행정동명       90956 non-null  object \n",
      " 13  법정동코드      91280 non-null  float64\n",
      " 14  법정동명       91280 non-null  object \n",
      " 15  지번코드       91335 non-null  int64  \n",
      " 16  대지구분코드     91335 non-null  int64  \n",
      " 17  대지구분명      91335 non-null  object \n",
      " 18  지번본번지      91335 non-null  int64  \n",
      " 19  지번주소       91335 non-null  object \n",
      " 20  도로명코드      91335 non-null  int64  \n",
      " 21  도로명        91335 non-null  object \n",
      " 22  건물본번지      91335 non-null  int64  \n",
      " 23  건물관리번호     91335 non-null  object \n",
      " 24  도로명주소      91335 non-null  object \n",
      " 25  구우편번호      91323 non-null  float64\n",
      " 26  신우편번호      91333 non-null  float64\n",
      " 27  경도         91335 non-null  float64\n",
      " 28  위도         91335 non-null  float64\n",
      "dtypes: float64(6), int64(7), object(16)\n",
      "memory usage: 20.2+ MB\n"
     ]
    }
   ],
   "source": [
    "df.info() # 메모리 용량 확보"
   ]
  },
  {
   "cell_type": "markdown",
   "metadata": {},
   "source": [
    "# 기초 통계 수치"
   ]
  },
  {
   "cell_type": "markdown",
   "metadata": {},
   "source": [
    "## 기초 통계값 보기"
   ]
  },
  {
   "cell_type": "markdown",
   "metadata": {},
   "source": [
    "### 기초 통계 수치"
   ]
  },
  {
   "cell_type": "code",
   "execution_count": 60,
   "metadata": {
    "ExecuteTime": {
     "end_time": "2020-12-02T15:25:29.497515Z",
     "start_time": "2020-12-02T15:25:29.490516Z"
    }
   },
   "outputs": [
    {
     "data": {
      "text/plain": [
       "36.62471119236673"
      ]
     },
     "execution_count": 60,
     "metadata": {},
     "output_type": "execute_result"
    }
   ],
   "source": [
    "# 평균값\n",
    "df[\"위도\"].mean()"
   ]
  },
  {
   "cell_type": "code",
   "execution_count": 62,
   "metadata": {
    "ExecuteTime": {
     "end_time": "2020-12-02T15:26:10.617569Z",
     "start_time": "2020-12-02T15:26:10.608570Z"
    }
   },
   "outputs": [
    {
     "data": {
      "text/plain": [
       "37.23465231770329"
      ]
     },
     "execution_count": 62,
     "metadata": {},
     "output_type": "execute_result"
    }
   ],
   "source": [
    "# 중앙값\n",
    "df[\"위도\"].median()"
   ]
  },
  {
   "cell_type": "code",
   "execution_count": 64,
   "metadata": {
    "ExecuteTime": {
     "end_time": "2020-12-02T15:26:30.599487Z",
     "start_time": "2020-12-02T15:26:30.592482Z"
    }
   },
   "outputs": [
    {
     "data": {
      "text/plain": [
       "38.499658570559795"
      ]
     },
     "execution_count": 64,
     "metadata": {},
     "output_type": "execute_result"
    }
   ],
   "source": [
    "# 최댓값\n",
    "df[\"위도\"].max()"
   ]
  },
  {
   "cell_type": "code",
   "execution_count": 65,
   "metadata": {
    "ExecuteTime": {
     "end_time": "2020-12-02T15:27:22.464847Z",
     "start_time": "2020-12-02T15:27:22.456848Z"
    }
   },
   "outputs": [
    {
     "data": {
      "text/plain": [
       "33.2192896688307"
      ]
     },
     "execution_count": 65,
     "metadata": {},
     "output_type": "execute_result"
    }
   ],
   "source": [
    "# 최솟값\n",
    "df[\"위도\"].min()"
   ]
  },
  {
   "cell_type": "code",
   "execution_count": 67,
   "metadata": {
    "ExecuteTime": {
     "end_time": "2020-12-02T15:28:00.116955Z",
     "start_time": "2020-12-02T15:28:00.109953Z"
    }
   },
   "outputs": [
    {
     "data": {
      "text/plain": [
       "91335"
      ]
     },
     "execution_count": 67,
     "metadata": {},
     "output_type": "execute_result"
    }
   ],
   "source": [
    "# 갯수\n",
    "df[\"위도\"].count()"
   ]
  },
  {
   "cell_type": "markdown",
   "metadata": {},
   "source": [
    "### 기초 통계값 요약하기 - describe"
   ]
  },
  {
   "cell_type": "code",
   "execution_count": 68,
   "metadata": {
    "ExecuteTime": {
     "end_time": "2020-12-02T15:28:33.328161Z",
     "start_time": "2020-12-02T15:28:33.305650Z"
    }
   },
   "outputs": [
    {
     "data": {
      "text/plain": [
       "count    91335.000000\n",
       "mean        36.624711\n",
       "std          1.041361\n",
       "min         33.219290\n",
       "25%         35.811830\n",
       "50%         37.234652\n",
       "75%         37.507463\n",
       "max         38.499659\n",
       "Name: 위도, dtype: float64"
      ]
     },
     "execution_count": 68,
     "metadata": {},
     "output_type": "execute_result"
    }
   ],
   "source": [
    "df[\"위도\"].describe()"
   ]
  },
  {
   "cell_type": "code",
   "execution_count": 70,
   "metadata": {
    "ExecuteTime": {
     "end_time": "2020-12-02T15:30:31.103725Z",
     "start_time": "2020-12-02T15:30:31.068692Z"
    }
   },
   "outputs": [
    {
     "data": {
      "text/html": [
       "<div>\n",
       "<style scoped>\n",
       "    .dataframe tbody tr th:only-of-type {\n",
       "        vertical-align: middle;\n",
       "    }\n",
       "\n",
       "    .dataframe tbody tr th {\n",
       "        vertical-align: top;\n",
       "    }\n",
       "\n",
       "    .dataframe thead th {\n",
       "        text-align: right;\n",
       "    }\n",
       "</style>\n",
       "<table border=\"1\" class=\"dataframe\">\n",
       "  <thead>\n",
       "    <tr style=\"text-align: right;\">\n",
       "      <th></th>\n",
       "      <th>위도</th>\n",
       "      <th>경도</th>\n",
       "    </tr>\n",
       "  </thead>\n",
       "  <tbody>\n",
       "    <tr>\n",
       "      <th>count</th>\n",
       "      <td>91335.000000</td>\n",
       "      <td>91335.000000</td>\n",
       "    </tr>\n",
       "    <tr>\n",
       "      <th>mean</th>\n",
       "      <td>36.624711</td>\n",
       "      <td>127.487524</td>\n",
       "    </tr>\n",
       "    <tr>\n",
       "      <th>std</th>\n",
       "      <td>1.041361</td>\n",
       "      <td>0.842877</td>\n",
       "    </tr>\n",
       "    <tr>\n",
       "      <th>min</th>\n",
       "      <td>33.219290</td>\n",
       "      <td>124.717632</td>\n",
       "    </tr>\n",
       "    <tr>\n",
       "      <th>25%</th>\n",
       "      <td>35.811830</td>\n",
       "      <td>126.914297</td>\n",
       "    </tr>\n",
       "    <tr>\n",
       "      <th>50%</th>\n",
       "      <td>37.234652</td>\n",
       "      <td>127.084550</td>\n",
       "    </tr>\n",
       "    <tr>\n",
       "      <th>75%</th>\n",
       "      <td>37.507463</td>\n",
       "      <td>128.108919</td>\n",
       "    </tr>\n",
       "    <tr>\n",
       "      <th>max</th>\n",
       "      <td>38.499659</td>\n",
       "      <td>130.909912</td>\n",
       "    </tr>\n",
       "  </tbody>\n",
       "</table>\n",
       "</div>"
      ],
      "text/plain": [
       "                 위도            경도\n",
       "count  91335.000000  91335.000000\n",
       "mean      36.624711    127.487524\n",
       "std        1.041361      0.842877\n",
       "min       33.219290    124.717632\n",
       "25%       35.811830    126.914297\n",
       "50%       37.234652    127.084550\n",
       "75%       37.507463    128.108919\n",
       "max       38.499659    130.909912"
      ]
     },
     "execution_count": 70,
     "metadata": {},
     "output_type": "execute_result"
    }
   ],
   "source": [
    "df[[\"위도\", \"경도\"]].describe()"
   ]
  },
  {
   "cell_type": "code",
   "execution_count": 73,
   "metadata": {
    "ExecuteTime": {
     "end_time": "2020-12-02T15:33:09.929315Z",
     "start_time": "2020-12-02T15:33:09.393056Z"
    }
   },
   "outputs": [
    {
     "data": {
      "text/html": [
       "<div>\n",
       "<style scoped>\n",
       "    .dataframe tbody tr th:only-of-type {\n",
       "        vertical-align: middle;\n",
       "    }\n",
       "\n",
       "    .dataframe tbody tr th {\n",
       "        vertical-align: top;\n",
       "    }\n",
       "\n",
       "    .dataframe thead th {\n",
       "        text-align: right;\n",
       "    }\n",
       "</style>\n",
       "<table border=\"1\" class=\"dataframe\">\n",
       "  <thead>\n",
       "    <tr style=\"text-align: right;\">\n",
       "      <th></th>\n",
       "      <th>상호명</th>\n",
       "      <th>상권업종대분류코드</th>\n",
       "      <th>상권업종대분류명</th>\n",
       "      <th>상권업종중분류코드</th>\n",
       "      <th>상권업종중분류명</th>\n",
       "      <th>상권업종소분류코드</th>\n",
       "      <th>상권업종소분류명</th>\n",
       "      <th>시도명</th>\n",
       "      <th>시군구명</th>\n",
       "      <th>행정동명</th>\n",
       "      <th>법정동명</th>\n",
       "      <th>대지구분명</th>\n",
       "      <th>지번주소</th>\n",
       "      <th>도로명</th>\n",
       "      <th>건물관리번호</th>\n",
       "      <th>도로명주소</th>\n",
       "    </tr>\n",
       "  </thead>\n",
       "  <tbody>\n",
       "    <tr>\n",
       "      <th>count</th>\n",
       "      <td>91335</td>\n",
       "      <td>91335</td>\n",
       "      <td>91335</td>\n",
       "      <td>91335</td>\n",
       "      <td>91335</td>\n",
       "      <td>91335</td>\n",
       "      <td>91335</td>\n",
       "      <td>90956</td>\n",
       "      <td>90956</td>\n",
       "      <td>90956</td>\n",
       "      <td>91280</td>\n",
       "      <td>91335</td>\n",
       "      <td>91335</td>\n",
       "      <td>91335</td>\n",
       "      <td>91335</td>\n",
       "      <td>91335</td>\n",
       "    </tr>\n",
       "    <tr>\n",
       "      <th>unique</th>\n",
       "      <td>56910</td>\n",
       "      <td>1</td>\n",
       "      <td>1</td>\n",
       "      <td>5</td>\n",
       "      <td>5</td>\n",
       "      <td>34</td>\n",
       "      <td>34</td>\n",
       "      <td>17</td>\n",
       "      <td>228</td>\n",
       "      <td>2791</td>\n",
       "      <td>2822</td>\n",
       "      <td>2</td>\n",
       "      <td>53118</td>\n",
       "      <td>16610</td>\n",
       "      <td>54142</td>\n",
       "      <td>54031</td>\n",
       "    </tr>\n",
       "    <tr>\n",
       "      <th>top</th>\n",
       "      <td>리원</td>\n",
       "      <td>S</td>\n",
       "      <td>의료</td>\n",
       "      <td>S01</td>\n",
       "      <td>병원</td>\n",
       "      <td>S02A01</td>\n",
       "      <td>약국</td>\n",
       "      <td>경기도</td>\n",
       "      <td>서구</td>\n",
       "      <td>중앙동</td>\n",
       "      <td>중동</td>\n",
       "      <td>대지</td>\n",
       "      <td>서울특별시 동대문구 제기동 965-1</td>\n",
       "      <td>서울특별시 강남구 강남대로</td>\n",
       "      <td>1123010300109650001031604</td>\n",
       "      <td>서울특별시 동대문구 약령중앙로8길 10</td>\n",
       "    </tr>\n",
       "    <tr>\n",
       "      <th>freq</th>\n",
       "      <td>152</td>\n",
       "      <td>91335</td>\n",
       "      <td>91335</td>\n",
       "      <td>60774</td>\n",
       "      <td>60774</td>\n",
       "      <td>18964</td>\n",
       "      <td>18964</td>\n",
       "      <td>21374</td>\n",
       "      <td>3165</td>\n",
       "      <td>1856</td>\n",
       "      <td>874</td>\n",
       "      <td>91213</td>\n",
       "      <td>198</td>\n",
       "      <td>326</td>\n",
       "      <td>198</td>\n",
       "      <td>198</td>\n",
       "    </tr>\n",
       "  </tbody>\n",
       "</table>\n",
       "</div>"
      ],
      "text/plain": [
       "          상호명 상권업종대분류코드 상권업종대분류명 상권업종중분류코드 상권업종중분류명 상권업종소분류코드 상권업종소분류명    시도명  \\\n",
       "count   91335     91335    91335     91335    91335     91335    91335  90956   \n",
       "unique  56910         1        1         5        5        34       34     17   \n",
       "top        리원         S       의료       S01       병원    S02A01       약국    경기도   \n",
       "freq      152     91335    91335     60774    60774     18964    18964  21374   \n",
       "\n",
       "         시군구명   행정동명   법정동명  대지구분명                  지번주소             도로명  \\\n",
       "count   90956  90956  91280  91335                 91335           91335   \n",
       "unique    228   2791   2822      2                 53118           16610   \n",
       "top        서구    중앙동     중동     대지  서울특별시 동대문구 제기동 965-1  서울특별시 강남구 강남대로   \n",
       "freq     3165   1856    874  91213                   198             326   \n",
       "\n",
       "                           건물관리번호                  도로명주소  \n",
       "count                       91335                  91335  \n",
       "unique                      54142                  54031  \n",
       "top     1123010300109650001031604  서울특별시 동대문구 약령중앙로8길 10  \n",
       "freq                          198                    198  "
      ]
     },
     "execution_count": 73,
     "metadata": {},
     "output_type": "execute_result"
    }
   ],
   "source": [
    "df.describe(include=\"object\")"
   ]
  },
  {
   "cell_type": "markdown",
   "metadata": {},
   "source": [
    "### 중복제거한 값 보기"
   ]
  },
  {
   "cell_type": "code",
   "execution_count": 75,
   "metadata": {
    "ExecuteTime": {
     "end_time": "2020-12-02T15:40:12.608865Z",
     "start_time": "2020-12-02T15:40:12.597864Z"
    }
   },
   "outputs": [
    {
     "data": {
      "text/plain": [
       "array(['의료'], dtype=object)"
      ]
     },
     "execution_count": 75,
     "metadata": {},
     "output_type": "execute_result"
    }
   ],
   "source": [
    "df[\"상권업종대분류명\"].unique()"
   ]
  },
  {
   "cell_type": "code",
   "execution_count": 77,
   "metadata": {
    "ExecuteTime": {
     "end_time": "2020-12-02T15:40:19.194358Z",
     "start_time": "2020-12-02T15:40:19.183842Z"
    }
   },
   "outputs": [
    {
     "data": {
      "text/plain": [
       "1"
      ]
     },
     "execution_count": 77,
     "metadata": {},
     "output_type": "execute_result"
    }
   ],
   "source": [
    "df[\"상권업종대분류명\"].nunique()"
   ]
  },
  {
   "cell_type": "code",
   "execution_count": 79,
   "metadata": {
    "ExecuteTime": {
     "end_time": "2020-12-02T15:40:50.744838Z",
     "start_time": "2020-12-02T15:40:50.733328Z"
    }
   },
   "outputs": [
    {
     "data": {
      "text/plain": [
       "array(['병원', '약국/한약방', '수의업', '유사의료업', '의료관련서비스업'], dtype=object)"
      ]
     },
     "execution_count": 79,
     "metadata": {},
     "output_type": "execute_result"
    }
   ],
   "source": [
    "df[\"상권업종중분류명\"].unique()"
   ]
  },
  {
   "cell_type": "code",
   "execution_count": 80,
   "metadata": {
    "ExecuteTime": {
     "end_time": "2020-12-02T15:41:19.330884Z",
     "start_time": "2020-12-02T15:41:19.318369Z"
    }
   },
   "outputs": [
    {
     "data": {
      "text/plain": [
       "5"
      ]
     },
     "execution_count": 80,
     "metadata": {},
     "output_type": "execute_result"
    }
   ],
   "source": [
    "df[\"상권업종중분류명\"].nunique()"
   ]
  },
  {
   "cell_type": "code",
   "execution_count": 82,
   "metadata": {
    "ExecuteTime": {
     "end_time": "2020-12-02T15:42:30.879256Z",
     "start_time": "2020-12-02T15:42:30.867745Z"
    }
   },
   "outputs": [
    {
     "data": {
      "text/plain": [
       "array(['산부인과', '내과/외과', '신경외과', '기타병원', '약국', '동물병원', '한약방', '탕제원',\n",
       "       '정형/성형외과', '소아과', '이비인후과의원', '노인/치매병원', '언어치료', '수의업-종합', '한의원',\n",
       "       '치과의원', '침구원', '일반병원', '안과의원', '조산원', '한방병원', '종합병원', '유사의료업기타',\n",
       "       '응급구조대', '혈액원', '치과병원', '척추교정치료', '피부과', '비뇨기과', '치과기공소', '산후조리원',\n",
       "       '접골원', '수의업-기타', '제대혈'], dtype=object)"
      ]
     },
     "execution_count": 82,
     "metadata": {},
     "output_type": "execute_result"
    }
   ],
   "source": [
    "df[\"상권업종소분류명\"].unique()"
   ]
  },
  {
   "cell_type": "code",
   "execution_count": 83,
   "metadata": {
    "ExecuteTime": {
     "end_time": "2020-12-02T15:42:37.135154Z",
     "start_time": "2020-12-02T15:42:37.122169Z"
    }
   },
   "outputs": [
    {
     "data": {
      "text/plain": [
       "34"
      ]
     },
     "execution_count": 83,
     "metadata": {},
     "output_type": "execute_result"
    }
   ],
   "source": [
    "df[\"상권업종소분류명\"].nunique()"
   ]
  },
  {
   "cell_type": "markdown",
   "metadata": {},
   "source": [
    "### 그룹화된 요약값 보기"
   ]
  },
  {
   "cell_type": "code",
   "execution_count": 87,
   "metadata": {
    "ExecuteTime": {
     "end_time": "2020-12-02T15:45:39.336463Z",
     "start_time": "2020-12-02T15:45:39.320192Z"
    }
   },
   "outputs": [],
   "source": [
    "city = df[\"시도명\"].value_counts()"
   ]
  },
  {
   "cell_type": "code",
   "execution_count": 88,
   "metadata": {
    "ExecuteTime": {
     "end_time": "2020-12-02T15:45:57.174888Z",
     "start_time": "2020-12-02T15:45:57.153861Z"
    }
   },
   "outputs": [
    {
     "data": {
      "text/plain": [
       "경기도        0.234993\n",
       "서울특별시      0.208266\n",
       "부산광역시      0.071166\n",
       "경상남도       0.054675\n",
       "인천광역시      0.051915\n",
       "대구광역시      0.050541\n",
       "경상북도       0.045528\n",
       "전라북도       0.042812\n",
       "충청남도       0.039338\n",
       "전라남도       0.035446\n",
       "광주광역시      0.035336\n",
       "대전광역시      0.033720\n",
       "충청북도       0.029432\n",
       "강원도        0.028959\n",
       "울산광역시      0.021956\n",
       "제주특별자치도    0.012039\n",
       "세종특별자치시    0.003881\n",
       "Name: 시도명, dtype: float64"
      ]
     },
     "execution_count": 88,
     "metadata": {},
     "output_type": "execute_result"
    }
   ],
   "source": [
    "city_normalize = df[\"시도명\"].value_counts(normalize=True) # 전체에서 각각이 얼마의 비중을 차지하고 있는지 비율\n",
    "city_normalize"
   ]
  },
  {
   "cell_type": "code",
   "execution_count": 97,
   "metadata": {
    "ExecuteTime": {
     "end_time": "2020-12-02T15:47:57.390998Z",
     "start_time": "2020-12-02T15:47:56.921391Z"
    }
   },
   "outputs": [
    {
     "data": {
      "text/plain": [
       "<matplotlib.axes._subplots.AxesSubplot at 0x1d46837b708>"
      ]
     },
     "execution_count": 97,
     "metadata": {},
     "output_type": "execute_result"
    },
    {
     "data": {
      "image/png": "[encoded data removed]",
      "text/plain": [
       "<Figure size 720x360 with 1 Axes>"
      ]
     },
     "metadata": {
      "image/png": {
       "height": 303,
       "width": 649
      },
      "needs_background": "light"
     },
     "output_type": "display_data"
    }
   ],
   "source": [
    "city.plot.barh(figsize=(10,5))"
   ]
  },
  {
   "cell_type": "code",
   "execution_count": 96,
   "metadata": {
    "ExecuteTime": {
     "end_time": "2020-12-02T15:47:32.456208Z",
     "start_time": "2020-12-02T15:47:32.182178Z"
    }
   },
   "outputs": [
    {
     "data": {
      "text/plain": [
       "<matplotlib.axes._subplots.AxesSubplot at 0x1d4678b1948>"
      ]
     },
     "execution_count": 96,
     "metadata": {},
     "output_type": "execute_result"
    },
    {
     "data": {
      "image/png": "[encoded data removed]",
      "text/plain": [
       "<Figure size 504x504 with 1 Axes>"
      ]
     },
     "metadata": {
      "image/png": {
       "height": 394,
       "width": 467
      }
     },
     "output_type": "display_data"
    }
   ],
   "source": [
    "city.plot.pie(figsize=(7,7))"
   ]
  },
  {
   "cell_type": "code",
   "execution_count": 105,
   "metadata": {
    "ExecuteTime": {
     "end_time": "2020-12-02T15:51:51.028028Z",
     "start_time": "2020-12-02T15:51:50.700984Z"
    }
   },
   "outputs": [
    {
     "data": {
      "image/png": "[encoded data removed]",
      "text/plain": [
       "<Figure size 432x288 with 1 Axes>"
      ]
     },
     "metadata": {
      "image/png": {
       "height": 263,
       "width": 440
      },
      "needs_background": "light"
     },
     "output_type": "display_data"
    }
   ],
   "source": [
    "x = sns.countplot(data=df, y=\"시도명\")"
   ]
  },
  {
   "cell_type": "code",
   "execution_count": 108,
   "metadata": {
    "ExecuteTime": {
     "end_time": "2020-12-02T15:52:38.389067Z",
     "start_time": "2020-12-02T15:52:38.371066Z"
    }
   },
   "outputs": [
    {
     "data": {
      "text/plain": [
       "의료    91335\n",
       "Name: 상권업종대분류명, dtype: int64"
      ]
     },
     "execution_count": 108,
     "metadata": {},
     "output_type": "execute_result"
    }
   ],
   "source": [
    "df[\"상권업종대분류명\"].value_counts()"
   ]
  },
  {
   "cell_type": "code",
   "execution_count": 113,
   "metadata": {
    "ExecuteTime": {
     "end_time": "2020-12-02T15:54:12.327986Z",
     "start_time": "2020-12-02T15:54:12.309982Z"
    }
   },
   "outputs": [
    {
     "data": {
      "text/plain": [
       "병원          60774\n",
       "약국/한약방      20923\n",
       "수의업          5323\n",
       "유사의료업        3774\n",
       "의료관련서비스업      541\n",
       "Name: 상권업종중분류명, dtype: int64"
      ]
     },
     "execution_count": 113,
     "metadata": {},
     "output_type": "execute_result"
    }
   ],
   "source": [
    "c = df[\"상권업종중분류명\"].value_counts()\n",
    "c"
   ]
  },
  {
   "cell_type": "code",
   "execution_count": 112,
   "metadata": {
    "ExecuteTime": {
     "end_time": "2020-12-02T15:54:01.418319Z",
     "start_time": "2020-12-02T15:54:01.395316Z"
    }
   },
   "outputs": [
    {
     "data": {
      "text/plain": [
       "병원          0.665397\n",
       "약국/한약방      0.229080\n",
       "수의업         0.058280\n",
       "유사의료업       0.041320\n",
       "의료관련서비스업    0.005923\n",
       "Name: 상권업종중분류명, dtype: float64"
      ]
     },
     "execution_count": 112,
     "metadata": {},
     "output_type": "execute_result"
    }
   ],
   "source": [
    "n = df[\"상권업종중분류명\"].value_counts(normalize=True)\n",
    "n"
   ]
  },
  {
   "cell_type": "code",
   "execution_count": 117,
   "metadata": {
    "ExecuteTime": {
     "end_time": "2020-12-02T15:54:44.059019Z",
     "start_time": "2020-12-02T15:54:43.822983Z"
    }
   },
   "outputs": [
    {
     "data": {
      "text/plain": [
       "<matplotlib.axes._subplots.AxesSubplot at 0x1d46a05be08>"
      ]
     },
     "execution_count": 117,
     "metadata": {},
     "output_type": "execute_result"
    },
    {
     "data": {
      "image/png": "[encoded data removed]",
      "text/plain": [
       "<Figure size 432x288 with 1 Axes>"
      ]
     },
     "metadata": {
      "image/png": {
       "height": 249,
       "width": 390
      },
      "needs_background": "light"
     },
     "output_type": "display_data"
    }
   ],
   "source": [
    "c.plot.bar(rot=0)"
   ]
  },
  {
   "cell_type": "code",
   "execution_count": 121,
   "metadata": {
    "ExecuteTime": {
     "end_time": "2020-12-02T15:55:24.808995Z",
     "start_time": "2020-12-02T15:55:24.647470Z"
    }
   },
   "outputs": [
    {
     "data": {
      "text/plain": [
       "<matplotlib.axes._subplots.AxesSubplot at 0x1d46a524cc8>"
      ]
     },
     "execution_count": 121,
     "metadata": {},
     "output_type": "execute_result"
    },
    {
     "data": {
      "image/png": "[encoded data removed]",
      "text/plain": [
       "<Figure size 432x288 with 1 Axes>"
      ]
     },
     "metadata": {
      "image/png": {
       "height": 231,
       "width": 313
      }
     },
     "output_type": "display_data"
    }
   ],
   "source": [
    "n.plot.pie()"
   ]
  },
  {
   "cell_type": "code",
   "execution_count": 123,
   "metadata": {
    "ExecuteTime": {
     "end_time": "2020-12-02T15:56:16.032686Z",
     "start_time": "2020-12-02T15:56:16.017683Z"
    },
    "scrolled": true
   },
   "outputs": [],
   "source": [
    "c = df[\"상권업종소분류명\"].value_counts()"
   ]
  },
  {
   "cell_type": "code",
   "execution_count": 128,
   "metadata": {
    "ExecuteTime": {
     "end_time": "2020-12-02T15:57:20.844306Z",
     "start_time": "2020-12-02T15:57:20.287735Z"
    }
   },
   "outputs": [
    {
     "data": {
      "text/plain": [
       "<matplotlib.axes._subplots.AxesSubplot at 0x1d46ad72708>"
      ]
     },
     "execution_count": 128,
     "metadata": {},
     "output_type": "execute_result"
    },
    {
     "data": {
      "image/png": "[encoded data removed]",
      "text/plain": [
       "<Figure size 720x576 with 1 Axes>"
      ]
     },
     "metadata": {
      "image/png": {
       "height": 466,
       "width": 649
      },
      "needs_background": "light"
     },
     "output_type": "display_data"
    }
   ],
   "source": [
    "c.plot.barh(figsize=(10,8), grid=True)"
   ]
  },
  {
   "cell_type": "markdown",
   "metadata": {},
   "source": [
    "## 데이터 색인하기\n",
    "- 특정 데이터만 모아서 따로 확인"
   ]
  },
  {
   "cell_type": "code",
   "execution_count": 133,
   "metadata": {
    "ExecuteTime": {
     "end_time": "2020-12-03T06:06:51.694865Z",
     "start_time": "2020-12-03T06:06:51.615851Z"
    },
    "scrolled": true
   },
   "outputs": [
    {
     "data": {
      "text/html": [
       "<div>\n",
       "<style scoped>\n",
       "    .dataframe tbody tr th:only-of-type {\n",
       "        vertical-align: middle;\n",
       "    }\n",
       "\n",
       "    .dataframe tbody tr th {\n",
       "        vertical-align: top;\n",
       "    }\n",
       "\n",
       "    .dataframe thead th {\n",
       "        text-align: right;\n",
       "    }\n",
       "</style>\n",
       "<table border=\"1\" class=\"dataframe\">\n",
       "  <thead>\n",
       "    <tr style=\"text-align: right;\">\n",
       "      <th></th>\n",
       "      <th>상가업소번호</th>\n",
       "      <th>상호명</th>\n",
       "      <th>상권업종대분류코드</th>\n",
       "      <th>상권업종대분류명</th>\n",
       "      <th>상권업종중분류코드</th>\n",
       "      <th>상권업종중분류명</th>\n",
       "      <th>상권업종소분류코드</th>\n",
       "      <th>상권업종소분류명</th>\n",
       "      <th>시도명</th>\n",
       "      <th>시군구코드</th>\n",
       "      <th>...</th>\n",
       "      <th>지번주소</th>\n",
       "      <th>도로명코드</th>\n",
       "      <th>도로명</th>\n",
       "      <th>건물본번지</th>\n",
       "      <th>건물관리번호</th>\n",
       "      <th>도로명주소</th>\n",
       "      <th>구우편번호</th>\n",
       "      <th>신우편번호</th>\n",
       "      <th>경도</th>\n",
       "      <th>위도</th>\n",
       "    </tr>\n",
       "  </thead>\n",
       "  <tbody>\n",
       "    <tr>\n",
       "      <th>4</th>\n",
       "      <td>20364049</td>\n",
       "      <td>더블유스토어수지점</td>\n",
       "      <td>S</td>\n",
       "      <td>의료</td>\n",
       "      <td>S02</td>\n",
       "      <td>약국/한약방</td>\n",
       "      <td>S02A01</td>\n",
       "      <td>약국</td>\n",
       "      <td>경기도</td>\n",
       "      <td>41465.0</td>\n",
       "      <td>...</td>\n",
       "      <td>경기도 용인시 수지구 풍덕천동 712-2</td>\n",
       "      <td>414653205024</td>\n",
       "      <td>경기도 용인시 수지구 문정로</td>\n",
       "      <td>32</td>\n",
       "      <td>4146510100107120002026238</td>\n",
       "      <td>경기도 용인시 수지구 문정로 32</td>\n",
       "      <td>448170.0</td>\n",
       "      <td>16837.0</td>\n",
       "      <td>127.095522</td>\n",
       "      <td>37.323528</td>\n",
       "    </tr>\n",
       "    <tr>\n",
       "      <th>6</th>\n",
       "      <td>20733252</td>\n",
       "      <td>춘산한약방</td>\n",
       "      <td>S</td>\n",
       "      <td>의료</td>\n",
       "      <td>S02</td>\n",
       "      <td>약국/한약방</td>\n",
       "      <td>S02A02</td>\n",
       "      <td>한약방</td>\n",
       "      <td>강원도</td>\n",
       "      <td>42110.0</td>\n",
       "      <td>...</td>\n",
       "      <td>강원도 춘천시 중앙로2가 99</td>\n",
       "      <td>421104454113</td>\n",
       "      <td>강원도 춘천시 낙원길</td>\n",
       "      <td>50</td>\n",
       "      <td>4211010500101000000023668</td>\n",
       "      <td>강원도 춘천시 낙원길 50</td>\n",
       "      <td>200042.0</td>\n",
       "      <td>24273.0</td>\n",
       "      <td>127.726905</td>\n",
       "      <td>37.880504</td>\n",
       "    </tr>\n",
       "  </tbody>\n",
       "</table>\n",
       "<p>2 rows × 29 columns</p>\n",
       "</div>"
      ],
      "text/plain": [
       "     상가업소번호        상호명 상권업종대분류코드 상권업종대분류명 상권업종중분류코드 상권업종중분류명 상권업종소분류코드  \\\n",
       "4  20364049  더블유스토어수지점         S       의료       S02   약국/한약방    S02A01   \n",
       "6  20733252      춘산한약방         S       의료       S02   약국/한약방    S02A02   \n",
       "\n",
       "  상권업종소분류명  시도명    시군구코드  ...                    지번주소         도로명코드  \\\n",
       "4       약국  경기도  41465.0  ...  경기도 용인시 수지구 풍덕천동 712-2  414653205024   \n",
       "6      한약방  강원도  42110.0  ...        강원도 춘천시 중앙로2가 99  421104454113   \n",
       "\n",
       "               도로명  건물본번지                     건물관리번호               도로명주소  \\\n",
       "4  경기도 용인시 수지구 문정로     32  4146510100107120002026238  경기도 용인시 수지구 문정로 32   \n",
       "6      강원도 춘천시 낙원길     50  4211010500101000000023668      강원도 춘천시 낙원길 50   \n",
       "\n",
       "      구우편번호    신우편번호          경도         위도  \n",
       "4  448170.0  16837.0  127.095522  37.323528  \n",
       "6  200042.0  24273.0  127.726905  37.880504  \n",
       "\n",
       "[2 rows x 29 columns]"
      ]
     },
     "execution_count": 133,
     "metadata": {},
     "output_type": "execute_result"
    }
   ],
   "source": [
    "# 약국/한약방 데이터만 가져오기\n",
    "df_medical = df[df[\"상권업종중분류명\"] == \"약국/한약방\"].copy()\n",
    "df_medical.head(2)"
   ]
  },
  {
   "cell_type": "code",
   "execution_count": 142,
   "metadata": {
    "ExecuteTime": {
     "end_time": "2020-12-03T06:10:14.431064Z",
     "start_time": "2020-12-03T06:10:14.400060Z"
    }
   },
   "outputs": [
    {
     "data": {
      "text/plain": [
       "병원          60774\n",
       "약국/한약방      20923\n",
       "수의업          5323\n",
       "유사의료업        3774\n",
       "의료관련서비스업      541\n",
       "Name: 상권업종중분류명, dtype: int64"
      ]
     },
     "execution_count": 142,
     "metadata": {},
     "output_type": "execute_result"
    }
   ],
   "source": [
    "m = df[\"상권업종대분류명\"] == \"의료\"\n",
    "df.loc[m, \"상권업종중분류명\"].value_counts()"
   ]
  },
  {
   "cell_type": "code",
   "execution_count": 156,
   "metadata": {
    "ExecuteTime": {
     "end_time": "2020-12-03T06:13:29.221240Z",
     "start_time": "2020-12-03T06:13:29.207240Z"
    }
   },
   "outputs": [],
   "source": [
    "df_medi = df[df[\"상권업종중분류명\"] == \"유사의료업\"]"
   ]
  },
  {
   "cell_type": "code",
   "execution_count": 154,
   "metadata": {
    "ExecuteTime": {
     "end_time": "2020-12-03T06:13:17.913582Z",
     "start_time": "2020-12-03T06:13:17.830556Z"
    }
   },
   "outputs": [
    {
     "data": {
      "text/plain": [
       "리원       152\n",
       "온누리약국    149\n",
       "경희한의원    141\n",
       "우리약국     119\n",
       "중앙약국     111\n",
       "전자담배      98\n",
       "조은약국      95\n",
       "건강약국      87\n",
       "제일약국      79\n",
       "사랑약국      73\n",
       "Name: 상호명, dtype: int64"
      ]
     },
     "execution_count": 154,
     "metadata": {},
     "output_type": "execute_result"
    }
   ],
   "source": [
    "df[\"상호명\"].value_counts().head(10)"
   ]
  },
  {
   "cell_type": "code",
   "execution_count": 160,
   "metadata": {
    "ExecuteTime": {
     "end_time": "2020-12-03T06:14:13.374681Z",
     "start_time": "2020-12-03T06:14:13.362680Z"
    }
   },
   "outputs": [
    {
     "data": {
      "text/plain": [
       "리원          32\n",
       "고려수지침       22\n",
       "대한적십자사      17\n",
       "헌혈의집        12\n",
       "수치과기공소      10\n",
       "고려수지침학회     10\n",
       "제일치과기공소      9\n",
       "어울림치과기공소     8\n",
       "미소치과기공소      8\n",
       "이사랑치과기공소     8\n",
       "Name: 상호명, dtype: int64"
      ]
     },
     "execution_count": 160,
     "metadata": {},
     "output_type": "execute_result"
    }
   ],
   "source": [
    "df_medi[\"상호명\"].value_counts().head(10)"
   ]
  },
  {
   "cell_type": "markdown",
   "metadata": {},
   "source": [
    "### 여러 조건으로 색인하기"
   ]
  },
  {
   "cell_type": "code",
   "execution_count": 172,
   "metadata": {
    "ExecuteTime": {
     "end_time": "2020-12-03T06:18:26.162729Z",
     "start_time": "2020-12-03T06:18:26.136215Z"
    }
   },
   "outputs": [
    {
     "data": {
      "text/plain": [
       "(3579, 29)"
      ]
     },
     "execution_count": 172,
     "metadata": {},
     "output_type": "execute_result"
    }
   ],
   "source": [
    "# 서울특별시에 있는 상권업종소분류명이 약국인 것만 가져오기\n",
    "df_seoul_drug = df[(df[\"상권업종소분류명\"] == \"약국\") & (df[\"시도명\"] == \"서울특별시\")]\n",
    "df_seoul_drug.shape"
   ]
  },
  {
   "cell_type": "markdown",
   "metadata": {},
   "source": [
    "### 구별로 보기"
   ]
  },
  {
   "cell_type": "code",
   "execution_count": 176,
   "metadata": {
    "ExecuteTime": {
     "end_time": "2020-12-03T06:23:28.256130Z",
     "start_time": "2020-12-03T06:23:28.245140Z"
    }
   },
   "outputs": [
    {
     "data": {
      "text/plain": [
       "강남구     374\n",
       "동대문구    261\n",
       "광진구     212\n",
       "서초구     191\n",
       "송파구     188\n",
       "Name: 시군구명, dtype: int64"
      ]
     },
     "execution_count": 176,
     "metadata": {},
     "output_type": "execute_result"
    }
   ],
   "source": [
    "c = df_seoul_drug[\"시군구명\"].value_counts()\n",
    "c.head()"
   ]
  },
  {
   "cell_type": "code",
   "execution_count": 179,
   "metadata": {
    "ExecuteTime": {
     "end_time": "2020-12-03T06:24:03.045533Z",
     "start_time": "2020-12-03T06:24:02.985054Z"
    }
   },
   "outputs": [
    {
     "data": {
      "text/plain": [
       "강남구     0.104498\n",
       "동대문구    0.072925\n",
       "광진구     0.059234\n",
       "서초구     0.053367\n",
       "송파구     0.052529\n",
       "Name: 시군구명, dtype: float64"
      ]
     },
     "execution_count": 179,
     "metadata": {},
     "output_type": "execute_result"
    }
   ],
   "source": [
    "n = df_seoul_drug[\"시군구명\"].value_counts(normalize=True)\n",
    "n.head()"
   ]
  },
  {
   "cell_type": "code",
   "execution_count": 183,
   "metadata": {
    "ExecuteTime": {
     "end_time": "2020-12-03T06:24:39.863780Z",
     "start_time": "2020-12-03T06:24:39.264308Z"
    }
   },
   "outputs": [
    {
     "data": {
      "text/plain": [
       "<matplotlib.axes._subplots.AxesSubplot at 0x1d46ce0bfc8>"
      ]
     },
     "execution_count": 183,
     "metadata": {},
     "output_type": "execute_result"
    },
    {
     "data": {
      "image/png": "[encoded data removed]",
      "text/plain": [
       "<Figure size 504x576 with 1 Axes>"
      ]
     },
     "metadata": {
      "image/png": {
       "height": 466,
       "width": 452
      },
      "needs_background": "light"
     },
     "output_type": "display_data"
    }
   ],
   "source": [
    "c.plot.barh(figsize=(7,8))"
   ]
  },
  {
   "cell_type": "code",
   "execution_count": 188,
   "metadata": {
    "ExecuteTime": {
     "end_time": "2020-12-03T06:27:26.308725Z",
     "start_time": "2020-12-03T06:27:26.285185Z"
    }
   },
   "outputs": [],
   "source": [
    "df_seoul_hospital = df[(df[\"상권업종소분류명\"] == \"종합병원\") & (df[\"시도명\"] == \"서울특별시\")].copy()"
   ]
  },
  {
   "cell_type": "code",
   "execution_count": 194,
   "metadata": {
    "ExecuteTime": {
     "end_time": "2020-12-03T06:28:33.308991Z",
     "start_time": "2020-12-03T06:28:33.301993Z"
    }
   },
   "outputs": [
    {
     "data": {
      "text/plain": [
       "강남구     15\n",
       "영등포구     8\n",
       "서초구      6\n",
       "광진구      6\n",
       "송파구      5\n",
       "강동구      5\n",
       "중구       5\n",
       "서대문구     4\n",
       "강북구      4\n",
       "양천구      4\n",
       "도봉구      4\n",
       "성북구      3\n",
       "금천구      2\n",
       "노원구      2\n",
       "강서구      2\n",
       "동대문구     2\n",
       "성동구      2\n",
       "중랑구      2\n",
       "구로구      2\n",
       "관악구      2\n",
       "종로구      2\n",
       "용산구      1\n",
       "동작구      1\n",
       "은평구      1\n",
       "마포구      1\n",
       "Name: 시군구명, dtype: int64"
      ]
     },
     "execution_count": 194,
     "metadata": {},
     "output_type": "execute_result"
    }
   ],
   "source": [
    "df_seoul_hospital[\"시군구명\"].value_counts()"
   ]
  },
  {
   "cell_type": "markdown",
   "metadata": {},
   "source": [
    "### 텍스트데이터 색인하기"
   ]
  },
  {
   "cell_type": "code",
   "execution_count": 201,
   "metadata": {
    "ExecuteTime": {
     "end_time": "2020-12-03T06:31:26.075834Z",
     "start_time": "2020-12-03T06:31:25.999571Z"
    }
   },
   "outputs": [
    {
     "data": {
      "text/plain": [
       "array(['대진의료재단', '홍익병원별관', 'SNUH', '평화드림여의도성모병원의료기매장', '한양', '백산의료재단친구병원',\n",
       "       '서울보훈병원', '서울성모병원장례식장꽃배달', '서울대학교병원', '알콜중독및정신질환상담소',\n",
       "       '강남성모병원장례식장꽃배달', '제일병원', '이랜드클리닉', '사랑나눔의료재단', '우울증센터', '성심의료재단',\n",
       "       '다나의료재단', '서울아산병원신관', '원자력병원장례식장', '국민의원', '고려대학교구로병원', '학교법인일송학원',\n",
       "       '삼성의료원장례식장', '희명스포츠의학센터인공신장실', '연세대학교의과대학강남세브란스', '국립정신병원',\n",
       "       '코아클리닉', '수서제일의원', '사랑의의원', '한국전력공사부속한일병원', '신촌연세병원', '창동제일의원',\n",
       "       '영동세브란스병원', '제일성심의원', '삼성의료재단강북삼성태', '서울시립보라매병원', '서울이의원',\n",
       "       '서울대학교병원비상계획외래', '평화드림서울성모병원의료', '홍익병원', '사랑나눔의료재단서', '독일의원',\n",
       "       '서울연합의원', '우신향병원', '동부제일병원', '아산재단금강병원', '명곡안연구소', '아산재단서울중앙병원',\n",
       "       '메디힐특수여객', '삼성생명공익재단삼성서', '성광의료재단차병원', '한국건강관리협회서울특',\n",
       "       '정해복지부설한신메디피아', '성베드로병원', '성애의료재단', '실로암의원', 'Y&T성모마취과', '광진성모의원',\n",
       "       '서울현대의원', '이노신경과의원', '송정훼밀리의원', '서울중앙의원', '영남의료재단', '인제대학교서울백병원',\n",
       "       '한국필의료재단', '세브란스의원', '가톨릭대학교성바오로병원장례식장', '서울연세의원', '사랑의병원',\n",
       "       '성삼의료재단미즈메디병원', '씨엠충무병원', '성신의원', '원진재단부설녹색병원', '송파제일의원',\n",
       "       '카톨릭성모의원', '한양성심의원', '관악성모의원', '강남센트럴병원', '우이한솔의원', '우리들병원',\n",
       "       '서울성모병원어린이집', '건국대학교병원', '서울적십자병원', '북부성모의원', '한림대학교부속한강성심병원장례식장',\n",
       "       '서울성모병원응급의료센터', '라마르의원', '가톨릭대학교여의도성모병원', '씨엠병원'], dtype=object)"
      ]
     },
     "execution_count": 201,
     "metadata": {},
     "output_type": "execute_result"
    }
   ],
   "source": [
    "# 상호명이 '종합병원'이 아닌 데이터들의 '상호명' unique출력\n",
    "df_seoul_hospital.loc[~df_seoul_hospital[\"상호명\"].str.contains(\"종합병원\"), \"상호명\"].unique()"
   ]
  },
  {
   "cell_type": "code",
   "execution_count": 202,
   "metadata": {
    "ExecuteTime": {
     "end_time": "2020-12-03T06:32:38.079914Z",
     "start_time": "2020-12-03T06:32:38.041894Z"
    }
   },
   "outputs": [
    {
     "data": {
      "text/html": [
       "<div>\n",
       "<style scoped>\n",
       "    .dataframe tbody tr th:only-of-type {\n",
       "        vertical-align: middle;\n",
       "    }\n",
       "\n",
       "    .dataframe tbody tr th {\n",
       "        vertical-align: top;\n",
       "    }\n",
       "\n",
       "    .dataframe thead th {\n",
       "        text-align: right;\n",
       "    }\n",
       "</style>\n",
       "<table border=\"1\" class=\"dataframe\">\n",
       "  <thead>\n",
       "    <tr style=\"text-align: right;\">\n",
       "      <th></th>\n",
       "      <th>상가업소번호</th>\n",
       "      <th>상호명</th>\n",
       "      <th>상권업종대분류코드</th>\n",
       "      <th>상권업종대분류명</th>\n",
       "      <th>상권업종중분류코드</th>\n",
       "      <th>상권업종중분류명</th>\n",
       "      <th>상권업종소분류코드</th>\n",
       "      <th>상권업종소분류명</th>\n",
       "      <th>시도명</th>\n",
       "      <th>시군구코드</th>\n",
       "      <th>...</th>\n",
       "      <th>지번주소</th>\n",
       "      <th>도로명코드</th>\n",
       "      <th>도로명</th>\n",
       "      <th>건물본번지</th>\n",
       "      <th>건물관리번호</th>\n",
       "      <th>도로명주소</th>\n",
       "      <th>구우편번호</th>\n",
       "      <th>신우편번호</th>\n",
       "      <th>경도</th>\n",
       "      <th>위도</th>\n",
       "    </tr>\n",
       "  </thead>\n",
       "  <tbody>\n",
       "    <tr>\n",
       "      <th>2803</th>\n",
       "      <td>20895655</td>\n",
       "      <td>서울성모병원장례식장꽃배달</td>\n",
       "      <td>S</td>\n",
       "      <td>의료</td>\n",
       "      <td>S01</td>\n",
       "      <td>병원</td>\n",
       "      <td>S01B01</td>\n",
       "      <td>종합병원</td>\n",
       "      <td>서울특별시</td>\n",
       "      <td>11650.0</td>\n",
       "      <td>...</td>\n",
       "      <td>서울특별시 서초구 반포동 551</td>\n",
       "      <td>116504163330</td>\n",
       "      <td>서울특별시 서초구 사평대로28길</td>\n",
       "      <td>55</td>\n",
       "      <td>1165010700105510000017194</td>\n",
       "      <td>서울특별시 서초구 사평대로28길 55</td>\n",
       "      <td>137040.0</td>\n",
       "      <td>6578.0</td>\n",
       "      <td>127.000682</td>\n",
       "      <td>37.498257</td>\n",
       "    </tr>\n",
       "    <tr>\n",
       "      <th>4644</th>\n",
       "      <td>22020310</td>\n",
       "      <td>강남성모병원장례식장꽃배달</td>\n",
       "      <td>S</td>\n",
       "      <td>의료</td>\n",
       "      <td>S01</td>\n",
       "      <td>병원</td>\n",
       "      <td>S01B01</td>\n",
       "      <td>종합병원</td>\n",
       "      <td>서울특별시</td>\n",
       "      <td>11650.0</td>\n",
       "      <td>...</td>\n",
       "      <td>서울특별시 서초구 반포동 547-6</td>\n",
       "      <td>116504163242</td>\n",
       "      <td>서울특별시 서초구 반포대로39길</td>\n",
       "      <td>56</td>\n",
       "      <td>1165010700105470006016762</td>\n",
       "      <td>서울특별시 서초구 반포대로39길 56-24</td>\n",
       "      <td>137040.0</td>\n",
       "      <td>6578.0</td>\n",
       "      <td>127.001756</td>\n",
       "      <td>37.499095</td>\n",
       "    </tr>\n",
       "  </tbody>\n",
       "</table>\n",
       "<p>2 rows × 29 columns</p>\n",
       "</div>"
      ],
      "text/plain": [
       "        상가업소번호            상호명 상권업종대분류코드 상권업종대분류명 상권업종중분류코드 상권업종중분류명 상권업종소분류코드  \\\n",
       "2803  20895655  서울성모병원장례식장꽃배달         S       의료       S01       병원    S01B01   \n",
       "4644  22020310  강남성모병원장례식장꽃배달         S       의료       S01       병원    S01B01   \n",
       "\n",
       "     상권업종소분류명    시도명    시군구코드  ...                 지번주소         도로명코드  \\\n",
       "2803     종합병원  서울특별시  11650.0  ...    서울특별시 서초구 반포동 551  116504163330   \n",
       "4644     종합병원  서울특별시  11650.0  ...  서울특별시 서초구 반포동 547-6  116504163242   \n",
       "\n",
       "                    도로명  건물본번지                     건물관리번호  \\\n",
       "2803  서울특별시 서초구 사평대로28길     55  1165010700105510000017194   \n",
       "4644  서울특별시 서초구 반포대로39길     56  1165010700105470006016762   \n",
       "\n",
       "                        도로명주소     구우편번호   신우편번호          경도         위도  \n",
       "2803     서울특별시 서초구 사평대로28길 55  137040.0  6578.0  127.000682  37.498257  \n",
       "4644  서울특별시 서초구 반포대로39길 56-24  137040.0  6578.0  127.001756  37.499095  \n",
       "\n",
       "[2 rows x 29 columns]"
      ]
     },
     "execution_count": 202,
     "metadata": {},
     "output_type": "execute_result"
    }
   ],
   "source": [
    "df_seoul_hospital[df_seoul_hospital[\"상호명\"].str.contains(\"꽃배달\")]"
   ]
  },
  {
   "cell_type": "code",
   "execution_count": 204,
   "metadata": {
    "ExecuteTime": {
     "end_time": "2020-12-03T06:33:35.037742Z",
     "start_time": "2020-12-03T06:33:35.003744Z"
    }
   },
   "outputs": [
    {
     "data": {
      "text/html": [
       "<div>\n",
       "<style scoped>\n",
       "    .dataframe tbody tr th:only-of-type {\n",
       "        vertical-align: middle;\n",
       "    }\n",
       "\n",
       "    .dataframe tbody tr th {\n",
       "        vertical-align: top;\n",
       "    }\n",
       "\n",
       "    .dataframe thead th {\n",
       "        text-align: right;\n",
       "    }\n",
       "</style>\n",
       "<table border=\"1\" class=\"dataframe\">\n",
       "  <thead>\n",
       "    <tr style=\"text-align: right;\">\n",
       "      <th></th>\n",
       "      <th>상가업소번호</th>\n",
       "      <th>상호명</th>\n",
       "      <th>상권업종대분류코드</th>\n",
       "      <th>상권업종대분류명</th>\n",
       "      <th>상권업종중분류코드</th>\n",
       "      <th>상권업종중분류명</th>\n",
       "      <th>상권업종소분류코드</th>\n",
       "      <th>상권업종소분류명</th>\n",
       "      <th>시도명</th>\n",
       "      <th>시군구코드</th>\n",
       "      <th>...</th>\n",
       "      <th>지번주소</th>\n",
       "      <th>도로명코드</th>\n",
       "      <th>도로명</th>\n",
       "      <th>건물본번지</th>\n",
       "      <th>건물관리번호</th>\n",
       "      <th>도로명주소</th>\n",
       "      <th>구우편번호</th>\n",
       "      <th>신우편번호</th>\n",
       "      <th>경도</th>\n",
       "      <th>위도</th>\n",
       "    </tr>\n",
       "  </thead>\n",
       "  <tbody>\n",
       "    <tr>\n",
       "      <th>1917</th>\n",
       "      <td>23210677</td>\n",
       "      <td>평화드림여의도성모병원의료기매장</td>\n",
       "      <td>S</td>\n",
       "      <td>의료</td>\n",
       "      <td>S01</td>\n",
       "      <td>병원</td>\n",
       "      <td>S01B01</td>\n",
       "      <td>종합병원</td>\n",
       "      <td>서울특별시</td>\n",
       "      <td>11560.0</td>\n",
       "      <td>...</td>\n",
       "      <td>서울특별시 영등포구 여의도동 62</td>\n",
       "      <td>115603118001</td>\n",
       "      <td>서울특별시 영등포구 63로</td>\n",
       "      <td>10</td>\n",
       "      <td>1156011000100620000031477</td>\n",
       "      <td>서울특별시 영등포구 63로 10</td>\n",
       "      <td>150713.0</td>\n",
       "      <td>7345.0</td>\n",
       "      <td>126.936693</td>\n",
       "      <td>37.518296</td>\n",
       "    </tr>\n",
       "  </tbody>\n",
       "</table>\n",
       "<p>1 rows × 29 columns</p>\n",
       "</div>"
      ],
      "text/plain": [
       "        상가업소번호               상호명 상권업종대분류코드 상권업종대분류명 상권업종중분류코드 상권업종중분류명  \\\n",
       "1917  23210677  평화드림여의도성모병원의료기매장         S       의료       S01       병원   \n",
       "\n",
       "     상권업종소분류코드 상권업종소분류명    시도명    시군구코드  ...                지번주소  \\\n",
       "1917    S01B01     종합병원  서울특별시  11560.0  ...  서울특별시 영등포구 여의도동 62   \n",
       "\n",
       "             도로명코드             도로명  건물본번지                     건물관리번호  \\\n",
       "1917  115603118001  서울특별시 영등포구 63로     10  1156011000100620000031477   \n",
       "\n",
       "                  도로명주소     구우편번호   신우편번호          경도         위도  \n",
       "1917  서울특별시 영등포구 63로 10  150713.0  7345.0  126.936693  37.518296  \n",
       "\n",
       "[1 rows x 29 columns]"
      ]
     },
     "execution_count": 204,
     "metadata": {},
     "output_type": "execute_result"
    }
   ],
   "source": [
    "df_seoul_hospital[df_seoul_hospital[\"상호명\"].str.contains(\"의료기\")]"
   ]
  },
  {
   "cell_type": "code",
   "execution_count": 208,
   "metadata": {
    "ExecuteTime": {
     "end_time": "2020-12-03T06:35:15.776733Z",
     "start_time": "2020-12-03T06:35:15.767733Z"
    }
   },
   "outputs": [
    {
     "data": {
      "text/plain": [
       "[1917, 2803, 4431, 4644, 7938, 10283, 47008, 60645, 70177]"
      ]
     },
     "execution_count": 208,
     "metadata": {},
     "output_type": "execute_result"
    }
   ],
   "source": [
    "# 종합병원에 해당되지 않는 데이터 뽑기\n",
    "drop_row = df_seoul_hospital[df_seoul_hospital[\"상호명\"].str.contains(\"꽃배달|의료기|장례식장|상담소|어린이집\")].index\n",
    "drop_row = drop_row.tolist()\n",
    "drop_row"
   ]
  },
  {
   "cell_type": "code",
   "execution_count": 211,
   "metadata": {
    "ExecuteTime": {
     "end_time": "2020-12-03T06:36:47.163467Z",
     "start_time": "2020-12-03T06:36:47.148465Z"
    }
   },
   "outputs": [
    {
     "data": {
      "text/plain": [
       "[8479,\n",
       " 12854,\n",
       " 13715,\n",
       " 14966,\n",
       " 16091,\n",
       " 18047,\n",
       " 20200,\n",
       " 20415,\n",
       " 30706,\n",
       " 32889,\n",
       " 34459,\n",
       " 34720,\n",
       " 35696,\n",
       " 37251,\n",
       " 45120,\n",
       " 49626,\n",
       " 51575,\n",
       " 55133,\n",
       " 56320,\n",
       " 56404,\n",
       " 56688,\n",
       " 57551,\n",
       " 62113,\n",
       " 76508]"
      ]
     },
     "execution_count": 211,
     "metadata": {},
     "output_type": "execute_result"
    }
   ],
   "source": [
    "# '의원'이 들어가는 데이터 뽑기\n",
    "drop_row2 = df_seoul_hospital[df_seoul_hospital[\"상호명\"].str.endswith(\"의원\")].index\n",
    "drop_row2 = drop_row2.tolist()\n",
    "drop_row2"
   ]
  },
  {
   "cell_type": "code",
   "execution_count": 212,
   "metadata": {
    "ExecuteTime": {
     "end_time": "2020-12-03T06:37:26.137453Z",
     "start_time": "2020-12-03T06:37:26.132456Z"
    }
   },
   "outputs": [
    {
     "data": {
      "text/plain": [
       "33"
      ]
     },
     "execution_count": 212,
     "metadata": {},
     "output_type": "execute_result"
    }
   ],
   "source": [
    "drop_row = drop_row + drop_row2\n",
    "len(drop_row)"
   ]
  },
  {
   "cell_type": "code",
   "execution_count": 214,
   "metadata": {
    "ExecuteTime": {
     "end_time": "2020-12-03T06:38:46.679077Z",
     "start_time": "2020-12-03T06:38:46.660060Z"
    }
   },
   "outputs": [
    {
     "data": {
      "text/plain": [
       "(58, 29)"
      ]
     },
     "execution_count": 214,
     "metadata": {},
     "output_type": "execute_result"
    }
   ],
   "source": [
    "df_seoul_hospital = df_seoul_hospital.drop(drop_row, axis=0)\n",
    "df_seoul_hospital.shape"
   ]
  },
  {
   "cell_type": "code",
   "execution_count": 216,
   "metadata": {
    "ExecuteTime": {
     "end_time": "2020-12-03T06:39:14.368510Z",
     "start_time": "2020-12-03T06:39:14.030455Z"
    }
   },
   "outputs": [
    {
     "data": {
      "text/plain": [
       "<matplotlib.axes._subplots.AxesSubplot at 0x1d46ec43048>"
      ]
     },
     "execution_count": 216,
     "metadata": {},
     "output_type": "execute_result"
    },
    {
     "data": {
      "image/png": "[encoded data removed]",
      "text/plain": [
       "<Figure size 432x288 with 1 Axes>"
      ]
     },
     "metadata": {
      "image/png": {
       "height": 278,
       "width": 367
      },
      "needs_background": "light"
     },
     "output_type": "display_data"
    }
   ],
   "source": [
    "df_seoul_hospital[\"시군구명\"].value_counts().plot.bar()"
   ]
  },
  {
   "cell_type": "code",
   "execution_count": 221,
   "metadata": {
    "ExecuteTime": {
     "end_time": "2020-12-03T06:40:55.668116Z",
     "start_time": "2020-12-03T06:40:55.245423Z"
    }
   },
   "outputs": [
    {
     "data": {
      "image/png": "[encoded data removed]",
      "text/plain": [
       "<Figure size 1080x288 with 1 Axes>"
      ]
     },
     "metadata": {
      "image/png": {
       "height": 263,
       "width": 883
      },
      "needs_background": "light"
     },
     "output_type": "display_data"
    }
   ],
   "source": [
    "plt.figure(figsize=(15,4))\n",
    "s = sns.countplot(data=df_seoul_hospital, x=\"시군구명\", order=df_seoul_hospital[\"시군구명\"].value_counts().index)"
   ]
  },
  {
   "cell_type": "code",
   "execution_count": 223,
   "metadata": {
    "ExecuteTime": {
     "end_time": "2020-12-03T06:44:05.726632Z",
     "start_time": "2020-12-03T06:44:05.719631Z"
    }
   },
   "outputs": [
    {
     "data": {
      "text/plain": [
       "array(['대진의료재단', '홍익병원별관', 'SNUH', '한양', '백산의료재단친구병원', '서울보훈병원',\n",
       "       '서울대학교병원', '제일병원', '이랜드클리닉', '사랑나눔의료재단', '우울증센터', '성심의료재단',\n",
       "       '다나의료재단', '서울아산병원신관', '고려대학교구로병원', '학교법인일송학원', '희명스포츠의학센터인공신장실',\n",
       "       '연세대학교의과대학강남세브란스', '국립정신병원', '코아클리닉', '한국전력공사부속한일병원', '신촌연세병원',\n",
       "       '영동세브란스병원', '삼성의료재단강북삼성태', '서울시립보라매병원', '서울대학교병원비상계획외래',\n",
       "       '평화드림서울성모병원의료', '홍익병원', '사랑나눔의료재단서', '우신향병원', '동부제일병원', '아산재단금강병원',\n",
       "       '명곡안연구소', '아산재단서울중앙병원', '메디힐특수여객', '삼성생명공익재단삼성서', '성광의료재단차병원',\n",
       "       '한국건강관리협회서울특', '정해복지부설한신메디피아', '성베드로병원', '성애의료재단', 'Y&T성모마취과',\n",
       "       '영남의료재단', '인제대학교서울백병원', '한국필의료재단', '사랑의병원', '성삼의료재단미즈메디병원',\n",
       "       '씨엠충무병원', '원진재단부설녹색병원', '강남센트럴병원', '우리들병원', '건국대학교병원', '서울적십자병원',\n",
       "       '서울성모병원응급의료센터', '가톨릭대학교여의도성모병원', '씨엠병원'], dtype=object)"
      ]
     },
     "execution_count": 223,
     "metadata": {},
     "output_type": "execute_result"
    }
   ],
   "source": [
    "df_seoul_hospital[\"상호명\"].unique() # 여전히 종합병원과 관계 없어보이는 상호명이 많다. 추가적인 데이터 정제 필요"
   ]
  },
  {
   "cell_type": "code",
   "execution_count": null,
   "metadata": {},
   "outputs": [],
   "source": []
  }
 ],
 "metadata": {
  "hide_input": false,
  "kernelspec": {
   "display_name": "Python 3",
   "language": "python",
   "name": "python3"
  },
  "language_info": {
   "codemirror_mode": {
    "name": "ipython",
    "version": 3
   },
   "file_extension": ".py",
   "mimetype": "text/x-python",
   "name": "python",
   "nbconvert_exporter": "python",
   "pygments_lexer": "ipython3",
   "version": "3.7.6"
  },
  "toc": {
   "base_numbering": 1,
   "nav_menu": {},
   "number_sections": true,
   "sideBar": true,
   "skip_h1_title": false,
   "title_cell": "Table of Contents",
   "title_sidebar": "Contents",
   "toc_cell": false,
   "toc_position": {
    "height": "calc(100% - 180px)",
    "left": "10px",
    "top": "150px",
    "width": "170.273px"
   },
   "toc_section_display": true,
   "toc_window_display": true
  }
 },
 "nbformat": 4,
 "nbformat_minor": 4
}
