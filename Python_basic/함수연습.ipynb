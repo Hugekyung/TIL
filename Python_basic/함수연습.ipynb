{
  "nbformat": 4,
  "nbformat_minor": 0,
  "metadata": {
    "colab": {
      "name": "함수연습.ipynb",
      "provenance": [],
      "collapsed_sections": [],
      "include_colab_link": true
    },
    "kernelspec": {
      "name": "python3",
      "display_name": "Python 3"
    }
  },
  "cells": [
    {
      "cell_type": "markdown",
      "metadata": {
        "id": "view-in-github",
        "colab_type": "text"
      },
      "source": [
        "<a href=\"https://colab.research.google.com/github/Hugekyung/TIL/blob/master/Python_basic/%ED%95%A8%EC%88%98%EC%97%B0%EC%8A%B5.ipynb\" target=\"_parent\"><img src=\"https://colab.research.google.com/assets/colab-badge.svg\" alt=\"Open In Colab\"/></a>"
      ]
    },
    {
      "cell_type": "markdown",
      "metadata": {
        "id": "fjjTUyl3BIud",
        "colab_type": "text"
      },
      "source": [
        "# 함수"
      ]
    },
    {
      "cell_type": "markdown",
      "metadata": {
        "id": "OfbontYmXdDR",
        "colab_type": "text"
      },
      "source": [
        "#### 1번 \n",
        "아래의 코드를 재사용하기 위해 다음과 같은 함수로 만들어보세요.   \n",
        "검색어를 입력인자로 받아 원하는 검색어에 대한 기사제목을 반환해주는 함수"
      ]
    },
    {
      "cell_type": "code",
      "metadata": {
        "id": "IUNbC1zQBFi-",
        "colab_type": "code",
        "colab": {}
      },
      "source": [
        "import requests\n",
        "from bs4 import BeautifulSoup"
      ],
      "execution_count": 3,
      "outputs": []
    },
    {
      "cell_type": "code",
      "metadata": {
        "colab_type": "code",
        "id": "l-qD9ByHXrxk",
        "colab": {}
      },
      "source": [
        "def search():\n",
        "    x = input('검색어 입력:')\n",
        "    url = 'https://search.naver.com/search.naver?where=news&query={}'.format(x)\n",
        "\n",
        "    resp = requests.get(url)\n",
        "\n",
        "    soup = BeautifulSoup(resp.content, 'lxml')\n",
        "    a_tag = soup.select('ul.type01 li dl dt a')\n",
        "\n",
        "    title = []\n",
        "    for a in a_tag:\n",
        "        title.append(a.text)\n",
        "\n",
        "    return title"
      ],
      "execution_count": 4,
      "outputs": []
    },
    {
      "cell_type": "code",
      "metadata": {
        "id": "3f9LSxUC7Fxa",
        "colab_type": "code",
        "colab": {
          "base_uri": "https://localhost:8080/",
          "height": 221
        },
        "outputId": "179131c3-303c-41b2-9b26-c43f285fc4c3"
      },
      "source": [
        "search()"
      ],
      "execution_count": 5,
      "outputs": [
        {
          "output_type": "stream",
          "text": [
            "검색어 입력:토트넘\n"
          ],
          "name": "stdout"
        },
        {
          "output_type": "execute_result",
          "data": {
            "text/plain": [
              "['베일, 토트넘 훈련장 도착…左 흥민·右 베일 눈앞',\n",
              " \"'손흥민 풀타임' 토트넘, 유로파 2차 예선서 2-1 역전승\",\n",
              " '베일 토트넘 이적 시간문제, 런던행 위해 마드리드 공항 도착',\n",
              " '손흥민 2경기 연속 침묵…토트넘은 2대 1 진땀승',\n",
              " '손흥민 또 침묵… 토트넘은 역전승',\n",
              " '[유로파리그] 토트넘, 혼돈 속 2-1 승리… 3차 예선 진출',\n",
              " '헤딩하는 토트넘 손흥민',\n",
              " '졸전 토트넘, 9명 뛴 플로브디프에 2-1 진땀승…풀타임 손흥민 침묵',\n",
              " '가레스 베일, 토트넘行 임박…메디컬 통과',\n",
              " '베일, 토트넘 훈련장 도착...곧 공식발표 예정']"
            ]
          },
          "metadata": {
            "tags": []
          },
          "execution_count": 5
        }
      ]
    },
    {
      "cell_type": "markdown",
      "metadata": {
        "id": "-WFzmWo8XGoA",
        "colab_type": "text"
      },
      "source": [
        "#### 2번 \n",
        "아래와 같은 함수를 만들어보세요."
      ]
    },
    {
      "cell_type": "code",
      "metadata": {
        "id": "kzkOGA8LXQpi",
        "colab_type": "code",
        "colab": {
          "base_uri": "https://localhost:8080/",
          "height": 91
        },
        "outputId": "e48979f2-0157-419c-c251-26d7096008fd"
      },
      "source": [
        "#함수 만들기\n",
        "#이름, 전화번호, 이메일을 입력받아서\n",
        "#3가지 정보를 dictionary로 묶어서 리턴해주는 함수\n",
        "\n",
        "def data():\n",
        "    data_dic = {}\n",
        "    name = input('이름을 입력해주세요:')\n",
        "    data_dic.setdefault(\"이름\", name)\n",
        "    phone = input('전화번호를 입력해주세요:')\n",
        "    data_dic.setdefault(\"전화번호\", phone)\n",
        "    email = input('이메일을 입력해주세요:')\n",
        "    data_dic.setdefault(\"이메일\", email)\n",
        "    return data_dic\n",
        "    \n",
        "data()"
      ],
      "execution_count": 6,
      "outputs": [
        {
          "output_type": "stream",
          "text": [
            "이름을 입력해주세요:홍길동\n",
            "전화번호를 입력해주세요:010-0000-0000\n",
            "이메일을 입력해주세요:gildong@gmail.com\n"
          ],
          "name": "stdout"
        },
        {
          "output_type": "execute_result",
          "data": {
            "text/plain": [
              "{'이름': '홍길동', '이메일': 'gildong@gmail.com', '전화번호': '010-0000-0000'}"
            ]
          },
          "metadata": {
            "tags": []
          },
          "execution_count": 6
        }
      ]
    },
    {
      "cell_type": "markdown",
      "metadata": {
        "id": "RvB_7wxzRsLb",
        "colab_type": "text"
      },
      "source": [
        "#### 3번\n"
      ]
    },
    {
      "cell_type": "markdown",
      "metadata": {
        "id": "9KPUDwNZoR02",
        "colab_type": "text"
      },
      "source": [
        "아래 두 함수를 이용해서, 원하는 만큼 숫자를 입력받은 num_list의 원소를 절대값 크기 순으로 정렬한 sorted_list 를 만들어보세요.\n",
        "\n",
        "예시. \n",
        "num_list = [1, -2, 3, 4, 0]  \n",
        "\n",
        "sorted_list = sort_data(num_list)  \n",
        "sorted_list  \n",
        "출력 결과 :  \n",
        "  [4, 3, -2, 1, 0]"
      ]
    },
    {
      "cell_type": "code",
      "metadata": {
        "id": "hJNGVZIhn2ah",
        "colab_type": "code",
        "colab": {
          "base_uri": "https://localhost:8080/",
          "height": 36
        },
        "outputId": "2297040e-11ea-4bf5-87bd-4d8a01b7e5eb"
      },
      "source": [
        "# 입력받은 데이터를 절대값으로 변환해주는 함수\n",
        "def to_abs(num):\n",
        "    if num < 0:\n",
        "        num *= -1\n",
        "    return num\n",
        "\n",
        "to_abs(-4)"
      ],
      "execution_count": null,
      "outputs": [
        {
          "output_type": "execute_result",
          "data": {
            "text/plain": [
              "4"
            ]
          },
          "metadata": {
            "tags": []
          },
          "execution_count": 14
        }
      ]
    },
    {
      "cell_type": "code",
      "metadata": {
        "id": "_N6fAksRoFYF",
        "colab_type": "code",
        "colab": {}
      },
      "source": [
        "#  입력받은 데이터를 정렬해주는 함수\n",
        "num_list = [1, -2, 3, 4, 0]\n",
        "\n",
        "def sort_data(x_list):\n",
        "  pass"
      ],
      "execution_count": null,
      "outputs": []
    },
    {
      "cell_type": "code",
      "metadata": {
        "id": "jk3z-7YqYMTO",
        "colab_type": "code",
        "colab": {}
      },
      "source": [
        "length = int(input('몇 개의 숫자를 입력하시겠습니까?'))"
      ],
      "execution_count": null,
      "outputs": []
    },
    {
      "cell_type": "markdown",
      "metadata": {
        "colab_type": "text",
        "id": "beecO2OSYOCa"
      },
      "source": [
        "#### 4번\n",
        "리스트와 인덱스를 찾고 싶은 값을 모두 입력하면 입력한 값의 인덱스(위치)를 리턴해주는 함수 만들기  \n",
        "  \n",
        "실행:  \n",
        "num_list=[1,2,3,1,4,2,1]  \n",
        "find_index(num_list,1)  \n",
        "[0,3,6]  \n",
        "\n"
      ]
    },
    {
      "cell_type": "code",
      "metadata": {
        "id": "4obNkODr6apO",
        "colab_type": "code",
        "colab": {
          "base_uri": "https://localhost:8080/",
          "height": 36
        },
        "outputId": "fa3e59c6-97a8-4c75-9e24-d245cb2e7134"
      },
      "source": [
        "num_list=[1,2,3,1,4,2,1]\n",
        "\n",
        "def find_index(lis, x):\n",
        "    y=[]\n",
        "    for i, v in enumerate(lis):\n",
        "        if v == x:\n",
        "            y.append(i)\n",
        "    return y\n",
        "\n",
        "find_index(num_list, 1)"
      ],
      "execution_count": null,
      "outputs": [
        {
          "output_type": "execute_result",
          "data": {
            "text/plain": [
              "[0, 3, 6]"
            ]
          },
          "metadata": {
            "tags": []
          },
          "execution_count": 11
        }
      ]
    }
  ]
}