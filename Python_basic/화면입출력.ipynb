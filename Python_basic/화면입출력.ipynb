{
  "nbformat": 4,
  "nbformat_minor": 0,
  "metadata": {
    "colab": {
      "name": "화면입출력.ipynb",
      "provenance": [],
      "collapsed_sections": [],
      "include_colab_link": true
    },
    "kernelspec": {
      "name": "python3",
      "display_name": "Python 3"
    }
  },
  "cells": [
    {
      "cell_type": "markdown",
      "metadata": {
        "id": "view-in-github",
        "colab_type": "text"
      },
      "source": [
        "<a href=\"https://colab.research.google.com/github/Hugekyung/TIL/blob/master/Python_basic/%ED%99%94%EB%A9%B4%EC%9E%85%EC%B6%9C%EB%A0%A5.ipynb\" target=\"_parent\"><img src=\"https://colab.research.google.com/assets/colab-badge.svg\" alt=\"Open In Colab\"/></a>"
      ]
    },
    {
      "cell_type": "markdown",
      "metadata": {
        "id": "D1caT27zeAJH",
        "colab_type": "text"
      },
      "source": [
        "\n",
        "#### 1번\n",
        "사용자로점수를3개입력받아 모든점수가65점보다클경우True 점수가하나라도65점이안넘을경우False 를출력하세요"
      ]
    },
    {
      "cell_type": "code",
      "metadata": {
        "id": "09KdTCEjeFn0",
        "colab_type": "code",
        "colab": {
          "base_uri": "https://localhost:8080/",
          "height": 87
        },
        "outputId": "51337d11-2182-4875-c17f-c1654fd31662"
      },
      "source": [
        "x = int(input('점수를 입력해주세요:'))\n",
        "y = int(input('점수를 입력해주세요:'))\n",
        "z = int(input('점수를 입력해주세요:'))\n",
        "\n",
        "if x > 65 and y > 65 and z > 65:\n",
        "    print(True)\n",
        "else:\n",
        "    print(False)"
      ],
      "execution_count": null,
      "outputs": [
        {
          "output_type": "stream",
          "text": [
            "점수를 입력해주세요:66\n",
            "점수를 입력해주세요:65\n",
            "점수를 입력해주세요:67\n",
            "False\n"
          ],
          "name": "stdout"
        }
      ]
    },
    {
      "cell_type": "markdown",
      "metadata": {
        "id": "Yi-qJT8ueFfv",
        "colab_type": "text"
      },
      "source": [
        "#### 2번\n",
        "두사람의 이름, 나이, 연락처를 입력받아 각각 딕셔너리를 만들어 리스트에 넣어주세요 \n",
        "\n",
        "실행 :  \n",
        "이름을 입력해주세요 : 홍길동  \n",
        "나이를 입력해주세요 : 27  \n",
        "연락처를 입력해주세요 : 010-3023-1223  \n",
        "이름을 입력해주세요 : 이몽룡  \n",
        "나이를 입력해주세요 : 30  \n",
        "연락처를 입력해주세요 : 010-3030-4434  \n",
        "결과 : \n",
        "[{'이름': '홍길동', '나이': '27', '연락처': '010-3023-1223'}, {'이름': '이몽룡', '나이': '30', '연락처': '010-3030-4434'}]"
      ]
    },
    {
      "cell_type": "code",
      "metadata": {
        "id": "RSxVqGLKeFZO",
        "colab_type": "code",
        "colab": {
          "base_uri": "https://localhost:8080/",
          "height": 158
        },
        "outputId": "5e2cd1c7-d6ea-480d-ee88-97df2dbdb960"
      },
      "source": [
        "name = input('이름을 입력해주세요:')\n",
        "age = input('나이를 입력해주세요:')\n",
        "phone = input('연락처를 입력해주세요:')\n",
        "dic1 = {'이름':name, '나이':age, '연락처':phone}\n",
        "\n",
        "name2 = input('이름을 입력해주세요:')\n",
        "age2 = input('나이를 입력해주세요:')\n",
        "phone2 = input('연락처를 입력해주세요:')\n",
        "dic2 = {'이름':name2, '나이':age2, '연락처':phone2}\n",
        "\n",
        "list_1 = []\n",
        "list_1.append(dic1)\n",
        "list_1.append(dic2)\n",
        "list_1"
      ],
      "execution_count": null,
      "outputs": [
        {
          "output_type": "stream",
          "text": [
            "이름을 입력해주세요:홍길동\n",
            "나이를 입력해주세요:27\n",
            "연락처를 입력해주세요:010-3023-1223\n",
            "이름을 입력해주세요:이몽룡\n",
            "나이를 입력해주세요:30\n",
            "연락처를 입력해주세요:010-3030-4434\n"
          ],
          "name": "stdout"
        },
        {
          "output_type": "execute_result",
          "data": {
            "text/plain": [
              "[{'나이': '27', '연락처': '010-3023-1223', '이름': '홍길동'},\n",
              " {'나이': '30', '연락처': '010-3030-4434', '이름': '이몽룡'}]"
            ]
          },
          "metadata": {
            "tags": []
          },
          "execution_count": 11
        }
      ]
    },
    {
      "cell_type": "markdown",
      "metadata": {
        "id": "KpVzlyNveFUJ",
        "colab_type": "text"
      },
      "source": [
        "#### 3번\n",
        "사용자로무터 점수를 3개 입력받으세요.  \n",
        "모든점수가 65점보다 클 경우 -> 합격, 아닐경우 -> 불합격을 출력하세요  \n",
        "단,0~100이 아닌 숫자가 입력된 경우 잘못된“잘못된점수가 입력되었습니다\"를출력하세요\n"
      ]
    },
    {
      "cell_type": "code",
      "metadata": {
        "id": "v_boV_BneFQH",
        "colab_type": "code",
        "colab": {
          "base_uri": "https://localhost:8080/",
          "height": 91
        },
        "outputId": "fa7b01bd-ebea-467d-98dc-c0aea32efdc8"
      },
      "source": [
        "x1 = int(input('점수를 입력해주세요:'))\n",
        "x2 = int(input('점수를 입력해주세요:'))\n",
        "x3 = int(input('점수를 입력해주세요:'))\n",
        "\n",
        "if 101 > x1 >= 0 and 101 > x2 >= 0 and 101 > x3 >= 0:\n",
        "    if x1 > 65 and x2 > 65 and x3 > 65:\n",
        "        print('합격')\n",
        "    else:\n",
        "        print('불합격')\n",
        "else:\n",
        "    print('잘못된 점수가 입력되었습니다.')"
      ],
      "execution_count": 11,
      "outputs": [
        {
          "output_type": "stream",
          "text": [
            "점수를 입력해주세요:100\n",
            "점수를 입력해주세요:50\n",
            "점수를 입력해주세요:67\n",
            "불합격\n"
          ],
          "name": "stdout"
        }
      ]
    },
    {
      "cell_type": "markdown",
      "metadata": {
        "id": "pHaXei0-eFLk",
        "colab_type": "text"
      },
      "source": [
        "#### 4번\n",
        "fruit=['사과','오렌지'] vegetable=['당근','호박']  \n",
        "위와 같은 리스트 두개를 만들고 유저로부터 카테고리와 상품명을 입력받아 카테고리가 과일일 때는 fruit 리스트에  \n",
        "카테고리가 채소일때는 vegetable리스트에  \n",
        "상품을추가하고 리스트의 모든 내용을 출력해주세요.  \n",
        "단, 카테고리명이 채소나 과일이 아닐 경우  \n",
        "“존재하지않는카테고리입니다.“  \n",
        " 이미등록되어있는경우“이미등록된과일입니다.”or“이미등록된채소입니다\"를출력해주세요.\n"
      ]
    },
    {
      "cell_type": "markdown",
      "metadata": {
        "id": "KcUROvl0eFHS",
        "colab_type": "text"
      },
      "source": [
        "실행 :  \n",
        "등록할 카테고리를 선택해주세요 (과일, 채소) :채소   \n",
        "등록할 채소을 입력해주세요 :당근   \n",
        "이미등록된 채소 입니다.  \n",
        "등록할 카테고리를 선택해주세요 (과일, 채소) :야채   \n",
        "등록할 야채를 입력해주세요 :당근   \n",
        "존재하지 않는 카테고리입니다.  \n",
        "\n",
        "등록할 카테고리를 선택해주세요 (과일, 채소 ) :과일  \n",
        " 등록할 과일을 입력해주세요 :바나나   \n",
        " ['사과', '오렌지', '바나나']"
      ]
    },
    {
      "cell_type": "code",
      "metadata": {
        "id": "Nb1wfkmZeFC-",
        "colab_type": "code",
        "colab": {
          "base_uri": "https://localhost:8080/",
          "height": 70
        },
        "outputId": "ef98561a-0e74-472f-f479-13e03c0ac284"
      },
      "source": [
        "fruit=['사과', '오렌지']\n",
        "vege=['당근', '호박']\n",
        "\n",
        "x=input('등록할 카테고리를 선택해주세요(과일, 채소):')\n",
        "if x == '채소':\n",
        "    y=input('등록할 채소를 입력해주세요:')\n",
        "    if y in vege:\n",
        "        print('이미 등록된 채소입니다')\n",
        "    else:\n",
        "        vege.append(y)\n",
        "        print(vege)\n",
        "elif x == '과일':\n",
        "    y2=input('등록할 과일을 입력해주세요:')\n",
        "    if y2 in fruit:\n",
        "        print('이미 등록된 과일입니다')\n",
        "    else:\n",
        "        fruit.append(y2)\n",
        "        print(fruit)\n",
        "else:\n",
        "    print('존재하지 않는 카테고리입니다.')"
      ],
      "execution_count": null,
      "outputs": [
        {
          "output_type": "stream",
          "text": [
            "등록할 카테고리를 선택해주세요(과일, 채소):과일\n",
            "등록할 과일을 입력해주세요:바나나\n",
            "['사과', '오렌지', '바나나']\n"
          ],
          "name": "stdout"
        }
      ]
    },
    {
      "cell_type": "markdown",
      "metadata": {
        "id": "XgY2qA7neE_M",
        "colab_type": "text"
      },
      "source": [
        "#### 5번\n",
        "숫자를 입력받고 입력받은 정수의 구구단을 출력하세요.  \n",
        "정수가 아닌 다른 타입이 입력되면,  \n",
        "'정수를 입력해주세요!' 출력   \n",
        "2-9가 아닌 수를 입력하면,  \n",
        "\" 2-9 사이의 정수를 입력해주세요!\" 출력\n",
        "  \n",
        "실행 :  \n",
        "몇단을 출력하시겠습니까? 3   \n",
        "3 * 1 = 3   \n",
        "3 * 2 = 6   \n",
        "...   \n",
        "3 * 8 = 24  \n",
        "3 * 9 = 27"
      ]
    },
    {
      "cell_type": "code",
      "metadata": {
        "id": "LpK07lpjeE69",
        "colab_type": "code",
        "colab": {
          "base_uri": "https://localhost:8080/",
          "height": 210
        },
        "outputId": "72a66156-18c1-4b59-d387-689609835a5e"
      },
      "source": [
        "x = int(input('몇 단을 출력하시겠습니까?'))\n",
        "\n",
        "if x<=2 or x>9:\n",
        "    print('2-9 사이의 정수를 입력해주세요!')#-->이 부분 잘 모르겟으\n",
        "elif type(x) != int:\n",
        "    print('정수를 입력해주세요!')\n",
        "else:\n",
        "    print('{}단입니다.'.format(x))\n",
        "    for i in range(1,10):\n",
        "        print('{0} * {1} = {2}'.format(x,i,x*i))"
      ],
      "execution_count": null,
      "outputs": [
        {
          "output_type": "stream",
          "text": [
            "몇 단을 출력하시겠습니까?9\n",
            "9단입니다.\n",
            "9 * 1 = 9\n",
            "9 * 2 = 18\n",
            "9 * 3 = 27\n",
            "9 * 4 = 36\n",
            "9 * 5 = 45\n",
            "9 * 6 = 54\n",
            "9 * 7 = 63\n",
            "9 * 8 = 72\n",
            "9 * 9 = 81\n"
          ],
          "name": "stdout"
        }
      ]
    },
    {
      "cell_type": "markdown",
      "metadata": {
        "id": "IboAZaOaeE2O",
        "colab_type": "text"
      },
      "source": [
        "#### 6번\n",
        "사용자로부터 숫자를 계속 입력받다가  0을 입력하면 합계를 출력해주세요  \n",
        "  \n",
        "  실행 :  \n",
        "값을 입력해주세요 : 30   \n",
        "값을 입력해주세요 : 20   \n",
        "값을 입력해주세요 : 50   \n",
        "값을 입력해주세요 : 40   \n",
        "값을 입력해주세요 : 30   \n",
        "값을 입력해주세요 : 0   \n",
        "합계는 ?  170"
      ]
    },
    {
      "cell_type": "code",
      "metadata": {
        "id": "uUDo-IvkeEwj",
        "colab_type": "code",
        "colab": {
          "base_uri": "https://localhost:8080/",
          "height": 140
        },
        "outputId": "562e1a0a-4e39-4701-ae1a-465ed05a205c"
      },
      "source": [
        "user_num = []\n",
        "while 1:\n",
        "    user = int(input('값을 입력해주세요:'))\n",
        "    user_num.append(user)\n",
        "\n",
        "    if user == 0:\n",
        "        print('합계는?{}'.format(sum(user_num)))\n",
        "        break"
      ],
      "execution_count": null,
      "outputs": [
        {
          "output_type": "stream",
          "text": [
            "값을 입력해주세요:30\n",
            "값을 입력해주세요:20\n",
            "값을 입력해주세요:50\n",
            "값을 입력해주세요:40\n",
            "값을 입력해주세요:30\n",
            "값을 입력해주세요:0\n",
            "합계는?170\n"
          ],
          "name": "stdout"
        }
      ]
    },
    {
      "cell_type": "markdown",
      "metadata": {
        "id": "VxmL4a24eEoN",
        "colab_type": "text"
      },
      "source": [
        "#### 7번 \n",
        "아래 코드는 맨시티의 네이버뉴스기사를 가져오는 코드입니다.  \n",
        "아래 코드를 수정해서, 원하는 검색어를 입력받아 관련 기사제목을 가져와보세요."
      ]
    },
    {
      "cell_type": "code",
      "metadata": {
        "id": "TWUpDCIWsFeo",
        "colab_type": "code",
        "colab": {
          "base_uri": "https://localhost:8080/",
          "height": 36
        },
        "outputId": "42699ede-a9c8-4aa8-de7c-cded18428fdf"
      },
      "source": [
        "import requests\n",
        "from bs4 import BeautifulSoup\n",
        "\n",
        "url = 'https://search.naver.com/search.naver?where=news&query=맨시티'\n",
        "\n",
        "resp = requests.get(url)\n",
        "\n",
        "soup = BeautifulSoup(resp.content, 'lxml')\n",
        "a_tag = soup.select('ul.type01 li dl dt a')\n",
        "\n",
        "len(a_tag)"
      ],
      "execution_count": 8,
      "outputs": [
        {
          "output_type": "execute_result",
          "data": {
            "text/plain": [
              "10"
            ]
          },
          "metadata": {
            "tags": []
          },
          "execution_count": 8
        }
      ]
    },
    {
      "cell_type": "code",
      "metadata": {
        "id": "6BOh7rg-sLYu",
        "colab_type": "code",
        "colab": {
          "base_uri": "https://localhost:8080/",
          "height": 203
        },
        "outputId": "ae6c7e29-716f-44e7-dcd4-c060a51603a4"
      },
      "source": [
        "news_list = []\n",
        "for a in a_tag:\n",
        "  print(a.text)"
      ],
      "execution_count": 9,
      "outputs": [
        {
          "output_type": "stream",
          "text": [
            "[오피셜] 귄도안 코로나19 확진 판정, 맨시티 또 악재\n",
            "마침내 입 연 과르디올라 \"맨시티에 더 머물고 싶어, 단, 올해 잘해야\"\n",
            "맨시티 핵심 MF 귄도간 코로나19 확진\n",
            "개막 앞둔 맨시티 비상…권도간 '코로나19' 확진 판정\n",
            "[스포터 PICK] '아다마 트라우마' 맨시티, 울버햄튼전 '설욕' 나선다!\n",
            "맨시티, 세비야 센터백 쿤데 영입 추진 '오타멘디와 바꾸자'\n",
            "넥센타이어, 英 프리미어리그 맨시티와 후원 재계약 체결\n",
            "[공식발표] 맨시티의 새로운 주장은 페르난지뉴...펩, \"선수들과 함께 결정\"\n",
            "'맨시티 어쩌나' 아구에로, 2달 추가 결장...'아스널-리버풀전' 포함\n",
            "토레스 \"메시 없어도 돼, 맨시티는 위대한 성과를 낼거야\"\n"
          ],
          "name": "stdout"
        }
      ]
    }
  ]
}