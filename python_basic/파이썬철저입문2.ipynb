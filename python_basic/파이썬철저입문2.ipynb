{
  "nbformat": 4,
  "nbformat_minor": 0,
  "metadata": {
    "colab": {
      "name": "파이썬철저입문2.ipynb",
      "provenance": [],
      "collapsed_sections": [],
      "authorship_tag": "ABX9TyONbNubb9E7X5E8cIqS2MEF",
      "include_colab_link": true
    },
    "kernelspec": {
      "name": "python3",
      "display_name": "Python 3"
    }
  },
  "cells": [
    {
      "cell_type": "markdown",
      "metadata": {
        "id": "view-in-github",
        "colab_type": "text"
      },
      "source": [
        "<a href=\"https://colab.research.google.com/github/Hugekyung/TIL/blob/master/python_basic/%ED%8C%8C%EC%9D%B4%EC%8D%AC%EC%B2%A0%EC%A0%80%EC%9E%85%EB%AC%B82.ipynb\" target=\"_parent\"><img src=\"https://colab.research.google.com/assets/colab-badge.svg\" alt=\"Open In Colab\"/></a>"
      ]
    },
    {
      "cell_type": "markdown",
      "metadata": {
        "id": "861giiwy-YOu",
        "colab_type": "text"
      },
      "source": [
        "# for문"
      ]
    },
    {
      "cell_type": "code",
      "metadata": {
        "id": "LvipAW98-Q_w",
        "colab_type": "code",
        "colab": {
          "base_uri": "https://localhost:8080/",
          "height": 122
        },
        "outputId": "408c10dc-82a8-456a-aa3e-6aa81183bf25"
      },
      "source": [
        "for a in [0,1,2,3,4,7]:\n",
        "    print(a)"
      ],
      "execution_count": 2,
      "outputs": [
        {
          "output_type": "stream",
          "text": [
            "0\n",
            "1\n",
            "2\n",
            "3\n",
            "4\n",
            "7\n"
          ],
          "name": "stdout"
        }
      ]
    },
    {
      "cell_type": "code",
      "metadata": {
        "id": "mi1qyA09_yu3",
        "colab_type": "code",
        "colab": {
          "base_uri": "https://localhost:8080/",
          "height": 70
        },
        "outputId": "a329b108-b3b6-4853-dadb-aaf0e053d586"
      },
      "source": [
        "myfriend = ['yang', 'tae', 'kyung']\n",
        "for i in myfriend:\n",
        "    print(i)"
      ],
      "execution_count": 4,
      "outputs": [
        {
          "output_type": "stream",
          "text": [
            "yang\n",
            "tae\n",
            "kyung\n"
          ],
          "name": "stdout"
        }
      ]
    },
    {
      "cell_type": "code",
      "metadata": {
        "id": "7jPKjurpA8MX",
        "colab_type": "code",
        "colab": {
          "base_uri": "https://localhost:8080/",
          "height": 34
        },
        "outputId": "3e379b22-0edb-49ec-8cb2-84167ee9fbb4"
      },
      "source": [
        "print(range(0,10,1))"
      ],
      "execution_count": 5,
      "outputs": [
        {
          "output_type": "stream",
          "text": [
            "range(0, 10)\n"
          ],
          "name": "stdout"
        }
      ]
    },
    {
      "cell_type": "code",
      "metadata": {
        "id": "PgKqI3tbBT8T",
        "colab_type": "code",
        "colab": {
          "base_uri": "https://localhost:8080/",
          "height": 34
        },
        "outputId": "093bd9a1-4a07-40fc-aa67-04b71ed8f923"
      },
      "source": [
        "print(list(range(0,10,1)))"
      ],
      "execution_count": 6,
      "outputs": [
        {
          "output_type": "stream",
          "text": [
            "[0, 1, 2, 3, 4, 5, 6, 7, 8, 9]\n"
          ],
          "name": "stdout"
        }
      ]
    },
    {
      "cell_type": "code",
      "metadata": {
        "id": "vGSKYWrsBW_7",
        "colab_type": "code",
        "colab": {
          "base_uri": "https://localhost:8080/",
          "height": 122
        },
        "outputId": "dbc9e923-0418-42c2-b893-9862b15f389c"
      },
      "source": [
        "for i in range(0,6,1):\n",
        "    print(i)"
      ],
      "execution_count": 7,
      "outputs": [
        {
          "output_type": "stream",
          "text": [
            "0\n",
            "1\n",
            "2\n",
            "3\n",
            "4\n",
            "5\n"
          ],
          "name": "stdout"
        }
      ]
    },
    {
      "cell_type": "code",
      "metadata": {
        "id": "qBxR8t4nBh4G",
        "colab_type": "code",
        "colab": {
          "base_uri": "https://localhost:8080/",
          "height": 122
        },
        "outputId": "3919111c-2c2a-4915-8608-ba2a054be954"
      },
      "source": [
        "for i in range(6):\n",
        "    print(i)"
      ],
      "execution_count": 9,
      "outputs": [
        {
          "output_type": "stream",
          "text": [
            "0\n",
            "1\n",
            "2\n",
            "3\n",
            "4\n",
            "5\n"
          ],
          "name": "stdout"
        }
      ]
    },
    {
      "cell_type": "code",
      "metadata": {
        "id": "jnxZTe6SBpbk",
        "colab_type": "code",
        "colab": {
          "base_uri": "https://localhost:8080/",
          "height": 70
        },
        "outputId": "ca3d9734-60d9-4d3b-ea65-19ed4962255a"
      },
      "source": [
        "for i in range(0,6,2):\n",
        "    print(i)"
      ],
      "execution_count": 10,
      "outputs": [
        {
          "output_type": "stream",
          "text": [
            "0\n",
            "2\n",
            "4\n"
          ],
          "name": "stdout"
        }
      ]
    },
    {
      "cell_type": "code",
      "metadata": {
        "id": "6oCzn4VUBv1B",
        "colab_type": "code",
        "colab": {
          "base_uri": "https://localhost:8080/",
          "height": 34
        },
        "outputId": "ec0f9677-da2e-49c0-8174-af6d875e3f15"
      },
      "source": [
        "list(range(10))"
      ],
      "execution_count": 11,
      "outputs": [
        {
          "output_type": "execute_result",
          "data": {
            "text/plain": [
              "[0, 1, 2, 3, 4, 5, 6, 7, 8, 9]"
            ]
          },
          "metadata": {
            "tags": []
          },
          "execution_count": 11
        }
      ]
    },
    {
      "cell_type": "code",
      "metadata": {
        "id": "kOwtnwZnD7cO",
        "colab_type": "code",
        "colab": {
          "base_uri": "https://localhost:8080/",
          "height": 34
        },
        "outputId": "b223498f-7ec9-424a-f0a2-14a4a8fcab88"
      },
      "source": [
        "print(list(range(3,-10,-3)))"
      ],
      "execution_count": 12,
      "outputs": [
        {
          "output_type": "stream",
          "text": [
            "[3, 0, -3, -6, -9]\n"
          ],
          "name": "stdout"
        }
      ]
    },
    {
      "cell_type": "markdown",
      "metadata": {
        "id": "TpIhPU09EkPm",
        "colab_type": "text"
      },
      "source": [
        "## 중첩 for 문"
      ]
    },
    {
      "cell_type": "code",
      "metadata": {
        "id": "84Gx3TomED7b",
        "colab_type": "code",
        "colab": {
          "base_uri": "https://localhost:8080/",
          "height": 105
        },
        "outputId": "dbf7a135-a3bb-43d2-bfc3-b61188d976f4"
      },
      "source": [
        "x_list = ['x1','x2']\n",
        "y_list = ['y1', 'y2']\n",
        "\n",
        "print('x y')\n",
        "for x in x_list:\n",
        "    for y in y_list:\n",
        "        print(x,y)"
      ],
      "execution_count": 15,
      "outputs": [
        {
          "output_type": "stream",
          "text": [
            "x y\n",
            "x1 y1\n",
            "x1 y2\n",
            "x2 y1\n",
            "x2 y2\n"
          ],
          "name": "stdout"
        }
      ]
    },
    {
      "cell_type": "markdown",
      "metadata": {
        "id": "6IWasQ0gFoQl",
        "colab_type": "text"
      },
      "source": [
        "# while문"
      ]
    },
    {
      "cell_type": "code",
      "metadata": {
        "id": "299gQIrIE1vh",
        "colab_type": "code",
        "colab": {
          "base_uri": "https://localhost:8080/",
          "height": 122
        },
        "outputId": "ed0ca21d-aca8-47ec-8a4d-31b539aa70f7"
      },
      "source": [
        "i = 0\n",
        "sum = 0\n",
        "\n",
        "while sum<20:\n",
        "    i += 1\n",
        "    sum = sum + i\n",
        "    print(i, sum)"
      ],
      "execution_count": 16,
      "outputs": [
        {
          "output_type": "stream",
          "text": [
            "1 1\n",
            "2 3\n",
            "3 6\n",
            "4 10\n",
            "5 15\n",
            "6 21\n"
          ],
          "name": "stdout"
        }
      ]
    },
    {
      "cell_type": "code",
      "metadata": {
        "id": "ysLHQhuSF7et",
        "colab_type": "code",
        "colab": {
          "base_uri": "https://localhost:8080/",
          "height": 70
        },
        "outputId": "7b70e8bb-9b28-468f-fad3-49ae1716ecbc"
      },
      "source": [
        "k = 0\n",
        "while True:\n",
        "    k += 1\n",
        "    if k>3:\n",
        "        break\n",
        "\n",
        "    print(k)"
      ],
      "execution_count": 17,
      "outputs": [
        {
          "output_type": "stream",
          "text": [
            "1\n",
            "2\n",
            "3\n"
          ],
          "name": "stdout"
        }
      ]
    },
    {
      "cell_type": "code",
      "metadata": {
        "id": "4k5WqG1zGXXR",
        "colab_type": "code",
        "colab": {
          "base_uri": "https://localhost:8080/",
          "height": 70
        },
        "outputId": "cb40d156-89d1-4010-f934-817d6e840667"
      },
      "source": [
        "for k in range(10):\n",
        "    if k>2:        # k가 2보다 크면\n",
        "        break      # break로 for문을 빠져나옴\n",
        "\n",
        "    print(k)"
      ],
      "execution_count": 18,
      "outputs": [
        {
          "output_type": "stream",
          "text": [
            "0\n",
            "1\n",
            "2\n"
          ],
          "name": "stdout"
        }
      ]
    },
    {
      "cell_type": "code",
      "metadata": {
        "id": "pw9eAOTlGf91",
        "colab_type": "code",
        "colab": {
          "base_uri": "https://localhost:8080/",
          "height": 87
        },
        "outputId": "22331461-6faf-4115-8fed-0de36b5b77a5"
      },
      "source": [
        "for k in range(5):\n",
        "    if k == 2:\n",
        "        continue # k == 2이면, 코드가 아래로 진행되지 않고 처음으로 다시 돌아감(2를 출력하지 않고 처음으로 돌아감)\n",
        "    print(k)"
      ],
      "execution_count": 20,
      "outputs": [
        {
          "output_type": "stream",
          "text": [
            "0\n",
            "1\n",
            "3\n",
            "4\n"
          ],
          "name": "stdout"
        }
      ]
    },
    {
      "cell_type": "code",
      "metadata": {
        "id": "fFYc0RBxG6qG",
        "colab_type": "code",
        "colab": {
          "base_uri": "https://localhost:8080/",
          "height": 87
        },
        "outputId": "5ead9262-3a9d-4824-8384-d9ba98ee0039"
      },
      "source": [
        "k = 0\n",
        "while True:\n",
        "    k += 1\n",
        "\n",
        "    if k == 2:\n",
        "        print('continue next')\n",
        "        continue # k가 2이면, 반복문의 처음으로 돌아감\n",
        "    if k > 4:\n",
        "        break    # k가 5 이상이면, 반복문을 빠져나옴\n",
        "\n",
        "    print(k)"
      ],
      "execution_count": 22,
      "outputs": [
        {
          "output_type": "stream",
          "text": [
            "1\n",
            "continue next\n",
            "3\n",
            "4\n"
          ],
          "name": "stdout"
        }
      ]
    },
    {
      "cell_type": "markdown",
      "metadata": {
        "id": "m0nmC-xaKQCy",
        "colab_type": "text"
      },
      "source": [
        "# 리스트 컴프리헨션"
      ]
    },
    {
      "cell_type": "code",
      "metadata": {
        "id": "EXfwk1-qHZPv",
        "colab_type": "code",
        "colab": {
          "base_uri": "https://localhost:8080/",
          "height": 34
        },
        "outputId": "b4ac5f29-f49e-4961-b471-d5e5d0602b48"
      },
      "source": [
        "numbers = [1,2,3,4,5]\n",
        "square = [i**2 for i in numbers]\n",
        "print(square)"
      ],
      "execution_count": 24,
      "outputs": [
        {
          "output_type": "stream",
          "text": [
            "[1, 4, 9, 16, 25]\n"
          ],
          "name": "stdout"
        }
      ]
    },
    {
      "cell_type": "code",
      "metadata": {
        "id": "4-NOVWO1KlBh",
        "colab_type": "code",
        "colab": {
          "base_uri": "https://localhost:8080/",
          "height": 34
        },
        "outputId": "53679935-b629-4e6b-c2c8-e35766c6eac7"
      },
      "source": [
        "square2 = [i**2 for i in numbers if i>=3]\n",
        "print(square2)"
      ],
      "execution_count": 25,
      "outputs": [
        {
          "output_type": "stream",
          "text": [
            "[9, 16, 25]\n"
          ],
          "name": "stdout"
        }
      ]
    },
    {
      "cell_type": "markdown",
      "metadata": {
        "id": "Y1Wp9BxNNJeD",
        "colab_type": "text"
      },
      "source": [
        "# 입출력"
      ]
    },
    {
      "cell_type": "code",
      "metadata": {
        "id": "wVyIE3lOK8jq",
        "colab_type": "code",
        "colab": {
          "base_uri": "https://localhost:8080/",
          "height": 34
        },
        "outputId": "5e6f4cbf-8313-420d-fba5-7e94ef133138"
      },
      "source": [
        "name = '태경'\n",
        "print('%s은 나의 이름입니다' % name)"
      ],
      "execution_count": 27,
      "outputs": [
        {
          "output_type": "stream",
          "text": [
            "태경은 나의 이름입니다\n"
          ],
          "name": "stdout"
        }
      ]
    },
    {
      "cell_type": "code",
      "metadata": {
        "id": "2FZmzfycNcSY",
        "colab_type": "code",
        "colab": {
          "base_uri": "https://localhost:8080/",
          "height": 34
        },
        "outputId": "52c04146-8689-4b86-d15c-03f90972309e"
      },
      "source": [
        "ani = 'cat'\n",
        "ani1 = 'dog'\n",
        "ani2 = 'fox'\n",
        "\n",
        "print('Animal: {}'.format(ani))"
      ],
      "execution_count": 28,
      "outputs": [
        {
          "output_type": "stream",
          "text": [
            "Animal: cat\n"
          ],
          "name": "stdout"
        }
      ]
    }
  ]
}