{
  "nbformat": 4,
  "nbformat_minor": 0,
  "metadata": {
    "colab": {
      "name": "파이썬철저입문5.ipynb",
      "provenance": [],
      "collapsed_sections": [],
      "authorship_tag": "ABX9TyMh/8GHjjwIDO3Iqb6CXMRA",
      "include_colab_link": true
    },
    "kernelspec": {
      "name": "python3",
      "display_name": "Python 3"
    }
  },
  "cells": [
    {
      "cell_type": "markdown",
      "metadata": {
        "id": "view-in-github",
        "colab_type": "text"
      },
      "source": [
        "<a href=\"https://colab.research.google.com/github/Hugekyung/TIL/blob/master/python_basic/%ED%8C%8C%EC%9D%B4%EC%8D%AC%EC%B2%A0%EC%A0%80%EC%9E%85%EB%AC%B85.ipynb\" target=\"_parent\"><img src=\"https://colab.research.google.com/assets/colab-badge.svg\" alt=\"Open In Colab\"/></a>"
      ]
    },
    {
      "cell_type": "markdown",
      "metadata": {
        "id": "LEoqs4A1cUxL",
        "colab_type": "text"
      },
      "source": [
        "# 객체와 클래스"
      ]
    },
    {
      "cell_type": "markdown",
      "metadata": {
        "id": "f_kxwEncc3aw",
        "colab_type": "text"
      },
      "source": [
        "## 객체\n",
        "- 객체 = 속성(상태, 특징) + 행위(행동, 동작, 기능)\n",
        "- ex) 객체가 자전거라면 바퀴의 크기, 색깔 같은 속성은 변수로 구현하고 전진, 방향 전환, 정지 같은 동작은 함수로 구현\n",
        "- 객체지향 언어 : 객체를 만들고 이용할 수 있는 기능을 제공하는 프로그래밍 언어로써 파이썬도 객체지향 언어에 포함"
      ]
    },
    {
      "cell_type": "markdown",
      "metadata": {
        "id": "Rt6zQSi4dsTq",
        "colab_type": "text"
      },
      "source": [
        "## 클래스\n",
        "- 클래스는 객체의 공통된 속성과 행위를 변수와 함수로 정의한 것\n",
        "- 클래스는 객체를 만들기 위한 기본 틀이고 객체는 기본 틀을 바탕으로 만들어진 결과\n",
        "- 객체는 클래스의 '인스턴스(Instance)'\n",
        "- 클래스명은 보통 로마자 알파벳 대문자로 시작(여러 단어 연결 시 처음에만 대문자로 시작\n",
        "- 클래스에서 정의한 함수의 첫 번째 인자는 'self'(self는 객체 생성 후에 자신을 참조하는데 사용됨, 필요 없으면 생략가능)\n",
        "- 클래스에서 정의한 함수를 객체를 생성한 후에 이용할 때는 메서드(method)라고 부름, 이와 상관없이 클래스에서 정의한 함수들을 메서드라고 하기도 함"
      ]
    },
    {
      "cell_type": "code",
      "metadata": {
        "id": "rEDBSxl4bU63",
        "colab_type": "code",
        "colab": {}
      },
      "source": [
        "class Bicycle(): # 클래스 선언\n",
        "    pass\n",
        "\n",
        "my_bicycle = Bicycle() # my_bicycle은 Bicycle클래스의 인스턴스"
      ],
      "execution_count": 2,
      "outputs": []
    },
    {
      "cell_type": "code",
      "metadata": {
        "id": "qfx1ya6nf6I7",
        "colab_type": "code",
        "colab": {}
      },
      "source": [
        "class Bicycle(): # 클래스 선언\n",
        "    \n",
        "    def move(self, speed):\n",
        "        print(\"자전거 : 시속 {}킬로미터로 전진\".format(speed))\n",
        "\n",
        "    def turn(self, direction):\n",
        "        print(\"자전거 : {}회전\".format(direction))\n",
        "\n",
        "    def stop(self):\n",
        "        print(\"자전거({}, {}): 정지 \".format(self.wheel_size, self.color))"
      ],
      "execution_count": 6,
      "outputs": []
    },
    {
      "cell_type": "code",
      "metadata": {
        "id": "p8usBd8hgiuQ",
        "colab_type": "code",
        "colab": {
          "base_uri": "https://localhost:8080/",
          "height": 70
        },
        "outputId": "0505c2e5-8907-41ae-b5fa-3b6bb9ef512f"
      },
      "source": [
        "my_bicycle = Bicycle()\n",
        "\n",
        "# 객체의 속성 설정\n",
        "my_bicycle.wheel_size = 26\n",
        "my_bicycle.color = 'black'\n",
        "\n",
        "# 객체의 메서드 호출\n",
        "my_bicycle.move(30)\n",
        "my_bicycle.turn('좌')\n",
        "my_bicycle.stop()"
      ],
      "execution_count": 7,
      "outputs": [
        {
          "output_type": "stream",
          "text": [
            "자전거 : 시속 30킬로미터로 전진\n",
            "자전거 : 좌회전\n",
            "자전거(26, black): 정지 \n"
          ],
          "name": "stdout"
        }
      ]
    },
    {
      "cell_type": "markdown",
      "metadata": {
        "id": "5Pplc9ssjMvg",
        "colab_type": "text"
      },
      "source": [
        "## 객체 초기화\n",
        "- 클래스 선언 시 초기화 함수 \\_\\_init__()를 구현하면 객체를 생성하는 것과 동시에 속성값 지정 가능\n",
        "- \\_\\_init__()함수는 클래스의 객체가 생성될 때 자동으로 실행되므로 해당 함수에 초기화하려는 인자를 정의하면 객체 생성 시 속성을 초기화할 수 있음"
      ]
    },
    {
      "cell_type": "code",
      "metadata": {
        "id": "ID5uZj4igxAX",
        "colab_type": "code",
        "colab": {}
      },
      "source": [
        "class Bicycle(): # 클래스 선언\n",
        "    \n",
        "    def __init__(self, wheel_size, color): # __init__() 함수에서 인자를 받아 'self.변수명 = 인자'로 객체 속성을 초기화\n",
        "        self.wheel_size = wheel_size\n",
        "        self.color = color\n",
        "\n",
        "    def move(self, speed):\n",
        "        print(\"자전거 : 시속 {}킬로미터로 전진\".format(speed))\n",
        "\n",
        "    def turn(self, direction):\n",
        "        print(\"자전거 : {}회전\".format(direction))\n",
        "\n",
        "    def stop(self):\n",
        "        print(\"자전거({}, {}): 정지 \".format(self.wheel_size, self.color))"
      ],
      "execution_count": 9,
      "outputs": []
    },
    {
      "cell_type": "code",
      "metadata": {
        "id": "EZnPcQBhkWXd",
        "colab_type": "code",
        "colab": {
          "base_uri": "https://localhost:8080/",
          "height": 70
        },
        "outputId": "0f62141b-45a3-428e-fb9b-820425167bea"
      },
      "source": [
        "my_bicycle = Bicycle(26, 'black') # 객체 생성과 동시에 속성값을 지정\n",
        "\n",
        "my_bicycle.move(30)\n",
        "my_bicycle.turn('좌')\n",
        "my_bicycle.stop()"
      ],
      "execution_count": 10,
      "outputs": [
        {
          "output_type": "stream",
          "text": [
            "자전거 : 시속 30킬로미터로 전진\n",
            "자전거 : 좌회전\n",
            "자전거(26, black): 정지 \n"
          ],
          "name": "stdout"
        }
      ]
    }
  ]
}