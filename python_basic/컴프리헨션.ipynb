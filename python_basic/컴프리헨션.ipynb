{
  "nbformat": 4,
  "nbformat_minor": 0,
  "metadata": {
    "colab": {
      "name": "컴프리헨션.ipynb",
      "provenance": [],
      "collapsed_sections": [],
      "include_colab_link": true
    },
    "kernelspec": {
      "name": "python3",
      "display_name": "Python 3"
    }
  },
  "cells": [
    {
      "cell_type": "markdown",
      "metadata": {
        "id": "view-in-github",
        "colab_type": "text"
      },
      "source": [
        "<a href=\"https://colab.research.google.com/github/Hugekyung/TIL/blob/master/python_basic/%EC%BB%B4%ED%94%84%EB%A6%AC%ED%97%A8%EC%85%98.ipynb\" target=\"_parent\"><img src=\"https://colab.research.google.com/assets/colab-badge.svg\" alt=\"Open In Colab\"/></a>"
      ]
    },
    {
      "cell_type": "markdown",
      "metadata": {
        "id": "Rz5MRVwOdrlT",
        "colab_type": "text"
      },
      "source": [
        "# 이 파일의 모든 문제는 컴프리헨션을 이용해 풀어야 합니다."
      ]
    },
    {
      "cell_type": "markdown",
      "metadata": {
        "id": "QBJffdhilZ08",
        "colab_type": "text"
      },
      "source": [
        "문제1. 3~32까지 30개의 원소를 갖는 리스트를 만들어보세요."
      ]
    },
    {
      "cell_type": "code",
      "metadata": {
        "id": "C85muY6Qdn65",
        "colab_type": "code",
        "colab": {
          "base_uri": "https://localhost:8080/",
          "height": 54
        },
        "outputId": "a3ee7808-c423-49da-93ae-81ce3fca34c1"
      },
      "source": [
        "x = [i for i in range(3,33)]\n",
        "print(x)"
      ],
      "execution_count": null,
      "outputs": [
        {
          "output_type": "stream",
          "text": [
            "[3, 4, 5, 6, 7, 8, 9, 10, 11, 12, 13, 14, 15, 16, 17, 18, 19, 20, 21, 22, 23, 24, 25, 26, 27, 28, 29, 30, 31, 32]\n"
          ],
          "name": "stdout"
        }
      ]
    },
    {
      "cell_type": "markdown",
      "metadata": {
        "id": "E8PTR14llkoe",
        "colab_type": "text"
      },
      "source": [
        "문제2. 100이하의 짝수를 원소로 갖는 리스트를 만들어보세요."
      ]
    },
    {
      "cell_type": "code",
      "metadata": {
        "id": "L36wlMMMlqaN",
        "colab_type": "code",
        "colab": {
          "base_uri": "https://localhost:8080/",
          "height": 54
        },
        "outputId": "95738649-aee7-4230-bf68-330f9da58982"
      },
      "source": [
        "#2-1. for문만을 내포해서 풀어보세요.\n",
        "x = [i for i in range(0,101,2)]\n",
        "print(x)"
      ],
      "execution_count": null,
      "outputs": [
        {
          "output_type": "stream",
          "text": [
            "[0, 2, 4, 6, 8, 10, 12, 14, 16, 18, 20, 22, 24, 26, 28, 30, 32, 34, 36, 38, 40, 42, 44, 46, 48, 50, 52, 54, 56, 58, 60, 62, 64, 66, 68, 70, 72, 74, 76, 78, 80, 82, 84, 86, 88, 90, 92, 94, 96, 98, 100]\n"
          ],
          "name": "stdout"
        }
      ]
    },
    {
      "cell_type": "code",
      "metadata": {
        "id": "gNJvDDJ8mSSB",
        "colab_type": "code",
        "colab": {
          "base_uri": "https://localhost:8080/",
          "height": 54
        },
        "outputId": "94adabe7-50b6-4735-a2e8-09fa5a6e949c"
      },
      "source": [
        "#for + if 혼용해서 해결해보세요.\n",
        "x = [i for i in range(101) if i % 2 == 0]\n",
        "print(x)"
      ],
      "execution_count": null,
      "outputs": [
        {
          "output_type": "stream",
          "text": [
            "[0, 2, 4, 6, 8, 10, 12, 14, 16, 18, 20, 22, 24, 26, 28, 30, 32, 34, 36, 38, 40, 42, 44, 46, 48, 50, 52, 54, 56, 58, 60, 62, 64, 66, 68, 70, 72, 74, 76, 78, 80, 82, 84, 86, 88, 90, 92, 94, 96, 98, 100]\n"
          ],
          "name": "stdout"
        }
      ]
    },
    {
      "cell_type": "markdown",
      "metadata": {
        "id": "iJztbGOCpWF_",
        "colab_type": "text"
      },
      "source": [
        "문제3. 길이가 10인 리스트에서 홀수번째는 'odd' 짝수번째는 'even'이라는 원소를 담도록 만들어보세요.\n",
        "\n",
        "결과 :  \n",
        "['odd', 'even', 'odd', 'even', 'odd', 'even', 'odd', 'even', 'odd', 'even']"
      ]
    },
    {
      "cell_type": "code",
      "metadata": {
        "id": "7a88B-VDsRIn",
        "colab_type": "code",
        "colab": {
          "base_uri": "https://localhost:8080/",
          "height": 34
        },
        "outputId": "84feb18e-68f3-41fe-b8a0-5a10a09635cc"
      },
      "source": [
        "# x = ['odd' for i in range(10) if i % 2 == 1 else 'even'] --> 이렇게는 안돼\n",
        "\n",
        "x = ['odd' if i % 2 == 1 else 'even' for i in range(10)]\n",
        "x \n",
        "## if 조건이 붙을 경우 앞으로, for문을 뒤로"
      ],
      "execution_count": null,
      "outputs": [
        {
          "output_type": "execute_result",
          "data": {
            "text/plain": [
              "['even', 'odd', 'even', 'odd', 'even', 'odd', 'even', 'odd', 'even', 'odd']"
            ]
          },
          "metadata": {
            "tags": []
          },
          "execution_count": 14
        }
      ]
    },
    {
      "cell_type": "markdown",
      "metadata": {
        "id": "4nBX3WKmcpZY",
        "colab_type": "text"
      },
      "source": [
        "문제4. type이 str(문자)인 인덱스를 원소로 갖는 길이가 10인 리스트를 컴프리헨션을 이용해 만들어보세요.  \n",
        "  \n",
        "결과 :  \n",
        "['0', '1', '2', '3', '4', '5', '6', '7', '8', '9']"
      ]
    },
    {
      "cell_type": "code",
      "metadata": {
        "id": "xD1tYdWeudor",
        "colab_type": "code",
        "colab": {
          "base_uri": "https://localhost:8080/",
          "height": 34
        },
        "outputId": "59cbf815-fdc7-4bc9-bae4-36943984e9ea"
      },
      "source": [
        "x = [str(i) for i in range(10)]\n",
        "print(x)"
      ],
      "execution_count": null,
      "outputs": [
        {
          "output_type": "stream",
          "text": [
            "['0', '1', '2', '3', '4', '5', '6', '7', '8', '9']\n"
          ],
          "name": "stdout"
        }
      ]
    },
    {
      "cell_type": "markdown",
      "metadata": {
        "id": "ug32y1srtujw",
        "colab_type": "text"
      },
      "source": [
        "문제5. 인덱스를 기준으로 다음과 같이 인덱스에 맞는 문자열을 원소로 갖는 길이가 10인 리스트를 만들어 보세요.   \n",
        "idx = 0 -> zero   \n",
        "idx = 홀수 -> odd  \n",
        "idx = 짝수 -> even  \n",
        "  \n",
        "결과 :   \n",
        "['zero', 'odd', 'even', 'odd', 'even', 'odd', 'even', 'odd', 'even', 'odd']"
      ]
    },
    {
      "cell_type": "code",
      "metadata": {
        "id": "8lWoCIa3t5Hf",
        "colab_type": "code",
        "colab": {
          "base_uri": "https://localhost:8080/",
          "height": 34
        },
        "outputId": "7a9cec65-fd90-4209-d40a-2902a28ca9a1"
      },
      "source": [
        "x = ['zero' if i == 0 else 'odd' if i % 2 == 1 else 'even' for i in range(10)]\n",
        "print(x)"
      ],
      "execution_count": null,
      "outputs": [
        {
          "output_type": "stream",
          "text": [
            "['zero', 'odd', 'even', 'odd', 'even', 'odd', 'even', 'odd', 'even', 'odd']\n"
          ],
          "name": "stdout"
        }
      ]
    }
  ]
}