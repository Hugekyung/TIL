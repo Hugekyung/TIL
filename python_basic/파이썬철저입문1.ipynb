{
  "nbformat": 4,
  "nbformat_minor": 0,
  "metadata": {
    "colab": {
      "name": "파이썬철저입문1.ipynb",
      "provenance": [],
      "collapsed_sections": [],
      "authorship_tag": "ABX9TyPbSlv++LTj6243ZGXgCNAw",
      "include_colab_link": true
    },
    "kernelspec": {
      "name": "python3",
      "display_name": "Python 3"
    }
  },
  "cells": [
    {
      "cell_type": "markdown",
      "metadata": {
        "id": "view-in-github",
        "colab_type": "text"
      },
      "source": [
        "<a href=\"https://colab.research.google.com/github/Hugekyung/TIL/blob/master/python_basic/%ED%8C%8C%EC%9D%B4%EC%8D%AC%EC%B2%A0%EC%A0%80%EC%9E%85%EB%AC%B81.ipynb\" target=\"_parent\"><img src=\"https://colab.research.google.com/assets/colab-badge.svg\" alt=\"Open In Colab\"/></a>"
      ]
    },
    {
      "cell_type": "markdown",
      "metadata": {
        "id": "wH9Wzbho5nCn",
        "colab_type": "text"
      },
      "source": [
        "# 1. 과학적 표기법"
      ]
    },
    {
      "cell_type": "code",
      "metadata": {
        "id": "Wb8XM6Qd5hpe",
        "colab_type": "code",
        "colab": {
          "base_uri": "https://localhost:8080/",
          "height": 34
        },
        "outputId": "5f9ecb65-65ac-40a4-c884-7f4d3484068b"
      },
      "source": [
        "# 3x10의 8제곱\n",
        "3 * 10 ** 8"
      ],
      "execution_count": 1,
      "outputs": [
        {
          "output_type": "execute_result",
          "data": {
            "text/plain": [
              "300000000"
            ]
          },
          "metadata": {
            "tags": []
          },
          "execution_count": 1
        }
      ]
    },
    {
      "cell_type": "code",
      "metadata": {
        "id": "Pbs8q89f53pC",
        "colab_type": "code",
        "colab": {
          "base_uri": "https://localhost:8080/",
          "height": 34
        },
        "outputId": "49d9d934-193b-4836-9910-f0bd917ddfb4"
      },
      "source": [
        "# 과학적 표기법\n",
        "3e8"
      ],
      "execution_count": 2,
      "outputs": [
        {
          "output_type": "execute_result",
          "data": {
            "text/plain": [
              "300000000.0"
            ]
          },
          "metadata": {
            "tags": []
          },
          "execution_count": 2
        }
      ]
    },
    {
      "cell_type": "code",
      "metadata": {
        "id": "QzjGZLlk57-W",
        "colab_type": "code",
        "colab": {
          "base_uri": "https://localhost:8080/",
          "height": 34
        },
        "outputId": "f82b608c-7770-4db6-ec24-da43502eb66f"
      },
      "source": [
        "1e-4 # en앞에는 항상 숫자가 있어야 한다 "
      ],
      "execution_count": 4,
      "outputs": [
        {
          "output_type": "execute_result",
          "data": {
            "text/plain": [
              "0.0001"
            ]
          },
          "metadata": {
            "tags": []
          },
          "execution_count": 4
        }
      ]
    },
    {
      "cell_type": "markdown",
      "metadata": {
        "id": "z6mBlnT4JqiV",
        "colab_type": "text"
      },
      "source": [
        "# 2. 딕셔너리"
      ]
    },
    {
      "cell_type": "code",
      "metadata": {
        "id": "zzdd0eHz6AJm",
        "colab_type": "code",
        "colab": {}
      },
      "source": [
        "country_capital = {'덴마크' : '코펜하겐', '스위스' : ' 베른', '영국' : '런던', '프랑스' : '파리', '호주' : '멜버른'}"
      ],
      "execution_count": 5,
      "outputs": []
    },
    {
      "cell_type": "code",
      "metadata": {
        "id": "5LPQRhVFJ7kO",
        "colab_type": "code",
        "colab": {
          "base_uri": "https://localhost:8080/",
          "height": 122
        },
        "outputId": "b60241a1-14d4-4604-bb3a-58a76f305780"
      },
      "source": [
        "country_capital['독일'] = '베를린'\n",
        "country_capital"
      ],
      "execution_count": 6,
      "outputs": [
        {
          "output_type": "execute_result",
          "data": {
            "text/plain": [
              "{'덴마크': '코펜하겐',\n",
              " '독일': '베를린',\n",
              " '스위스': ' 베른',\n",
              " '영국': '런던',\n",
              " '프랑스': '파리',\n",
              " '호주': '멜버른'}"
            ]
          },
          "metadata": {
            "tags": []
          },
          "execution_count": 6
        }
      ]
    },
    {
      "cell_type": "code",
      "metadata": {
        "id": "SUkSDL1hKCl-",
        "colab_type": "code",
        "colab": {
          "base_uri": "https://localhost:8080/",
          "height": 122
        },
        "outputId": "d33aa174-1f25-455c-8718-589d75dc9e9e"
      },
      "source": [
        "country_capital['호주'] = '캔버라'\n",
        "country_capital"
      ],
      "execution_count": 7,
      "outputs": [
        {
          "output_type": "execute_result",
          "data": {
            "text/plain": [
              "{'덴마크': '코펜하겐',\n",
              " '독일': '베를린',\n",
              " '스위스': ' 베른',\n",
              " '영국': '런던',\n",
              " '프랑스': '파리',\n",
              " '호주': '캔버라'}"
            ]
          },
          "metadata": {
            "tags": []
          },
          "execution_count": 7
        }
      ]
    },
    {
      "cell_type": "code",
      "metadata": {
        "id": "-Pf7O8TnKH4W",
        "colab_type": "code",
        "colab": {
          "base_uri": "https://localhost:8080/",
          "height": 34
        },
        "outputId": "71be4d03-e5fc-440c-aa88-0e8db7e8b61b"
      },
      "source": [
        "del country_capital['덴마크']\n",
        "country_capital"
      ],
      "execution_count": 8,
      "outputs": [
        {
          "output_type": "execute_result",
          "data": {
            "text/plain": [
              "{'독일': '베를린', '스위스': ' 베른', '영국': '런던', '프랑스': '파리', '호주': '캔버라'}"
            ]
          },
          "metadata": {
            "tags": []
          },
          "execution_count": 8
        }
      ]
    },
    {
      "cell_type": "code",
      "metadata": {
        "id": "nEIXZ9BaKOaC",
        "colab_type": "code",
        "colab": {
          "base_uri": "https://localhost:8080/",
          "height": 34
        },
        "outputId": "a0d3c398-158f-4303-c696-14387277faa4"
      },
      "source": [
        "country_capital.keys()"
      ],
      "execution_count": 10,
      "outputs": [
        {
          "output_type": "execute_result",
          "data": {
            "text/plain": [
              "dict_keys(['스위스', '영국', '프랑스', '호주', '독일'])"
            ]
          },
          "metadata": {
            "tags": []
          },
          "execution_count": 10
        }
      ]
    },
    {
      "cell_type": "code",
      "metadata": {
        "id": "MQB3V5HmKSER",
        "colab_type": "code",
        "colab": {
          "base_uri": "https://localhost:8080/",
          "height": 34
        },
        "outputId": "a04f56f0-6e82-43e5-d7b5-52c405a752d0"
      },
      "source": [
        "country_capital.values()"
      ],
      "execution_count": 11,
      "outputs": [
        {
          "output_type": "execute_result",
          "data": {
            "text/plain": [
              "dict_values([' 베른', '런던', '파리', '캔버라', '베를린'])"
            ]
          },
          "metadata": {
            "tags": []
          },
          "execution_count": 11
        }
      ]
    },
    {
      "cell_type": "code",
      "metadata": {
        "id": "BsEzbqP2KW9I",
        "colab_type": "code",
        "colab": {
          "base_uri": "https://localhost:8080/",
          "height": 34
        },
        "outputId": "ae7ef38a-2e2e-4a0b-d26e-5ca13f5ee7be"
      },
      "source": [
        "country_capital.items()"
      ],
      "execution_count": 12,
      "outputs": [
        {
          "output_type": "execute_result",
          "data": {
            "text/plain": [
              "dict_items([('스위스', ' 베른'), ('영국', '런던'), ('프랑스', '파리'), ('호주', '캔버라'), ('독일', '베를린')])"
            ]
          },
          "metadata": {
            "tags": []
          },
          "execution_count": 12
        }
      ]
    },
    {
      "cell_type": "code",
      "metadata": {
        "id": "fOJg7nejKZey",
        "colab_type": "code",
        "colab": {
          "base_uri": "https://localhost:8080/",
          "height": 34
        },
        "outputId": "0b043fa8-d962-49bf-e3b4-728886cf7a56"
      },
      "source": [
        "list(country_capital.keys())"
      ],
      "execution_count": 13,
      "outputs": [
        {
          "output_type": "execute_result",
          "data": {
            "text/plain": [
              "['스위스', '영국', '프랑스', '호주', '독일']"
            ]
          },
          "metadata": {
            "tags": []
          },
          "execution_count": 13
        }
      ]
    },
    {
      "cell_type": "code",
      "metadata": {
        "id": "I392udsEKiOE",
        "colab_type": "code",
        "colab": {
          "base_uri": "https://localhost:8080/",
          "height": 34
        },
        "outputId": "b8dede50-cec5-4ff3-f8e7-ffd7bad3e918"
      },
      "source": [
        "list(country_capital.values())"
      ],
      "execution_count": 15,
      "outputs": [
        {
          "output_type": "execute_result",
          "data": {
            "text/plain": [
              "[' 베른', '런던', '파리', '캔버라', '베를린']"
            ]
          },
          "metadata": {
            "tags": []
          },
          "execution_count": 15
        }
      ]
    },
    {
      "cell_type": "code",
      "metadata": {
        "id": "4LFPotEVKl4h",
        "colab_type": "code",
        "colab": {
          "base_uri": "https://localhost:8080/",
          "height": 140
        },
        "outputId": "631540cb-b169-4355-82a2-0057ad3c5877"
      },
      "source": [
        "country_capital_n = {'한국' : '서울', '일본' : '도쿄'}\n",
        "country_capital.update(country_capital_n)\n",
        "country_capital"
      ],
      "execution_count": 16,
      "outputs": [
        {
          "output_type": "execute_result",
          "data": {
            "text/plain": [
              "{'독일': '베를린',\n",
              " '스위스': ' 베른',\n",
              " '영국': '런던',\n",
              " '일본': '도쿄',\n",
              " '프랑스': '파리',\n",
              " '한국': '서울',\n",
              " '호주': '캔버라'}"
            ]
          },
          "metadata": {
            "tags": []
          },
          "execution_count": 16
        }
      ]
    },
    {
      "cell_type": "code",
      "metadata": {
        "id": "xVmYB_mzK5F_",
        "colab_type": "code",
        "colab": {
          "base_uri": "https://localhost:8080/",
          "height": 140
        },
        "outputId": "b153ce22-a860-4cf4-84ee-25f911ec70f6"
      },
      "source": [
        "for i, (elem, values) in enumerate(country_capital.items()):\n",
        "    print(i, elem, values)"
      ],
      "execution_count": 18,
      "outputs": [
        {
          "output_type": "stream",
          "text": [
            "0 스위스  베른\n",
            "1 영국 런던\n",
            "2 프랑스 파리\n",
            "3 호주 캔버라\n",
            "4 독일 베를린\n",
            "5 한국 서울\n",
            "6 일본 도쿄\n"
          ],
          "name": "stdout"
        }
      ]
    },
    {
      "cell_type": "markdown",
      "metadata": {
        "id": "dqio8yhbNSuQ",
        "colab_type": "text"
      },
      "source": [
        "# 3. if문"
      ]
    },
    {
      "cell_type": "code",
      "metadata": {
        "id": "EYR4uxQSLK8p",
        "colab_type": "code",
        "colab": {
          "base_uri": "https://localhost:8080/",
          "height": 52
        },
        "outputId": "11504e74-af15-4e56-a9a2-21845dfbac88"
      },
      "source": [
        "user = int(input('원하는 숫자를 입력하세요'))\n",
        "if user >= 90:\n",
        "    print('Very good')\n",
        "elif 80 <= user <= 90:\n",
        "    print('Good')\n",
        "else:\n",
        "    print('Bad')\n"
      ],
      "execution_count": 21,
      "outputs": [
        {
          "output_type": "stream",
          "text": [
            "원하는 숫자를 입력하세요76\n",
            "Bad\n"
          ],
          "name": "stdout"
        }
      ]
    },
    {
      "cell_type": "code",
      "metadata": {
        "id": "1KFADdNHOFCw",
        "colab_type": "code",
        "colab": {
          "base_uri": "https://localhost:8080/",
          "height": 52
        },
        "outputId": "112d8153-1da4-4033-fe7e-45804f226ecc"
      },
      "source": [
        "# 중첩 조건문 만들기\n",
        "user = int(input('원하는 숫자를 입력하세요'))\n",
        "if user >= 90:\n",
        "    if user == 100:\n",
        "        print('Perfect')\n",
        "    else:\n",
        "        print('Very good')\n",
        "elif 80 <= user <= 90:\n",
        "    print('Good')\n",
        "else:\n",
        "    print('Bad')\n"
      ],
      "execution_count": 24,
      "outputs": [
        {
          "output_type": "stream",
          "text": [
            "원하는 숫자를 입력하세요100\n",
            "Perfect\n"
          ],
          "name": "stdout"
        }
      ]
    }
  ]
}