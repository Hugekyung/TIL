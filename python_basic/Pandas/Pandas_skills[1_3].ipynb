{
  "nbformat": 4,
  "nbformat_minor": 0,
  "metadata": {
    "colab": {
      "name": "Pandas_skills[1-3].ipynb",
      "provenance": [],
      "collapsed_sections": [],
      "authorship_tag": "ABX9TyNXkcV0PxtXDLnvEbk6w3Zx",
      "include_colab_link": true
    },
    "kernelspec": {
      "name": "python3",
      "display_name": "Python 3"
    }
  },
  "cells": [
    {
      "cell_type": "markdown",
      "metadata": {
        "id": "view-in-github",
        "colab_type": "text"
      },
      "source": [
        "<a href=\"https://colab.research.google.com/github/Hugekyung/TIL/blob/master/python_basic/Pandas/Pandas_skills%5B1_3%5D.ipynb\" target=\"_parent\"><img src=\"https://colab.research.google.com/assets/colab-badge.svg\" alt=\"Open In Colab\"/></a>"
      ]
    },
    {
      "cell_type": "markdown",
      "metadata": {
        "id": "qYq2f7El43eI",
        "colab_type": "text"
      },
      "source": [
        "# Pandas skills  \n",
        "1. Object Creation  \n",
        "2. Viewing Data  \n",
        "3. Selection  \n",
        "4. Missing Data  \n",
        "5. Operation  \n",
        "6. Merge\n",
        "7. Grouping  \n",
        "8. Reshapeing  \n",
        "10. Time Series  \n",
        "11. Categoricals  \n",
        "12. Plotting  \n",
        "13. Getting Data In / Out  \n",
        "14. Gotchas"
      ]
    },
    {
      "cell_type": "code",
      "metadata": {
        "id": "7L3Z6iJo4qZC",
        "colab_type": "code",
        "colab": {}
      },
      "source": [
        "import pandas as pd\n",
        "import numpy as np\n",
        "import matplotlib.pyplot as plt"
      ],
      "execution_count": 1,
      "outputs": []
    },
    {
      "cell_type": "markdown",
      "metadata": {
        "id": "YmwuVOFq5sbx",
        "colab_type": "text"
      },
      "source": [
        "## 1. Object Creation (객체 생성)"
      ]
    },
    {
      "cell_type": "code",
      "metadata": {
        "id": "AZsaEN1j5rf4",
        "colab_type": "code",
        "colab": {
          "base_uri": "https://localhost:8080/",
          "height": 140
        },
        "outputId": "1f05673d-cc08-496b-9ced-1724e088d908"
      },
      "source": [
        "pd.Series([1,3,5,np.nan,6,8])\n",
        "# 결측지 종류\n",
        "# None : 누락된 데이터 // NaN : 숫자가 아닌 값"
      ],
      "execution_count": 5,
      "outputs": [
        {
          "output_type": "execute_result",
          "data": {
            "text/plain": [
              "0    1.0\n",
              "1    3.0\n",
              "2    5.0\n",
              "3    NaN\n",
              "4    6.0\n",
              "5    8.0\n",
              "dtype: float64"
            ]
          },
          "metadata": {
            "tags": []
          },
          "execution_count": 5
        }
      ]
    },
    {
      "cell_type": "code",
      "metadata": {
        "id": "m0bch64AWY9d",
        "colab_type": "code",
        "colab": {}
      },
      "source": [
        "dates = pd.date_range('20200801', periods=6)"
      ],
      "execution_count": 7,
      "outputs": []
    },
    {
      "cell_type": "markdown",
      "metadata": {
        "id": "yDaLc_rr3rpk",
        "colab_type": "text"
      },
      "source": [
        "### numpy의 np.random.randint(rand/randn)\n",
        "- np.random.seed : seed를 통한 난수 생성  \n",
        "- np.random.randint : 균일 분포의 정수 난수 1개 생성\n",
        "- np.random.rand : 0부터 1사이의 균일 분포에서 난수 matrix array생성\n",
        "- np.random.randn : 가우시안 표준 정규분포에서 난수 matrix array생성"
      ]
    },
    {
      "cell_type": "code",
      "metadata": {
        "id": "yuq2pMvU50Xx",
        "colab_type": "code",
        "colab": {
          "base_uri": "https://localhost:8080/",
          "height": 34
        },
        "outputId": "6f64fd4d-fd25-4129-a899-6054e7c82fc8"
      },
      "source": [
        "np.random.randint(6) # 0부터 5까지 랜덤한 숫자 1개 출력"
      ],
      "execution_count": 11,
      "outputs": [
        {
          "output_type": "execute_result",
          "data": {
            "text/plain": [
              "1"
            ]
          },
          "metadata": {
            "tags": []
          },
          "execution_count": 11
        }
      ]
    },
    {
      "cell_type": "code",
      "metadata": {
        "id": "McU-rDFa586b",
        "colab_type": "code",
        "colab": {
          "base_uri": "https://localhost:8080/",
          "height": 34
        },
        "outputId": "801fbec6-b5ee-44a2-8bd1-536191de777f"
      },
      "source": [
        "np.random.randint(1, 20) # 1부터 19까지 랜덤숫자 1개"
      ],
      "execution_count": 20,
      "outputs": [
        {
          "output_type": "execute_result",
          "data": {
            "text/plain": [
              "18"
            ]
          },
          "metadata": {
            "tags": []
          },
          "execution_count": 20
        }
      ]
    },
    {
      "cell_type": "code",
      "metadata": {
        "id": "6fP8h9xl6xEB",
        "colab_type": "code",
        "colab": {
          "base_uri": "https://localhost:8080/",
          "height": 52
        },
        "outputId": "cf018bc9-1c65-41fb-c1f7-76ea22936df2"
      },
      "source": [
        "np.random.rand(6) # 0~1의 균일분포 표준정규분포 난수를 matrix array로 생성"
      ],
      "execution_count": 23,
      "outputs": [
        {
          "output_type": "execute_result",
          "data": {
            "text/plain": [
              "array([0.93904999, 0.59967999, 0.98104284, 0.85661038, 0.54774134,\n",
              "       0.09362937])"
            ]
          },
          "metadata": {
            "tags": []
          },
          "execution_count": 23
        }
      ]
    },
    {
      "cell_type": "code",
      "metadata": {
        "id": "nKzmHWue6Ws3",
        "colab_type": "code",
        "colab": {
          "base_uri": "https://localhost:8080/",
          "height": 52
        },
        "outputId": "092bca29-020c-4594-dd9f-85a2b96ff0af"
      },
      "source": [
        "np.random.randn(6) # 평균0, 표준편차1의 가우시안 표준정규분포 난수를 matrix array로 생성"
      ],
      "execution_count": 22,
      "outputs": [
        {
          "output_type": "execute_result",
          "data": {
            "text/plain": [
              "array([ 1.55045578, -0.60029082,  1.73311308, -1.05298294, -1.00379931,\n",
              "        0.61911294])"
            ]
          },
          "metadata": {
            "tags": []
          },
          "execution_count": 22
        }
      ]
    },
    {
      "cell_type": "code",
      "metadata": {
        "id": "qYEaUHWM2ToF",
        "colab_type": "code",
        "colab": {
          "base_uri": "https://localhost:8080/",
          "height": 122
        },
        "outputId": "85273926-0037-498e-fd04-78cc7549ce2d"
      },
      "source": [
        "np.random.randn(6,4)"
      ],
      "execution_count": 10,
      "outputs": [
        {
          "output_type": "execute_result",
          "data": {
            "text/plain": [
              "array([[-0.62233694, -1.53195266, -0.2249872 , -2.28649086],\n",
              "       [ 1.00517029, -1.27946364, -0.91808756, -0.73781378],\n",
              "       [ 0.16417837,  1.34989947,  1.56790988, -1.41330146],\n",
              "       [ 1.32897881, -0.52492791,  1.37773722, -1.04375474],\n",
              "       [-0.54624161, -0.00973186, -1.13843371,  0.2696019 ],\n",
              "       [ 0.49701383,  1.0645552 , -1.74293349,  0.63731514]])"
            ]
          },
          "metadata": {
            "tags": []
          },
          "execution_count": 10
        }
      ]
    },
    {
      "cell_type": "code",
      "metadata": {
        "id": "yJfpCs_63gb_",
        "colab_type": "code",
        "colab": {}
      },
      "source": [
        "np.random.rand"
      ],
      "execution_count": null,
      "outputs": []
    },
    {
      "cell_type": "code",
      "metadata": {
        "id": "4laJeVZKXPMq",
        "colab_type": "code",
        "colab": {
          "base_uri": "https://localhost:8080/",
          "height": 225
        },
        "outputId": "c06815b2-6c56-492a-dd6d-200760e4ae96"
      },
      "source": [
        "df = pd.DataFrame(np.random.randn(6,4), index=dates, columns=list('ABCD'))\n",
        "df"
      ],
      "execution_count": 9,
      "outputs": [
        {
          "output_type": "execute_result",
          "data": {
            "text/html": [
              "<div>\n",
              "<style scoped>\n",
              "    .dataframe tbody tr th:only-of-type {\n",
              "        vertical-align: middle;\n",
              "    }\n",
              "\n",
              "    .dataframe tbody tr th {\n",
              "        vertical-align: top;\n",
              "    }\n",
              "\n",
              "    .dataframe thead th {\n",
              "        text-align: right;\n",
              "    }\n",
              "</style>\n",
              "<table border=\"1\" class=\"dataframe\">\n",
              "  <thead>\n",
              "    <tr style=\"text-align: right;\">\n",
              "      <th></th>\n",
              "      <th>A</th>\n",
              "      <th>B</th>\n",
              "      <th>C</th>\n",
              "      <th>D</th>\n",
              "    </tr>\n",
              "  </thead>\n",
              "  <tbody>\n",
              "    <tr>\n",
              "      <th>2020-08-01</th>\n",
              "      <td>-0.127163</td>\n",
              "      <td>-0.047479</td>\n",
              "      <td>-0.003089</td>\n",
              "      <td>-0.702017</td>\n",
              "    </tr>\n",
              "    <tr>\n",
              "      <th>2020-08-02</th>\n",
              "      <td>-1.617449</td>\n",
              "      <td>-0.713745</td>\n",
              "      <td>1.505878</td>\n",
              "      <td>-0.363672</td>\n",
              "    </tr>\n",
              "    <tr>\n",
              "      <th>2020-08-03</th>\n",
              "      <td>1.916352</td>\n",
              "      <td>-1.080539</td>\n",
              "      <td>0.329807</td>\n",
              "      <td>-0.521748</td>\n",
              "    </tr>\n",
              "    <tr>\n",
              "      <th>2020-08-04</th>\n",
              "      <td>-0.127509</td>\n",
              "      <td>0.248788</td>\n",
              "      <td>-1.974687</td>\n",
              "      <td>-0.652776</td>\n",
              "    </tr>\n",
              "    <tr>\n",
              "      <th>2020-08-05</th>\n",
              "      <td>0.752654</td>\n",
              "      <td>1.366403</td>\n",
              "      <td>-1.470055</td>\n",
              "      <td>-1.165753</td>\n",
              "    </tr>\n",
              "    <tr>\n",
              "      <th>2020-08-06</th>\n",
              "      <td>-0.480413</td>\n",
              "      <td>-0.800943</td>\n",
              "      <td>-0.356288</td>\n",
              "      <td>0.007065</td>\n",
              "    </tr>\n",
              "  </tbody>\n",
              "</table>\n",
              "</div>"
            ],
            "text/plain": [
              "                   A         B         C         D\n",
              "2020-08-01 -0.127163 -0.047479 -0.003089 -0.702017\n",
              "2020-08-02 -1.617449 -0.713745  1.505878 -0.363672\n",
              "2020-08-03  1.916352 -1.080539  0.329807 -0.521748\n",
              "2020-08-04 -0.127509  0.248788 -1.974687 -0.652776\n",
              "2020-08-05  0.752654  1.366403 -1.470055 -1.165753\n",
              "2020-08-06 -0.480413 -0.800943 -0.356288  0.007065"
            ]
          },
          "metadata": {
            "tags": []
          },
          "execution_count": 9
        }
      ]
    },
    {
      "cell_type": "code",
      "metadata": {
        "id": "rTC7NbGL2M8p",
        "colab_type": "code",
        "colab": {
          "base_uri": "https://localhost:8080/",
          "height": 166
        },
        "outputId": "cb8a9384-2313-4a3b-e877-ab2bba965f98"
      },
      "source": [
        "df2 = pd.DataFrame({'A' : 1.,\n",
        "                    'B' : pd.Timestamp('20130102'),\n",
        "                    'C' : pd.Series(1,index=list(range(4)),dtype='float32'),\n",
        "                    'D' : np.array([3] * 4,dtype='int32'),\n",
        "                    'E' : pd.Categorical([\"test\",\"train\",\"test\",\"train\"]),\n",
        "                    'F' : 'foo' })\n",
        "df2"
      ],
      "execution_count": 25,
      "outputs": [
        {
          "output_type": "execute_result",
          "data": {
            "text/html": [
              "<div>\n",
              "<style scoped>\n",
              "    .dataframe tbody tr th:only-of-type {\n",
              "        vertical-align: middle;\n",
              "    }\n",
              "\n",
              "    .dataframe tbody tr th {\n",
              "        vertical-align: top;\n",
              "    }\n",
              "\n",
              "    .dataframe thead th {\n",
              "        text-align: right;\n",
              "    }\n",
              "</style>\n",
              "<table border=\"1\" class=\"dataframe\">\n",
              "  <thead>\n",
              "    <tr style=\"text-align: right;\">\n",
              "      <th></th>\n",
              "      <th>A</th>\n",
              "      <th>B</th>\n",
              "      <th>C</th>\n",
              "      <th>D</th>\n",
              "      <th>E</th>\n",
              "      <th>F</th>\n",
              "    </tr>\n",
              "  </thead>\n",
              "  <tbody>\n",
              "    <tr>\n",
              "      <th>0</th>\n",
              "      <td>1.0</td>\n",
              "      <td>2013-01-02</td>\n",
              "      <td>1.0</td>\n",
              "      <td>3</td>\n",
              "      <td>test</td>\n",
              "      <td>foo</td>\n",
              "    </tr>\n",
              "    <tr>\n",
              "      <th>1</th>\n",
              "      <td>1.0</td>\n",
              "      <td>2013-01-02</td>\n",
              "      <td>1.0</td>\n",
              "      <td>3</td>\n",
              "      <td>train</td>\n",
              "      <td>foo</td>\n",
              "    </tr>\n",
              "    <tr>\n",
              "      <th>2</th>\n",
              "      <td>1.0</td>\n",
              "      <td>2013-01-02</td>\n",
              "      <td>1.0</td>\n",
              "      <td>3</td>\n",
              "      <td>test</td>\n",
              "      <td>foo</td>\n",
              "    </tr>\n",
              "    <tr>\n",
              "      <th>3</th>\n",
              "      <td>1.0</td>\n",
              "      <td>2013-01-02</td>\n",
              "      <td>1.0</td>\n",
              "      <td>3</td>\n",
              "      <td>train</td>\n",
              "      <td>foo</td>\n",
              "    </tr>\n",
              "  </tbody>\n",
              "</table>\n",
              "</div>"
            ],
            "text/plain": [
              "     A          B    C  D      E    F\n",
              "0  1.0 2013-01-02  1.0  3   test  foo\n",
              "1  1.0 2013-01-02  1.0  3  train  foo\n",
              "2  1.0 2013-01-02  1.0  3   test  foo\n",
              "3  1.0 2013-01-02  1.0  3  train  foo"
            ]
          },
          "metadata": {
            "tags": []
          },
          "execution_count": 25
        }
      ]
    },
    {
      "cell_type": "code",
      "metadata": {
        "id": "Tl0U7sze9IGe",
        "colab_type": "code",
        "colab": {
          "base_uri": "https://localhost:8080/",
          "height": 140
        },
        "outputId": "40d497e9-377b-469e-b13a-f1957c3faed6"
      },
      "source": [
        "df2.dtypes"
      ],
      "execution_count": 30,
      "outputs": [
        {
          "output_type": "execute_result",
          "data": {
            "text/plain": [
              "A           float64\n",
              "B    datetime64[ns]\n",
              "C           float32\n",
              "D             int32\n",
              "E          category\n",
              "F            object\n",
              "dtype: object"
            ]
          },
          "metadata": {
            "tags": []
          },
          "execution_count": 30
        }
      ]
    },
    {
      "cell_type": "markdown",
      "metadata": {
        "id": "1XHFXCMy_YvE",
        "colab_type": "text"
      },
      "source": [
        "## 2. Viewing Data (데이터 확인하기)"
      ]
    },
    {
      "cell_type": "code",
      "metadata": {
        "id": "5FR2lj2q-h9l",
        "colab_type": "code",
        "colab": {
          "base_uri": "https://localhost:8080/",
          "height": 195
        },
        "outputId": "f4f5cc67-a154-4283-ae19-9dbcd1631e7c"
      },
      "source": [
        "df.head()"
      ],
      "execution_count": 32,
      "outputs": [
        {
          "output_type": "execute_result",
          "data": {
            "text/html": [
              "<div>\n",
              "<style scoped>\n",
              "    .dataframe tbody tr th:only-of-type {\n",
              "        vertical-align: middle;\n",
              "    }\n",
              "\n",
              "    .dataframe tbody tr th {\n",
              "        vertical-align: top;\n",
              "    }\n",
              "\n",
              "    .dataframe thead th {\n",
              "        text-align: right;\n",
              "    }\n",
              "</style>\n",
              "<table border=\"1\" class=\"dataframe\">\n",
              "  <thead>\n",
              "    <tr style=\"text-align: right;\">\n",
              "      <th></th>\n",
              "      <th>A</th>\n",
              "      <th>B</th>\n",
              "      <th>C</th>\n",
              "      <th>D</th>\n",
              "    </tr>\n",
              "  </thead>\n",
              "  <tbody>\n",
              "    <tr>\n",
              "      <th>2020-08-01</th>\n",
              "      <td>-0.127163</td>\n",
              "      <td>-0.047479</td>\n",
              "      <td>-0.003089</td>\n",
              "      <td>-0.702017</td>\n",
              "    </tr>\n",
              "    <tr>\n",
              "      <th>2020-08-02</th>\n",
              "      <td>-1.617449</td>\n",
              "      <td>-0.713745</td>\n",
              "      <td>1.505878</td>\n",
              "      <td>-0.363672</td>\n",
              "    </tr>\n",
              "    <tr>\n",
              "      <th>2020-08-03</th>\n",
              "      <td>1.916352</td>\n",
              "      <td>-1.080539</td>\n",
              "      <td>0.329807</td>\n",
              "      <td>-0.521748</td>\n",
              "    </tr>\n",
              "    <tr>\n",
              "      <th>2020-08-04</th>\n",
              "      <td>-0.127509</td>\n",
              "      <td>0.248788</td>\n",
              "      <td>-1.974687</td>\n",
              "      <td>-0.652776</td>\n",
              "    </tr>\n",
              "    <tr>\n",
              "      <th>2020-08-05</th>\n",
              "      <td>0.752654</td>\n",
              "      <td>1.366403</td>\n",
              "      <td>-1.470055</td>\n",
              "      <td>-1.165753</td>\n",
              "    </tr>\n",
              "  </tbody>\n",
              "</table>\n",
              "</div>"
            ],
            "text/plain": [
              "                   A         B         C         D\n",
              "2020-08-01 -0.127163 -0.047479 -0.003089 -0.702017\n",
              "2020-08-02 -1.617449 -0.713745  1.505878 -0.363672\n",
              "2020-08-03  1.916352 -1.080539  0.329807 -0.521748\n",
              "2020-08-04 -0.127509  0.248788 -1.974687 -0.652776\n",
              "2020-08-05  0.752654  1.366403 -1.470055 -1.165753"
            ]
          },
          "metadata": {
            "tags": []
          },
          "execution_count": 32
        }
      ]
    },
    {
      "cell_type": "code",
      "metadata": {
        "id": "fJOKCpKHD1b7",
        "colab_type": "code",
        "colab": {
          "base_uri": "https://localhost:8080/",
          "height": 195
        },
        "outputId": "9a234c04-3b57-411f-fbd3-c8b36633e01b"
      },
      "source": [
        "df.tail()"
      ],
      "execution_count": 33,
      "outputs": [
        {
          "output_type": "execute_result",
          "data": {
            "text/html": [
              "<div>\n",
              "<style scoped>\n",
              "    .dataframe tbody tr th:only-of-type {\n",
              "        vertical-align: middle;\n",
              "    }\n",
              "\n",
              "    .dataframe tbody tr th {\n",
              "        vertical-align: top;\n",
              "    }\n",
              "\n",
              "    .dataframe thead th {\n",
              "        text-align: right;\n",
              "    }\n",
              "</style>\n",
              "<table border=\"1\" class=\"dataframe\">\n",
              "  <thead>\n",
              "    <tr style=\"text-align: right;\">\n",
              "      <th></th>\n",
              "      <th>A</th>\n",
              "      <th>B</th>\n",
              "      <th>C</th>\n",
              "      <th>D</th>\n",
              "    </tr>\n",
              "  </thead>\n",
              "  <tbody>\n",
              "    <tr>\n",
              "      <th>2020-08-02</th>\n",
              "      <td>-1.617449</td>\n",
              "      <td>-0.713745</td>\n",
              "      <td>1.505878</td>\n",
              "      <td>-0.363672</td>\n",
              "    </tr>\n",
              "    <tr>\n",
              "      <th>2020-08-03</th>\n",
              "      <td>1.916352</td>\n",
              "      <td>-1.080539</td>\n",
              "      <td>0.329807</td>\n",
              "      <td>-0.521748</td>\n",
              "    </tr>\n",
              "    <tr>\n",
              "      <th>2020-08-04</th>\n",
              "      <td>-0.127509</td>\n",
              "      <td>0.248788</td>\n",
              "      <td>-1.974687</td>\n",
              "      <td>-0.652776</td>\n",
              "    </tr>\n",
              "    <tr>\n",
              "      <th>2020-08-05</th>\n",
              "      <td>0.752654</td>\n",
              "      <td>1.366403</td>\n",
              "      <td>-1.470055</td>\n",
              "      <td>-1.165753</td>\n",
              "    </tr>\n",
              "    <tr>\n",
              "      <th>2020-08-06</th>\n",
              "      <td>-0.480413</td>\n",
              "      <td>-0.800943</td>\n",
              "      <td>-0.356288</td>\n",
              "      <td>0.007065</td>\n",
              "    </tr>\n",
              "  </tbody>\n",
              "</table>\n",
              "</div>"
            ],
            "text/plain": [
              "                   A         B         C         D\n",
              "2020-08-02 -1.617449 -0.713745  1.505878 -0.363672\n",
              "2020-08-03  1.916352 -1.080539  0.329807 -0.521748\n",
              "2020-08-04 -0.127509  0.248788 -1.974687 -0.652776\n",
              "2020-08-05  0.752654  1.366403 -1.470055 -1.165753\n",
              "2020-08-06 -0.480413 -0.800943 -0.356288  0.007065"
            ]
          },
          "metadata": {
            "tags": []
          },
          "execution_count": 33
        }
      ]
    },
    {
      "cell_type": "code",
      "metadata": {
        "id": "lLtVYM1-D3Ev",
        "colab_type": "code",
        "colab": {
          "base_uri": "https://localhost:8080/",
          "height": 70
        },
        "outputId": "8601df6d-2621-448e-f312-12e2107b8c63"
      },
      "source": [
        "df.index"
      ],
      "execution_count": 34,
      "outputs": [
        {
          "output_type": "execute_result",
          "data": {
            "text/plain": [
              "DatetimeIndex(['2020-08-01', '2020-08-02', '2020-08-03', '2020-08-04',\n",
              "               '2020-08-05', '2020-08-06'],\n",
              "              dtype='datetime64[ns]', freq='D')"
            ]
          },
          "metadata": {
            "tags": []
          },
          "execution_count": 34
        }
      ]
    },
    {
      "cell_type": "code",
      "metadata": {
        "id": "1n_B5SeUFLQQ",
        "colab_type": "code",
        "colab": {
          "base_uri": "https://localhost:8080/",
          "height": 34
        },
        "outputId": "4c184644-ad08-4b16-f539-7eb42377cfa0"
      },
      "source": [
        "df.columns"
      ],
      "execution_count": 35,
      "outputs": [
        {
          "output_type": "execute_result",
          "data": {
            "text/plain": [
              "Index(['A', 'B', 'C', 'D'], dtype='object')"
            ]
          },
          "metadata": {
            "tags": []
          },
          "execution_count": 35
        }
      ]
    },
    {
      "cell_type": "code",
      "metadata": {
        "id": "JvnVeG_PFNR5",
        "colab_type": "code",
        "colab": {
          "base_uri": "https://localhost:8080/",
          "height": 122
        },
        "outputId": "5f7a5501-aaa5-44d7-fcc5-b8db6a85dcdb"
      },
      "source": [
        "df.values"
      ],
      "execution_count": 36,
      "outputs": [
        {
          "output_type": "execute_result",
          "data": {
            "text/plain": [
              "array([[-0.1271627 , -0.04747947, -0.00308918, -0.70201699],\n",
              "       [-1.61744934, -0.7137447 ,  1.50587781, -0.36367216],\n",
              "       [ 1.91635181, -1.08053897,  0.32980724, -0.52174771],\n",
              "       [-0.12750871,  0.24878764, -1.97468725, -0.65277563],\n",
              "       [ 0.75265359,  1.36640277, -1.47005476, -1.16575328],\n",
              "       [-0.48041315, -0.80094332, -0.3562877 ,  0.00706483]])"
            ]
          },
          "metadata": {
            "tags": []
          },
          "execution_count": 36
        }
      ]
    },
    {
      "cell_type": "code",
      "metadata": {
        "id": "Tl11_bjdFSeQ",
        "colab_type": "code",
        "colab": {
          "base_uri": "https://localhost:8080/",
          "height": 284
        },
        "outputId": "86dffb77-d90c-4a8b-c4ff-a7c3ef83d48a"
      },
      "source": [
        "df.describe() # 데이터의 대략적인 통게적 정보를 요약해 보여준다"
      ],
      "execution_count": 39,
      "outputs": [
        {
          "output_type": "execute_result",
          "data": {
            "text/html": [
              "<div>\n",
              "<style scoped>\n",
              "    .dataframe tbody tr th:only-of-type {\n",
              "        vertical-align: middle;\n",
              "    }\n",
              "\n",
              "    .dataframe tbody tr th {\n",
              "        vertical-align: top;\n",
              "    }\n",
              "\n",
              "    .dataframe thead th {\n",
              "        text-align: right;\n",
              "    }\n",
              "</style>\n",
              "<table border=\"1\" class=\"dataframe\">\n",
              "  <thead>\n",
              "    <tr style=\"text-align: right;\">\n",
              "      <th></th>\n",
              "      <th>A</th>\n",
              "      <th>B</th>\n",
              "      <th>C</th>\n",
              "      <th>D</th>\n",
              "    </tr>\n",
              "  </thead>\n",
              "  <tbody>\n",
              "    <tr>\n",
              "      <th>count</th>\n",
              "      <td>6.000000</td>\n",
              "      <td>6.000000</td>\n",
              "      <td>6.000000</td>\n",
              "      <td>6.000000</td>\n",
              "    </tr>\n",
              "    <tr>\n",
              "      <th>mean</th>\n",
              "      <td>0.052745</td>\n",
              "      <td>-0.171253</td>\n",
              "      <td>-0.328072</td>\n",
              "      <td>-0.566483</td>\n",
              "    </tr>\n",
              "    <tr>\n",
              "      <th>std</th>\n",
              "      <td>1.191769</td>\n",
              "      <td>0.902635</td>\n",
              "      <td>1.258416</td>\n",
              "      <td>0.389110</td>\n",
              "    </tr>\n",
              "    <tr>\n",
              "      <th>min</th>\n",
              "      <td>-1.617449</td>\n",
              "      <td>-1.080539</td>\n",
              "      <td>-1.974687</td>\n",
              "      <td>-1.165753</td>\n",
              "    </tr>\n",
              "    <tr>\n",
              "      <th>25%</th>\n",
              "      <td>-0.392187</td>\n",
              "      <td>-0.779144</td>\n",
              "      <td>-1.191613</td>\n",
              "      <td>-0.689707</td>\n",
              "    </tr>\n",
              "    <tr>\n",
              "      <th>50%</th>\n",
              "      <td>-0.127336</td>\n",
              "      <td>-0.380612</td>\n",
              "      <td>-0.179688</td>\n",
              "      <td>-0.587262</td>\n",
              "    </tr>\n",
              "    <tr>\n",
              "      <th>75%</th>\n",
              "      <td>0.532700</td>\n",
              "      <td>0.174721</td>\n",
              "      <td>0.246583</td>\n",
              "      <td>-0.403191</td>\n",
              "    </tr>\n",
              "    <tr>\n",
              "      <th>max</th>\n",
              "      <td>1.916352</td>\n",
              "      <td>1.366403</td>\n",
              "      <td>1.505878</td>\n",
              "      <td>0.007065</td>\n",
              "    </tr>\n",
              "  </tbody>\n",
              "</table>\n",
              "</div>"
            ],
            "text/plain": [
              "              A         B         C         D\n",
              "count  6.000000  6.000000  6.000000  6.000000\n",
              "mean   0.052745 -0.171253 -0.328072 -0.566483\n",
              "std    1.191769  0.902635  1.258416  0.389110\n",
              "min   -1.617449 -1.080539 -1.974687 -1.165753\n",
              "25%   -0.392187 -0.779144 -1.191613 -0.689707\n",
              "50%   -0.127336 -0.380612 -0.179688 -0.587262\n",
              "75%    0.532700  0.174721  0.246583 -0.403191\n",
              "max    1.916352  1.366403  1.505878  0.007065"
            ]
          },
          "metadata": {
            "tags": []
          },
          "execution_count": 39
        }
      ]
    },
    {
      "cell_type": "code",
      "metadata": {
        "id": "qtg-PXPKFXDA",
        "colab_type": "code",
        "colab": {
          "base_uri": "https://localhost:8080/",
          "height": 166
        },
        "outputId": "894f1f79-8bf0-4062-9709-41f145ab8bdb"
      },
      "source": [
        "df.T # Transpose"
      ],
      "execution_count": 40,
      "outputs": [
        {
          "output_type": "execute_result",
          "data": {
            "text/html": [
              "<div>\n",
              "<style scoped>\n",
              "    .dataframe tbody tr th:only-of-type {\n",
              "        vertical-align: middle;\n",
              "    }\n",
              "\n",
              "    .dataframe tbody tr th {\n",
              "        vertical-align: top;\n",
              "    }\n",
              "\n",
              "    .dataframe thead th {\n",
              "        text-align: right;\n",
              "    }\n",
              "</style>\n",
              "<table border=\"1\" class=\"dataframe\">\n",
              "  <thead>\n",
              "    <tr style=\"text-align: right;\">\n",
              "      <th></th>\n",
              "      <th>2020-08-01</th>\n",
              "      <th>2020-08-02</th>\n",
              "      <th>2020-08-03</th>\n",
              "      <th>2020-08-04</th>\n",
              "      <th>2020-08-05</th>\n",
              "      <th>2020-08-06</th>\n",
              "    </tr>\n",
              "  </thead>\n",
              "  <tbody>\n",
              "    <tr>\n",
              "      <th>A</th>\n",
              "      <td>-0.127163</td>\n",
              "      <td>-1.617449</td>\n",
              "      <td>1.916352</td>\n",
              "      <td>-0.127509</td>\n",
              "      <td>0.752654</td>\n",
              "      <td>-0.480413</td>\n",
              "    </tr>\n",
              "    <tr>\n",
              "      <th>B</th>\n",
              "      <td>-0.047479</td>\n",
              "      <td>-0.713745</td>\n",
              "      <td>-1.080539</td>\n",
              "      <td>0.248788</td>\n",
              "      <td>1.366403</td>\n",
              "      <td>-0.800943</td>\n",
              "    </tr>\n",
              "    <tr>\n",
              "      <th>C</th>\n",
              "      <td>-0.003089</td>\n",
              "      <td>1.505878</td>\n",
              "      <td>0.329807</td>\n",
              "      <td>-1.974687</td>\n",
              "      <td>-1.470055</td>\n",
              "      <td>-0.356288</td>\n",
              "    </tr>\n",
              "    <tr>\n",
              "      <th>D</th>\n",
              "      <td>-0.702017</td>\n",
              "      <td>-0.363672</td>\n",
              "      <td>-0.521748</td>\n",
              "      <td>-0.652776</td>\n",
              "      <td>-1.165753</td>\n",
              "      <td>0.007065</td>\n",
              "    </tr>\n",
              "  </tbody>\n",
              "</table>\n",
              "</div>"
            ],
            "text/plain": [
              "   2020-08-01  2020-08-02  2020-08-03  2020-08-04  2020-08-05  2020-08-06\n",
              "A   -0.127163   -1.617449    1.916352   -0.127509    0.752654   -0.480413\n",
              "B   -0.047479   -0.713745   -1.080539    0.248788    1.366403   -0.800943\n",
              "C   -0.003089    1.505878    0.329807   -1.974687   -1.470055   -0.356288\n",
              "D   -0.702017   -0.363672   -0.521748   -0.652776   -1.165753    0.007065"
            ]
          },
          "metadata": {
            "tags": []
          },
          "execution_count": 40
        }
      ]
    },
    {
      "cell_type": "code",
      "metadata": {
        "id": "M_4kNz5BGgvW",
        "colab_type": "code",
        "colab": {
          "base_uri": "https://localhost:8080/",
          "height": 225
        },
        "outputId": "bdd12228-32f4-4428-ce0c-56f25ffc0a1e"
      },
      "source": [
        "df.sort_index(axis=1, ascending=False) # axis=1은 열을 기준으로, ascending=False 내림차순"
      ],
      "execution_count": 41,
      "outputs": [
        {
          "output_type": "execute_result",
          "data": {
            "text/html": [
              "<div>\n",
              "<style scoped>\n",
              "    .dataframe tbody tr th:only-of-type {\n",
              "        vertical-align: middle;\n",
              "    }\n",
              "\n",
              "    .dataframe tbody tr th {\n",
              "        vertical-align: top;\n",
              "    }\n",
              "\n",
              "    .dataframe thead th {\n",
              "        text-align: right;\n",
              "    }\n",
              "</style>\n",
              "<table border=\"1\" class=\"dataframe\">\n",
              "  <thead>\n",
              "    <tr style=\"text-align: right;\">\n",
              "      <th></th>\n",
              "      <th>D</th>\n",
              "      <th>C</th>\n",
              "      <th>B</th>\n",
              "      <th>A</th>\n",
              "    </tr>\n",
              "  </thead>\n",
              "  <tbody>\n",
              "    <tr>\n",
              "      <th>2020-08-01</th>\n",
              "      <td>-0.702017</td>\n",
              "      <td>-0.003089</td>\n",
              "      <td>-0.047479</td>\n",
              "      <td>-0.127163</td>\n",
              "    </tr>\n",
              "    <tr>\n",
              "      <th>2020-08-02</th>\n",
              "      <td>-0.363672</td>\n",
              "      <td>1.505878</td>\n",
              "      <td>-0.713745</td>\n",
              "      <td>-1.617449</td>\n",
              "    </tr>\n",
              "    <tr>\n",
              "      <th>2020-08-03</th>\n",
              "      <td>-0.521748</td>\n",
              "      <td>0.329807</td>\n",
              "      <td>-1.080539</td>\n",
              "      <td>1.916352</td>\n",
              "    </tr>\n",
              "    <tr>\n",
              "      <th>2020-08-04</th>\n",
              "      <td>-0.652776</td>\n",
              "      <td>-1.974687</td>\n",
              "      <td>0.248788</td>\n",
              "      <td>-0.127509</td>\n",
              "    </tr>\n",
              "    <tr>\n",
              "      <th>2020-08-05</th>\n",
              "      <td>-1.165753</td>\n",
              "      <td>-1.470055</td>\n",
              "      <td>1.366403</td>\n",
              "      <td>0.752654</td>\n",
              "    </tr>\n",
              "    <tr>\n",
              "      <th>2020-08-06</th>\n",
              "      <td>0.007065</td>\n",
              "      <td>-0.356288</td>\n",
              "      <td>-0.800943</td>\n",
              "      <td>-0.480413</td>\n",
              "    </tr>\n",
              "  </tbody>\n",
              "</table>\n",
              "</div>"
            ],
            "text/plain": [
              "                   D         C         B         A\n",
              "2020-08-01 -0.702017 -0.003089 -0.047479 -0.127163\n",
              "2020-08-02 -0.363672  1.505878 -0.713745 -1.617449\n",
              "2020-08-03 -0.521748  0.329807 -1.080539  1.916352\n",
              "2020-08-04 -0.652776 -1.974687  0.248788 -0.127509\n",
              "2020-08-05 -1.165753 -1.470055  1.366403  0.752654\n",
              "2020-08-06  0.007065 -0.356288 -0.800943 -0.480413"
            ]
          },
          "metadata": {
            "tags": []
          },
          "execution_count": 41
        }
      ]
    },
    {
      "cell_type": "code",
      "metadata": {
        "id": "aUN5UPqsG52T",
        "colab_type": "code",
        "colab": {
          "base_uri": "https://localhost:8080/",
          "height": 225
        },
        "outputId": "22148a20-bfac-4150-de1c-08984bba7593"
      },
      "source": [
        "df.sort_values(by='B') # B를 기준으로 정렬"
      ],
      "execution_count": 42,
      "outputs": [
        {
          "output_type": "execute_result",
          "data": {
            "text/html": [
              "<div>\n",
              "<style scoped>\n",
              "    .dataframe tbody tr th:only-of-type {\n",
              "        vertical-align: middle;\n",
              "    }\n",
              "\n",
              "    .dataframe tbody tr th {\n",
              "        vertical-align: top;\n",
              "    }\n",
              "\n",
              "    .dataframe thead th {\n",
              "        text-align: right;\n",
              "    }\n",
              "</style>\n",
              "<table border=\"1\" class=\"dataframe\">\n",
              "  <thead>\n",
              "    <tr style=\"text-align: right;\">\n",
              "      <th></th>\n",
              "      <th>A</th>\n",
              "      <th>B</th>\n",
              "      <th>C</th>\n",
              "      <th>D</th>\n",
              "    </tr>\n",
              "  </thead>\n",
              "  <tbody>\n",
              "    <tr>\n",
              "      <th>2020-08-03</th>\n",
              "      <td>1.916352</td>\n",
              "      <td>-1.080539</td>\n",
              "      <td>0.329807</td>\n",
              "      <td>-0.521748</td>\n",
              "    </tr>\n",
              "    <tr>\n",
              "      <th>2020-08-06</th>\n",
              "      <td>-0.480413</td>\n",
              "      <td>-0.800943</td>\n",
              "      <td>-0.356288</td>\n",
              "      <td>0.007065</td>\n",
              "    </tr>\n",
              "    <tr>\n",
              "      <th>2020-08-02</th>\n",
              "      <td>-1.617449</td>\n",
              "      <td>-0.713745</td>\n",
              "      <td>1.505878</td>\n",
              "      <td>-0.363672</td>\n",
              "    </tr>\n",
              "    <tr>\n",
              "      <th>2020-08-01</th>\n",
              "      <td>-0.127163</td>\n",
              "      <td>-0.047479</td>\n",
              "      <td>-0.003089</td>\n",
              "      <td>-0.702017</td>\n",
              "    </tr>\n",
              "    <tr>\n",
              "      <th>2020-08-04</th>\n",
              "      <td>-0.127509</td>\n",
              "      <td>0.248788</td>\n",
              "      <td>-1.974687</td>\n",
              "      <td>-0.652776</td>\n",
              "    </tr>\n",
              "    <tr>\n",
              "      <th>2020-08-05</th>\n",
              "      <td>0.752654</td>\n",
              "      <td>1.366403</td>\n",
              "      <td>-1.470055</td>\n",
              "      <td>-1.165753</td>\n",
              "    </tr>\n",
              "  </tbody>\n",
              "</table>\n",
              "</div>"
            ],
            "text/plain": [
              "                   A         B         C         D\n",
              "2020-08-03  1.916352 -1.080539  0.329807 -0.521748\n",
              "2020-08-06 -0.480413 -0.800943 -0.356288  0.007065\n",
              "2020-08-02 -1.617449 -0.713745  1.505878 -0.363672\n",
              "2020-08-01 -0.127163 -0.047479 -0.003089 -0.702017\n",
              "2020-08-04 -0.127509  0.248788 -1.974687 -0.652776\n",
              "2020-08-05  0.752654  1.366403 -1.470055 -1.165753"
            ]
          },
          "metadata": {
            "tags": []
          },
          "execution_count": 42
        }
      ]
    },
    {
      "cell_type": "markdown",
      "metadata": {
        "id": "bp92oS6sHdLe",
        "colab_type": "text"
      },
      "source": [
        "## 3. Selection (선택)"
      ]
    },
    {
      "cell_type": "markdown",
      "metadata": {
        "id": "ZsjytAVgJW4E",
        "colab_type": "text"
      },
      "source": [
        "### Getting (데이터 얻기)"
      ]
    },
    {
      "cell_type": "code",
      "metadata": {
        "id": "ZM9FZbonHPBj",
        "colab_type": "code",
        "colab": {
          "base_uri": "https://localhost:8080/",
          "height": 225
        },
        "outputId": "23246341-cf8f-4ba7-c79b-4ec37666bfd8"
      },
      "source": [
        "df"
      ],
      "execution_count": 43,
      "outputs": [
        {
          "output_type": "execute_result",
          "data": {
            "text/html": [
              "<div>\n",
              "<style scoped>\n",
              "    .dataframe tbody tr th:only-of-type {\n",
              "        vertical-align: middle;\n",
              "    }\n",
              "\n",
              "    .dataframe tbody tr th {\n",
              "        vertical-align: top;\n",
              "    }\n",
              "\n",
              "    .dataframe thead th {\n",
              "        text-align: right;\n",
              "    }\n",
              "</style>\n",
              "<table border=\"1\" class=\"dataframe\">\n",
              "  <thead>\n",
              "    <tr style=\"text-align: right;\">\n",
              "      <th></th>\n",
              "      <th>A</th>\n",
              "      <th>B</th>\n",
              "      <th>C</th>\n",
              "      <th>D</th>\n",
              "    </tr>\n",
              "  </thead>\n",
              "  <tbody>\n",
              "    <tr>\n",
              "      <th>2020-08-01</th>\n",
              "      <td>-0.127163</td>\n",
              "      <td>-0.047479</td>\n",
              "      <td>-0.003089</td>\n",
              "      <td>-0.702017</td>\n",
              "    </tr>\n",
              "    <tr>\n",
              "      <th>2020-08-02</th>\n",
              "      <td>-1.617449</td>\n",
              "      <td>-0.713745</td>\n",
              "      <td>1.505878</td>\n",
              "      <td>-0.363672</td>\n",
              "    </tr>\n",
              "    <tr>\n",
              "      <th>2020-08-03</th>\n",
              "      <td>1.916352</td>\n",
              "      <td>-1.080539</td>\n",
              "      <td>0.329807</td>\n",
              "      <td>-0.521748</td>\n",
              "    </tr>\n",
              "    <tr>\n",
              "      <th>2020-08-04</th>\n",
              "      <td>-0.127509</td>\n",
              "      <td>0.248788</td>\n",
              "      <td>-1.974687</td>\n",
              "      <td>-0.652776</td>\n",
              "    </tr>\n",
              "    <tr>\n",
              "      <th>2020-08-05</th>\n",
              "      <td>0.752654</td>\n",
              "      <td>1.366403</td>\n",
              "      <td>-1.470055</td>\n",
              "      <td>-1.165753</td>\n",
              "    </tr>\n",
              "    <tr>\n",
              "      <th>2020-08-06</th>\n",
              "      <td>-0.480413</td>\n",
              "      <td>-0.800943</td>\n",
              "      <td>-0.356288</td>\n",
              "      <td>0.007065</td>\n",
              "    </tr>\n",
              "  </tbody>\n",
              "</table>\n",
              "</div>"
            ],
            "text/plain": [
              "                   A         B         C         D\n",
              "2020-08-01 -0.127163 -0.047479 -0.003089 -0.702017\n",
              "2020-08-02 -1.617449 -0.713745  1.505878 -0.363672\n",
              "2020-08-03  1.916352 -1.080539  0.329807 -0.521748\n",
              "2020-08-04 -0.127509  0.248788 -1.974687 -0.652776\n",
              "2020-08-05  0.752654  1.366403 -1.470055 -1.165753\n",
              "2020-08-06 -0.480413 -0.800943 -0.356288  0.007065"
            ]
          },
          "metadata": {
            "tags": []
          },
          "execution_count": 43
        }
      ]
    },
    {
      "cell_type": "code",
      "metadata": {
        "id": "upNNJrm7JaRl",
        "colab_type": "code",
        "colab": {
          "base_uri": "https://localhost:8080/",
          "height": 140
        },
        "outputId": "cb9c1694-2592-4f31-b99d-5631673d69e4"
      },
      "source": [
        "df['A']"
      ],
      "execution_count": 44,
      "outputs": [
        {
          "output_type": "execute_result",
          "data": {
            "text/plain": [
              "2020-08-01   -0.127163\n",
              "2020-08-02   -1.617449\n",
              "2020-08-03    1.916352\n",
              "2020-08-04   -0.127509\n",
              "2020-08-05    0.752654\n",
              "2020-08-06   -0.480413\n",
              "Freq: D, Name: A, dtype: float64"
            ]
          },
          "metadata": {
            "tags": []
          },
          "execution_count": 44
        }
      ]
    },
    {
      "cell_type": "code",
      "metadata": {
        "id": "wWH4IuFkJd18",
        "colab_type": "code",
        "colab": {
          "base_uri": "https://localhost:8080/",
          "height": 136
        },
        "outputId": "8372b5ff-86e7-46ec-a0d1-6617dee9dec6"
      },
      "source": [
        "df[0:3]"
      ],
      "execution_count": 45,
      "outputs": [
        {
          "output_type": "execute_result",
          "data": {
            "text/html": [
              "<div>\n",
              "<style scoped>\n",
              "    .dataframe tbody tr th:only-of-type {\n",
              "        vertical-align: middle;\n",
              "    }\n",
              "\n",
              "    .dataframe tbody tr th {\n",
              "        vertical-align: top;\n",
              "    }\n",
              "\n",
              "    .dataframe thead th {\n",
              "        text-align: right;\n",
              "    }\n",
              "</style>\n",
              "<table border=\"1\" class=\"dataframe\">\n",
              "  <thead>\n",
              "    <tr style=\"text-align: right;\">\n",
              "      <th></th>\n",
              "      <th>A</th>\n",
              "      <th>B</th>\n",
              "      <th>C</th>\n",
              "      <th>D</th>\n",
              "    </tr>\n",
              "  </thead>\n",
              "  <tbody>\n",
              "    <tr>\n",
              "      <th>2020-08-01</th>\n",
              "      <td>-0.127163</td>\n",
              "      <td>-0.047479</td>\n",
              "      <td>-0.003089</td>\n",
              "      <td>-0.702017</td>\n",
              "    </tr>\n",
              "    <tr>\n",
              "      <th>2020-08-02</th>\n",
              "      <td>-1.617449</td>\n",
              "      <td>-0.713745</td>\n",
              "      <td>1.505878</td>\n",
              "      <td>-0.363672</td>\n",
              "    </tr>\n",
              "    <tr>\n",
              "      <th>2020-08-03</th>\n",
              "      <td>1.916352</td>\n",
              "      <td>-1.080539</td>\n",
              "      <td>0.329807</td>\n",
              "      <td>-0.521748</td>\n",
              "    </tr>\n",
              "  </tbody>\n",
              "</table>\n",
              "</div>"
            ],
            "text/plain": [
              "                   A         B         C         D\n",
              "2020-08-01 -0.127163 -0.047479 -0.003089 -0.702017\n",
              "2020-08-02 -1.617449 -0.713745  1.505878 -0.363672\n",
              "2020-08-03  1.916352 -1.080539  0.329807 -0.521748"
            ]
          },
          "metadata": {
            "tags": []
          },
          "execution_count": 45
        }
      ]
    },
    {
      "cell_type": "code",
      "metadata": {
        "id": "UWqKmTonKStI",
        "colab_type": "code",
        "colab": {
          "base_uri": "https://localhost:8080/",
          "height": 166
        },
        "outputId": "8cbad77a-638d-4ab6-e74b-c8dc9ce87a60"
      },
      "source": [
        "df['20200802':'20200805']"
      ],
      "execution_count": 47,
      "outputs": [
        {
          "output_type": "execute_result",
          "data": {
            "text/html": [
              "<div>\n",
              "<style scoped>\n",
              "    .dataframe tbody tr th:only-of-type {\n",
              "        vertical-align: middle;\n",
              "    }\n",
              "\n",
              "    .dataframe tbody tr th {\n",
              "        vertical-align: top;\n",
              "    }\n",
              "\n",
              "    .dataframe thead th {\n",
              "        text-align: right;\n",
              "    }\n",
              "</style>\n",
              "<table border=\"1\" class=\"dataframe\">\n",
              "  <thead>\n",
              "    <tr style=\"text-align: right;\">\n",
              "      <th></th>\n",
              "      <th>A</th>\n",
              "      <th>B</th>\n",
              "      <th>C</th>\n",
              "      <th>D</th>\n",
              "    </tr>\n",
              "  </thead>\n",
              "  <tbody>\n",
              "    <tr>\n",
              "      <th>2020-08-02</th>\n",
              "      <td>-1.617449</td>\n",
              "      <td>-0.713745</td>\n",
              "      <td>1.505878</td>\n",
              "      <td>-0.363672</td>\n",
              "    </tr>\n",
              "    <tr>\n",
              "      <th>2020-08-03</th>\n",
              "      <td>1.916352</td>\n",
              "      <td>-1.080539</td>\n",
              "      <td>0.329807</td>\n",
              "      <td>-0.521748</td>\n",
              "    </tr>\n",
              "    <tr>\n",
              "      <th>2020-08-04</th>\n",
              "      <td>-0.127509</td>\n",
              "      <td>0.248788</td>\n",
              "      <td>-1.974687</td>\n",
              "      <td>-0.652776</td>\n",
              "    </tr>\n",
              "    <tr>\n",
              "      <th>2020-08-05</th>\n",
              "      <td>0.752654</td>\n",
              "      <td>1.366403</td>\n",
              "      <td>-1.470055</td>\n",
              "      <td>-1.165753</td>\n",
              "    </tr>\n",
              "  </tbody>\n",
              "</table>\n",
              "</div>"
            ],
            "text/plain": [
              "                   A         B         C         D\n",
              "2020-08-02 -1.617449 -0.713745  1.505878 -0.363672\n",
              "2020-08-03  1.916352 -1.080539  0.329807 -0.521748\n",
              "2020-08-04 -0.127509  0.248788 -1.974687 -0.652776\n",
              "2020-08-05  0.752654  1.366403 -1.470055 -1.165753"
            ]
          },
          "metadata": {
            "tags": []
          },
          "execution_count": 47
        }
      ]
    },
    {
      "cell_type": "markdown",
      "metadata": {
        "id": "iyVS_QcxKjpX",
        "colab_type": "text"
      },
      "source": [
        "### Selection by Label (Label 을 통한 선택)"
      ]
    },
    {
      "cell_type": "code",
      "metadata": {
        "id": "NADK-jDtKbpb",
        "colab_type": "code",
        "colab": {
          "base_uri": "https://localhost:8080/",
          "height": 105
        },
        "outputId": "4e8cd1e0-c599-4f57-c6a7-339ecb9764c3"
      },
      "source": [
        "df.loc[dates[0]]"
      ],
      "execution_count": 48,
      "outputs": [
        {
          "output_type": "execute_result",
          "data": {
            "text/plain": [
              "A   -0.127163\n",
              "B   -0.047479\n",
              "C   -0.003089\n",
              "D   -0.702017\n",
              "Name: 2020-08-01 00:00:00, dtype: float64"
            ]
          },
          "metadata": {
            "tags": []
          },
          "execution_count": 48
        }
      ]
    },
    {
      "cell_type": "code",
      "metadata": {
        "id": "BBm0Twx5Ksz8",
        "colab_type": "code",
        "colab": {
          "base_uri": "https://localhost:8080/",
          "height": 225
        },
        "outputId": "1035bdf7-6daf-458d-adf0-7982b6025f44"
      },
      "source": [
        "df.loc[:, ['A','B']] # : 전체 범위에서 A, B columns을 추출"
      ],
      "execution_count": 49,
      "outputs": [
        {
          "output_type": "execute_result",
          "data": {
            "text/html": [
              "<div>\n",
              "<style scoped>\n",
              "    .dataframe tbody tr th:only-of-type {\n",
              "        vertical-align: middle;\n",
              "    }\n",
              "\n",
              "    .dataframe tbody tr th {\n",
              "        vertical-align: top;\n",
              "    }\n",
              "\n",
              "    .dataframe thead th {\n",
              "        text-align: right;\n",
              "    }\n",
              "</style>\n",
              "<table border=\"1\" class=\"dataframe\">\n",
              "  <thead>\n",
              "    <tr style=\"text-align: right;\">\n",
              "      <th></th>\n",
              "      <th>A</th>\n",
              "      <th>B</th>\n",
              "    </tr>\n",
              "  </thead>\n",
              "  <tbody>\n",
              "    <tr>\n",
              "      <th>2020-08-01</th>\n",
              "      <td>-0.127163</td>\n",
              "      <td>-0.047479</td>\n",
              "    </tr>\n",
              "    <tr>\n",
              "      <th>2020-08-02</th>\n",
              "      <td>-1.617449</td>\n",
              "      <td>-0.713745</td>\n",
              "    </tr>\n",
              "    <tr>\n",
              "      <th>2020-08-03</th>\n",
              "      <td>1.916352</td>\n",
              "      <td>-1.080539</td>\n",
              "    </tr>\n",
              "    <tr>\n",
              "      <th>2020-08-04</th>\n",
              "      <td>-0.127509</td>\n",
              "      <td>0.248788</td>\n",
              "    </tr>\n",
              "    <tr>\n",
              "      <th>2020-08-05</th>\n",
              "      <td>0.752654</td>\n",
              "      <td>1.366403</td>\n",
              "    </tr>\n",
              "    <tr>\n",
              "      <th>2020-08-06</th>\n",
              "      <td>-0.480413</td>\n",
              "      <td>-0.800943</td>\n",
              "    </tr>\n",
              "  </tbody>\n",
              "</table>\n",
              "</div>"
            ],
            "text/plain": [
              "                   A         B\n",
              "2020-08-01 -0.127163 -0.047479\n",
              "2020-08-02 -1.617449 -0.713745\n",
              "2020-08-03  1.916352 -1.080539\n",
              "2020-08-04 -0.127509  0.248788\n",
              "2020-08-05  0.752654  1.366403\n",
              "2020-08-06 -0.480413 -0.800943"
            ]
          },
          "metadata": {
            "tags": []
          },
          "execution_count": 49
        }
      ]
    },
    {
      "cell_type": "code",
      "metadata": {
        "id": "PlVhNuRHKzje",
        "colab_type": "code",
        "colab": {
          "base_uri": "https://localhost:8080/",
          "height": 136
        },
        "outputId": "107ee2eb-fd87-4c45-8246-99df2be253b9"
      },
      "source": [
        "df.loc[\"20200802\":\"20200804\", ['A','B']]"
      ],
      "execution_count": 50,
      "outputs": [
        {
          "output_type": "execute_result",
          "data": {
            "text/html": [
              "<div>\n",
              "<style scoped>\n",
              "    .dataframe tbody tr th:only-of-type {\n",
              "        vertical-align: middle;\n",
              "    }\n",
              "\n",
              "    .dataframe tbody tr th {\n",
              "        vertical-align: top;\n",
              "    }\n",
              "\n",
              "    .dataframe thead th {\n",
              "        text-align: right;\n",
              "    }\n",
              "</style>\n",
              "<table border=\"1\" class=\"dataframe\">\n",
              "  <thead>\n",
              "    <tr style=\"text-align: right;\">\n",
              "      <th></th>\n",
              "      <th>A</th>\n",
              "      <th>B</th>\n",
              "    </tr>\n",
              "  </thead>\n",
              "  <tbody>\n",
              "    <tr>\n",
              "      <th>2020-08-02</th>\n",
              "      <td>-1.617449</td>\n",
              "      <td>-0.713745</td>\n",
              "    </tr>\n",
              "    <tr>\n",
              "      <th>2020-08-03</th>\n",
              "      <td>1.916352</td>\n",
              "      <td>-1.080539</td>\n",
              "    </tr>\n",
              "    <tr>\n",
              "      <th>2020-08-04</th>\n",
              "      <td>-0.127509</td>\n",
              "      <td>0.248788</td>\n",
              "    </tr>\n",
              "  </tbody>\n",
              "</table>\n",
              "</div>"
            ],
            "text/plain": [
              "                   A         B\n",
              "2020-08-02 -1.617449 -0.713745\n",
              "2020-08-03  1.916352 -1.080539\n",
              "2020-08-04 -0.127509  0.248788"
            ]
          },
          "metadata": {
            "tags": []
          },
          "execution_count": 50
        }
      ]
    },
    {
      "cell_type": "code",
      "metadata": {
        "id": "0Q3r3LJ4LDxk",
        "colab_type": "code",
        "colab": {
          "base_uri": "https://localhost:8080/",
          "height": 70
        },
        "outputId": "14143a2f-5c5b-492f-c989-5a8969bbb999"
      },
      "source": [
        "df.loc['20200802',['A','B']]"
      ],
      "execution_count": 51,
      "outputs": [
        {
          "output_type": "execute_result",
          "data": {
            "text/plain": [
              "A   -1.617449\n",
              "B   -0.713745\n",
              "Name: 2020-08-02 00:00:00, dtype: float64"
            ]
          },
          "metadata": {
            "tags": []
          },
          "execution_count": 51
        }
      ]
    },
    {
      "cell_type": "code",
      "metadata": {
        "id": "uEkL77EGLWbf",
        "colab_type": "code",
        "colab": {
          "base_uri": "https://localhost:8080/",
          "height": 34
        },
        "outputId": "0b1f3928-e332-4613-e0f9-1e4c0fa9e521"
      },
      "source": [
        "# 스칼라 값을 얻는다\n",
        "df.loc[dates[0],'A']\n",
        "# df.loc[dates[0],'A'] 위와 같은 결과"
      ],
      "execution_count": 52,
      "outputs": [
        {
          "output_type": "execute_result",
          "data": {
            "text/plain": [
              "-0.1271626987097826"
            ]
          },
          "metadata": {
            "tags": []
          },
          "execution_count": 52
        }
      ]
    },
    {
      "cell_type": "markdown",
      "metadata": {
        "id": "JZzIjcXFLqAI",
        "colab_type": "text"
      },
      "source": [
        "### Selection by Position (위치로 선택하기)"
      ]
    },
    {
      "cell_type": "code",
      "metadata": {
        "id": "FzfgDl2aLdv7",
        "colab_type": "code",
        "colab": {
          "base_uri": "https://localhost:8080/",
          "height": 225
        },
        "outputId": "4fb84f8d-f467-4640-aca2-87a36d0c132f"
      },
      "source": [
        "df"
      ],
      "execution_count": 53,
      "outputs": [
        {
          "output_type": "execute_result",
          "data": {
            "text/html": [
              "<div>\n",
              "<style scoped>\n",
              "    .dataframe tbody tr th:only-of-type {\n",
              "        vertical-align: middle;\n",
              "    }\n",
              "\n",
              "    .dataframe tbody tr th {\n",
              "        vertical-align: top;\n",
              "    }\n",
              "\n",
              "    .dataframe thead th {\n",
              "        text-align: right;\n",
              "    }\n",
              "</style>\n",
              "<table border=\"1\" class=\"dataframe\">\n",
              "  <thead>\n",
              "    <tr style=\"text-align: right;\">\n",
              "      <th></th>\n",
              "      <th>A</th>\n",
              "      <th>B</th>\n",
              "      <th>C</th>\n",
              "      <th>D</th>\n",
              "    </tr>\n",
              "  </thead>\n",
              "  <tbody>\n",
              "    <tr>\n",
              "      <th>2020-08-01</th>\n",
              "      <td>-0.127163</td>\n",
              "      <td>-0.047479</td>\n",
              "      <td>-0.003089</td>\n",
              "      <td>-0.702017</td>\n",
              "    </tr>\n",
              "    <tr>\n",
              "      <th>2020-08-02</th>\n",
              "      <td>-1.617449</td>\n",
              "      <td>-0.713745</td>\n",
              "      <td>1.505878</td>\n",
              "      <td>-0.363672</td>\n",
              "    </tr>\n",
              "    <tr>\n",
              "      <th>2020-08-03</th>\n",
              "      <td>1.916352</td>\n",
              "      <td>-1.080539</td>\n",
              "      <td>0.329807</td>\n",
              "      <td>-0.521748</td>\n",
              "    </tr>\n",
              "    <tr>\n",
              "      <th>2020-08-04</th>\n",
              "      <td>-0.127509</td>\n",
              "      <td>0.248788</td>\n",
              "      <td>-1.974687</td>\n",
              "      <td>-0.652776</td>\n",
              "    </tr>\n",
              "    <tr>\n",
              "      <th>2020-08-05</th>\n",
              "      <td>0.752654</td>\n",
              "      <td>1.366403</td>\n",
              "      <td>-1.470055</td>\n",
              "      <td>-1.165753</td>\n",
              "    </tr>\n",
              "    <tr>\n",
              "      <th>2020-08-06</th>\n",
              "      <td>-0.480413</td>\n",
              "      <td>-0.800943</td>\n",
              "      <td>-0.356288</td>\n",
              "      <td>0.007065</td>\n",
              "    </tr>\n",
              "  </tbody>\n",
              "</table>\n",
              "</div>"
            ],
            "text/plain": [
              "                   A         B         C         D\n",
              "2020-08-01 -0.127163 -0.047479 -0.003089 -0.702017\n",
              "2020-08-02 -1.617449 -0.713745  1.505878 -0.363672\n",
              "2020-08-03  1.916352 -1.080539  0.329807 -0.521748\n",
              "2020-08-04 -0.127509  0.248788 -1.974687 -0.652776\n",
              "2020-08-05  0.752654  1.366403 -1.470055 -1.165753\n",
              "2020-08-06 -0.480413 -0.800943 -0.356288  0.007065"
            ]
          },
          "metadata": {
            "tags": []
          },
          "execution_count": 53
        }
      ]
    },
    {
      "cell_type": "code",
      "metadata": {
        "id": "fP7xCmsML-pi",
        "colab_type": "code",
        "colab": {
          "base_uri": "https://localhost:8080/",
          "height": 105
        },
        "outputId": "eddfaa54-5295-4b6e-aa93-dc7f57bfd221"
      },
      "source": [
        "df.iloc[3] # 3번째 행을 가져온다"
      ],
      "execution_count": 55,
      "outputs": [
        {
          "output_type": "execute_result",
          "data": {
            "text/plain": [
              "A   -0.127509\n",
              "B    0.248788\n",
              "C   -1.974687\n",
              "D   -0.652776\n",
              "Name: 2020-08-04 00:00:00, dtype: float64"
            ]
          },
          "metadata": {
            "tags": []
          },
          "execution_count": 55
        }
      ]
    },
    {
      "cell_type": "code",
      "metadata": {
        "id": "meyGuneLMAsP",
        "colab_type": "code",
        "colab": {
          "base_uri": "https://localhost:8080/",
          "height": 106
        },
        "outputId": "708e2040-e64a-462e-a77a-db9547cdaea8"
      },
      "source": [
        "df.iloc[3:5, 0:2]"
      ],
      "execution_count": 56,
      "outputs": [
        {
          "output_type": "execute_result",
          "data": {
            "text/html": [
              "<div>\n",
              "<style scoped>\n",
              "    .dataframe tbody tr th:only-of-type {\n",
              "        vertical-align: middle;\n",
              "    }\n",
              "\n",
              "    .dataframe tbody tr th {\n",
              "        vertical-align: top;\n",
              "    }\n",
              "\n",
              "    .dataframe thead th {\n",
              "        text-align: right;\n",
              "    }\n",
              "</style>\n",
              "<table border=\"1\" class=\"dataframe\">\n",
              "  <thead>\n",
              "    <tr style=\"text-align: right;\">\n",
              "      <th></th>\n",
              "      <th>A</th>\n",
              "      <th>B</th>\n",
              "    </tr>\n",
              "  </thead>\n",
              "  <tbody>\n",
              "    <tr>\n",
              "      <th>2020-08-04</th>\n",
              "      <td>-0.127509</td>\n",
              "      <td>0.248788</td>\n",
              "    </tr>\n",
              "    <tr>\n",
              "      <th>2020-08-05</th>\n",
              "      <td>0.752654</td>\n",
              "      <td>1.366403</td>\n",
              "    </tr>\n",
              "  </tbody>\n",
              "</table>\n",
              "</div>"
            ],
            "text/plain": [
              "                   A         B\n",
              "2020-08-04 -0.127509  0.248788\n",
              "2020-08-05  0.752654  1.366403"
            ]
          },
          "metadata": {
            "tags": []
          },
          "execution_count": 56
        }
      ]
    },
    {
      "cell_type": "code",
      "metadata": {
        "id": "CQiyLdrfMRtZ",
        "colab_type": "code",
        "colab": {
          "base_uri": "https://localhost:8080/",
          "height": 136
        },
        "outputId": "3d78f8ac-091d-425f-9c3b-05313979afa3"
      },
      "source": [
        "df.iloc[[1,2,4],[0,2]]"
      ],
      "execution_count": 57,
      "outputs": [
        {
          "output_type": "execute_result",
          "data": {
            "text/html": [
              "<div>\n",
              "<style scoped>\n",
              "    .dataframe tbody tr th:only-of-type {\n",
              "        vertical-align: middle;\n",
              "    }\n",
              "\n",
              "    .dataframe tbody tr th {\n",
              "        vertical-align: top;\n",
              "    }\n",
              "\n",
              "    .dataframe thead th {\n",
              "        text-align: right;\n",
              "    }\n",
              "</style>\n",
              "<table border=\"1\" class=\"dataframe\">\n",
              "  <thead>\n",
              "    <tr style=\"text-align: right;\">\n",
              "      <th></th>\n",
              "      <th>A</th>\n",
              "      <th>C</th>\n",
              "    </tr>\n",
              "  </thead>\n",
              "  <tbody>\n",
              "    <tr>\n",
              "      <th>2020-08-02</th>\n",
              "      <td>-1.617449</td>\n",
              "      <td>1.505878</td>\n",
              "    </tr>\n",
              "    <tr>\n",
              "      <th>2020-08-03</th>\n",
              "      <td>1.916352</td>\n",
              "      <td>0.329807</td>\n",
              "    </tr>\n",
              "    <tr>\n",
              "      <th>2020-08-05</th>\n",
              "      <td>0.752654</td>\n",
              "      <td>-1.470055</td>\n",
              "    </tr>\n",
              "  </tbody>\n",
              "</table>\n",
              "</div>"
            ],
            "text/plain": [
              "                   A         C\n",
              "2020-08-02 -1.617449  1.505878\n",
              "2020-08-03  1.916352  0.329807\n",
              "2020-08-05  0.752654 -1.470055"
            ]
          },
          "metadata": {
            "tags": []
          },
          "execution_count": 57
        }
      ]
    },
    {
      "cell_type": "code",
      "metadata": {
        "id": "psvLyR4pMWvi",
        "colab_type": "code",
        "colab": {
          "base_uri": "https://localhost:8080/",
          "height": 106
        },
        "outputId": "b0ea8066-c4d0-473f-9061-bfdfc8ba9b89"
      },
      "source": [
        "df.iloc[1:3,:]"
      ],
      "execution_count": 58,
      "outputs": [
        {
          "output_type": "execute_result",
          "data": {
            "text/html": [
              "<div>\n",
              "<style scoped>\n",
              "    .dataframe tbody tr th:only-of-type {\n",
              "        vertical-align: middle;\n",
              "    }\n",
              "\n",
              "    .dataframe tbody tr th {\n",
              "        vertical-align: top;\n",
              "    }\n",
              "\n",
              "    .dataframe thead th {\n",
              "        text-align: right;\n",
              "    }\n",
              "</style>\n",
              "<table border=\"1\" class=\"dataframe\">\n",
              "  <thead>\n",
              "    <tr style=\"text-align: right;\">\n",
              "      <th></th>\n",
              "      <th>A</th>\n",
              "      <th>B</th>\n",
              "      <th>C</th>\n",
              "      <th>D</th>\n",
              "    </tr>\n",
              "  </thead>\n",
              "  <tbody>\n",
              "    <tr>\n",
              "      <th>2020-08-02</th>\n",
              "      <td>-1.617449</td>\n",
              "      <td>-0.713745</td>\n",
              "      <td>1.505878</td>\n",
              "      <td>-0.363672</td>\n",
              "    </tr>\n",
              "    <tr>\n",
              "      <th>2020-08-03</th>\n",
              "      <td>1.916352</td>\n",
              "      <td>-1.080539</td>\n",
              "      <td>0.329807</td>\n",
              "      <td>-0.521748</td>\n",
              "    </tr>\n",
              "  </tbody>\n",
              "</table>\n",
              "</div>"
            ],
            "text/plain": [
              "                   A         B         C         D\n",
              "2020-08-02 -1.617449 -0.713745  1.505878 -0.363672\n",
              "2020-08-03  1.916352 -1.080539  0.329807 -0.521748"
            ]
          },
          "metadata": {
            "tags": []
          },
          "execution_count": 58
        }
      ]
    },
    {
      "cell_type": "code",
      "metadata": {
        "id": "9QFHx4WbMacs",
        "colab_type": "code",
        "colab": {
          "base_uri": "https://localhost:8080/",
          "height": 225
        },
        "outputId": "f3269a8b-79e6-44b6-d6a2-d3056a6aa72c"
      },
      "source": [
        "df.iloc[:,1:3]"
      ],
      "execution_count": 59,
      "outputs": [
        {
          "output_type": "execute_result",
          "data": {
            "text/html": [
              "<div>\n",
              "<style scoped>\n",
              "    .dataframe tbody tr th:only-of-type {\n",
              "        vertical-align: middle;\n",
              "    }\n",
              "\n",
              "    .dataframe tbody tr th {\n",
              "        vertical-align: top;\n",
              "    }\n",
              "\n",
              "    .dataframe thead th {\n",
              "        text-align: right;\n",
              "    }\n",
              "</style>\n",
              "<table border=\"1\" class=\"dataframe\">\n",
              "  <thead>\n",
              "    <tr style=\"text-align: right;\">\n",
              "      <th></th>\n",
              "      <th>B</th>\n",
              "      <th>C</th>\n",
              "    </tr>\n",
              "  </thead>\n",
              "  <tbody>\n",
              "    <tr>\n",
              "      <th>2020-08-01</th>\n",
              "      <td>-0.047479</td>\n",
              "      <td>-0.003089</td>\n",
              "    </tr>\n",
              "    <tr>\n",
              "      <th>2020-08-02</th>\n",
              "      <td>-0.713745</td>\n",
              "      <td>1.505878</td>\n",
              "    </tr>\n",
              "    <tr>\n",
              "      <th>2020-08-03</th>\n",
              "      <td>-1.080539</td>\n",
              "      <td>0.329807</td>\n",
              "    </tr>\n",
              "    <tr>\n",
              "      <th>2020-08-04</th>\n",
              "      <td>0.248788</td>\n",
              "      <td>-1.974687</td>\n",
              "    </tr>\n",
              "    <tr>\n",
              "      <th>2020-08-05</th>\n",
              "      <td>1.366403</td>\n",
              "      <td>-1.470055</td>\n",
              "    </tr>\n",
              "    <tr>\n",
              "      <th>2020-08-06</th>\n",
              "      <td>-0.800943</td>\n",
              "      <td>-0.356288</td>\n",
              "    </tr>\n",
              "  </tbody>\n",
              "</table>\n",
              "</div>"
            ],
            "text/plain": [
              "                   B         C\n",
              "2020-08-01 -0.047479 -0.003089\n",
              "2020-08-02 -0.713745  1.505878\n",
              "2020-08-03 -1.080539  0.329807\n",
              "2020-08-04  0.248788 -1.974687\n",
              "2020-08-05  1.366403 -1.470055\n",
              "2020-08-06 -0.800943 -0.356288"
            ]
          },
          "metadata": {
            "tags": []
          },
          "execution_count": 59
        }
      ]
    },
    {
      "cell_type": "code",
      "metadata": {
        "id": "vzn_MnXeMfDk",
        "colab_type": "code",
        "colab": {
          "base_uri": "https://localhost:8080/",
          "height": 34
        },
        "outputId": "d2ddb0aa-f873-4ac4-c38e-8568e461cb3c"
      },
      "source": [
        "# 특정 값 출력\n",
        "df.iloc[1,1]\n",
        "# df.iat[1,1] 위와 동일한 결과"
      ],
      "execution_count": 61,
      "outputs": [
        {
          "output_type": "execute_result",
          "data": {
            "text/plain": [
              "-0.713744697530221"
            ]
          },
          "metadata": {
            "tags": []
          },
          "execution_count": 61
        }
      ]
    },
    {
      "cell_type": "markdown",
      "metadata": {
        "id": "YQDwkYSaMpmS",
        "colab_type": "text"
      },
      "source": [
        "### Boolean Indexing"
      ]
    },
    {
      "cell_type": "code",
      "metadata": {
        "id": "3S8YMVFIMh9b",
        "colab_type": "code",
        "colab": {
          "base_uri": "https://localhost:8080/",
          "height": 106
        },
        "outputId": "963a8321-7a64-416c-ccac-873005fc5199"
      },
      "source": [
        "df[df.A > 0] # A열의 값이 0을 넘는 행을 가져온다"
      ],
      "execution_count": 62,
      "outputs": [
        {
          "output_type": "execute_result",
          "data": {
            "text/html": [
              "<div>\n",
              "<style scoped>\n",
              "    .dataframe tbody tr th:only-of-type {\n",
              "        vertical-align: middle;\n",
              "    }\n",
              "\n",
              "    .dataframe tbody tr th {\n",
              "        vertical-align: top;\n",
              "    }\n",
              "\n",
              "    .dataframe thead th {\n",
              "        text-align: right;\n",
              "    }\n",
              "</style>\n",
              "<table border=\"1\" class=\"dataframe\">\n",
              "  <thead>\n",
              "    <tr style=\"text-align: right;\">\n",
              "      <th></th>\n",
              "      <th>A</th>\n",
              "      <th>B</th>\n",
              "      <th>C</th>\n",
              "      <th>D</th>\n",
              "    </tr>\n",
              "  </thead>\n",
              "  <tbody>\n",
              "    <tr>\n",
              "      <th>2020-08-03</th>\n",
              "      <td>1.916352</td>\n",
              "      <td>-1.080539</td>\n",
              "      <td>0.329807</td>\n",
              "      <td>-0.521748</td>\n",
              "    </tr>\n",
              "    <tr>\n",
              "      <th>2020-08-05</th>\n",
              "      <td>0.752654</td>\n",
              "      <td>1.366403</td>\n",
              "      <td>-1.470055</td>\n",
              "      <td>-1.165753</td>\n",
              "    </tr>\n",
              "  </tbody>\n",
              "</table>\n",
              "</div>"
            ],
            "text/plain": [
              "                   A         B         C         D\n",
              "2020-08-03  1.916352 -1.080539  0.329807 -0.521748\n",
              "2020-08-05  0.752654  1.366403 -1.470055 -1.165753"
            ]
          },
          "metadata": {
            "tags": []
          },
          "execution_count": 62
        }
      ]
    },
    {
      "cell_type": "code",
      "metadata": {
        "id": "7qc1X3pWMuY1",
        "colab_type": "code",
        "colab": {
          "base_uri": "https://localhost:8080/",
          "height": 225
        },
        "outputId": "c41d57cf-f089-4de6-da0b-9aa4c60cbc00"
      },
      "source": [
        "df[df > 0]"
      ],
      "execution_count": 64,
      "outputs": [
        {
          "output_type": "execute_result",
          "data": {
            "text/html": [
              "<div>\n",
              "<style scoped>\n",
              "    .dataframe tbody tr th:only-of-type {\n",
              "        vertical-align: middle;\n",
              "    }\n",
              "\n",
              "    .dataframe tbody tr th {\n",
              "        vertical-align: top;\n",
              "    }\n",
              "\n",
              "    .dataframe thead th {\n",
              "        text-align: right;\n",
              "    }\n",
              "</style>\n",
              "<table border=\"1\" class=\"dataframe\">\n",
              "  <thead>\n",
              "    <tr style=\"text-align: right;\">\n",
              "      <th></th>\n",
              "      <th>A</th>\n",
              "      <th>B</th>\n",
              "      <th>C</th>\n",
              "      <th>D</th>\n",
              "    </tr>\n",
              "  </thead>\n",
              "  <tbody>\n",
              "    <tr>\n",
              "      <th>2020-08-01</th>\n",
              "      <td>NaN</td>\n",
              "      <td>NaN</td>\n",
              "      <td>NaN</td>\n",
              "      <td>NaN</td>\n",
              "    </tr>\n",
              "    <tr>\n",
              "      <th>2020-08-02</th>\n",
              "      <td>NaN</td>\n",
              "      <td>NaN</td>\n",
              "      <td>1.505878</td>\n",
              "      <td>NaN</td>\n",
              "    </tr>\n",
              "    <tr>\n",
              "      <th>2020-08-03</th>\n",
              "      <td>1.916352</td>\n",
              "      <td>NaN</td>\n",
              "      <td>0.329807</td>\n",
              "      <td>NaN</td>\n",
              "    </tr>\n",
              "    <tr>\n",
              "      <th>2020-08-04</th>\n",
              "      <td>NaN</td>\n",
              "      <td>0.248788</td>\n",
              "      <td>NaN</td>\n",
              "      <td>NaN</td>\n",
              "    </tr>\n",
              "    <tr>\n",
              "      <th>2020-08-05</th>\n",
              "      <td>0.752654</td>\n",
              "      <td>1.366403</td>\n",
              "      <td>NaN</td>\n",
              "      <td>NaN</td>\n",
              "    </tr>\n",
              "    <tr>\n",
              "      <th>2020-08-06</th>\n",
              "      <td>NaN</td>\n",
              "      <td>NaN</td>\n",
              "      <td>NaN</td>\n",
              "      <td>0.007065</td>\n",
              "    </tr>\n",
              "  </tbody>\n",
              "</table>\n",
              "</div>"
            ],
            "text/plain": [
              "                   A         B         C         D\n",
              "2020-08-01       NaN       NaN       NaN       NaN\n",
              "2020-08-02       NaN       NaN  1.505878       NaN\n",
              "2020-08-03  1.916352       NaN  0.329807       NaN\n",
              "2020-08-04       NaN  0.248788       NaN       NaN\n",
              "2020-08-05  0.752654  1.366403       NaN       NaN\n",
              "2020-08-06       NaN       NaN       NaN  0.007065"
            ]
          },
          "metadata": {
            "tags": []
          },
          "execution_count": 64
        }
      ]
    },
    {
      "cell_type": "code",
      "metadata": {
        "id": "jY-LVhgmM9PS",
        "colab_type": "code",
        "colab": {}
      },
      "source": [
        "df2 = df.copy()"
      ],
      "execution_count": 65,
      "outputs": []
    },
    {
      "cell_type": "code",
      "metadata": {
        "id": "KPxtnC6pNI_e",
        "colab_type": "code",
        "colab": {
          "base_uri": "https://localhost:8080/",
          "height": 225
        },
        "outputId": "3383b4e4-3d16-466d-ead2-5cfcca7691d1"
      },
      "source": [
        "df2['E'] = ['one', 'one', 'two', 'three', 'four', 'three'] # E열 추가\n",
        "df2"
      ],
      "execution_count": 66,
      "outputs": [
        {
          "output_type": "execute_result",
          "data": {
            "text/html": [
              "<div>\n",
              "<style scoped>\n",
              "    .dataframe tbody tr th:only-of-type {\n",
              "        vertical-align: middle;\n",
              "    }\n",
              "\n",
              "    .dataframe tbody tr th {\n",
              "        vertical-align: top;\n",
              "    }\n",
              "\n",
              "    .dataframe thead th {\n",
              "        text-align: right;\n",
              "    }\n",
              "</style>\n",
              "<table border=\"1\" class=\"dataframe\">\n",
              "  <thead>\n",
              "    <tr style=\"text-align: right;\">\n",
              "      <th></th>\n",
              "      <th>A</th>\n",
              "      <th>B</th>\n",
              "      <th>C</th>\n",
              "      <th>D</th>\n",
              "      <th>E</th>\n",
              "    </tr>\n",
              "  </thead>\n",
              "  <tbody>\n",
              "    <tr>\n",
              "      <th>2020-08-01</th>\n",
              "      <td>-0.127163</td>\n",
              "      <td>-0.047479</td>\n",
              "      <td>-0.003089</td>\n",
              "      <td>-0.702017</td>\n",
              "      <td>one</td>\n",
              "    </tr>\n",
              "    <tr>\n",
              "      <th>2020-08-02</th>\n",
              "      <td>-1.617449</td>\n",
              "      <td>-0.713745</td>\n",
              "      <td>1.505878</td>\n",
              "      <td>-0.363672</td>\n",
              "      <td>one</td>\n",
              "    </tr>\n",
              "    <tr>\n",
              "      <th>2020-08-03</th>\n",
              "      <td>1.916352</td>\n",
              "      <td>-1.080539</td>\n",
              "      <td>0.329807</td>\n",
              "      <td>-0.521748</td>\n",
              "      <td>two</td>\n",
              "    </tr>\n",
              "    <tr>\n",
              "      <th>2020-08-04</th>\n",
              "      <td>-0.127509</td>\n",
              "      <td>0.248788</td>\n",
              "      <td>-1.974687</td>\n",
              "      <td>-0.652776</td>\n",
              "      <td>three</td>\n",
              "    </tr>\n",
              "    <tr>\n",
              "      <th>2020-08-05</th>\n",
              "      <td>0.752654</td>\n",
              "      <td>1.366403</td>\n",
              "      <td>-1.470055</td>\n",
              "      <td>-1.165753</td>\n",
              "      <td>four</td>\n",
              "    </tr>\n",
              "    <tr>\n",
              "      <th>2020-08-06</th>\n",
              "      <td>-0.480413</td>\n",
              "      <td>-0.800943</td>\n",
              "      <td>-0.356288</td>\n",
              "      <td>0.007065</td>\n",
              "      <td>three</td>\n",
              "    </tr>\n",
              "  </tbody>\n",
              "</table>\n",
              "</div>"
            ],
            "text/plain": [
              "                   A         B         C         D      E\n",
              "2020-08-01 -0.127163 -0.047479 -0.003089 -0.702017    one\n",
              "2020-08-02 -1.617449 -0.713745  1.505878 -0.363672    one\n",
              "2020-08-03  1.916352 -1.080539  0.329807 -0.521748    two\n",
              "2020-08-04 -0.127509  0.248788 -1.974687 -0.652776  three\n",
              "2020-08-05  0.752654  1.366403 -1.470055 -1.165753   four\n",
              "2020-08-06 -0.480413 -0.800943 -0.356288  0.007065  three"
            ]
          },
          "metadata": {
            "tags": []
          },
          "execution_count": 66
        }
      ]
    },
    {
      "cell_type": "code",
      "metadata": {
        "id": "UNtJnNLGNOTT",
        "colab_type": "code",
        "colab": {
          "base_uri": "https://localhost:8080/",
          "height": 106
        },
        "outputId": "3dc10730-835b-4e38-ecc8-d7dd749a8aa6"
      },
      "source": [
        "df2[df2['E'].isin(['two','four'])] # df2의 E열 안에 two, four값이 있는 행만 출력"
      ],
      "execution_count": 68,
      "outputs": [
        {
          "output_type": "execute_result",
          "data": {
            "text/html": [
              "<div>\n",
              "<style scoped>\n",
              "    .dataframe tbody tr th:only-of-type {\n",
              "        vertical-align: middle;\n",
              "    }\n",
              "\n",
              "    .dataframe tbody tr th {\n",
              "        vertical-align: top;\n",
              "    }\n",
              "\n",
              "    .dataframe thead th {\n",
              "        text-align: right;\n",
              "    }\n",
              "</style>\n",
              "<table border=\"1\" class=\"dataframe\">\n",
              "  <thead>\n",
              "    <tr style=\"text-align: right;\">\n",
              "      <th></th>\n",
              "      <th>A</th>\n",
              "      <th>B</th>\n",
              "      <th>C</th>\n",
              "      <th>D</th>\n",
              "      <th>E</th>\n",
              "    </tr>\n",
              "  </thead>\n",
              "  <tbody>\n",
              "    <tr>\n",
              "      <th>2020-08-03</th>\n",
              "      <td>1.916352</td>\n",
              "      <td>-1.080539</td>\n",
              "      <td>0.329807</td>\n",
              "      <td>-0.521748</td>\n",
              "      <td>two</td>\n",
              "    </tr>\n",
              "    <tr>\n",
              "      <th>2020-08-05</th>\n",
              "      <td>0.752654</td>\n",
              "      <td>1.366403</td>\n",
              "      <td>-1.470055</td>\n",
              "      <td>-1.165753</td>\n",
              "      <td>four</td>\n",
              "    </tr>\n",
              "  </tbody>\n",
              "</table>\n",
              "</div>"
            ],
            "text/plain": [
              "                   A         B         C         D     E\n",
              "2020-08-03  1.916352 -1.080539  0.329807 -0.521748   two\n",
              "2020-08-05  0.752654  1.366403 -1.470055 -1.165753  four"
            ]
          },
          "metadata": {
            "tags": []
          },
          "execution_count": 68
        }
      ]
    },
    {
      "cell_type": "markdown",
      "metadata": {
        "id": "qq1UcLmUNgYU",
        "colab_type": "text"
      },
      "source": [
        "### Setting (설정)"
      ]
    },
    {
      "cell_type": "code",
      "metadata": {
        "id": "d7jhJkUbNTpS",
        "colab_type": "code",
        "colab": {
          "base_uri": "https://localhost:8080/",
          "height": 140
        },
        "outputId": "0db6257b-0278-4d53-b52f-68d33189743f"
      },
      "source": [
        "s1 = pd.Series([1,2,3,4,5,6], index=pd.date_range('20200802', periods=6))\n",
        "s1"
      ],
      "execution_count": 71,
      "outputs": [
        {
          "output_type": "execute_result",
          "data": {
            "text/plain": [
              "2020-08-02    1\n",
              "2020-08-03    2\n",
              "2020-08-04    3\n",
              "2020-08-05    4\n",
              "2020-08-06    5\n",
              "2020-08-07    6\n",
              "Freq: D, dtype: int64"
            ]
          },
          "metadata": {
            "tags": []
          },
          "execution_count": 71
        }
      ]
    },
    {
      "cell_type": "code",
      "metadata": {
        "id": "d1mPIGOiNmcc",
        "colab_type": "code",
        "colab": {}
      },
      "source": [
        "df['F'] = s1\n",
        "df.at[dates[0],'A'] = 0 # dates[0]의 'A'열의 값에 0을 넣는다\n",
        "df.iat[0,1] = 0 # [0,1]위치에 0값을 넣는다\n",
        "df.loc[:,'D'] = np.array([5] * len(df))"
      ],
      "execution_count": 73,
      "outputs": []
    },
    {
      "cell_type": "code",
      "metadata": {
        "id": "ydg79rJxNyZ2",
        "colab_type": "code",
        "colab": {
          "base_uri": "https://localhost:8080/",
          "height": 225
        },
        "outputId": "37c722a7-008d-4f8d-f03c-b9a8aea03675"
      },
      "source": [
        "df"
      ],
      "execution_count": 74,
      "outputs": [
        {
          "output_type": "execute_result",
          "data": {
            "text/html": [
              "<div>\n",
              "<style scoped>\n",
              "    .dataframe tbody tr th:only-of-type {\n",
              "        vertical-align: middle;\n",
              "    }\n",
              "\n",
              "    .dataframe tbody tr th {\n",
              "        vertical-align: top;\n",
              "    }\n",
              "\n",
              "    .dataframe thead th {\n",
              "        text-align: right;\n",
              "    }\n",
              "</style>\n",
              "<table border=\"1\" class=\"dataframe\">\n",
              "  <thead>\n",
              "    <tr style=\"text-align: right;\">\n",
              "      <th></th>\n",
              "      <th>A</th>\n",
              "      <th>B</th>\n",
              "      <th>C</th>\n",
              "      <th>D</th>\n",
              "      <th>F</th>\n",
              "    </tr>\n",
              "  </thead>\n",
              "  <tbody>\n",
              "    <tr>\n",
              "      <th>2020-08-01</th>\n",
              "      <td>0.000000</td>\n",
              "      <td>0.000000</td>\n",
              "      <td>-0.003089</td>\n",
              "      <td>5</td>\n",
              "      <td>NaN</td>\n",
              "    </tr>\n",
              "    <tr>\n",
              "      <th>2020-08-02</th>\n",
              "      <td>-1.617449</td>\n",
              "      <td>-0.713745</td>\n",
              "      <td>1.505878</td>\n",
              "      <td>5</td>\n",
              "      <td>1.0</td>\n",
              "    </tr>\n",
              "    <tr>\n",
              "      <th>2020-08-03</th>\n",
              "      <td>1.916352</td>\n",
              "      <td>-1.080539</td>\n",
              "      <td>0.329807</td>\n",
              "      <td>5</td>\n",
              "      <td>2.0</td>\n",
              "    </tr>\n",
              "    <tr>\n",
              "      <th>2020-08-04</th>\n",
              "      <td>-0.127509</td>\n",
              "      <td>0.248788</td>\n",
              "      <td>-1.974687</td>\n",
              "      <td>5</td>\n",
              "      <td>3.0</td>\n",
              "    </tr>\n",
              "    <tr>\n",
              "      <th>2020-08-05</th>\n",
              "      <td>0.752654</td>\n",
              "      <td>1.366403</td>\n",
              "      <td>-1.470055</td>\n",
              "      <td>5</td>\n",
              "      <td>4.0</td>\n",
              "    </tr>\n",
              "    <tr>\n",
              "      <th>2020-08-06</th>\n",
              "      <td>-0.480413</td>\n",
              "      <td>-0.800943</td>\n",
              "      <td>-0.356288</td>\n",
              "      <td>5</td>\n",
              "      <td>5.0</td>\n",
              "    </tr>\n",
              "  </tbody>\n",
              "</table>\n",
              "</div>"
            ],
            "text/plain": [
              "                   A         B         C  D    F\n",
              "2020-08-01  0.000000  0.000000 -0.003089  5  NaN\n",
              "2020-08-02 -1.617449 -0.713745  1.505878  5  1.0\n",
              "2020-08-03  1.916352 -1.080539  0.329807  5  2.0\n",
              "2020-08-04 -0.127509  0.248788 -1.974687  5  3.0\n",
              "2020-08-05  0.752654  1.366403 -1.470055  5  4.0\n",
              "2020-08-06 -0.480413 -0.800943 -0.356288  5  5.0"
            ]
          },
          "metadata": {
            "tags": []
          },
          "execution_count": 74
        }
      ]
    },
    {
      "cell_type": "code",
      "metadata": {
        "id": "jbXizDqlN9Ol",
        "colab_type": "code",
        "colab": {
          "base_uri": "https://localhost:8080/",
          "height": 225
        },
        "outputId": "fd4ffcfc-c316-45e2-daef-6a365183d35c"
      },
      "source": [
        "df2 = df.copy()\n",
        "df2[df2>0] = -df2\n",
        "df2"
      ],
      "execution_count": 75,
      "outputs": [
        {
          "output_type": "execute_result",
          "data": {
            "text/html": [
              "<div>\n",
              "<style scoped>\n",
              "    .dataframe tbody tr th:only-of-type {\n",
              "        vertical-align: middle;\n",
              "    }\n",
              "\n",
              "    .dataframe tbody tr th {\n",
              "        vertical-align: top;\n",
              "    }\n",
              "\n",
              "    .dataframe thead th {\n",
              "        text-align: right;\n",
              "    }\n",
              "</style>\n",
              "<table border=\"1\" class=\"dataframe\">\n",
              "  <thead>\n",
              "    <tr style=\"text-align: right;\">\n",
              "      <th></th>\n",
              "      <th>A</th>\n",
              "      <th>B</th>\n",
              "      <th>C</th>\n",
              "      <th>D</th>\n",
              "      <th>F</th>\n",
              "    </tr>\n",
              "  </thead>\n",
              "  <tbody>\n",
              "    <tr>\n",
              "      <th>2020-08-01</th>\n",
              "      <td>0.000000</td>\n",
              "      <td>0.000000</td>\n",
              "      <td>-0.003089</td>\n",
              "      <td>-5</td>\n",
              "      <td>NaN</td>\n",
              "    </tr>\n",
              "    <tr>\n",
              "      <th>2020-08-02</th>\n",
              "      <td>-1.617449</td>\n",
              "      <td>-0.713745</td>\n",
              "      <td>-1.505878</td>\n",
              "      <td>-5</td>\n",
              "      <td>-1.0</td>\n",
              "    </tr>\n",
              "    <tr>\n",
              "      <th>2020-08-03</th>\n",
              "      <td>-1.916352</td>\n",
              "      <td>-1.080539</td>\n",
              "      <td>-0.329807</td>\n",
              "      <td>-5</td>\n",
              "      <td>-2.0</td>\n",
              "    </tr>\n",
              "    <tr>\n",
              "      <th>2020-08-04</th>\n",
              "      <td>-0.127509</td>\n",
              "      <td>-0.248788</td>\n",
              "      <td>-1.974687</td>\n",
              "      <td>-5</td>\n",
              "      <td>-3.0</td>\n",
              "    </tr>\n",
              "    <tr>\n",
              "      <th>2020-08-05</th>\n",
              "      <td>-0.752654</td>\n",
              "      <td>-1.366403</td>\n",
              "      <td>-1.470055</td>\n",
              "      <td>-5</td>\n",
              "      <td>-4.0</td>\n",
              "    </tr>\n",
              "    <tr>\n",
              "      <th>2020-08-06</th>\n",
              "      <td>-0.480413</td>\n",
              "      <td>-0.800943</td>\n",
              "      <td>-0.356288</td>\n",
              "      <td>-5</td>\n",
              "      <td>-5.0</td>\n",
              "    </tr>\n",
              "  </tbody>\n",
              "</table>\n",
              "</div>"
            ],
            "text/plain": [
              "                   A         B         C  D    F\n",
              "2020-08-01  0.000000  0.000000 -0.003089 -5  NaN\n",
              "2020-08-02 -1.617449 -0.713745 -1.505878 -5 -1.0\n",
              "2020-08-03 -1.916352 -1.080539 -0.329807 -5 -2.0\n",
              "2020-08-04 -0.127509 -0.248788 -1.974687 -5 -3.0\n",
              "2020-08-05 -0.752654 -1.366403 -1.470055 -5 -4.0\n",
              "2020-08-06 -0.480413 -0.800943 -0.356288 -5 -5.0"
            ]
          },
          "metadata": {
            "tags": []
          },
          "execution_count": 75
        }
      ]
    }
  ]
}