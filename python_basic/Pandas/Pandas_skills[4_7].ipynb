{
  "nbformat": 4,
  "nbformat_minor": 0,
  "metadata": {
    "colab": {
      "name": "Pandas_skills[4-7].ipynb",
      "provenance": [],
      "collapsed_sections": [],
      "authorship_tag": "ABX9TyN3crDbeXxKlKpSHvZXzP+7",
      "include_colab_link": true
    },
    "kernelspec": {
      "name": "python3",
      "display_name": "Python 3"
    }
  },
  "cells": [
    {
      "cell_type": "markdown",
      "metadata": {
        "id": "view-in-github",
        "colab_type": "text"
      },
      "source": [
        "<a href=\"https://colab.research.google.com/github/Hugekyung/TIL/blob/master/python_basic/Pandas/Pandas_skills%5B4_7%5D.ipynb\" target=\"_parent\"><img src=\"https://colab.research.google.com/assets/colab-badge.svg\" alt=\"Open In Colab\"/></a>"
      ]
    },
    {
      "cell_type": "markdown",
      "metadata": {
        "id": "KroYZv4kUX0V",
        "colab_type": "text"
      },
      "source": [
        "# Pandas skills  \n",
        "1. Object Creation  \n",
        "2. Viewing Data  \n",
        "3. Selection  \n",
        "4. Missing Data  \n",
        "5. Operation  \n",
        "6. Merge\n",
        "7. Grouping  \n",
        "8. Reshapeing  \n",
        "10. Time Series  \n",
        "11. Categoricals  \n",
        "12. Plotting  \n",
        "13. Getting Data In / Out  \n",
        "14. Gotchas"
      ]
    },
    {
      "cell_type": "code",
      "metadata": {
        "id": "ViYJGAwcUKhZ",
        "colab_type": "code",
        "colab": {}
      },
      "source": [
        "import pandas as pd\n",
        "import numpy as np\n",
        "import matplotlib.pyplot as plt"
      ],
      "execution_count": null,
      "outputs": []
    },
    {
      "cell_type": "markdown",
      "metadata": {
        "id": "5Hwp23YAVEu5",
        "colab_type": "text"
      },
      "source": [
        "## 4.Missing Data (결측치)"
      ]
    },
    {
      "cell_type": "code",
      "metadata": {
        "id": "xb-yv7YCUeJW",
        "colab_type": "code",
        "colab": {
          "base_uri": "https://localhost:8080/",
          "height": 225
        },
        "outputId": "05307895-f059-4bef-b82b-0cea1c830452"
      },
      "source": [
        "s = pd.Series([1,3,5,np.nan,6,8])\n",
        "dates = pd.date_range('20200801', periods=6)\n",
        "df = pd.DataFrame(np.random.randn(6,4), index=dates, columns=list('ABCD'))\n",
        "df"
      ],
      "execution_count": null,
      "outputs": [
        {
          "output_type": "execute_result",
          "data": {
            "text/html": [
              "<div>\n",
              "<style scoped>\n",
              "    .dataframe tbody tr th:only-of-type {\n",
              "        vertical-align: middle;\n",
              "    }\n",
              "\n",
              "    .dataframe tbody tr th {\n",
              "        vertical-align: top;\n",
              "    }\n",
              "\n",
              "    .dataframe thead th {\n",
              "        text-align: right;\n",
              "    }\n",
              "</style>\n",
              "<table border=\"1\" class=\"dataframe\">\n",
              "  <thead>\n",
              "    <tr style=\"text-align: right;\">\n",
              "      <th></th>\n",
              "      <th>A</th>\n",
              "      <th>B</th>\n",
              "      <th>C</th>\n",
              "      <th>D</th>\n",
              "    </tr>\n",
              "  </thead>\n",
              "  <tbody>\n",
              "    <tr>\n",
              "      <th>2020-08-01</th>\n",
              "      <td>-0.786870</td>\n",
              "      <td>-0.225762</td>\n",
              "      <td>-0.812988</td>\n",
              "      <td>2.014652</td>\n",
              "    </tr>\n",
              "    <tr>\n",
              "      <th>2020-08-02</th>\n",
              "      <td>-0.987273</td>\n",
              "      <td>0.345798</td>\n",
              "      <td>-0.197650</td>\n",
              "      <td>0.422491</td>\n",
              "    </tr>\n",
              "    <tr>\n",
              "      <th>2020-08-03</th>\n",
              "      <td>-1.283330</td>\n",
              "      <td>0.822143</td>\n",
              "      <td>-0.691145</td>\n",
              "      <td>-0.116606</td>\n",
              "    </tr>\n",
              "    <tr>\n",
              "      <th>2020-08-04</th>\n",
              "      <td>-3.278491</td>\n",
              "      <td>0.441366</td>\n",
              "      <td>0.119984</td>\n",
              "      <td>1.711084</td>\n",
              "    </tr>\n",
              "    <tr>\n",
              "      <th>2020-08-05</th>\n",
              "      <td>-0.831410</td>\n",
              "      <td>1.481111</td>\n",
              "      <td>0.639462</td>\n",
              "      <td>0.153449</td>\n",
              "    </tr>\n",
              "    <tr>\n",
              "      <th>2020-08-06</th>\n",
              "      <td>0.114699</td>\n",
              "      <td>-0.470691</td>\n",
              "      <td>-1.205253</td>\n",
              "      <td>1.023658</td>\n",
              "    </tr>\n",
              "  </tbody>\n",
              "</table>\n",
              "</div>"
            ],
            "text/plain": [
              "                   A         B         C         D\n",
              "2020-08-01 -0.786870 -0.225762 -0.812988  2.014652\n",
              "2020-08-02 -0.987273  0.345798 -0.197650  0.422491\n",
              "2020-08-03 -1.283330  0.822143 -0.691145 -0.116606\n",
              "2020-08-04 -3.278491  0.441366  0.119984  1.711084\n",
              "2020-08-05 -0.831410  1.481111  0.639462  0.153449\n",
              "2020-08-06  0.114699 -0.470691 -1.205253  1.023658"
            ]
          },
          "metadata": {
            "tags": []
          },
          "execution_count": 42
        }
      ]
    },
    {
      "cell_type": "code",
      "metadata": {
        "id": "1veJAY13VepF",
        "colab_type": "code",
        "colab": {
          "base_uri": "https://localhost:8080/",
          "height": 166
        },
        "outputId": "19208cad-7952-403f-bc84-4395d77d0a8d"
      },
      "source": [
        "df1 = df.reindex(index=dates[0:4], columns=list(df.columns) + ['E'])\n",
        "df1.loc[dates[0]:dates[1], 'E'] = 1 # 값을 안넣어준 부분은 NAN으로 설정됨\n",
        "df1"
      ],
      "execution_count": null,
      "outputs": [
        {
          "output_type": "execute_result",
          "data": {
            "text/html": [
              "<div>\n",
              "<style scoped>\n",
              "    .dataframe tbody tr th:only-of-type {\n",
              "        vertical-align: middle;\n",
              "    }\n",
              "\n",
              "    .dataframe tbody tr th {\n",
              "        vertical-align: top;\n",
              "    }\n",
              "\n",
              "    .dataframe thead th {\n",
              "        text-align: right;\n",
              "    }\n",
              "</style>\n",
              "<table border=\"1\" class=\"dataframe\">\n",
              "  <thead>\n",
              "    <tr style=\"text-align: right;\">\n",
              "      <th></th>\n",
              "      <th>A</th>\n",
              "      <th>B</th>\n",
              "      <th>C</th>\n",
              "      <th>D</th>\n",
              "      <th>E</th>\n",
              "    </tr>\n",
              "  </thead>\n",
              "  <tbody>\n",
              "    <tr>\n",
              "      <th>2020-08-01</th>\n",
              "      <td>-0.786870</td>\n",
              "      <td>-0.225762</td>\n",
              "      <td>-0.812988</td>\n",
              "      <td>2.014652</td>\n",
              "      <td>1.0</td>\n",
              "    </tr>\n",
              "    <tr>\n",
              "      <th>2020-08-02</th>\n",
              "      <td>-0.987273</td>\n",
              "      <td>0.345798</td>\n",
              "      <td>-0.197650</td>\n",
              "      <td>0.422491</td>\n",
              "      <td>1.0</td>\n",
              "    </tr>\n",
              "    <tr>\n",
              "      <th>2020-08-03</th>\n",
              "      <td>-1.283330</td>\n",
              "      <td>0.822143</td>\n",
              "      <td>-0.691145</td>\n",
              "      <td>-0.116606</td>\n",
              "      <td>NaN</td>\n",
              "    </tr>\n",
              "    <tr>\n",
              "      <th>2020-08-04</th>\n",
              "      <td>-3.278491</td>\n",
              "      <td>0.441366</td>\n",
              "      <td>0.119984</td>\n",
              "      <td>1.711084</td>\n",
              "      <td>NaN</td>\n",
              "    </tr>\n",
              "  </tbody>\n",
              "</table>\n",
              "</div>"
            ],
            "text/plain": [
              "                   A         B         C         D    E\n",
              "2020-08-01 -0.786870 -0.225762 -0.812988  2.014652  1.0\n",
              "2020-08-02 -0.987273  0.345798 -0.197650  0.422491  1.0\n",
              "2020-08-03 -1.283330  0.822143 -0.691145 -0.116606  NaN\n",
              "2020-08-04 -3.278491  0.441366  0.119984  1.711084  NaN"
            ]
          },
          "metadata": {
            "tags": []
          },
          "execution_count": 43
        }
      ]
    },
    {
      "cell_type": "code",
      "metadata": {
        "id": "Yffv1oh5V8MS",
        "colab_type": "code",
        "colab": {
          "base_uri": "https://localhost:8080/",
          "height": 106
        },
        "outputId": "2cf9886f-0ddd-4fea-b8d4-eb7b9b5b29f1"
      },
      "source": [
        "# 결측치를 가지고 있는 행들 삭제\n",
        "df1.dropna(how='any')"
      ],
      "execution_count": null,
      "outputs": [
        {
          "output_type": "execute_result",
          "data": {
            "text/html": [
              "<div>\n",
              "<style scoped>\n",
              "    .dataframe tbody tr th:only-of-type {\n",
              "        vertical-align: middle;\n",
              "    }\n",
              "\n",
              "    .dataframe tbody tr th {\n",
              "        vertical-align: top;\n",
              "    }\n",
              "\n",
              "    .dataframe thead th {\n",
              "        text-align: right;\n",
              "    }\n",
              "</style>\n",
              "<table border=\"1\" class=\"dataframe\">\n",
              "  <thead>\n",
              "    <tr style=\"text-align: right;\">\n",
              "      <th></th>\n",
              "      <th>A</th>\n",
              "      <th>B</th>\n",
              "      <th>C</th>\n",
              "      <th>D</th>\n",
              "      <th>E</th>\n",
              "    </tr>\n",
              "  </thead>\n",
              "  <tbody>\n",
              "    <tr>\n",
              "      <th>2020-08-01</th>\n",
              "      <td>-0.786870</td>\n",
              "      <td>-0.225762</td>\n",
              "      <td>-0.812988</td>\n",
              "      <td>2.014652</td>\n",
              "      <td>1.0</td>\n",
              "    </tr>\n",
              "    <tr>\n",
              "      <th>2020-08-02</th>\n",
              "      <td>-0.987273</td>\n",
              "      <td>0.345798</td>\n",
              "      <td>-0.197650</td>\n",
              "      <td>0.422491</td>\n",
              "      <td>1.0</td>\n",
              "    </tr>\n",
              "  </tbody>\n",
              "</table>\n",
              "</div>"
            ],
            "text/plain": [
              "                   A         B         C         D    E\n",
              "2020-08-01 -0.786870 -0.225762 -0.812988  2.014652  1.0\n",
              "2020-08-02 -0.987273  0.345798 -0.197650  0.422491  1.0"
            ]
          },
          "metadata": {
            "tags": []
          },
          "execution_count": 44
        }
      ]
    },
    {
      "cell_type": "code",
      "metadata": {
        "id": "IIXYlYiAhuwC",
        "colab_type": "code",
        "colab": {
          "base_uri": "https://localhost:8080/",
          "height": 166
        },
        "outputId": "ec532f87-6627-4304-8891-6e705d6a51bd"
      },
      "source": [
        "# 결측치를 채움\n",
        "df1.fillna(value=5)"
      ],
      "execution_count": null,
      "outputs": [
        {
          "output_type": "execute_result",
          "data": {
            "text/html": [
              "<div>\n",
              "<style scoped>\n",
              "    .dataframe tbody tr th:only-of-type {\n",
              "        vertical-align: middle;\n",
              "    }\n",
              "\n",
              "    .dataframe tbody tr th {\n",
              "        vertical-align: top;\n",
              "    }\n",
              "\n",
              "    .dataframe thead th {\n",
              "        text-align: right;\n",
              "    }\n",
              "</style>\n",
              "<table border=\"1\" class=\"dataframe\">\n",
              "  <thead>\n",
              "    <tr style=\"text-align: right;\">\n",
              "      <th></th>\n",
              "      <th>A</th>\n",
              "      <th>B</th>\n",
              "      <th>C</th>\n",
              "      <th>D</th>\n",
              "      <th>E</th>\n",
              "    </tr>\n",
              "  </thead>\n",
              "  <tbody>\n",
              "    <tr>\n",
              "      <th>2020-08-01</th>\n",
              "      <td>-0.786870</td>\n",
              "      <td>-0.225762</td>\n",
              "      <td>-0.812988</td>\n",
              "      <td>2.014652</td>\n",
              "      <td>1.0</td>\n",
              "    </tr>\n",
              "    <tr>\n",
              "      <th>2020-08-02</th>\n",
              "      <td>-0.987273</td>\n",
              "      <td>0.345798</td>\n",
              "      <td>-0.197650</td>\n",
              "      <td>0.422491</td>\n",
              "      <td>1.0</td>\n",
              "    </tr>\n",
              "    <tr>\n",
              "      <th>2020-08-03</th>\n",
              "      <td>-1.283330</td>\n",
              "      <td>0.822143</td>\n",
              "      <td>-0.691145</td>\n",
              "      <td>-0.116606</td>\n",
              "      <td>5.0</td>\n",
              "    </tr>\n",
              "    <tr>\n",
              "      <th>2020-08-04</th>\n",
              "      <td>-3.278491</td>\n",
              "      <td>0.441366</td>\n",
              "      <td>0.119984</td>\n",
              "      <td>1.711084</td>\n",
              "      <td>5.0</td>\n",
              "    </tr>\n",
              "  </tbody>\n",
              "</table>\n",
              "</div>"
            ],
            "text/plain": [
              "                   A         B         C         D    E\n",
              "2020-08-01 -0.786870 -0.225762 -0.812988  2.014652  1.0\n",
              "2020-08-02 -0.987273  0.345798 -0.197650  0.422491  1.0\n",
              "2020-08-03 -1.283330  0.822143 -0.691145 -0.116606  5.0\n",
              "2020-08-04 -3.278491  0.441366  0.119984  1.711084  5.0"
            ]
          },
          "metadata": {
            "tags": []
          },
          "execution_count": 45
        }
      ]
    },
    {
      "cell_type": "code",
      "metadata": {
        "id": "myOvs5Cfh360",
        "colab_type": "code",
        "colab": {
          "base_uri": "https://localhost:8080/",
          "height": 166
        },
        "outputId": "a65d1328-1f21-4391-cb13-b869b0a812d9"
      },
      "source": [
        "# 데이터프레임의 모든 값이 boolean형태로 표시되며, NaN인 값에만 True가 표시됨\n",
        "pd.isna(df1)"
      ],
      "execution_count": null,
      "outputs": [
        {
          "output_type": "execute_result",
          "data": {
            "text/html": [
              "<div>\n",
              "<style scoped>\n",
              "    .dataframe tbody tr th:only-of-type {\n",
              "        vertical-align: middle;\n",
              "    }\n",
              "\n",
              "    .dataframe tbody tr th {\n",
              "        vertical-align: top;\n",
              "    }\n",
              "\n",
              "    .dataframe thead th {\n",
              "        text-align: right;\n",
              "    }\n",
              "</style>\n",
              "<table border=\"1\" class=\"dataframe\">\n",
              "  <thead>\n",
              "    <tr style=\"text-align: right;\">\n",
              "      <th></th>\n",
              "      <th>A</th>\n",
              "      <th>B</th>\n",
              "      <th>C</th>\n",
              "      <th>D</th>\n",
              "      <th>E</th>\n",
              "    </tr>\n",
              "  </thead>\n",
              "  <tbody>\n",
              "    <tr>\n",
              "      <th>2020-08-01</th>\n",
              "      <td>False</td>\n",
              "      <td>False</td>\n",
              "      <td>False</td>\n",
              "      <td>False</td>\n",
              "      <td>False</td>\n",
              "    </tr>\n",
              "    <tr>\n",
              "      <th>2020-08-02</th>\n",
              "      <td>False</td>\n",
              "      <td>False</td>\n",
              "      <td>False</td>\n",
              "      <td>False</td>\n",
              "      <td>False</td>\n",
              "    </tr>\n",
              "    <tr>\n",
              "      <th>2020-08-03</th>\n",
              "      <td>False</td>\n",
              "      <td>False</td>\n",
              "      <td>False</td>\n",
              "      <td>False</td>\n",
              "      <td>True</td>\n",
              "    </tr>\n",
              "    <tr>\n",
              "      <th>2020-08-04</th>\n",
              "      <td>False</td>\n",
              "      <td>False</td>\n",
              "      <td>False</td>\n",
              "      <td>False</td>\n",
              "      <td>True</td>\n",
              "    </tr>\n",
              "  </tbody>\n",
              "</table>\n",
              "</div>"
            ],
            "text/plain": [
              "                A      B      C      D      E\n",
              "2020-08-01  False  False  False  False  False\n",
              "2020-08-02  False  False  False  False  False\n",
              "2020-08-03  False  False  False  False   True\n",
              "2020-08-04  False  False  False  False   True"
            ]
          },
          "metadata": {
            "tags": []
          },
          "execution_count": 46
        }
      ]
    },
    {
      "cell_type": "markdown",
      "metadata": {
        "id": "nwJEHB-9ib_U",
        "colab_type": "text"
      },
      "source": [
        "## 5.Operation (연산)"
      ]
    },
    {
      "cell_type": "markdown",
      "metadata": {
        "id": "vFbaZvcmiwdC",
        "colab_type": "text"
      },
      "source": [
        "### Stats (통계)"
      ]
    },
    {
      "cell_type": "code",
      "metadata": {
        "id": "5wNdQi3_iKnL",
        "colab_type": "code",
        "colab": {
          "base_uri": "https://localhost:8080/",
          "height": 105
        },
        "outputId": "7383ad00-3cdb-417d-d4a7-ccd1a71d0d0e"
      },
      "source": [
        "df.mean()"
      ],
      "execution_count": null,
      "outputs": [
        {
          "output_type": "execute_result",
          "data": {
            "text/plain": [
              "A   -1.175446\n",
              "B    0.398994\n",
              "C   -0.357932\n",
              "D    0.868121\n",
              "dtype: float64"
            ]
          },
          "metadata": {
            "tags": []
          },
          "execution_count": 47
        }
      ]
    },
    {
      "cell_type": "code",
      "metadata": {
        "id": "mDRKiprri1d4",
        "colab_type": "code",
        "colab": {
          "base_uri": "https://localhost:8080/",
          "height": 140
        },
        "outputId": "549b4563-b4a8-4154-8961-fdb6f97181c5"
      },
      "source": [
        "df.mean(1)"
      ],
      "execution_count": null,
      "outputs": [
        {
          "output_type": "execute_result",
          "data": {
            "text/plain": [
              "2020-08-01    0.047258\n",
              "2020-08-02   -0.104158\n",
              "2020-08-03   -0.317234\n",
              "2020-08-04   -0.251514\n",
              "2020-08-05    0.360653\n",
              "2020-08-06   -0.134397\n",
              "Freq: D, dtype: float64"
            ]
          },
          "metadata": {
            "tags": []
          },
          "execution_count": 48
        }
      ]
    },
    {
      "cell_type": "code",
      "metadata": {
        "id": "EdjNeVpOi3IX",
        "colab_type": "code",
        "colab": {
          "base_uri": "https://localhost:8080/",
          "height": 140
        },
        "outputId": "372228a2-f4ad-48fd-eb9e-a9ad516f022e"
      },
      "source": [
        "s = pd.Series([1,3,5,np.nan,6,8], index=dates).shift(2)\n",
        "s"
      ],
      "execution_count": null,
      "outputs": [
        {
          "output_type": "execute_result",
          "data": {
            "text/plain": [
              "2020-08-01    NaN\n",
              "2020-08-02    NaN\n",
              "2020-08-03    1.0\n",
              "2020-08-04    3.0\n",
              "2020-08-05    5.0\n",
              "2020-08-06    NaN\n",
              "Freq: D, dtype: float64"
            ]
          },
          "metadata": {
            "tags": []
          },
          "execution_count": 49
        }
      ]
    },
    {
      "cell_type": "code",
      "metadata": {
        "id": "ivYLELmKjU9A",
        "colab_type": "code",
        "colab": {
          "base_uri": "https://localhost:8080/",
          "height": 225
        },
        "outputId": "852c7abf-5f84-4c36-c674-373a5f6609cb"
      },
      "source": [
        "df.sub(s, axis='index')"
      ],
      "execution_count": null,
      "outputs": [
        {
          "output_type": "execute_result",
          "data": {
            "text/html": [
              "<div>\n",
              "<style scoped>\n",
              "    .dataframe tbody tr th:only-of-type {\n",
              "        vertical-align: middle;\n",
              "    }\n",
              "\n",
              "    .dataframe tbody tr th {\n",
              "        vertical-align: top;\n",
              "    }\n",
              "\n",
              "    .dataframe thead th {\n",
              "        text-align: right;\n",
              "    }\n",
              "</style>\n",
              "<table border=\"1\" class=\"dataframe\">\n",
              "  <thead>\n",
              "    <tr style=\"text-align: right;\">\n",
              "      <th></th>\n",
              "      <th>A</th>\n",
              "      <th>B</th>\n",
              "      <th>C</th>\n",
              "      <th>D</th>\n",
              "    </tr>\n",
              "  </thead>\n",
              "  <tbody>\n",
              "    <tr>\n",
              "      <th>2020-08-01</th>\n",
              "      <td>NaN</td>\n",
              "      <td>NaN</td>\n",
              "      <td>NaN</td>\n",
              "      <td>NaN</td>\n",
              "    </tr>\n",
              "    <tr>\n",
              "      <th>2020-08-02</th>\n",
              "      <td>NaN</td>\n",
              "      <td>NaN</td>\n",
              "      <td>NaN</td>\n",
              "      <td>NaN</td>\n",
              "    </tr>\n",
              "    <tr>\n",
              "      <th>2020-08-03</th>\n",
              "      <td>-2.283330</td>\n",
              "      <td>-0.177857</td>\n",
              "      <td>-1.691145</td>\n",
              "      <td>-1.116606</td>\n",
              "    </tr>\n",
              "    <tr>\n",
              "      <th>2020-08-04</th>\n",
              "      <td>-6.278491</td>\n",
              "      <td>-2.558634</td>\n",
              "      <td>-2.880016</td>\n",
              "      <td>-1.288916</td>\n",
              "    </tr>\n",
              "    <tr>\n",
              "      <th>2020-08-05</th>\n",
              "      <td>-5.831410</td>\n",
              "      <td>-3.518889</td>\n",
              "      <td>-4.360538</td>\n",
              "      <td>-4.846551</td>\n",
              "    </tr>\n",
              "    <tr>\n",
              "      <th>2020-08-06</th>\n",
              "      <td>NaN</td>\n",
              "      <td>NaN</td>\n",
              "      <td>NaN</td>\n",
              "      <td>NaN</td>\n",
              "    </tr>\n",
              "  </tbody>\n",
              "</table>\n",
              "</div>"
            ],
            "text/plain": [
              "                   A         B         C         D\n",
              "2020-08-01       NaN       NaN       NaN       NaN\n",
              "2020-08-02       NaN       NaN       NaN       NaN\n",
              "2020-08-03 -2.283330 -0.177857 -1.691145 -1.116606\n",
              "2020-08-04 -6.278491 -2.558634 -2.880016 -1.288916\n",
              "2020-08-05 -5.831410 -3.518889 -4.360538 -4.846551\n",
              "2020-08-06       NaN       NaN       NaN       NaN"
            ]
          },
          "metadata": {
            "tags": []
          },
          "execution_count": 50
        }
      ]
    },
    {
      "cell_type": "markdown",
      "metadata": {
        "id": "LjoYt9yejpFg",
        "colab_type": "text"
      },
      "source": [
        "### Apply (적용)"
      ]
    },
    {
      "cell_type": "code",
      "metadata": {
        "id": "bzaa7-MnjkQk",
        "colab_type": "code",
        "colab": {
          "base_uri": "https://localhost:8080/",
          "height": 225
        },
        "outputId": "913d0e54-bf4e-4c30-eb3c-ed072a73a78d"
      },
      "source": [
        "df.apply(np.cumsum)"
      ],
      "execution_count": null,
      "outputs": [
        {
          "output_type": "execute_result",
          "data": {
            "text/html": [
              "<div>\n",
              "<style scoped>\n",
              "    .dataframe tbody tr th:only-of-type {\n",
              "        vertical-align: middle;\n",
              "    }\n",
              "\n",
              "    .dataframe tbody tr th {\n",
              "        vertical-align: top;\n",
              "    }\n",
              "\n",
              "    .dataframe thead th {\n",
              "        text-align: right;\n",
              "    }\n",
              "</style>\n",
              "<table border=\"1\" class=\"dataframe\">\n",
              "  <thead>\n",
              "    <tr style=\"text-align: right;\">\n",
              "      <th></th>\n",
              "      <th>A</th>\n",
              "      <th>B</th>\n",
              "      <th>C</th>\n",
              "      <th>D</th>\n",
              "    </tr>\n",
              "  </thead>\n",
              "  <tbody>\n",
              "    <tr>\n",
              "      <th>2020-08-01</th>\n",
              "      <td>-0.786870</td>\n",
              "      <td>-0.225762</td>\n",
              "      <td>-0.812988</td>\n",
              "      <td>2.014652</td>\n",
              "    </tr>\n",
              "    <tr>\n",
              "      <th>2020-08-02</th>\n",
              "      <td>-1.774144</td>\n",
              "      <td>0.120036</td>\n",
              "      <td>-1.010638</td>\n",
              "      <td>2.437143</td>\n",
              "    </tr>\n",
              "    <tr>\n",
              "      <th>2020-08-03</th>\n",
              "      <td>-3.057474</td>\n",
              "      <td>0.942179</td>\n",
              "      <td>-1.701783</td>\n",
              "      <td>2.320537</td>\n",
              "    </tr>\n",
              "    <tr>\n",
              "      <th>2020-08-04</th>\n",
              "      <td>-6.335965</td>\n",
              "      <td>1.383545</td>\n",
              "      <td>-1.581799</td>\n",
              "      <td>4.031621</td>\n",
              "    </tr>\n",
              "    <tr>\n",
              "      <th>2020-08-05</th>\n",
              "      <td>-7.167375</td>\n",
              "      <td>2.864656</td>\n",
              "      <td>-0.942337</td>\n",
              "      <td>4.185070</td>\n",
              "    </tr>\n",
              "    <tr>\n",
              "      <th>2020-08-06</th>\n",
              "      <td>-7.052676</td>\n",
              "      <td>2.393965</td>\n",
              "      <td>-2.147591</td>\n",
              "      <td>5.208728</td>\n",
              "    </tr>\n",
              "  </tbody>\n",
              "</table>\n",
              "</div>"
            ],
            "text/plain": [
              "                   A         B         C         D\n",
              "2020-08-01 -0.786870 -0.225762 -0.812988  2.014652\n",
              "2020-08-02 -1.774144  0.120036 -1.010638  2.437143\n",
              "2020-08-03 -3.057474  0.942179 -1.701783  2.320537\n",
              "2020-08-04 -6.335965  1.383545 -1.581799  4.031621\n",
              "2020-08-05 -7.167375  2.864656 -0.942337  4.185070\n",
              "2020-08-06 -7.052676  2.393965 -2.147591  5.208728"
            ]
          },
          "metadata": {
            "tags": []
          },
          "execution_count": 51
        }
      ]
    },
    {
      "cell_type": "code",
      "metadata": {
        "id": "px55bgwAjuRj",
        "colab_type": "code",
        "colab": {
          "base_uri": "https://localhost:8080/",
          "height": 105
        },
        "outputId": "4405c3dd-f4d3-4791-8c2c-779afadec37b"
      },
      "source": [
        "df.apply(lambda x: x.max() - x.min())"
      ],
      "execution_count": null,
      "outputs": [
        {
          "output_type": "execute_result",
          "data": {
            "text/plain": [
              "A    3.393190\n",
              "B    1.951802\n",
              "C    1.844715\n",
              "D    2.131258\n",
              "dtype: float64"
            ]
          },
          "metadata": {
            "tags": []
          },
          "execution_count": 52
        }
      ]
    },
    {
      "cell_type": "markdown",
      "metadata": {
        "id": "Y99xs9tfkRSr",
        "colab_type": "text"
      },
      "source": [
        "### Histogramming (히스토그래밍)"
      ]
    },
    {
      "cell_type": "code",
      "metadata": {
        "id": "wJ1FJ3LFkMcr",
        "colab_type": "code",
        "colab": {
          "base_uri": "https://localhost:8080/",
          "height": 210
        },
        "outputId": "62808308-6d31-4f3c-f624-4417496a776d"
      },
      "source": [
        "s = pd.Series(np.random.randint(0, 7, size=10))\n",
        "s"
      ],
      "execution_count": null,
      "outputs": [
        {
          "output_type": "execute_result",
          "data": {
            "text/plain": [
              "0    4\n",
              "1    5\n",
              "2    4\n",
              "3    5\n",
              "4    3\n",
              "5    0\n",
              "6    4\n",
              "7    4\n",
              "8    2\n",
              "9    3\n",
              "dtype: int64"
            ]
          },
          "metadata": {
            "tags": []
          },
          "execution_count": 53
        }
      ]
    },
    {
      "cell_type": "code",
      "metadata": {
        "id": "S1es7erEkVjL",
        "colab_type": "code",
        "colab": {
          "base_uri": "https://localhost:8080/",
          "height": 122
        },
        "outputId": "e5ae7a25-8d0a-4837-b44d-a87b80dbd2dc"
      },
      "source": [
        "s.value_counts()"
      ],
      "execution_count": null,
      "outputs": [
        {
          "output_type": "execute_result",
          "data": {
            "text/plain": [
              "4    4\n",
              "5    2\n",
              "3    2\n",
              "2    1\n",
              "0    1\n",
              "dtype: int64"
            ]
          },
          "metadata": {
            "tags": []
          },
          "execution_count": 54
        }
      ]
    },
    {
      "cell_type": "markdown",
      "metadata": {
        "id": "xl-KZhVXkqjs",
        "colab_type": "text"
      },
      "source": [
        "### String Methods (문자열 메소드)"
      ]
    },
    {
      "cell_type": "code",
      "metadata": {
        "id": "zKU6uDSbkfAt",
        "colab_type": "code",
        "colab": {}
      },
      "source": [
        "s = pd.Series(['A', 'B', 'C', 'Aaba', 'Baca', np.nan, 'CABA', 'dog', 'cat'])"
      ],
      "execution_count": null,
      "outputs": []
    },
    {
      "cell_type": "code",
      "metadata": {
        "id": "A9e6l1MBl7Jh",
        "colab_type": "code",
        "colab": {
          "base_uri": "https://localhost:8080/",
          "height": 193
        },
        "outputId": "af5599b0-bc97-4152-e999-b54dc8c50bcb"
      },
      "source": [
        "s.str.lower()"
      ],
      "execution_count": null,
      "outputs": [
        {
          "output_type": "execute_result",
          "data": {
            "text/plain": [
              "0       a\n",
              "1       b\n",
              "2       c\n",
              "3    aaba\n",
              "4    baca\n",
              "5     NaN\n",
              "6    caba\n",
              "7     dog\n",
              "8     cat\n",
              "dtype: object"
            ]
          },
          "metadata": {
            "tags": []
          },
          "execution_count": 56
        }
      ]
    },
    {
      "cell_type": "markdown",
      "metadata": {
        "id": "YMoGkid9mBVz",
        "colab_type": "text"
      },
      "source": [
        "## 6.Merge (병합)"
      ]
    },
    {
      "cell_type": "markdown",
      "metadata": {
        "id": "1snQemBfmLxq",
        "colab_type": "text"
      },
      "source": [
        "### Concat (연결)\n",
        "결합 (join) / 병합 (merge) 형태의 연산에 대한 인덱스, 관계 대수 기능을 위한 다양한 형태의 논리를 포함한 Series, 데이터프레임, Panel 객체를 손쉽게 결합할 수 있도록 하는 다양한 기능을 pandas 에서 제공합니다."
      ]
    },
    {
      "cell_type": "code",
      "metadata": {
        "id": "kPI7lwyLl9Xm",
        "colab_type": "code",
        "colab": {
          "base_uri": "https://localhost:8080/",
          "height": 343
        },
        "outputId": "0ffd4119-59be-4d2b-83d0-f0d4086bb11f"
      },
      "source": [
        "df = pd.DataFrame(np.random.randn(10,4))\n",
        "df"
      ],
      "execution_count": null,
      "outputs": [
        {
          "output_type": "execute_result",
          "data": {
            "text/html": [
              "<div>\n",
              "<style scoped>\n",
              "    .dataframe tbody tr th:only-of-type {\n",
              "        vertical-align: middle;\n",
              "    }\n",
              "\n",
              "    .dataframe tbody tr th {\n",
              "        vertical-align: top;\n",
              "    }\n",
              "\n",
              "    .dataframe thead th {\n",
              "        text-align: right;\n",
              "    }\n",
              "</style>\n",
              "<table border=\"1\" class=\"dataframe\">\n",
              "  <thead>\n",
              "    <tr style=\"text-align: right;\">\n",
              "      <th></th>\n",
              "      <th>0</th>\n",
              "      <th>1</th>\n",
              "      <th>2</th>\n",
              "      <th>3</th>\n",
              "    </tr>\n",
              "  </thead>\n",
              "  <tbody>\n",
              "    <tr>\n",
              "      <th>0</th>\n",
              "      <td>0.766139</td>\n",
              "      <td>0.957667</td>\n",
              "      <td>-0.981576</td>\n",
              "      <td>-1.507377</td>\n",
              "    </tr>\n",
              "    <tr>\n",
              "      <th>1</th>\n",
              "      <td>0.211101</td>\n",
              "      <td>0.173209</td>\n",
              "      <td>-0.275242</td>\n",
              "      <td>-0.284493</td>\n",
              "    </tr>\n",
              "    <tr>\n",
              "      <th>2</th>\n",
              "      <td>-0.186190</td>\n",
              "      <td>0.596660</td>\n",
              "      <td>-2.832474</td>\n",
              "      <td>0.112896</td>\n",
              "    </tr>\n",
              "    <tr>\n",
              "      <th>3</th>\n",
              "      <td>-0.396382</td>\n",
              "      <td>-0.290931</td>\n",
              "      <td>0.707907</td>\n",
              "      <td>-0.860971</td>\n",
              "    </tr>\n",
              "    <tr>\n",
              "      <th>4</th>\n",
              "      <td>-0.744246</td>\n",
              "      <td>-0.805994</td>\n",
              "      <td>0.194028</td>\n",
              "      <td>1.969735</td>\n",
              "    </tr>\n",
              "    <tr>\n",
              "      <th>5</th>\n",
              "      <td>-0.507878</td>\n",
              "      <td>0.269146</td>\n",
              "      <td>0.157614</td>\n",
              "      <td>-0.828002</td>\n",
              "    </tr>\n",
              "    <tr>\n",
              "      <th>6</th>\n",
              "      <td>-0.123147</td>\n",
              "      <td>0.319435</td>\n",
              "      <td>-1.348509</td>\n",
              "      <td>1.499334</td>\n",
              "    </tr>\n",
              "    <tr>\n",
              "      <th>7</th>\n",
              "      <td>-1.518120</td>\n",
              "      <td>-0.089457</td>\n",
              "      <td>-0.140052</td>\n",
              "      <td>0.268865</td>\n",
              "    </tr>\n",
              "    <tr>\n",
              "      <th>8</th>\n",
              "      <td>-0.045827</td>\n",
              "      <td>-1.222726</td>\n",
              "      <td>1.213730</td>\n",
              "      <td>-0.704472</td>\n",
              "    </tr>\n",
              "    <tr>\n",
              "      <th>9</th>\n",
              "      <td>1.144218</td>\n",
              "      <td>-0.366938</td>\n",
              "      <td>1.312275</td>\n",
              "      <td>-0.028745</td>\n",
              "    </tr>\n",
              "  </tbody>\n",
              "</table>\n",
              "</div>"
            ],
            "text/plain": [
              "          0         1         2         3\n",
              "0  0.766139  0.957667 -0.981576 -1.507377\n",
              "1  0.211101  0.173209 -0.275242 -0.284493\n",
              "2 -0.186190  0.596660 -2.832474  0.112896\n",
              "3 -0.396382 -0.290931  0.707907 -0.860971\n",
              "4 -0.744246 -0.805994  0.194028  1.969735\n",
              "5 -0.507878  0.269146  0.157614 -0.828002\n",
              "6 -0.123147  0.319435 -1.348509  1.499334\n",
              "7 -1.518120 -0.089457 -0.140052  0.268865\n",
              "8 -0.045827 -1.222726  1.213730 -0.704472\n",
              "9  1.144218 -0.366938  1.312275 -0.028745"
            ]
          },
          "metadata": {
            "tags": []
          },
          "execution_count": 57
        }
      ]
    },
    {
      "cell_type": "code",
      "metadata": {
        "id": "xOhm9vQ4mcc5",
        "colab_type": "code",
        "colab": {
          "base_uri": "https://localhost:8080/",
          "height": 246
        },
        "outputId": "c63f48d8-01e6-4fff-9bf8-c44da32cf977"
      },
      "source": [
        "pieces = [df[:3], df[3:7], df[7:]]\n",
        "pieces"
      ],
      "execution_count": null,
      "outputs": [
        {
          "output_type": "execute_result",
          "data": {
            "text/plain": [
              "[          0         1         2         3\n",
              " 0  0.766139  0.957667 -0.981576 -1.507377\n",
              " 1  0.211101  0.173209 -0.275242 -0.284493\n",
              " 2 -0.186190  0.596660 -2.832474  0.112896,\n",
              "           0         1         2         3\n",
              " 3 -0.396382 -0.290931  0.707907 -0.860971\n",
              " 4 -0.744246 -0.805994  0.194028  1.969735\n",
              " 5 -0.507878  0.269146  0.157614 -0.828002\n",
              " 6 -0.123147  0.319435 -1.348509  1.499334,\n",
              "           0         1         2         3\n",
              " 7 -1.518120 -0.089457 -0.140052  0.268865\n",
              " 8 -0.045827 -1.222726  1.213730 -0.704472\n",
              " 9  1.144218 -0.366938  1.312275 -0.028745]"
            ]
          },
          "metadata": {
            "tags": []
          },
          "execution_count": 58
        }
      ]
    },
    {
      "cell_type": "code",
      "metadata": {
        "id": "SMhEu7JjmpE8",
        "colab_type": "code",
        "colab": {
          "base_uri": "https://localhost:8080/",
          "height": 343
        },
        "outputId": "bdb8cb68-2f37-4fbf-b8a1-8eb5a8555181"
      },
      "source": [
        "pd.concat(pieces)"
      ],
      "execution_count": null,
      "outputs": [
        {
          "output_type": "execute_result",
          "data": {
            "text/html": [
              "<div>\n",
              "<style scoped>\n",
              "    .dataframe tbody tr th:only-of-type {\n",
              "        vertical-align: middle;\n",
              "    }\n",
              "\n",
              "    .dataframe tbody tr th {\n",
              "        vertical-align: top;\n",
              "    }\n",
              "\n",
              "    .dataframe thead th {\n",
              "        text-align: right;\n",
              "    }\n",
              "</style>\n",
              "<table border=\"1\" class=\"dataframe\">\n",
              "  <thead>\n",
              "    <tr style=\"text-align: right;\">\n",
              "      <th></th>\n",
              "      <th>0</th>\n",
              "      <th>1</th>\n",
              "      <th>2</th>\n",
              "      <th>3</th>\n",
              "    </tr>\n",
              "  </thead>\n",
              "  <tbody>\n",
              "    <tr>\n",
              "      <th>0</th>\n",
              "      <td>0.766139</td>\n",
              "      <td>0.957667</td>\n",
              "      <td>-0.981576</td>\n",
              "      <td>-1.507377</td>\n",
              "    </tr>\n",
              "    <tr>\n",
              "      <th>1</th>\n",
              "      <td>0.211101</td>\n",
              "      <td>0.173209</td>\n",
              "      <td>-0.275242</td>\n",
              "      <td>-0.284493</td>\n",
              "    </tr>\n",
              "    <tr>\n",
              "      <th>2</th>\n",
              "      <td>-0.186190</td>\n",
              "      <td>0.596660</td>\n",
              "      <td>-2.832474</td>\n",
              "      <td>0.112896</td>\n",
              "    </tr>\n",
              "    <tr>\n",
              "      <th>3</th>\n",
              "      <td>-0.396382</td>\n",
              "      <td>-0.290931</td>\n",
              "      <td>0.707907</td>\n",
              "      <td>-0.860971</td>\n",
              "    </tr>\n",
              "    <tr>\n",
              "      <th>4</th>\n",
              "      <td>-0.744246</td>\n",
              "      <td>-0.805994</td>\n",
              "      <td>0.194028</td>\n",
              "      <td>1.969735</td>\n",
              "    </tr>\n",
              "    <tr>\n",
              "      <th>5</th>\n",
              "      <td>-0.507878</td>\n",
              "      <td>0.269146</td>\n",
              "      <td>0.157614</td>\n",
              "      <td>-0.828002</td>\n",
              "    </tr>\n",
              "    <tr>\n",
              "      <th>6</th>\n",
              "      <td>-0.123147</td>\n",
              "      <td>0.319435</td>\n",
              "      <td>-1.348509</td>\n",
              "      <td>1.499334</td>\n",
              "    </tr>\n",
              "    <tr>\n",
              "      <th>7</th>\n",
              "      <td>-1.518120</td>\n",
              "      <td>-0.089457</td>\n",
              "      <td>-0.140052</td>\n",
              "      <td>0.268865</td>\n",
              "    </tr>\n",
              "    <tr>\n",
              "      <th>8</th>\n",
              "      <td>-0.045827</td>\n",
              "      <td>-1.222726</td>\n",
              "      <td>1.213730</td>\n",
              "      <td>-0.704472</td>\n",
              "    </tr>\n",
              "    <tr>\n",
              "      <th>9</th>\n",
              "      <td>1.144218</td>\n",
              "      <td>-0.366938</td>\n",
              "      <td>1.312275</td>\n",
              "      <td>-0.028745</td>\n",
              "    </tr>\n",
              "  </tbody>\n",
              "</table>\n",
              "</div>"
            ],
            "text/plain": [
              "          0         1         2         3\n",
              "0  0.766139  0.957667 -0.981576 -1.507377\n",
              "1  0.211101  0.173209 -0.275242 -0.284493\n",
              "2 -0.186190  0.596660 -2.832474  0.112896\n",
              "3 -0.396382 -0.290931  0.707907 -0.860971\n",
              "4 -0.744246 -0.805994  0.194028  1.969735\n",
              "5 -0.507878  0.269146  0.157614 -0.828002\n",
              "6 -0.123147  0.319435 -1.348509  1.499334\n",
              "7 -1.518120 -0.089457 -0.140052  0.268865\n",
              "8 -0.045827 -1.222726  1.213730 -0.704472\n",
              "9  1.144218 -0.366938  1.312275 -0.028745"
            ]
          },
          "metadata": {
            "tags": []
          },
          "execution_count": 59
        }
      ]
    },
    {
      "cell_type": "markdown",
      "metadata": {
        "id": "ozLUFN4Wmv1m",
        "colab_type": "text"
      },
      "source": [
        "### Join (결합)\n",
        "SQL 방식으로 병합합니다."
      ]
    },
    {
      "cell_type": "code",
      "metadata": {
        "id": "EWHX5TYlmuCI",
        "colab_type": "code",
        "colab": {}
      },
      "source": [
        "# 예시 1\n",
        "left = pd.DataFrame({'key': ['foo', 'foo'], 'lval': [1, 2]})\n",
        "right = pd.DataFrame({'key': ['foo', 'foo'], 'rval': [4, 5]})"
      ],
      "execution_count": null,
      "outputs": []
    },
    {
      "cell_type": "code",
      "metadata": {
        "id": "rxCjz9JVm4x8",
        "colab_type": "code",
        "colab": {
          "base_uri": "https://localhost:8080/",
          "height": 106
        },
        "outputId": "e608d212-f37e-474c-a576-0ba21f97036d"
      },
      "source": [
        "left"
      ],
      "execution_count": null,
      "outputs": [
        {
          "output_type": "execute_result",
          "data": {
            "text/html": [
              "<div>\n",
              "<style scoped>\n",
              "    .dataframe tbody tr th:only-of-type {\n",
              "        vertical-align: middle;\n",
              "    }\n",
              "\n",
              "    .dataframe tbody tr th {\n",
              "        vertical-align: top;\n",
              "    }\n",
              "\n",
              "    .dataframe thead th {\n",
              "        text-align: right;\n",
              "    }\n",
              "</style>\n",
              "<table border=\"1\" class=\"dataframe\">\n",
              "  <thead>\n",
              "    <tr style=\"text-align: right;\">\n",
              "      <th></th>\n",
              "      <th>key</th>\n",
              "      <th>lval</th>\n",
              "    </tr>\n",
              "  </thead>\n",
              "  <tbody>\n",
              "    <tr>\n",
              "      <th>0</th>\n",
              "      <td>foo</td>\n",
              "      <td>1</td>\n",
              "    </tr>\n",
              "    <tr>\n",
              "      <th>1</th>\n",
              "      <td>foo</td>\n",
              "      <td>2</td>\n",
              "    </tr>\n",
              "  </tbody>\n",
              "</table>\n",
              "</div>"
            ],
            "text/plain": [
              "   key  lval\n",
              "0  foo     1\n",
              "1  foo     2"
            ]
          },
          "metadata": {
            "tags": []
          },
          "execution_count": 61
        }
      ]
    },
    {
      "cell_type": "code",
      "metadata": {
        "id": "Zuun83SDm9N2",
        "colab_type": "code",
        "colab": {
          "base_uri": "https://localhost:8080/",
          "height": 106
        },
        "outputId": "3717ae65-ec09-48db-8b2d-18c0b73159b4"
      },
      "source": [
        "right"
      ],
      "execution_count": null,
      "outputs": [
        {
          "output_type": "execute_result",
          "data": {
            "text/html": [
              "<div>\n",
              "<style scoped>\n",
              "    .dataframe tbody tr th:only-of-type {\n",
              "        vertical-align: middle;\n",
              "    }\n",
              "\n",
              "    .dataframe tbody tr th {\n",
              "        vertical-align: top;\n",
              "    }\n",
              "\n",
              "    .dataframe thead th {\n",
              "        text-align: right;\n",
              "    }\n",
              "</style>\n",
              "<table border=\"1\" class=\"dataframe\">\n",
              "  <thead>\n",
              "    <tr style=\"text-align: right;\">\n",
              "      <th></th>\n",
              "      <th>key</th>\n",
              "      <th>rval</th>\n",
              "    </tr>\n",
              "  </thead>\n",
              "  <tbody>\n",
              "    <tr>\n",
              "      <th>0</th>\n",
              "      <td>foo</td>\n",
              "      <td>4</td>\n",
              "    </tr>\n",
              "    <tr>\n",
              "      <th>1</th>\n",
              "      <td>foo</td>\n",
              "      <td>5</td>\n",
              "    </tr>\n",
              "  </tbody>\n",
              "</table>\n",
              "</div>"
            ],
            "text/plain": [
              "   key  rval\n",
              "0  foo     4\n",
              "1  foo     5"
            ]
          },
          "metadata": {
            "tags": []
          },
          "execution_count": 62
        }
      ]
    },
    {
      "cell_type": "code",
      "metadata": {
        "id": "qFArk5rom9vF",
        "colab_type": "code",
        "colab": {
          "base_uri": "https://localhost:8080/",
          "height": 166
        },
        "outputId": "dfca8cb7-2a36-4496-84b6-4175274e1d12"
      },
      "source": [
        "pd.merge(left, right, on='key') # 'key에 맞춰 병합"
      ],
      "execution_count": null,
      "outputs": [
        {
          "output_type": "execute_result",
          "data": {
            "text/html": [
              "<div>\n",
              "<style scoped>\n",
              "    .dataframe tbody tr th:only-of-type {\n",
              "        vertical-align: middle;\n",
              "    }\n",
              "\n",
              "    .dataframe tbody tr th {\n",
              "        vertical-align: top;\n",
              "    }\n",
              "\n",
              "    .dataframe thead th {\n",
              "        text-align: right;\n",
              "    }\n",
              "</style>\n",
              "<table border=\"1\" class=\"dataframe\">\n",
              "  <thead>\n",
              "    <tr style=\"text-align: right;\">\n",
              "      <th></th>\n",
              "      <th>key</th>\n",
              "      <th>lval</th>\n",
              "      <th>rval</th>\n",
              "    </tr>\n",
              "  </thead>\n",
              "  <tbody>\n",
              "    <tr>\n",
              "      <th>0</th>\n",
              "      <td>foo</td>\n",
              "      <td>1</td>\n",
              "      <td>4</td>\n",
              "    </tr>\n",
              "    <tr>\n",
              "      <th>1</th>\n",
              "      <td>foo</td>\n",
              "      <td>1</td>\n",
              "      <td>5</td>\n",
              "    </tr>\n",
              "    <tr>\n",
              "      <th>2</th>\n",
              "      <td>foo</td>\n",
              "      <td>2</td>\n",
              "      <td>4</td>\n",
              "    </tr>\n",
              "    <tr>\n",
              "      <th>3</th>\n",
              "      <td>foo</td>\n",
              "      <td>2</td>\n",
              "      <td>5</td>\n",
              "    </tr>\n",
              "  </tbody>\n",
              "</table>\n",
              "</div>"
            ],
            "text/plain": [
              "   key  lval  rval\n",
              "0  foo     1     4\n",
              "1  foo     1     5\n",
              "2  foo     2     4\n",
              "3  foo     2     5"
            ]
          },
          "metadata": {
            "tags": []
          },
          "execution_count": 63
        }
      ]
    },
    {
      "cell_type": "code",
      "metadata": {
        "id": "SkxvYTpWnHwW",
        "colab_type": "code",
        "colab": {}
      },
      "source": [
        "# 예시 2\n",
        "left = pd.DataFrame({'key' : ['foo', 'bar'], 'lval' : [1, 2]})\n",
        "right = pd.DataFrame({'key': ['foo', 'bar'], 'rval': [4, 5]})"
      ],
      "execution_count": null,
      "outputs": []
    },
    {
      "cell_type": "code",
      "metadata": {
        "id": "6ss2HtzhnTxB",
        "colab_type": "code",
        "colab": {
          "base_uri": "https://localhost:8080/",
          "height": 106
        },
        "outputId": "887e5c45-1174-45e5-f98f-536cbeeb44f5"
      },
      "source": [
        "left"
      ],
      "execution_count": null,
      "outputs": [
        {
          "output_type": "execute_result",
          "data": {
            "text/html": [
              "<div>\n",
              "<style scoped>\n",
              "    .dataframe tbody tr th:only-of-type {\n",
              "        vertical-align: middle;\n",
              "    }\n",
              "\n",
              "    .dataframe tbody tr th {\n",
              "        vertical-align: top;\n",
              "    }\n",
              "\n",
              "    .dataframe thead th {\n",
              "        text-align: right;\n",
              "    }\n",
              "</style>\n",
              "<table border=\"1\" class=\"dataframe\">\n",
              "  <thead>\n",
              "    <tr style=\"text-align: right;\">\n",
              "      <th></th>\n",
              "      <th>key</th>\n",
              "      <th>lval</th>\n",
              "    </tr>\n",
              "  </thead>\n",
              "  <tbody>\n",
              "    <tr>\n",
              "      <th>0</th>\n",
              "      <td>foo</td>\n",
              "      <td>1</td>\n",
              "    </tr>\n",
              "    <tr>\n",
              "      <th>1</th>\n",
              "      <td>bar</td>\n",
              "      <td>2</td>\n",
              "    </tr>\n",
              "  </tbody>\n",
              "</table>\n",
              "</div>"
            ],
            "text/plain": [
              "   key  lval\n",
              "0  foo     1\n",
              "1  bar     2"
            ]
          },
          "metadata": {
            "tags": []
          },
          "execution_count": 65
        }
      ]
    },
    {
      "cell_type": "code",
      "metadata": {
        "id": "57ehNA1OnVXU",
        "colab_type": "code",
        "colab": {
          "base_uri": "https://localhost:8080/",
          "height": 106
        },
        "outputId": "099512c3-dc5e-46d8-994c-8e016b01d198"
      },
      "source": [
        "right"
      ],
      "execution_count": null,
      "outputs": [
        {
          "output_type": "execute_result",
          "data": {
            "text/html": [
              "<div>\n",
              "<style scoped>\n",
              "    .dataframe tbody tr th:only-of-type {\n",
              "        vertical-align: middle;\n",
              "    }\n",
              "\n",
              "    .dataframe tbody tr th {\n",
              "        vertical-align: top;\n",
              "    }\n",
              "\n",
              "    .dataframe thead th {\n",
              "        text-align: right;\n",
              "    }\n",
              "</style>\n",
              "<table border=\"1\" class=\"dataframe\">\n",
              "  <thead>\n",
              "    <tr style=\"text-align: right;\">\n",
              "      <th></th>\n",
              "      <th>key</th>\n",
              "      <th>rval</th>\n",
              "    </tr>\n",
              "  </thead>\n",
              "  <tbody>\n",
              "    <tr>\n",
              "      <th>0</th>\n",
              "      <td>foo</td>\n",
              "      <td>4</td>\n",
              "    </tr>\n",
              "    <tr>\n",
              "      <th>1</th>\n",
              "      <td>bar</td>\n",
              "      <td>5</td>\n",
              "    </tr>\n",
              "  </tbody>\n",
              "</table>\n",
              "</div>"
            ],
            "text/plain": [
              "   key  rval\n",
              "0  foo     4\n",
              "1  bar     5"
            ]
          },
          "metadata": {
            "tags": []
          },
          "execution_count": 66
        }
      ]
    },
    {
      "cell_type": "code",
      "metadata": {
        "id": "gJOln-NWnWB3",
        "colab_type": "code",
        "colab": {
          "base_uri": "https://localhost:8080/",
          "height": 106
        },
        "outputId": "0e323d48-b4eb-4373-e39b-91b46ff30495"
      },
      "source": [
        "pd.merge(left, right, on='key')"
      ],
      "execution_count": null,
      "outputs": [
        {
          "output_type": "execute_result",
          "data": {
            "text/html": [
              "<div>\n",
              "<style scoped>\n",
              "    .dataframe tbody tr th:only-of-type {\n",
              "        vertical-align: middle;\n",
              "    }\n",
              "\n",
              "    .dataframe tbody tr th {\n",
              "        vertical-align: top;\n",
              "    }\n",
              "\n",
              "    .dataframe thead th {\n",
              "        text-align: right;\n",
              "    }\n",
              "</style>\n",
              "<table border=\"1\" class=\"dataframe\">\n",
              "  <thead>\n",
              "    <tr style=\"text-align: right;\">\n",
              "      <th></th>\n",
              "      <th>key</th>\n",
              "      <th>lval</th>\n",
              "      <th>rval</th>\n",
              "    </tr>\n",
              "  </thead>\n",
              "  <tbody>\n",
              "    <tr>\n",
              "      <th>0</th>\n",
              "      <td>foo</td>\n",
              "      <td>1</td>\n",
              "      <td>4</td>\n",
              "    </tr>\n",
              "    <tr>\n",
              "      <th>1</th>\n",
              "      <td>bar</td>\n",
              "      <td>2</td>\n",
              "      <td>5</td>\n",
              "    </tr>\n",
              "  </tbody>\n",
              "</table>\n",
              "</div>"
            ],
            "text/plain": [
              "   key  lval  rval\n",
              "0  foo     1     4\n",
              "1  bar     2     5"
            ]
          },
          "metadata": {
            "tags": []
          },
          "execution_count": 67
        }
      ]
    },
    {
      "cell_type": "markdown",
      "metadata": {
        "id": "fhNBSRRYnbhD",
        "colab_type": "text"
      },
      "source": [
        "### Append (추가)\n",
        "데이터프레임에 행을 추가합니다. "
      ]
    },
    {
      "cell_type": "code",
      "metadata": {
        "id": "4o2l3rnfnafC",
        "colab_type": "code",
        "colab": {
          "base_uri": "https://localhost:8080/",
          "height": 284
        },
        "outputId": "79e45ee4-05e5-467e-d11a-9104e1a20d22"
      },
      "source": [
        "df = pd.DataFrame(np.random.randn(8,4), columns=['A', 'B', 'C', 'D'])\n",
        "df"
      ],
      "execution_count": null,
      "outputs": [
        {
          "output_type": "execute_result",
          "data": {
            "text/html": [
              "<div>\n",
              "<style scoped>\n",
              "    .dataframe tbody tr th:only-of-type {\n",
              "        vertical-align: middle;\n",
              "    }\n",
              "\n",
              "    .dataframe tbody tr th {\n",
              "        vertical-align: top;\n",
              "    }\n",
              "\n",
              "    .dataframe thead th {\n",
              "        text-align: right;\n",
              "    }\n",
              "</style>\n",
              "<table border=\"1\" class=\"dataframe\">\n",
              "  <thead>\n",
              "    <tr style=\"text-align: right;\">\n",
              "      <th></th>\n",
              "      <th>A</th>\n",
              "      <th>B</th>\n",
              "      <th>C</th>\n",
              "      <th>D</th>\n",
              "    </tr>\n",
              "  </thead>\n",
              "  <tbody>\n",
              "    <tr>\n",
              "      <th>0</th>\n",
              "      <td>-1.441190</td>\n",
              "      <td>-1.346198</td>\n",
              "      <td>-0.100529</td>\n",
              "      <td>-0.356427</td>\n",
              "    </tr>\n",
              "    <tr>\n",
              "      <th>1</th>\n",
              "      <td>-0.032873</td>\n",
              "      <td>2.192506</td>\n",
              "      <td>-1.007851</td>\n",
              "      <td>-0.852632</td>\n",
              "    </tr>\n",
              "    <tr>\n",
              "      <th>2</th>\n",
              "      <td>-0.263523</td>\n",
              "      <td>-1.099747</td>\n",
              "      <td>0.192007</td>\n",
              "      <td>-0.862608</td>\n",
              "    </tr>\n",
              "    <tr>\n",
              "      <th>3</th>\n",
              "      <td>-1.899158</td>\n",
              "      <td>-0.182434</td>\n",
              "      <td>-1.165538</td>\n",
              "      <td>0.616145</td>\n",
              "    </tr>\n",
              "    <tr>\n",
              "      <th>4</th>\n",
              "      <td>-1.696975</td>\n",
              "      <td>0.424822</td>\n",
              "      <td>-0.049474</td>\n",
              "      <td>-0.495790</td>\n",
              "    </tr>\n",
              "    <tr>\n",
              "      <th>5</th>\n",
              "      <td>0.150684</td>\n",
              "      <td>0.762326</td>\n",
              "      <td>-0.402758</td>\n",
              "      <td>-1.149296</td>\n",
              "    </tr>\n",
              "    <tr>\n",
              "      <th>6</th>\n",
              "      <td>-1.045834</td>\n",
              "      <td>-0.271387</td>\n",
              "      <td>0.638295</td>\n",
              "      <td>-0.021305</td>\n",
              "    </tr>\n",
              "    <tr>\n",
              "      <th>7</th>\n",
              "      <td>-1.754304</td>\n",
              "      <td>0.399365</td>\n",
              "      <td>-0.203484</td>\n",
              "      <td>-0.040058</td>\n",
              "    </tr>\n",
              "  </tbody>\n",
              "</table>\n",
              "</div>"
            ],
            "text/plain": [
              "          A         B         C         D\n",
              "0 -1.441190 -1.346198 -0.100529 -0.356427\n",
              "1 -0.032873  2.192506 -1.007851 -0.852632\n",
              "2 -0.263523 -1.099747  0.192007 -0.862608\n",
              "3 -1.899158 -0.182434 -1.165538  0.616145\n",
              "4 -1.696975  0.424822 -0.049474 -0.495790\n",
              "5  0.150684  0.762326 -0.402758 -1.149296\n",
              "6 -1.045834 -0.271387  0.638295 -0.021305\n",
              "7 -1.754304  0.399365 -0.203484 -0.040058"
            ]
          },
          "metadata": {
            "tags": []
          },
          "execution_count": 68
        }
      ]
    },
    {
      "cell_type": "code",
      "metadata": {
        "id": "HpB0dNIOnomo",
        "colab_type": "code",
        "colab": {
          "base_uri": "https://localhost:8080/",
          "height": 105
        },
        "outputId": "2fd73ccc-cb49-468d-a918-48b9664d410a"
      },
      "source": [
        "s = df.iloc[3] # 3번행 추출\n",
        "s\n",
        "#### loc과 iloc의 차이점?"
      ],
      "execution_count": null,
      "outputs": [
        {
          "output_type": "execute_result",
          "data": {
            "text/plain": [
              "A   -1.899158\n",
              "B   -0.182434\n",
              "C   -1.165538\n",
              "D    0.616145\n",
              "Name: 3, dtype: float64"
            ]
          },
          "metadata": {
            "tags": []
          },
          "execution_count": 69
        }
      ]
    },
    {
      "cell_type": "code",
      "metadata": {
        "id": "wbZ56haHnrGo",
        "colab_type": "code",
        "colab": {
          "base_uri": "https://localhost:8080/",
          "height": 314
        },
        "outputId": "acf27a7e-296e-437b-f3dd-51014328388a"
      },
      "source": [
        "df.append(s, ignore_index=True) # 열 이름(column name) 무시하고 정수 번호 자동 부여 : ignore_index=True"
      ],
      "execution_count": null,
      "outputs": [
        {
          "output_type": "execute_result",
          "data": {
            "text/html": [
              "<div>\n",
              "<style scoped>\n",
              "    .dataframe tbody tr th:only-of-type {\n",
              "        vertical-align: middle;\n",
              "    }\n",
              "\n",
              "    .dataframe tbody tr th {\n",
              "        vertical-align: top;\n",
              "    }\n",
              "\n",
              "    .dataframe thead th {\n",
              "        text-align: right;\n",
              "    }\n",
              "</style>\n",
              "<table border=\"1\" class=\"dataframe\">\n",
              "  <thead>\n",
              "    <tr style=\"text-align: right;\">\n",
              "      <th></th>\n",
              "      <th>A</th>\n",
              "      <th>B</th>\n",
              "      <th>C</th>\n",
              "      <th>D</th>\n",
              "    </tr>\n",
              "  </thead>\n",
              "  <tbody>\n",
              "    <tr>\n",
              "      <th>0</th>\n",
              "      <td>-1.441190</td>\n",
              "      <td>-1.346198</td>\n",
              "      <td>-0.100529</td>\n",
              "      <td>-0.356427</td>\n",
              "    </tr>\n",
              "    <tr>\n",
              "      <th>1</th>\n",
              "      <td>-0.032873</td>\n",
              "      <td>2.192506</td>\n",
              "      <td>-1.007851</td>\n",
              "      <td>-0.852632</td>\n",
              "    </tr>\n",
              "    <tr>\n",
              "      <th>2</th>\n",
              "      <td>-0.263523</td>\n",
              "      <td>-1.099747</td>\n",
              "      <td>0.192007</td>\n",
              "      <td>-0.862608</td>\n",
              "    </tr>\n",
              "    <tr>\n",
              "      <th>3</th>\n",
              "      <td>-1.899158</td>\n",
              "      <td>-0.182434</td>\n",
              "      <td>-1.165538</td>\n",
              "      <td>0.616145</td>\n",
              "    </tr>\n",
              "    <tr>\n",
              "      <th>4</th>\n",
              "      <td>-1.696975</td>\n",
              "      <td>0.424822</td>\n",
              "      <td>-0.049474</td>\n",
              "      <td>-0.495790</td>\n",
              "    </tr>\n",
              "    <tr>\n",
              "      <th>5</th>\n",
              "      <td>0.150684</td>\n",
              "      <td>0.762326</td>\n",
              "      <td>-0.402758</td>\n",
              "      <td>-1.149296</td>\n",
              "    </tr>\n",
              "    <tr>\n",
              "      <th>6</th>\n",
              "      <td>-1.045834</td>\n",
              "      <td>-0.271387</td>\n",
              "      <td>0.638295</td>\n",
              "      <td>-0.021305</td>\n",
              "    </tr>\n",
              "    <tr>\n",
              "      <th>7</th>\n",
              "      <td>-1.754304</td>\n",
              "      <td>0.399365</td>\n",
              "      <td>-0.203484</td>\n",
              "      <td>-0.040058</td>\n",
              "    </tr>\n",
              "    <tr>\n",
              "      <th>8</th>\n",
              "      <td>-1.899158</td>\n",
              "      <td>-0.182434</td>\n",
              "      <td>-1.165538</td>\n",
              "      <td>0.616145</td>\n",
              "    </tr>\n",
              "  </tbody>\n",
              "</table>\n",
              "</div>"
            ],
            "text/plain": [
              "          A         B         C         D\n",
              "0 -1.441190 -1.346198 -0.100529 -0.356427\n",
              "1 -0.032873  2.192506 -1.007851 -0.852632\n",
              "2 -0.263523 -1.099747  0.192007 -0.862608\n",
              "3 -1.899158 -0.182434 -1.165538  0.616145\n",
              "4 -1.696975  0.424822 -0.049474 -0.495790\n",
              "5  0.150684  0.762326 -0.402758 -1.149296\n",
              "6 -1.045834 -0.271387  0.638295 -0.021305\n",
              "7 -1.754304  0.399365 -0.203484 -0.040058\n",
              "8 -1.899158 -0.182434 -1.165538  0.616145"
            ]
          },
          "metadata": {
            "tags": []
          },
          "execution_count": 70
        }
      ]
    },
    {
      "cell_type": "markdown",
      "metadata": {
        "id": "pYUGeSk6OOhY",
        "colab_type": "text"
      },
      "source": [
        "## 7.Grouping (그룹화)\n",
        "그룹화는 다음 단계 중 하나 이상을 포함하는 과정을 가리킵니다.\n",
        "\n",
        "- 몇몇 기준에 따라 여러 그룹으로 데이터를 분할 (splitting)  \n",
        "- 각 그룹에 독립적으로 함수를 적용 (applying)  \n",
        "- 결과물들을 하나의 데이터 구조로 결합 (combining)"
      ]
    },
    {
      "cell_type": "code",
      "metadata": {
        "id": "B8xXqfAvpf9Q",
        "colab_type": "code",
        "colab": {
          "base_uri": "https://localhost:8080/",
          "height": 284
        },
        "outputId": "257c882c-290a-4907-e67a-fbfabd5dd9d7"
      },
      "source": [
        "df = pd.DataFrame(\n",
        "    {\n",
        "        'A' : ['foo', 'bar', 'foo', 'bar', 'foo', 'bar', 'foo', 'foo'],\n",
        "        'B' : ['one', 'one', 'two', 'three', 'two', 'two', 'one', 'three'],\n",
        "        'C' : np.random.randn(8),\n",
        "        'D' : np.random.randn(8)\n",
        "    })\n",
        "df"
      ],
      "execution_count": null,
      "outputs": [
        {
          "output_type": "execute_result",
          "data": {
            "text/html": [
              "<div>\n",
              "<style scoped>\n",
              "    .dataframe tbody tr th:only-of-type {\n",
              "        vertical-align: middle;\n",
              "    }\n",
              "\n",
              "    .dataframe tbody tr th {\n",
              "        vertical-align: top;\n",
              "    }\n",
              "\n",
              "    .dataframe thead th {\n",
              "        text-align: right;\n",
              "    }\n",
              "</style>\n",
              "<table border=\"1\" class=\"dataframe\">\n",
              "  <thead>\n",
              "    <tr style=\"text-align: right;\">\n",
              "      <th></th>\n",
              "      <th>A</th>\n",
              "      <th>B</th>\n",
              "      <th>C</th>\n",
              "      <th>D</th>\n",
              "    </tr>\n",
              "  </thead>\n",
              "  <tbody>\n",
              "    <tr>\n",
              "      <th>0</th>\n",
              "      <td>foo</td>\n",
              "      <td>one</td>\n",
              "      <td>-1.728242</td>\n",
              "      <td>-1.589220</td>\n",
              "    </tr>\n",
              "    <tr>\n",
              "      <th>1</th>\n",
              "      <td>bar</td>\n",
              "      <td>one</td>\n",
              "      <td>2.012640</td>\n",
              "      <td>0.498976</td>\n",
              "    </tr>\n",
              "    <tr>\n",
              "      <th>2</th>\n",
              "      <td>foo</td>\n",
              "      <td>two</td>\n",
              "      <td>-0.177634</td>\n",
              "      <td>1.424433</td>\n",
              "    </tr>\n",
              "    <tr>\n",
              "      <th>3</th>\n",
              "      <td>bar</td>\n",
              "      <td>three</td>\n",
              "      <td>0.400173</td>\n",
              "      <td>-0.481063</td>\n",
              "    </tr>\n",
              "    <tr>\n",
              "      <th>4</th>\n",
              "      <td>foo</td>\n",
              "      <td>two</td>\n",
              "      <td>-1.756631</td>\n",
              "      <td>0.609311</td>\n",
              "    </tr>\n",
              "    <tr>\n",
              "      <th>5</th>\n",
              "      <td>bar</td>\n",
              "      <td>two</td>\n",
              "      <td>0.148527</td>\n",
              "      <td>0.939468</td>\n",
              "    </tr>\n",
              "    <tr>\n",
              "      <th>6</th>\n",
              "      <td>foo</td>\n",
              "      <td>one</td>\n",
              "      <td>0.252732</td>\n",
              "      <td>-0.089389</td>\n",
              "    </tr>\n",
              "    <tr>\n",
              "      <th>7</th>\n",
              "      <td>foo</td>\n",
              "      <td>three</td>\n",
              "      <td>0.821206</td>\n",
              "      <td>-0.739602</td>\n",
              "    </tr>\n",
              "  </tbody>\n",
              "</table>\n",
              "</div>"
            ],
            "text/plain": [
              "     A      B         C         D\n",
              "0  foo    one -1.728242 -1.589220\n",
              "1  bar    one  2.012640  0.498976\n",
              "2  foo    two -0.177634  1.424433\n",
              "3  bar  three  0.400173 -0.481063\n",
              "4  foo    two -1.756631  0.609311\n",
              "5  bar    two  0.148527  0.939468\n",
              "6  foo    one  0.252732 -0.089389\n",
              "7  foo  three  0.821206 -0.739602"
            ]
          },
          "metadata": {
            "tags": []
          },
          "execution_count": 72
        }
      ]
    },
    {
      "cell_type": "code",
      "metadata": {
        "id": "l2prDbRBpf0x",
        "colab_type": "code",
        "colab": {
          "base_uri": "https://localhost:8080/",
          "height": 136
        },
        "outputId": "562c260e-0277-4645-bc68-8e180008c08b"
      },
      "source": [
        "# 생성된 데이터프레임을 그룹화한 후 각 그룹에 sum() 함수를 적용합니다.\n",
        "df.groupby('A').sum()"
      ],
      "execution_count": null,
      "outputs": [
        {
          "output_type": "execute_result",
          "data": {
            "text/html": [
              "<div>\n",
              "<style scoped>\n",
              "    .dataframe tbody tr th:only-of-type {\n",
              "        vertical-align: middle;\n",
              "    }\n",
              "\n",
              "    .dataframe tbody tr th {\n",
              "        vertical-align: top;\n",
              "    }\n",
              "\n",
              "    .dataframe thead th {\n",
              "        text-align: right;\n",
              "    }\n",
              "</style>\n",
              "<table border=\"1\" class=\"dataframe\">\n",
              "  <thead>\n",
              "    <tr style=\"text-align: right;\">\n",
              "      <th></th>\n",
              "      <th>C</th>\n",
              "      <th>D</th>\n",
              "    </tr>\n",
              "    <tr>\n",
              "      <th>A</th>\n",
              "      <th></th>\n",
              "      <th></th>\n",
              "    </tr>\n",
              "  </thead>\n",
              "  <tbody>\n",
              "    <tr>\n",
              "      <th>bar</th>\n",
              "      <td>2.561339</td>\n",
              "      <td>0.957381</td>\n",
              "    </tr>\n",
              "    <tr>\n",
              "      <th>foo</th>\n",
              "      <td>-2.588569</td>\n",
              "      <td>-0.384467</td>\n",
              "    </tr>\n",
              "  </tbody>\n",
              "</table>\n",
              "</div>"
            ],
            "text/plain": [
              "            C         D\n",
              "A                      \n",
              "bar  2.561339  0.957381\n",
              "foo -2.588569 -0.384467"
            ]
          },
          "metadata": {
            "tags": []
          },
          "execution_count": 75
        }
      ]
    },
    {
      "cell_type": "code",
      "metadata": {
        "id": "3JDyJFsoPVMq",
        "colab_type": "code",
        "colab": {
          "base_uri": "https://localhost:8080/",
          "height": 254
        },
        "outputId": "174cfec3-4715-4141-d22c-8ca33c89eb00"
      },
      "source": [
        "# 여러 열을 기준으로 그룹화하면 계층적 인덱스가 형성됩니다. 여기에도 sum 함수를 적용할 수 있습니다.\n",
        "df.groupby(['A','B']).sum()"
      ],
      "execution_count": null,
      "outputs": [
        {
          "output_type": "execute_result",
          "data": {
            "text/html": [
              "<div>\n",
              "<style scoped>\n",
              "    .dataframe tbody tr th:only-of-type {\n",
              "        vertical-align: middle;\n",
              "    }\n",
              "\n",
              "    .dataframe tbody tr th {\n",
              "        vertical-align: top;\n",
              "    }\n",
              "\n",
              "    .dataframe thead th {\n",
              "        text-align: right;\n",
              "    }\n",
              "</style>\n",
              "<table border=\"1\" class=\"dataframe\">\n",
              "  <thead>\n",
              "    <tr style=\"text-align: right;\">\n",
              "      <th></th>\n",
              "      <th></th>\n",
              "      <th>C</th>\n",
              "      <th>D</th>\n",
              "    </tr>\n",
              "    <tr>\n",
              "      <th>A</th>\n",
              "      <th>B</th>\n",
              "      <th></th>\n",
              "      <th></th>\n",
              "    </tr>\n",
              "  </thead>\n",
              "  <tbody>\n",
              "    <tr>\n",
              "      <th rowspan=\"3\" valign=\"top\">bar</th>\n",
              "      <th>one</th>\n",
              "      <td>2.012640</td>\n",
              "      <td>0.498976</td>\n",
              "    </tr>\n",
              "    <tr>\n",
              "      <th>three</th>\n",
              "      <td>0.400173</td>\n",
              "      <td>-0.481063</td>\n",
              "    </tr>\n",
              "    <tr>\n",
              "      <th>two</th>\n",
              "      <td>0.148527</td>\n",
              "      <td>0.939468</td>\n",
              "    </tr>\n",
              "    <tr>\n",
              "      <th rowspan=\"3\" valign=\"top\">foo</th>\n",
              "      <th>one</th>\n",
              "      <td>-1.475510</td>\n",
              "      <td>-1.678609</td>\n",
              "    </tr>\n",
              "    <tr>\n",
              "      <th>three</th>\n",
              "      <td>0.821206</td>\n",
              "      <td>-0.739602</td>\n",
              "    </tr>\n",
              "    <tr>\n",
              "      <th>two</th>\n",
              "      <td>-1.934265</td>\n",
              "      <td>2.033744</td>\n",
              "    </tr>\n",
              "  </tbody>\n",
              "</table>\n",
              "</div>"
            ],
            "text/plain": [
              "                  C         D\n",
              "A   B                        \n",
              "bar one    2.012640  0.498976\n",
              "    three  0.400173 -0.481063\n",
              "    two    0.148527  0.939468\n",
              "foo one   -1.475510 -1.678609\n",
              "    three  0.821206 -0.739602\n",
              "    two   -1.934265  2.033744"
            ]
          },
          "metadata": {
            "tags": []
          },
          "execution_count": 76
        }
      ]
    }
  ]
}