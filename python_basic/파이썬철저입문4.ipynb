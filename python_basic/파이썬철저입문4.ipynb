{
  "nbformat": 4,
  "nbformat_minor": 0,
  "metadata": {
    "colab": {
      "name": "파이썬철저입문4.ipynb",
      "provenance": [],
      "collapsed_sections": [],
      "authorship_tag": "ABX9TyPwOHFrtVig/XTwgMjjJdhT",
      "include_colab_link": true
    },
    "kernelspec": {
      "name": "python3",
      "display_name": "Python 3"
    }
  },
  "cells": [
    {
      "cell_type": "markdown",
      "metadata": {
        "id": "view-in-github",
        "colab_type": "text"
      },
      "source": [
        "<a href=\"https://colab.research.google.com/github/Hugekyung/TIL/blob/master/python_basic/%ED%8C%8C%EC%9D%B4%EC%8D%AC%EC%B2%A0%EC%A0%80%EC%9E%85%EB%AC%B84.ipynb\" target=\"_parent\"><img src=\"https://colab.research.google.com/assets/colab-badge.svg\" alt=\"Open In Colab\"/></a>"
      ]
    },
    {
      "cell_type": "markdown",
      "metadata": {
        "id": "JskaW-NwygFt",
        "colab_type": "text"
      },
      "source": [
        "# 함수"
      ]
    },
    {
      "cell_type": "markdown",
      "metadata": {
        "id": "3X8ad1xXyk4N",
        "colab_type": "text"
      },
      "source": [
        "## 람다(lambda) 함수  \n",
        "- 한 줄로 표현하는 함수"
      ]
    },
    {
      "cell_type": "code",
      "metadata": {
        "id": "jUDm9DpmykKS",
        "colab_type": "code",
        "colab": {
          "base_uri": "https://localhost:8080/",
          "height": 34
        },
        "outputId": "0f558acd-c470-4b5a-d3d3-73efc7e6c46b"
      },
      "source": [
        "(lambda x: x**2)(5)"
      ],
      "execution_count": 5,
      "outputs": [
        {
          "output_type": "execute_result",
          "data": {
            "text/plain": [
              "25"
            ]
          },
          "metadata": {
            "tags": []
          },
          "execution_count": 5
        }
      ]
    },
    {
      "cell_type": "code",
      "metadata": {
        "id": "Hr4J2KptyWjb",
        "colab_type": "code",
        "colab": {
          "base_uri": "https://localhost:8080/",
          "height": 34
        },
        "outputId": "6d4e9fe9-ff3c-4139-ac4f-35103ec1417d"
      },
      "source": [
        "mysquare = lambda x : x**2\n",
        "mysquare(3)"
      ],
      "execution_count": 7,
      "outputs": [
        {
          "output_type": "execute_result",
          "data": {
            "text/plain": [
              "9"
            ]
          },
          "metadata": {
            "tags": []
          },
          "execution_count": 7
        }
      ]
    },
    {
      "cell_type": "code",
      "metadata": {
        "id": "MDxQMZoP0omN",
        "colab_type": "code",
        "colab": {
          "base_uri": "https://localhost:8080/",
          "height": 34
        },
        "outputId": "3b1b5113-c527-4475-fa82-3208adf9113e"
      },
      "source": [
        "mysquare(5) # 람다함수를 변수에 할당했으므로 다른 인자를 넣어주면 다른 값을 얻을 수 있다"
      ],
      "execution_count": 11,
      "outputs": [
        {
          "output_type": "execute_result",
          "data": {
            "text/plain": [
              "25"
            ]
          },
          "metadata": {
            "tags": []
          },
          "execution_count": 11
        }
      ]
    },
    {
      "cell_type": "code",
      "metadata": {
        "id": "SaYDSDD_1tue",
        "colab_type": "code",
        "colab": {
          "base_uri": "https://localhost:8080/",
          "height": 34
        },
        "outputId": "e1971676-da9e-4351-f65a-736a6af3ee5f"
      },
      "source": [
        "mysimpleFunc = lambda x,y,z : 2*x + 3*y + z # 여러 개의 인자를 입력 받는다\n",
        "mysimpleFunc(1,2,3)"
      ],
      "execution_count": 13,
      "outputs": [
        {
          "output_type": "execute_result",
          "data": {
            "text/plain": [
              "11"
            ]
          },
          "metadata": {
            "tags": []
          },
          "execution_count": 13
        }
      ]
    },
    {
      "cell_type": "markdown",
      "metadata": {
        "id": "QaE5gQVo2vun",
        "colab_type": "text"
      },
      "source": [
        "## bool함수  \n",
        "- bool() 함수의 인자가 숫자인 경우, 숫자가 0이면 False, 0이외의 숫자는 True를 반환  \n",
        "- bool() 함수의 인자가 문자인 경우, 문자가 있으면 True, 없으면 False를 반환  \n",
        "- 리스트, 튜플, 세트 역시 항목이 있으면 True, 없으면 False를 반환"
      ]
    },
    {
      "cell_type": "code",
      "metadata": {
        "id": "Z4xlzuO22PJp",
        "colab_type": "code",
        "colab": {
          "base_uri": "https://localhost:8080/",
          "height": 34
        },
        "outputId": "0c662b46-5c02-4178-e8e7-27ede02ef13f"
      },
      "source": [
        "bool(1)"
      ],
      "execution_count": 14,
      "outputs": [
        {
          "output_type": "execute_result",
          "data": {
            "text/plain": [
              "True"
            ]
          },
          "metadata": {
            "tags": []
          },
          "execution_count": 14
        }
      ]
    },
    {
      "cell_type": "code",
      "metadata": {
        "id": "0fuhzI3y3ADk",
        "colab_type": "code",
        "colab": {
          "base_uri": "https://localhost:8080/",
          "height": 34
        },
        "outputId": "49c02d32-5679-4cef-8f90-3f37e299481c"
      },
      "source": [
        "bool(0.5)"
      ],
      "execution_count": 15,
      "outputs": [
        {
          "output_type": "execute_result",
          "data": {
            "text/plain": [
              "True"
            ]
          },
          "metadata": {
            "tags": []
          },
          "execution_count": 15
        }
      ]
    },
    {
      "cell_type": "code",
      "metadata": {
        "id": "MlMkD-U93BA_",
        "colab_type": "code",
        "colab": {
          "base_uri": "https://localhost:8080/",
          "height": 34
        },
        "outputId": "3047ae8c-ba14-4e7e-ef49-06e18b7323ac"
      },
      "source": [
        "bool(-5)"
      ],
      "execution_count": 16,
      "outputs": [
        {
          "output_type": "execute_result",
          "data": {
            "text/plain": [
              "True"
            ]
          },
          "metadata": {
            "tags": []
          },
          "execution_count": 16
        }
      ]
    },
    {
      "cell_type": "code",
      "metadata": {
        "id": "_2JgrnaM3CqW",
        "colab_type": "code",
        "colab": {
          "base_uri": "https://localhost:8080/",
          "height": 34
        },
        "outputId": "900ea4c8-b64c-46ba-c2d3-bdcdebddc96a"
      },
      "source": [
        "bool(0)"
      ],
      "execution_count": 17,
      "outputs": [
        {
          "output_type": "execute_result",
          "data": {
            "text/plain": [
              "False"
            ]
          },
          "metadata": {
            "tags": []
          },
          "execution_count": 17
        }
      ]
    },
    {
      "cell_type": "code",
      "metadata": {
        "id": "d7X4m5W83DcZ",
        "colab_type": "code",
        "colab": {
          "base_uri": "https://localhost:8080/",
          "height": 34
        },
        "outputId": "3a5c4d08-f0bd-4f26-e889-eeaf63dfe2f0"
      },
      "source": [
        "bool('a')"
      ],
      "execution_count": 18,
      "outputs": [
        {
          "output_type": "execute_result",
          "data": {
            "text/plain": [
              "True"
            ]
          },
          "metadata": {
            "tags": []
          },
          "execution_count": 18
        }
      ]
    },
    {
      "cell_type": "code",
      "metadata": {
        "id": "X7JpuN_X3O1E",
        "colab_type": "code",
        "colab": {
          "base_uri": "https://localhost:8080/",
          "height": 34
        },
        "outputId": "b3e3e329-4dc0-4901-af6a-8b97830b2125"
      },
      "source": [
        "bool('')"
      ],
      "execution_count": 19,
      "outputs": [
        {
          "output_type": "execute_result",
          "data": {
            "text/plain": [
              "False"
            ]
          },
          "metadata": {
            "tags": []
          },
          "execution_count": 19
        }
      ]
    },
    {
      "cell_type": "code",
      "metadata": {
        "id": "Jogy1RCd3Py2",
        "colab_type": "code",
        "colab": {
          "base_uri": "https://localhost:8080/",
          "height": 34
        },
        "outputId": "349f36bc-8970-4e83-a8f3-eaa4215b97a6"
      },
      "source": [
        "bool('123')"
      ],
      "execution_count": 20,
      "outputs": [
        {
          "output_type": "execute_result",
          "data": {
            "text/plain": [
              "True"
            ]
          },
          "metadata": {
            "tags": []
          },
          "execution_count": 20
        }
      ]
    },
    {
      "cell_type": "code",
      "metadata": {
        "id": "T1mrb8Rj3RME",
        "colab_type": "code",
        "colab": {
          "base_uri": "https://localhost:8080/",
          "height": 34
        },
        "outputId": "bef852f4-5108-4864-ec5e-c16df1c4e2ad"
      },
      "source": [
        "myFriend = []\n",
        "bool(myFriend)"
      ],
      "execution_count": 21,
      "outputs": [
        {
          "output_type": "execute_result",
          "data": {
            "text/plain": [
              "False"
            ]
          },
          "metadata": {
            "tags": []
          },
          "execution_count": 21
        }
      ]
    },
    {
      "cell_type": "code",
      "metadata": {
        "id": "kjO5SAUY5WvR",
        "colab_type": "code",
        "colab": {
          "base_uri": "https://localhost:8080/",
          "height": 34
        },
        "outputId": "06ca4084-3e36-427b-d2e6-1cbf2ec098a4"
      },
      "source": [
        "myFriend = ['tae', 'kyung', 'yang']\n",
        "bool(myFriend)"
      ],
      "execution_count": 23,
      "outputs": [
        {
          "output_type": "execute_result",
          "data": {
            "text/plain": [
              "True"
            ]
          },
          "metadata": {
            "tags": []
          },
          "execution_count": 23
        }
      ]
    },
    {
      "cell_type": "code",
      "metadata": {
        "id": "ha2qctNM5eyN",
        "colab_type": "code",
        "colab": {
          "base_uri": "https://localhost:8080/",
          "height": 34
        },
        "outputId": "8c8bdb6f-13f8-4a2e-ce13-93aa32381adb"
      },
      "source": [
        "myNum = ()\n",
        "bool(myNum)"
      ],
      "execution_count": 25,
      "outputs": [
        {
          "output_type": "execute_result",
          "data": {
            "text/plain": [
              "False"
            ]
          },
          "metadata": {
            "tags": []
          },
          "execution_count": 25
        }
      ]
    },
    {
      "cell_type": "markdown",
      "metadata": {
        "id": "W9KM5zhT7Zpf",
        "colab_type": "text"
      },
      "source": [
        "## bool함수의 활용"
      ]
    },
    {
      "cell_type": "code",
      "metadata": {
        "id": "bSzRSMTG7bOx",
        "colab_type": "code",
        "colab": {}
      },
      "source": [
        "def print_name(name):\n",
        "    if bool(name):\n",
        "        print('입력된 이름:',name)\n",
        "    else:\n",
        "        print('입력된 이름이 없습니다.')"
      ],
      "execution_count": 26,
      "outputs": []
    },
    {
      "cell_type": "code",
      "metadata": {
        "id": "AXPlDQKD7qNv",
        "colab_type": "code",
        "colab": {
          "base_uri": "https://localhost:8080/",
          "height": 34
        },
        "outputId": "e186b4c6-f62b-4aaf-abb3-301451d743b5"
      },
      "source": [
        "print_name('james')"
      ],
      "execution_count": 27,
      "outputs": [
        {
          "output_type": "stream",
          "text": [
            "입력된 이름: james\n"
          ],
          "name": "stdout"
        }
      ]
    },
    {
      "cell_type": "code",
      "metadata": {
        "id": "BGF8kb-07s_A",
        "colab_type": "code",
        "colab": {
          "base_uri": "https://localhost:8080/",
          "height": 34
        },
        "outputId": "ce114638-4c42-4e17-97ad-709703f91876"
      },
      "source": [
        "print_name('')"
      ],
      "execution_count": 31,
      "outputs": [
        {
          "output_type": "stream",
          "text": [
            "입력된 이름이 없습니다.\n"
          ],
          "name": "stdout"
        }
      ]
    },
    {
      "cell_type": "markdown",
      "metadata": {
        "id": "utkndRrn8E75",
        "colab_type": "text"
      },
      "source": [
        "## 절댓값과 전체 합을 구하는 함수"
      ]
    },
    {
      "cell_type": "code",
      "metadata": {
        "id": "BJw6xEkH7vWi",
        "colab_type": "code",
        "colab": {
          "base_uri": "https://localhost:8080/",
          "height": 34
        },
        "outputId": "237ac991-9dda-429e-8768-a8cdb99fac5d"
      },
      "source": [
        "[abs(10), abs(-10)]"
      ],
      "execution_count": 33,
      "outputs": [
        {
          "output_type": "execute_result",
          "data": {
            "text/plain": [
              "[10, 10]"
            ]
          },
          "metadata": {
            "tags": []
          },
          "execution_count": 33
        }
      ]
    },
    {
      "cell_type": "code",
      "metadata": {
        "id": "J8gCjLdK8Jiu",
        "colab_type": "code",
        "colab": {
          "base_uri": "https://localhost:8080/",
          "height": 34
        },
        "outputId": "e0900432-a647-4ea7-8249-892179d6abbb"
      },
      "source": [
        "[abs(2.45), abs(-2.45)]"
      ],
      "execution_count": 34,
      "outputs": [
        {
          "output_type": "execute_result",
          "data": {
            "text/plain": [
              "[2.45, 2.45]"
            ]
          },
          "metadata": {
            "tags": []
          },
          "execution_count": 34
        }
      ]
    },
    {
      "cell_type": "code",
      "metadata": {
        "id": "e6emaNNE8SVa",
        "colab_type": "code",
        "colab": {
          "base_uri": "https://localhost:8080/",
          "height": 34
        },
        "outputId": "b39f2a9b-cf37-45cb-e854-430827d052e9"
      },
      "source": [
        "sum_ls = [1,2,3,4,5,6,7,8,9,10]\n",
        "sum(sum_ls)"
      ],
      "execution_count": 36,
      "outputs": [
        {
          "output_type": "execute_result",
          "data": {
            "text/plain": [
              "55"
            ]
          },
          "metadata": {
            "tags": []
          },
          "execution_count": 36
        }
      ]
    },
    {
      "cell_type": "markdown",
      "metadata": {
        "id": "zAJiUvLb8cli",
        "colab_type": "text"
      },
      "source": [
        "## 내장 함수를 활용한 에제  \n",
        "- 시험점수의 총점 계산, 과목 수 계산 등"
      ]
    },
    {
      "cell_type": "code",
      "metadata": {
        "id": "K3mIZD058Yo9",
        "colab_type": "code",
        "colab": {
          "base_uri": "https://localhost:8080/",
          "height": 34
        },
        "outputId": "ea7b76a9-dd74-41fe-af28-c2ad1e4568a8"
      },
      "source": [
        "scores = [90, 80, 95, 85]\n",
        "\n",
        "score_sum = 0\n",
        "subject_num = 0\n",
        "for score in scores:\n",
        "    score_sum = score_sum + score\n",
        "    subject_num += 1 \n",
        "\n",
        "average = score_sum / subject_num\n",
        "\n",
        "print('총점 : {} / 평균 : {}'.format(score_sum, average))"
      ],
      "execution_count": 41,
      "outputs": [
        {
          "output_type": "stream",
          "text": [
            "총점 : 350 / 평균 : 87.5\n"
          ],
          "name": "stdout"
        }
      ]
    },
    {
      "cell_type": "code",
      "metadata": {
        "id": "DS2SPkJB9F1D",
        "colab_type": "code",
        "colab": {
          "base_uri": "https://localhost:8080/",
          "height": 34
        },
        "outputId": "a6bd299d-da6b-4e5e-db57-1f50637f4ce7"
      },
      "source": [
        "print(sum(scores), sum(scores) / len(scores))"
      ],
      "execution_count": 42,
      "outputs": [
        {
          "output_type": "stream",
          "text": [
            "350 87.5\n"
          ],
          "name": "stdout"
        }
      ]
    },
    {
      "cell_type": "code",
      "metadata": {
        "id": "7SGtvWyy9wHe",
        "colab_type": "code",
        "colab": {
          "base_uri": "https://localhost:8080/",
          "height": 34
        },
        "outputId": "99f78bd6-9fab-4f7b-befb-bf2f3c7301ec"
      },
      "source": [
        "print(min(scores), max(scores))"
      ],
      "execution_count": 43,
      "outputs": [
        {
          "output_type": "stream",
          "text": [
            "80 95\n"
          ],
          "name": "stdout"
        }
      ]
    }
  ]
}