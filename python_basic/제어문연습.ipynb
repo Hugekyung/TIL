{
  "nbformat": 4,
  "nbformat_minor": 0,
  "metadata": {
    "colab": {
      "name": "제어문연습.ipynb",
      "provenance": [],
      "collapsed_sections": [],
      "include_colab_link": true
    },
    "kernelspec": {
      "name": "python3",
      "display_name": "Python 3"
    }
  },
  "cells": [
    {
      "cell_type": "markdown",
      "metadata": {
        "id": "view-in-github",
        "colab_type": "text"
      },
      "source": [
        "<a href=\"https://colab.research.google.com/github/Hugekyung/TIL/blob/master/python_basic/%EC%A0%9C%EC%96%B4%EB%AC%B8%EC%97%B0%EC%8A%B5.ipynb\" target=\"_parent\"><img src=\"https://colab.research.google.com/assets/colab-badge.svg\" alt=\"Open In Colab\"/></a>"
      ]
    },
    {
      "cell_type": "markdown",
      "metadata": {
        "id": "GHnO62Y6SRVE",
        "colab_type": "text"
      },
      "source": [
        "# 제어문 연습"
      ]
    },
    {
      "cell_type": "markdown",
      "metadata": {
        "id": "GnKs9ZfRiEFu",
        "colab_type": "text"
      },
      "source": [
        "### 반복 훈련"
      ]
    },
    {
      "cell_type": "markdown",
      "metadata": {
        "id": "z1tMMZZmin_d",
        "colab_type": "text"
      },
      "source": [
        "#### 1번\n",
        "x=[3,6,9,20,-7,5]  \n",
        "양수는 10을 곱하여 저장하고, 음수는 양수로 바꿔준뒤 10을 곱하여 저장해서 출력하세요"
      ]
    },
    {
      "cell_type": "code",
      "metadata": {
        "id": "70INCe4sehvc",
        "colab_type": "code",
        "colab": {
          "base_uri": "https://localhost:8080/",
          "height": 34
        },
        "outputId": "cb8ea802-ff72-4a1e-f266-7f40a9c0e9e2"
      },
      "source": [
        "x=[3,6,9,20,-7,5]\n",
        "new_x = []\n",
        "for i in range(len(x)):\n",
        "    if x[i] > 0:\n",
        "        new_x.append(x[i]*10)\n",
        "    else:\n",
        "        new_x.append(x[i]*-10)\n",
        "new_x"
      ],
      "execution_count": null,
      "outputs": [
        {
          "output_type": "execute_result",
          "data": {
            "text/plain": [
              "[30, 60, 90, 200, 70, 50]"
            ]
          },
          "metadata": {
            "tags": []
          },
          "execution_count": 5
        }
      ]
    },
    {
      "cell_type": "markdown",
      "metadata": {
        "colab_type": "text",
        "id": "qRgkpxjNjR8e"
      },
      "source": [
        "#### 2번\n",
        "y={“math”:70,“science”:80,“english”:20}의값의모든요소에10을더하여저장한뒤출력하세요"
      ]
    },
    {
      "cell_type": "code",
      "metadata": {
        "colab_type": "code",
        "id": "37ZetDItjR8f",
        "colab": {
          "base_uri": "https://localhost:8080/",
          "height": 204
        },
        "outputId": "f8cb784c-f106-48aa-8180-cb2710bb3b47"
      },
      "source": [
        "y = {\"math\":70,\"science\":80,\"english\":20}\n",
        "for i in range(len(y)):\n",
        "    print(y[i],values)"
      ],
      "execution_count": null,
      "outputs": [
        {
          "output_type": "error",
          "ename": "KeyError",
          "evalue": "ignored",
          "traceback": [
            "\u001b[0;31m---------------------------------------------------------------------------\u001b[0m",
            "\u001b[0;31mKeyError\u001b[0m                                  Traceback (most recent call last)",
            "\u001b[0;32m<ipython-input-16-7ec4173303a8>\u001b[0m in \u001b[0;36m<module>\u001b[0;34m()\u001b[0m\n\u001b[1;32m      1\u001b[0m \u001b[0my\u001b[0m \u001b[0;34m=\u001b[0m \u001b[0;34m{\u001b[0m\u001b[0;34m\"math\"\u001b[0m\u001b[0;34m:\u001b[0m\u001b[0;36m70\u001b[0m\u001b[0;34m,\u001b[0m\u001b[0;34m\"science\"\u001b[0m\u001b[0;34m:\u001b[0m\u001b[0;36m80\u001b[0m\u001b[0;34m,\u001b[0m\u001b[0;34m\"english\"\u001b[0m\u001b[0;34m:\u001b[0m\u001b[0;36m20\u001b[0m\u001b[0;34m}\u001b[0m\u001b[0;34m\u001b[0m\u001b[0;34m\u001b[0m\u001b[0m\n\u001b[1;32m      2\u001b[0m \u001b[0;32mfor\u001b[0m \u001b[0mi\u001b[0m \u001b[0;32min\u001b[0m \u001b[0mrange\u001b[0m\u001b[0;34m(\u001b[0m\u001b[0mlen\u001b[0m\u001b[0;34m(\u001b[0m\u001b[0my\u001b[0m\u001b[0;34m)\u001b[0m\u001b[0;34m)\u001b[0m\u001b[0;34m:\u001b[0m\u001b[0;34m\u001b[0m\u001b[0;34m\u001b[0m\u001b[0m\n\u001b[0;32m----> 3\u001b[0;31m     \u001b[0mprint\u001b[0m\u001b[0;34m(\u001b[0m\u001b[0my\u001b[0m\u001b[0;34m[\u001b[0m\u001b[0mi\u001b[0m\u001b[0;34m]\u001b[0m\u001b[0;34m,\u001b[0m\u001b[0mvalues\u001b[0m\u001b[0;34m)\u001b[0m\u001b[0;34m\u001b[0m\u001b[0;34m\u001b[0m\u001b[0m\n\u001b[0m",
            "\u001b[0;31mKeyError\u001b[0m: 0"
          ]
        }
      ]
    },
    {
      "cell_type": "markdown",
      "metadata": {
        "colab_type": "text",
        "id": "E-HlOhw2jj1D"
      },
      "source": [
        "#### 3번\n",
        "구구단 2단부터 9단까지 출력해보세요.  \n",
        "예)  \n",
        "2 x 1 = 2  \n",
        "2 x 2 = 4  \n",
        "2 x 3 = 6  \n",
        "  \n",
        "...  \n",
        "  \n",
        "9 x 9 = 81  \n"
      ]
    },
    {
      "cell_type": "code",
      "metadata": {
        "colab_type": "code",
        "id": "9LNea87vjj1F",
        "colab": {
          "base_uri": "https://localhost:8080/",
          "height": 1000
        },
        "outputId": "a935ee62-4477-4255-f27b-f1a1e81728bb"
      },
      "source": [
        "for dan in range(2, 10):\n",
        "  for num in range(1, 10):\n",
        "    print(dan,'x', num, '=', dan*num)"
      ],
      "execution_count": null,
      "outputs": [
        {
          "output_type": "stream",
          "text": [
            "2 x 1 = 2\n",
            "2 x 2 = 4\n",
            "2 x 3 = 6\n",
            "2 x 4 = 8\n",
            "2 x 5 = 10\n",
            "2 x 6 = 12\n",
            "2 x 7 = 14\n",
            "2 x 8 = 16\n",
            "2 x 9 = 18\n",
            "3 x 1 = 3\n",
            "3 x 2 = 6\n",
            "3 x 3 = 9\n",
            "3 x 4 = 12\n",
            "3 x 5 = 15\n",
            "3 x 6 = 18\n",
            "3 x 7 = 21\n",
            "3 x 8 = 24\n",
            "3 x 9 = 27\n",
            "4 x 1 = 4\n",
            "4 x 2 = 8\n",
            "4 x 3 = 12\n",
            "4 x 4 = 16\n",
            "4 x 5 = 20\n",
            "4 x 6 = 24\n",
            "4 x 7 = 28\n",
            "4 x 8 = 32\n",
            "4 x 9 = 36\n",
            "5 x 1 = 5\n",
            "5 x 2 = 10\n",
            "5 x 3 = 15\n",
            "5 x 4 = 20\n",
            "5 x 5 = 25\n",
            "5 x 6 = 30\n",
            "5 x 7 = 35\n",
            "5 x 8 = 40\n",
            "5 x 9 = 45\n",
            "6 x 1 = 6\n",
            "6 x 2 = 12\n",
            "6 x 3 = 18\n",
            "6 x 4 = 24\n",
            "6 x 5 = 30\n",
            "6 x 6 = 36\n",
            "6 x 7 = 42\n",
            "6 x 8 = 48\n",
            "6 x 9 = 54\n",
            "7 x 1 = 7\n",
            "7 x 2 = 14\n",
            "7 x 3 = 21\n",
            "7 x 4 = 28\n",
            "7 x 5 = 35\n",
            "7 x 6 = 42\n",
            "7 x 7 = 49\n",
            "7 x 8 = 56\n",
            "7 x 9 = 63\n",
            "8 x 1 = 8\n",
            "8 x 2 = 16\n",
            "8 x 3 = 24\n",
            "8 x 4 = 32\n",
            "8 x 5 = 40\n",
            "8 x 6 = 48\n",
            "8 x 7 = 56\n",
            "8 x 8 = 64\n",
            "8 x 9 = 72\n",
            "9 x 1 = 9\n",
            "9 x 2 = 18\n",
            "9 x 3 = 27\n",
            "9 x 4 = 36\n",
            "9 x 5 = 45\n",
            "9 x 6 = 54\n",
            "9 x 7 = 63\n",
            "9 x 8 = 72\n",
            "9 x 9 = 81\n"
          ],
          "name": "stdout"
        }
      ]
    },
    {
      "cell_type": "markdown",
      "metadata": {
        "colab_type": "text",
        "id": "lQ_V6YiNjj1K"
      },
      "source": [
        "#### 4번\n",
        "word=[“school”,“game”,“piano”,“science”,“hotel”,“mountian”]중  \n",
        " 글자 수가 6글자 이상인문자를모아새로운리스트를생성하세요"
      ]
    },
    {
      "cell_type": "code",
      "metadata": {
        "colab_type": "code",
        "id": "DQWfOddtjj1L",
        "colab": {
          "base_uri": "https://localhost:8080/",
          "height": 34
        },
        "outputId": "0f4f05d3-045e-4786-c33c-148c59421bdc"
      },
      "source": [
        "word = [\"school\", \"game\", \"piano\", \"science\", \"hotel\", \"mountian\"]\n",
        "new_word = []\n",
        "for i in range(len(word)):\n",
        "    if len(word[i])>=6:\n",
        "        new_word.append(word[i])\n",
        "new_word\n"
      ],
      "execution_count": null,
      "outputs": [
        {
          "output_type": "execute_result",
          "data": {
            "text/plain": [
              "['school', 'science', 'mountian']"
            ]
          },
          "metadata": {
            "tags": []
          },
          "execution_count": 21
        }
      ]
    },
    {
      "cell_type": "markdown",
      "metadata": {
        "id": "n8vK0xaZkHZt",
        "colab_type": "text"
      },
      "source": [
        "#### 5번\n",
        "[3,6,9,20,-7,5]  리스트를sort와같은함수를사용하지말고for문을활용하여  \n",
        "오름차순으로정렬해주세요."
      ]
    },
    {
      "cell_type": "code",
      "metadata": {
        "id": "Zxwl5aFXkLf1",
        "colab_type": "code",
        "colab": {}
      },
      "source": [
        "# x = [3,6,9,20,-7,5]\n",
        "# nx = []\n",
        "# for i in range(len(x)):\n",
        "#     for j in range(i+1,len(x)):\n",
        "#         if x[i] > x[j]:\n",
        "#             x[j]=x[i]\n",
        "            \n",
        "# x"
      ],
      "execution_count": 1,
      "outputs": []
    },
    {
      "cell_type": "markdown",
      "metadata": {
        "colab_type": "text",
        "id": "yPftzr4Fq1S2"
      },
      "source": [
        "#### 6번\n",
        "무한반복문과 break를 활용하여,  \n",
        "1-100까지숫자중3과5의공배수일경우 “3과5의공배수”  \n",
        "3의배수이기만 할 경우 “3의배수”  \n",
        "5의배수이기만 할 경우 “5의배수”  \n",
        "모두해당되지않을경우 그냥 숫자를출력하세요\n"
      ]
    },
    {
      "cell_type": "code",
      "metadata": {
        "colab_type": "code",
        "id": "92OXoyYaq1S4",
        "colab": {
          "base_uri": "https://localhost:8080/",
          "height": 1000
        },
        "outputId": "0a7ff95a-bb89-4629-e0f9-fa72f3cc774e"
      },
      "source": [
        "i = 1\n",
        "while 1:\n",
        "    if i == 101:\n",
        "        break\n",
        "    else:\n",
        "        if i % 15 == 0:\n",
        "            print('3과5의공배수')\n",
        "        elif i % 3 == 0:\n",
        "            print('3의배수')\n",
        "        elif i % 5 == 0:\n",
        "            print('5의배수')\n",
        "        else:\n",
        "            print(i)\n",
        "        i += 1\n",
        "    "
      ],
      "execution_count": null,
      "outputs": [
        {
          "output_type": "stream",
          "text": [
            "1\n",
            "2\n",
            "3의배수\n",
            "4\n",
            "5의배수\n",
            "3의배수\n",
            "7\n",
            "8\n",
            "3의배수\n",
            "5의배수\n",
            "11\n",
            "3의배수\n",
            "13\n",
            "14\n",
            "3과5의공배수\n",
            "16\n",
            "17\n",
            "3의배수\n",
            "19\n",
            "5의배수\n",
            "3의배수\n",
            "22\n",
            "23\n",
            "3의배수\n",
            "5의배수\n",
            "26\n",
            "3의배수\n",
            "28\n",
            "29\n",
            "3과5의공배수\n",
            "31\n",
            "32\n",
            "3의배수\n",
            "34\n",
            "5의배수\n",
            "3의배수\n",
            "37\n",
            "38\n",
            "3의배수\n",
            "5의배수\n",
            "41\n",
            "3의배수\n",
            "43\n",
            "44\n",
            "3과5의공배수\n",
            "46\n",
            "47\n",
            "3의배수\n",
            "49\n",
            "5의배수\n",
            "3의배수\n",
            "52\n",
            "53\n",
            "3의배수\n",
            "5의배수\n",
            "56\n",
            "3의배수\n",
            "58\n",
            "59\n",
            "3과5의공배수\n",
            "61\n",
            "62\n",
            "3의배수\n",
            "64\n",
            "5의배수\n",
            "3의배수\n",
            "67\n",
            "68\n",
            "3의배수\n",
            "5의배수\n",
            "71\n",
            "3의배수\n",
            "73\n",
            "74\n",
            "3과5의공배수\n",
            "76\n",
            "77\n",
            "3의배수\n",
            "79\n",
            "5의배수\n",
            "3의배수\n",
            "82\n",
            "83\n",
            "3의배수\n",
            "5의배수\n",
            "86\n",
            "3의배수\n",
            "88\n",
            "89\n",
            "3과5의공배수\n",
            "91\n",
            "92\n",
            "3의배수\n",
            "94\n",
            "5의배수\n",
            "3의배수\n",
            "97\n",
            "98\n",
            "3의배수\n",
            "5의배수\n"
          ],
          "name": "stdout"
        }
      ]
    },
    {
      "cell_type": "markdown",
      "metadata": {
        "colab_type": "text",
        "id": "QdLoCHjsq1S-"
      },
      "source": [
        "#### 7번\n",
        "아래, num_dic 라는 딕셔너리가 있다.\n",
        "무한반복문과 break를 활용하여,  \n",
        "1-100까지숫자중  \n",
        "3의배수 경우 “3의배수” 키값에 추가하고,   \n",
        "5의배수 경우 “5의배수” 키값에 추가해보세요."
      ]
    },
    {
      "cell_type": "code",
      "metadata": {
        "colab_type": "code",
        "id": "7oP6ErABq1S_",
        "colab": {
          "base_uri": "https://localhost:8080/",
          "height": 55
        },
        "outputId": "78b98444-d4a1-407e-cf97-573fff6b2953"
      },
      "source": [
        "num_dic = {}\n",
        "num_dic[ \"3의 배수\"] = []\n",
        "num_dic[ \"5의 배수\"] = []\n",
        "\n",
        "i = 1\n",
        "while 1:\n",
        "    if i == 101:\n",
        "        break\n",
        "    else:\n",
        "        if i % 3 == 0:\n",
        "            num_dic[ \"3의 배수\"].append(i)\n",
        "        elif i % 5 == 0:\n",
        "            num_dic[ \"5의 배수\"].append(i)\n",
        "        i += 1\n",
        "print(num_dic)"
      ],
      "execution_count": null,
      "outputs": [
        {
          "output_type": "stream",
          "text": [
            "{'3의 배수': [3, 6, 9, 12, 15, 18, 21, 24, 27, 30, 33, 36, 39, 42, 45, 48, 51, 54, 57, 60, 63, 66, 69, 72, 75, 78, 81, 84, 87, 90, 93, 96, 99], '5의 배수': [5, 10, 20, 25, 35, 40, 50, 55, 65, 70, 80, 85, 95, 100]}\n"
          ],
          "name": "stdout"
        }
      ]
    },
    {
      "cell_type": "markdown",
      "metadata": {
        "colab_type": "text",
        "id": "TOOg1aJbq1TE"
      },
      "source": [
        "#### 8번\n",
        "아래두리스트를곱해새로운리스트C를만드세요  \n",
        "a=[[10,20],[30,40],[50,60]]  \n",
        "b=[[2,3],[4,5],[6,7]]  \n",
        "\n"
      ]
    },
    {
      "cell_type": "code",
      "metadata": {
        "colab_type": "code",
        "id": "C-GskMYiq1TE",
        "colab": {
          "base_uri": "https://localhost:8080/",
          "height": 34
        },
        "outputId": "6d0ae2e4-11e6-497f-9c65-decc1bb60ba4"
      },
      "source": [
        "a=[[10,20],[30,40],[50,60]]\n",
        "b=[[2,3],[4,5],[6,7]]\n",
        "c=[]\n",
        "for i in range(len(a)):\n",
        "    tmp=[]\n",
        "    for j in range(len(a[i])):\n",
        "        tmp.append(a[i][j]*b[i][j])\n",
        "    c.append(tmp)\n",
        "c"
      ],
      "execution_count": null,
      "outputs": [
        {
          "output_type": "execute_result",
          "data": {
            "text/plain": [
              "[[20, 60], [120, 200], [300, 420]]"
            ]
          },
          "metadata": {
            "tags": []
          },
          "execution_count": 9
        }
      ]
    },
    {
      "cell_type": "markdown",
      "metadata": {
        "colab_type": "text",
        "id": "d2-IL0Kjq1TH"
      },
      "source": [
        "#### 9번\n",
        "a리스트가[[1,2],[3,4],[5,6]]와같이만들어지도록수정하세요"
      ]
    },
    {
      "cell_type": "code",
      "metadata": {
        "colab_type": "code",
        "id": "xuxd_ADWq1TI",
        "colab": {
          "base_uri": "https://localhost:8080/",
          "height": 34
        },
        "outputId": "e1a02fe2-44a0-4198-b139-b0cdf774330c"
      },
      "source": [
        "a=[[10,20],[30,40],[50,60]]\n",
        "\n",
        "for i in range(len(a)):\n",
        "    tmp=[]\n",
        "    tmp.append(int(a[i][0] / 10))\n",
        "    tmp.append(int(a[i][1] / 10))\n",
        "    a[i] = tmp\n",
        "a"
      ],
      "execution_count": null,
      "outputs": [
        {
          "output_type": "execute_result",
          "data": {
            "text/plain": [
              "[[1, 2], [3, 4], [5, 6]]"
            ]
          },
          "metadata": {
            "tags": []
          },
          "execution_count": 10
        }
      ]
    },
    {
      "cell_type": "markdown",
      "metadata": {
        "colab_type": "text",
        "id": "yH5BYD_Nq1TL"
      },
      "source": [
        "#### 10번\n",
        "아래 코드는 문자열인 name_info를 리스트로 변환하는 코드입니다.\n",
        "name_info 변수 안에서 이름만 골라서 name변수에 담아보세요.\n"
      ]
    },
    {
      "cell_type": "code",
      "metadata": {
        "id": "P3UtClvFyE9Q",
        "colab_type": "code",
        "colab": {
          "base_uri": "https://localhost:8080/",
          "height": 1000
        },
        "outputId": "73e6d7b5-96d9-41be-c30f-ef75fb79ef6b"
      },
      "source": [
        "name_info = '''서연\t1\t34,562  서윤\t2\t32,854  지우\t3\t28,729  서현\t4\t28,277  민서\t5\t27,308  하은\t6\t25,494  하윤\t7\t24,188\n",
        "윤서\t8\t22,914  지민\t9\t22,244  지유\t10\t21,650  채원\t11\t21,406  지윤\t12\t20,253  은서\t13\t20,213  수아\t14\t19,501\n",
        "다은\t15\t19,317  예은\t16\t18,943  수빈\t17\t18,195  지아\t18\t17,397  소율\t19\t17,145  예원\t20\t16,984  지원\t21\t16,677\n",
        "예린\t22\t16,647  소윤\t23\t15,968  유진\t24\t14,787  시은\t25\t14,734  지안\t26\t14,513  하린\t27\t14,069  채은\t28\t14,057\n",
        "가은\t29\t13,839  서영\t30\t13,651  윤아\t31\t13,625  민지\t32\t13,507  유나\t33\t13,267  예진\t34\t13,221  수민\t35\t12,927\n",
        "수연\t36\t12,636  연우\t37\t12,302  예나\t38\t11,688  예서\t39\t11,686  주아\t40\t11,550  시연\t41\t11,489  서아\t42\t11,462\n",
        "연서\t43\t11,136  현서\t44\t10,578  하율\t45\t10,545  다연\t46\t10,543  다인\t47\t10,503  아인\t48\t10,249  서은\t49\t10,180\n",
        "서진\t50\t9,946  유빈\t51\t9,870  하연\t52\t9,798  유주\t53\t9,755  채윤\t54\t9,752  수현\t55\t9,732 시아\t56\t9,715  서율\t57\t9,586\n",
        "지율\t58\t9,528  서우\t59\t9,467  예지\t60\t9,431  나윤\t61\t9,294  아린\t62\t9,154  다현\t63\t9,149  민주\t64\t8,807  지은\t65\t8,701\n",
        "나연\t66\t8,602  소은\t67\t8,520  윤지\t68\t8,518  시현\t69\t8,497  예빈\t70\t8,431  지현\t71\t8,369  사랑\t72\t8,367  소연\t73\t8,341\n",
        "혜원\t74\t7,988  서하\t75\t7,902  지수\t76\t7,876  은채\t77\t7,841  나은\t78\t7,796  주하\t79\t7,713  승아\t80\t7,452  아윤\t81\t7,446\n",
        "서희\t82\t7,150  나현\t83\t7,096  소민\t84\t7,081  채아\t85\t7,073  민아\t86\t7,054  다윤\t87\t6,974  채린\t88\t6,965  세은\t89\t6,961\n",
        "하영\t90\t6,906  도연\t91\t6,853  규리\t92\t6,812  아영\t93\t6,785  세아\t94\t6,602  지연\t95\t6,533  예림\t96\t6,480  가윤\t97\t6,433\n",
        "태희\t98\t6,297  민채\t99\t6,260  주은\t100\t6,194'''\n",
        "\n",
        "name_info = name_info.replace('\\t', ' ') # tab을 공백으로 대체한다.\n",
        "name_info = name_info.split() # 공백 또는 \\n(개행문자)를 기준으로 쪼개, 리스트로 만든다.\n",
        "name = []\n",
        "i = 0\n",
        "while 1:\n",
        "    if i == 300:\n",
        "        break\n",
        "    else:\n",
        "        name.append(name_info[i])\n",
        "        i+=3\n",
        "name\n"
      ],
      "execution_count": null,
      "outputs": [
        {
          "output_type": "execute_result",
          "data": {
            "text/plain": [
              "['서연',\n",
              " '서윤',\n",
              " '지우',\n",
              " '서현',\n",
              " '민서',\n",
              " '하은',\n",
              " '하윤',\n",
              " '윤서',\n",
              " '지민',\n",
              " '지유',\n",
              " '채원',\n",
              " '지윤',\n",
              " '은서',\n",
              " '수아',\n",
              " '다은',\n",
              " '예은',\n",
              " '수빈',\n",
              " '지아',\n",
              " '소율',\n",
              " '예원',\n",
              " '지원',\n",
              " '예린',\n",
              " '소윤',\n",
              " '유진',\n",
              " '시은',\n",
              " '지안',\n",
              " '하린',\n",
              " '채은',\n",
              " '가은',\n",
              " '서영',\n",
              " '윤아',\n",
              " '민지',\n",
              " '유나',\n",
              " '예진',\n",
              " '수민',\n",
              " '수연',\n",
              " '연우',\n",
              " '예나',\n",
              " '예서',\n",
              " '주아',\n",
              " '시연',\n",
              " '서아',\n",
              " '연서',\n",
              " '현서',\n",
              " '하율',\n",
              " '다연',\n",
              " '다인',\n",
              " '아인',\n",
              " '서은',\n",
              " '서진',\n",
              " '유빈',\n",
              " '하연',\n",
              " '유주',\n",
              " '채윤',\n",
              " '수현',\n",
              " '시아',\n",
              " '서율',\n",
              " '지율',\n",
              " '서우',\n",
              " '예지',\n",
              " '나윤',\n",
              " '아린',\n",
              " '다현',\n",
              " '민주',\n",
              " '지은',\n",
              " '나연',\n",
              " '소은',\n",
              " '윤지',\n",
              " '시현',\n",
              " '예빈',\n",
              " '지현',\n",
              " '사랑',\n",
              " '소연',\n",
              " '혜원',\n",
              " '서하',\n",
              " '지수',\n",
              " '은채',\n",
              " '나은',\n",
              " '주하',\n",
              " '승아',\n",
              " '아윤',\n",
              " '서희',\n",
              " '나현',\n",
              " '소민',\n",
              " '채아',\n",
              " '민아',\n",
              " '다윤',\n",
              " '채린',\n",
              " '세은',\n",
              " '하영',\n",
              " '도연',\n",
              " '규리',\n",
              " '아영',\n",
              " '세아',\n",
              " '지연',\n",
              " '예림',\n",
              " '가윤',\n",
              " '태희',\n",
              " '민채',\n",
              " '주은']"
            ]
          },
          "metadata": {
            "tags": []
          },
          "execution_count": 14
        }
      ]
    },
    {
      "cell_type": "code",
      "metadata": {
        "id": "e83Zsf7Ww4KO",
        "colab_type": "code",
        "colab": {}
      },
      "source": [
        "#### 11번\n",
        "# 사각형별 출력해보세요\n",
        "# *****\n",
        "# *****\n",
        "# *****\n",
        "# *****\n",
        "# *****"
      ],
      "execution_count": null,
      "outputs": []
    },
    {
      "cell_type": "code",
      "metadata": {
        "colab_type": "code",
        "id": "FV7shNz4w4KP",
        "colab": {
          "base_uri": "https://localhost:8080/",
          "height": 104
        },
        "outputId": "bffa02ae-5663-4dc3-e492-75aea7fa4124"
      },
      "source": [
        "for i in range(5):\n",
        "    print('*****',end='\\n')"
      ],
      "execution_count": null,
      "outputs": [
        {
          "output_type": "stream",
          "text": [
            "*****\n",
            "*****\n",
            "*****\n",
            "*****\n",
            "*****\n"
          ],
          "name": "stdout"
        }
      ]
    },
    {
      "cell_type": "code",
      "metadata": {
        "id": "F8P7_dZEw4KX",
        "colab_type": "code",
        "colab": {}
      },
      "source": [
        "#### 12번\n",
        "# 계단식별 출력해보세요\n",
        "# *\n",
        "# **\n",
        "# ***\n",
        "# ****\n",
        "# *****"
      ],
      "execution_count": null,
      "outputs": []
    },
    {
      "cell_type": "code",
      "metadata": {
        "colab_type": "code",
        "id": "HjSYv8hYw4KY",
        "colab": {
          "base_uri": "https://localhost:8080/",
          "height": 104
        },
        "outputId": "37e37baa-6afa-4553-ac2a-2207ef08c745"
      },
      "source": [
        "for i in range(1,6):\n",
        "    print('*'*i, end='\\n')"
      ],
      "execution_count": null,
      "outputs": [
        {
          "output_type": "stream",
          "text": [
            "*\n",
            "**\n",
            "***\n",
            "****\n",
            "*****\n"
          ],
          "name": "stdout"
        }
      ]
    },
    {
      "cell_type": "code",
      "metadata": {
        "id": "sMq44hFow4Kd",
        "colab_type": "code",
        "colab": {}
      },
      "source": [
        "#### 13번\n",
        "# 대각선별 출력해보세요\n",
        "# *\n",
        "#  *\n",
        "#   * \n",
        "#    *\n",
        "#     *"
      ],
      "execution_count": null,
      "outputs": []
    },
    {
      "cell_type": "code",
      "metadata": {
        "colab_type": "code",
        "id": "JWF5UCKcw4Ke",
        "colab": {
          "base_uri": "https://localhost:8080/",
          "height": 104
        },
        "outputId": "4f3285cb-20a4-48bb-e883-c48508708bff"
      },
      "source": [
        "for i in range(5):\n",
        "    print(' '*i,'*', end='\\n')"
      ],
      "execution_count": null,
      "outputs": [
        {
          "output_type": "stream",
          "text": [
            " *\n",
            "  *\n",
            "   *\n",
            "    *\n",
            "     *\n"
          ],
          "name": "stdout"
        }
      ]
    },
    {
      "cell_type": "code",
      "metadata": {
        "id": "4pn3KUyMw4Ki",
        "colab_type": "code",
        "colab": {}
      },
      "source": [
        "#### 14번\n",
        "# 계단식(역순)\n",
        "# *****\n",
        "# ****\n",
        "# ***\n",
        "# **\n",
        "# * "
      ],
      "execution_count": null,
      "outputs": []
    },
    {
      "cell_type": "code",
      "metadata": {
        "colab_type": "code",
        "id": "klD4Pwimw4Kj",
        "colab": {
          "base_uri": "https://localhost:8080/",
          "height": 104
        },
        "outputId": "72539b2a-3b21-4ec7-8cf1-fdd890f0b230"
      },
      "source": [
        "for i in range(5,0,-1):\n",
        "    print('*'*i, end='\\n')"
      ],
      "execution_count": null,
      "outputs": [
        {
          "output_type": "stream",
          "text": [
            "*****\n",
            "****\n",
            "***\n",
            "**\n",
            "*\n"
          ],
          "name": "stdout"
        }
      ]
    },
    {
      "cell_type": "code",
      "metadata": {
        "id": "22IHHPOSw4Kr",
        "colab_type": "code",
        "colab": {}
      },
      "source": [
        "#### 15번\n",
        "# 계단식(역순)\n",
        "# *****\n",
        "#  ****\n",
        "#   ***\n",
        "#    **\n",
        "#     *"
      ],
      "execution_count": null,
      "outputs": []
    },
    {
      "cell_type": "code",
      "metadata": {
        "colab_type": "code",
        "id": "jPjS4Mv5w4Ks",
        "colab": {
          "base_uri": "https://localhost:8080/",
          "height": 104
        },
        "outputId": "387e3aa4-4fdc-4958-a311-5ff2dc7ca6b1"
      },
      "source": [
        "for i in range(5,0,-1):\n",
        "    print('*'*i, end='\\n')"
      ],
      "execution_count": null,
      "outputs": [
        {
          "output_type": "stream",
          "text": [
            "*****\n",
            "****\n",
            "***\n",
            "**\n",
            "*\n"
          ],
          "name": "stdout"
        }
      ]
    }
  ]
}