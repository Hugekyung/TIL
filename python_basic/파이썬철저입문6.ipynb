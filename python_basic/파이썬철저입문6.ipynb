{
  "nbformat": 4,
  "nbformat_minor": 0,
  "metadata": {
    "colab": {
      "name": "파이썬철저입문6.ipynb",
      "provenance": [],
      "collapsed_sections": [],
      "authorship_tag": "ABX9TyPgaqcg2Elt1LqDptxSHBHQ",
      "include_colab_link": true
    },
    "kernelspec": {
      "name": "python3",
      "display_name": "Python 3"
    }
  },
  "cells": [
    {
      "cell_type": "markdown",
      "metadata": {
        "id": "view-in-github",
        "colab_type": "text"
      },
      "source": [
        "<a href=\"https://colab.research.google.com/github/Hugekyung/TIL/blob/master/python_basic/%ED%8C%8C%EC%9D%B4%EC%8D%AC%EC%B2%A0%EC%A0%80%EC%9E%85%EB%AC%B86.ipynb\" target=\"_parent\"><img src=\"https://colab.research.google.com/assets/colab-badge.svg\" alt=\"Open In Colab\"/></a>"
      ]
    },
    {
      "cell_type": "markdown",
      "metadata": {
        "id": "7dy1gIGH8MvW",
        "colab_type": "text"
      },
      "source": [
        "# 클래스"
      ]
    },
    {
      "cell_type": "markdown",
      "metadata": {
        "id": "6nk93lds-ylG",
        "colab_type": "text"
      },
      "source": [
        "## 클래스를 구성하는 변수와 함수"
      ]
    },
    {
      "cell_type": "code",
      "metadata": {
        "id": "rkgldMLPZkYu",
        "colab_type": "code",
        "colab": {}
      },
      "source": [
        "class Car():\n",
        "    instance_count = 0 # 클래스 변수 생성 및 초기화\n",
        "    \n",
        "    def __init__(self, size, color):\n",
        "        self.size = size\n",
        "        self.color = color \n",
        "        Car.instance_count = Car.instance_count + 1 # 객체 생성시마다 객체 수를 1씩 더한다\n",
        "        print(\"자동차 객체의 수 : {}\".format(Car.instance_count))\n",
        "\n",
        "    def move(self):\n",
        "        print(\"자동차({} & {})가 움직입니다.\".format(self.size, self.color))"
      ],
      "execution_count": 1,
      "outputs": []
    },
    {
      "cell_type": "code",
      "metadata": {
        "id": "Op4GsY3UHsFA",
        "colab_type": "code",
        "colab": {
          "base_uri": "https://localhost:8080/",
          "height": 52
        },
        "outputId": "ccd58c0d-b910-453d-e451-a5b706c64df1"
      },
      "source": [
        "car1 = Car('small', 'white')\n",
        "car2 = Car('big', 'black')"
      ],
      "execution_count": 2,
      "outputs": [
        {
          "output_type": "stream",
          "text": [
            "자동차 객체의 수 : 1\n",
            "자동차 객체의 수 : 2\n"
          ],
          "name": "stdout"
        }
      ]
    },
    {
      "cell_type": "code",
      "metadata": {
        "id": "renSSM_vH2A0",
        "colab_type": "code",
        "colab": {
          "base_uri": "https://localhost:8080/",
          "height": 52
        },
        "outputId": "93811a95-36cf-4424-91bd-ae9256eca8b1"
      },
      "source": [
        "car1.move()\n",
        "car2.move()"
      ],
      "execution_count": 3,
      "outputs": [
        {
          "output_type": "stream",
          "text": [
            "자동차(small & white)가 움직입니다.\n",
            "자동차(big & black)가 움직입니다.\n"
          ],
          "name": "stdout"
        }
      ]
    },
    {
      "cell_type": "markdown",
      "metadata": {
        "id": "lYP1J7j9Ph4W",
        "colab_type": "text"
      },
      "source": [
        "## 클래스 상속\n",
        "- 부모 클래스로부터 자식 클래스에게 부모 클래스의 속성과 행위를 받음  \n",
        "class 자식 클래스 이름(부모 클래스 이름):  \n",
        "      코드----"
      ]
    },
    {
      "cell_type": "code",
      "metadata": {
        "id": "CDrA4H07QJhw",
        "colab_type": "code",
        "colab": {}
      },
      "source": [
        "class Car():\n",
        "    instance_count = 0 \n",
        "    \n",
        "    def __init__(self, size, color):\n",
        "        self.size = size\n",
        "        self.color = color \n",
        "        Car.instance_count = Car.instance_count + 1 # 객체 생성시마다 객체 수를 1씩 더한다\n",
        "        print(\"자동차 객체의 수 : {}\".format(Car.instance_count))\n",
        "\n",
        "    def move(self):\n",
        "        print(\"자동차({} & {})가 움직입니다.\".format(self.size, self.color))"
      ],
      "execution_count": 4,
      "outputs": []
    },
    {
      "cell_type": "code",
      "metadata": {
        "id": "fOtNPBUQQMRO",
        "colab_type": "code",
        "colab": {}
      },
      "source": [
        "class ParkingCar(Car):\n",
        "    pass"
      ],
      "execution_count": 3,
      "outputs": []
    }
  ]
}