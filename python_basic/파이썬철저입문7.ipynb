{
  "nbformat": 4,
  "nbformat_minor": 0,
  "metadata": {
    "colab": {
      "name": "파이썬철저입문7.ipynb",
      "provenance": [],
      "collapsed_sections": [],
      "authorship_tag": "ABX9TyOHjzCvtzSatLS/CZSg2B4s",
      "include_colab_link": true
    },
    "kernelspec": {
      "name": "python3",
      "display_name": "Python 3"
    }
  },
  "cells": [
    {
      "cell_type": "markdown",
      "metadata": {
        "id": "view-in-github",
        "colab_type": "text"
      },
      "source": [
        "<a href=\"https://colab.research.google.com/github/Hugekyung/TIL/blob/master/python_basic/%ED%8C%8C%EC%9D%B4%EC%8D%AC%EC%B2%A0%EC%A0%80%EC%9E%85%EB%AC%B87.ipynb\" target=\"_parent\"><img src=\"https://colab.research.google.com/assets/colab-badge.svg\" alt=\"Open In Colab\"/></a>"
      ]
    },
    {
      "cell_type": "markdown",
      "metadata": {
        "id": "HznxjUiaExKh",
        "colab_type": "text"
      },
      "source": [
        "# 문자열과 텍스트 파일 데이터 다루기"
      ]
    },
    {
      "cell_type": "markdown",
      "metadata": {
        "id": "rt6MT_jSFJB_",
        "colab_type": "text"
      },
      "source": [
        "## 문자열 분리하기"
      ]
    },
    {
      "cell_type": "code",
      "metadata": {
        "id": "NGBWsitOEfY0",
        "colab_type": "code",
        "colab": {
          "base_uri": "https://localhost:8080/",
          "height": 34
        },
        "outputId": "83e3088b-9ddf-409f-eee6-812c578593de"
      },
      "source": [
        "coffee_menu_str = '에스프레소, 아메리카노, 카페라떼, 카푸치노'\n",
        "coffee_menu_str.split(',')"
      ],
      "execution_count": 1,
      "outputs": [
        {
          "output_type": "execute_result",
          "data": {
            "text/plain": [
              "['에스프레소', ' 아메리카노', ' 카페라떼', ' 카푸치노']"
            ]
          },
          "metadata": {
            "tags": []
          },
          "execution_count": 1
        }
      ]
    },
    {
      "cell_type": "code",
      "metadata": {
        "id": "6rWs0YuPFebf",
        "colab_type": "code",
        "colab": {
          "base_uri": "https://localhost:8080/",
          "height": 34
        },
        "outputId": "52e9b561-fbce-4307-e599-ab6cfa047b52"
      },
      "source": [
        "'에스프레소, 아메리카노, 카페라떼, 카푸치노'.split(',')"
      ],
      "execution_count": 2,
      "outputs": [
        {
          "output_type": "execute_result",
          "data": {
            "text/plain": [
              "['에스프레소', ' 아메리카노', ' 카페라떼', ' 카푸치노']"
            ]
          },
          "metadata": {
            "tags": []
          },
          "execution_count": 2
        }
      ]
    },
    {
      "cell_type": "code",
      "metadata": {
        "id": "DbIhNwHOFkaR",
        "colab_type": "code",
        "colab": {
          "base_uri": "https://localhost:8080/",
          "height": 34
        },
        "outputId": "4279d8b0-d577-4256-be19-8f1d59927186"
      },
      "source": [
        "'에스프레소, 아메리카노, 카페라떼, 카푸치노'.split(maxsplit=2) # 앞에서부터 2개의 공백까지만 문자열을 나눈다"
      ],
      "execution_count": 4,
      "outputs": [
        {
          "output_type": "execute_result",
          "data": {
            "text/plain": [
              "['에스프레소,', '아메리카노,', '카페라떼, 카푸치노']"
            ]
          },
          "metadata": {
            "tags": []
          },
          "execution_count": 4
        }
      ]
    },
    {
      "cell_type": "markdown",
      "metadata": {
        "id": "U_LJ4fH_Gaa0",
        "colab_type": "text"
      },
      "source": [
        "## 필요없는 문자열 삭제하기"
      ]
    },
    {
      "cell_type": "code",
      "metadata": {
        "id": "nTTkgurUGDed",
        "colab_type": "code",
        "colab": {
          "base_uri": "https://localhost:8080/",
          "height": 35
        },
        "outputId": "33aecefd-e54b-4b1e-ec95-9bbfffb05390"
      },
      "source": [
        "'aaaaPythonaaa'.strip('a')"
      ],
      "execution_count": 5,
      "outputs": [
        {
          "output_type": "execute_result",
          "data": {
            "application/vnd.google.colaboratory.intrinsic+json": {
              "type": "string"
            },
            "text/plain": [
              "'Python'"
            ]
          },
          "metadata": {
            "tags": []
          },
          "execution_count": 5
        }
      ]
    },
    {
      "cell_type": "code",
      "metadata": {
        "id": "sMDwH4N-Gk-n",
        "colab_type": "code",
        "colab": {
          "base_uri": "https://localhost:8080/",
          "height": 35
        },
        "outputId": "407976d0-fb24-486d-da02-df6ee06cd814"
      },
      "source": [
        "'       python       '.strip()"
      ],
      "execution_count": 6,
      "outputs": [
        {
          "output_type": "execute_result",
          "data": {
            "application/vnd.google.colaboratory.intrinsic+json": {
              "type": "string"
            },
            "text/plain": [
              "'python'"
            ]
          },
          "metadata": {
            "tags": []
          },
          "execution_count": 6
        }
      ]
    },
    {
      "cell_type": "code",
      "metadata": {
        "id": "KHB5Tey1GpH4",
        "colab_type": "code",
        "colab": {
          "base_uri": "https://localhost:8080/",
          "height": 34
        },
        "outputId": "6e886d4e-3255-4e9b-9837-2a064db55304"
      },
      "source": [
        "coffee_menu = ' 에스프레소, 아메리카노, 카페라떼 , 카푸치노 '\n",
        "\n",
        "coffee_ls = []\n",
        "for coffee in coffee_menu.split(','):\n",
        "    temp = coffee.strip()\n",
        "    coffee_ls.append(temp)\n",
        "\n",
        "print(coffee_ls)"
      ],
      "execution_count": 11,
      "outputs": [
        {
          "output_type": "stream",
          "text": [
            "['에스프레소', '아메리카노', '카페라떼', '카푸치노']\n"
          ],
          "name": "stdout"
        }
      ]
    },
    {
      "cell_type": "markdown",
      "metadata": {
        "id": "HOBzfBpKJGpf",
        "colab_type": "text"
      },
      "source": [
        "## 문자열 연결하기"
      ]
    },
    {
      "cell_type": "code",
      "metadata": {
        "id": "deRNfVc2Igl2",
        "colab_type": "code",
        "colab": {}
      },
      "source": [
        "address_ls = ['서울시', '서초구', '반포대로', '201(반포동)']"
      ],
      "execution_count": 12,
      "outputs": []
    },
    {
      "cell_type": "code",
      "metadata": {
        "id": "w6-V2RtkJNyi",
        "colab_type": "code",
        "colab": {
          "base_uri": "https://localhost:8080/",
          "height": 35
        },
        "outputId": "93a8ad06-5e48-482b-9ca1-cf65bd4a8e40"
      },
      "source": [
        "a = ' '\n",
        "a.join(address_ls)"
      ],
      "execution_count": 13,
      "outputs": [
        {
          "output_type": "execute_result",
          "data": {
            "application/vnd.google.colaboratory.intrinsic+json": {
              "type": "string"
            },
            "text/plain": [
              "'서울시 서초구 반포대로 201(반포동)'"
            ]
          },
          "metadata": {
            "tags": []
          },
          "execution_count": 13
        }
      ]
    },
    {
      "cell_type": "code",
      "metadata": {
        "id": "S1rdyyTrJRNH",
        "colab_type": "code",
        "colab": {
          "base_uri": "https://localhost:8080/",
          "height": 35
        },
        "outputId": "2db384d6-4620-44c2-d6c3-c075ea8341a3"
      },
      "source": [
        "' '.join(address_ls)"
      ],
      "execution_count": 14,
      "outputs": [
        {
          "output_type": "execute_result",
          "data": {
            "application/vnd.google.colaboratory.intrinsic+json": {
              "type": "string"
            },
            "text/plain": [
              "'서울시 서초구 반포대로 201(반포동)'"
            ]
          },
          "metadata": {
            "tags": []
          },
          "execution_count": 14
        }
      ]
    },
    {
      "cell_type": "code",
      "metadata": {
        "id": "eACjWyFDJn-e",
        "colab_type": "code",
        "colab": {
          "base_uri": "https://localhost:8080/",
          "height": 35
        },
        "outputId": "9dbfa222-710e-408d-8d01-6afcb32983c1"
      },
      "source": [
        "'*^_^*'.join(address_ls)"
      ],
      "execution_count": 15,
      "outputs": [
        {
          "output_type": "execute_result",
          "data": {
            "application/vnd.google.colaboratory.intrinsic+json": {
              "type": "string"
            },
            "text/plain": [
              "'서울시*^_^*서초구*^_^*반포대로*^_^*201(반포동)'"
            ]
          },
          "metadata": {
            "tags": []
          },
          "execution_count": 15
        }
      ]
    },
    {
      "cell_type": "markdown",
      "metadata": {
        "id": "ixIhdBBfJ499",
        "colab_type": "text"
      },
      "source": [
        "## 문자열 찾기"
      ]
    },
    {
      "cell_type": "code",
      "metadata": {
        "id": "ACdmGRn8JwAt",
        "colab_type": "code",
        "colab": {
          "base_uri": "https://localhost:8080/",
          "height": 122
        },
        "outputId": "e4451336-775c-4d86-ecaf-57cd88ee099e"
      },
      "source": [
        "str_f = 'Python code.'\n",
        "\n",
        "print('찾는 문자열의 위치:', str_f.find('Python'))\n",
        "print('찾는 문자열의 위치:', str_f.find('code'))\n",
        "print('찾는 문자열의 위치:', str_f.find('n'))\n",
        "print('찾는 문자열의 위치:', str_f.find('easy')) # 지정된 범위 내에서 해당 값을 찾지 못할 경우 -1을 출력\n",
        "\n",
        "print('찾는 문자열의 개수:', str_f.count('Python'))\n",
        "print('찾는 문자열의 개수:', str_f.count('code'))"
      ],
      "execution_count": 21,
      "outputs": [
        {
          "output_type": "stream",
          "text": [
            "찾는 문자열의 위치: 0\n",
            "찾는 문자열의 위치: 7\n",
            "찾는 문자열의 위치: 5\n",
            "찾는 문자열의 위치: -1\n",
            "찾는 문자열의 개수: 1\n",
            "찾는 문자열의 개수: 1\n"
          ],
          "name": "stdout"
        }
      ]
    },
    {
      "cell_type": "markdown",
      "metadata": {
        "id": "8OcyT9cBLhA0",
        "colab_type": "text"
      },
      "source": [
        "## 문자열 바꾸기"
      ]
    },
    {
      "cell_type": "code",
      "metadata": {
        "id": "_eX8sVoRKHYo",
        "colab_type": "code",
        "colab": {
          "base_uri": "https://localhost:8080/",
          "height": 52
        },
        "outputId": "e70d8acd-b2d4-4704-87dd-97495ed77787"
      },
      "source": [
        "str_a = 'Python is fast. Python is friendly. Python is open.'\n",
        "\n",
        "print(str_a.replace('Python', 'IPython'))\n",
        "print(str_a.replace('Python', 'IPython', 2)) # 앞에서 2개까지만 replace함수가 적용된다"
      ],
      "execution_count": 23,
      "outputs": [
        {
          "output_type": "stream",
          "text": [
            "IPython is fast. IPython is friendly. IPython is open.\n",
            "IPython is fast. IPython is friendly. Python is open.\n"
          ],
          "name": "stdout"
        }
      ]
    }
  ]
}