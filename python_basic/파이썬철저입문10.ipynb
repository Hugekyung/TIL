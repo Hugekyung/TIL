{
  "nbformat": 4,
  "nbformat_minor": 0,
  "metadata": {
    "colab": {
      "name": "파이썬철저입문10.ipynb",
      "provenance": [],
      "collapsed_sections": [],
      "authorship_tag": "ABX9TyP/OWnLUyDdHQvJd6j5mSW2",
      "include_colab_link": true
    },
    "kernelspec": {
      "name": "python3",
      "display_name": "Python 3"
    }
  },
  "cells": [
    {
      "cell_type": "markdown",
      "metadata": {
        "id": "view-in-github",
        "colab_type": "text"
      },
      "source": [
        "<a href=\"https://colab.research.google.com/github/Hugekyung/TIL/blob/master/python_basic/%ED%8C%8C%EC%9D%B4%EC%8D%AC%EC%B2%A0%EC%A0%80%EC%9E%85%EB%AC%B810.ipynb\" target=\"_parent\"><img src=\"https://colab.research.google.com/assets/colab-badge.svg\" alt=\"Open In Colab\"/></a>"
      ]
    },
    {
      "cell_type": "markdown",
      "metadata": {
        "id": "_x_BjMcxoHxV",
        "colab_type": "text"
      },
      "source": [
        "# NUMPY_2"
      ]
    },
    {
      "cell_type": "markdown",
      "metadata": {
        "id": "sQ7ijHW1oQbk",
        "colab_type": "text"
      },
      "source": [
        "## 배열의 데이터 타입 변환"
      ]
    },
    {
      "cell_type": "code",
      "metadata": {
        "id": "KWS-IVvDn5lq",
        "colab_type": "code",
        "colab": {}
      },
      "source": [
        "import numpy as np"
      ],
      "execution_count": 1,
      "outputs": []
    },
    {
      "cell_type": "code",
      "metadata": {
        "id": "_kyDpIU_oZxe",
        "colab_type": "code",
        "colab": {
          "base_uri": "https://localhost:8080/",
          "height": 35
        },
        "outputId": "8030769d-881d-43e2-a6ac-711d2997bd45"
      },
      "source": [
        "np.array(['1.5', '0.62', '2', '3.14', '3.141592'])"
      ],
      "execution_count": 2,
      "outputs": [
        {
          "output_type": "execute_result",
          "data": {
            "text/plain": [
              "array(['1.5', '0.62', '2', '3.14', '3.141592'], dtype='<U8')"
            ]
          },
          "metadata": {
            "tags": []
          },
          "execution_count": 2
        }
      ]
    },
    {
      "cell_type": "code",
      "metadata": {
        "id": "mieRy22FottY",
        "colab_type": "code",
        "colab": {
          "base_uri": "https://localhost:8080/",
          "height": 35
        },
        "outputId": "9398180d-d107-4473-c85f-7346548af509"
      },
      "source": [
        "str_a1 = np.array(['1.567', '0.123', '5.123', '9', '8']) # str타입\n",
        "num_a1 = str_a1.astype(float) #  str타입을 float타입 변환\n",
        "num_a1"
      ],
      "execution_count": 3,
      "outputs": [
        {
          "output_type": "execute_result",
          "data": {
            "text/plain": [
              "array([1.567, 0.123, 5.123, 9.   , 8.   ])"
            ]
          },
          "metadata": {
            "tags": []
          },
          "execution_count": 3
        }
      ]
    },
    {
      "cell_type": "code",
      "metadata": {
        "id": "hfB3u__2pDdm",
        "colab_type": "code",
        "colab": {
          "base_uri": "https://localhost:8080/",
          "height": 35
        },
        "outputId": "99e65e03-c2ea-4813-b076-1e42314eeca9"
      },
      "source": [
        "num_a1.dtype"
      ],
      "execution_count": 4,
      "outputs": [
        {
          "output_type": "execute_result",
          "data": {
            "text/plain": [
              "dtype('float64')"
            ]
          },
          "metadata": {
            "tags": []
          },
          "execution_count": 4
        }
      ]
    },
    {
      "cell_type": "code",
      "metadata": {
        "id": "Wqx0Evxlpeiw",
        "colab_type": "code",
        "colab": {
          "base_uri": "https://localhost:8080/",
          "height": 35
        },
        "outputId": "13ea61c3-6fe8-42ec-9b4c-2ca929deb0e5"
      },
      "source": [
        "str_a2 = np.array(['1', '3', '5', '7', '9'])\n",
        "num_a2 = str_a2.astype(int)\n",
        "num_a2"
      ],
      "execution_count": 5,
      "outputs": [
        {
          "output_type": "execute_result",
          "data": {
            "text/plain": [
              "array([1, 3, 5, 7, 9])"
            ]
          },
          "metadata": {
            "tags": []
          },
          "execution_count": 5
        }
      ]
    },
    {
      "cell_type": "code",
      "metadata": {
        "id": "yelDxoNXp4dM",
        "colab_type": "code",
        "colab": {
          "base_uri": "https://localhost:8080/",
          "height": 35
        },
        "outputId": "3714b4da-79ef-462e-a43d-a4dc47b08a8d"
      },
      "source": [
        "num_a2.dtype"
      ],
      "execution_count": 6,
      "outputs": [
        {
          "output_type": "execute_result",
          "data": {
            "text/plain": [
              "dtype('int64')"
            ]
          },
          "metadata": {
            "tags": []
          },
          "execution_count": 6
        }
      ]
    },
    {
      "cell_type": "markdown",
      "metadata": {
        "id": "Ha3mxitvqEG7",
        "colab_type": "text"
      },
      "source": [
        "## 난수 배열의 생성"
      ]
    },
    {
      "cell_type": "code",
      "metadata": {
        "id": "AtDaaHNgp8V1",
        "colab_type": "code",
        "colab": {
          "base_uri": "https://localhost:8080/",
          "height": 53
        },
        "outputId": "31d0b577-71d8-42be-b96b-b2a4dbe40c19"
      },
      "source": [
        "np.random.rand(2,3) # 0과 1사이의 실수로 난수 배열 생성"
      ],
      "execution_count": 7,
      "outputs": [
        {
          "output_type": "execute_result",
          "data": {
            "text/plain": [
              "array([[0.58044342, 0.55846377, 0.39334641],\n",
              "       [0.81968614, 0.29668988, 0.4288714 ]])"
            ]
          },
          "metadata": {
            "tags": []
          },
          "execution_count": 7
        }
      ]
    },
    {
      "cell_type": "code",
      "metadata": {
        "id": "8vMSdyeSqOeu",
        "colab_type": "code",
        "colab": {
          "base_uri": "https://localhost:8080/",
          "height": 35
        },
        "outputId": "c532d603-2316-4891-f17d-32694b3eddbc"
      },
      "source": [
        "np.random.rand()"
      ],
      "execution_count": 8,
      "outputs": [
        {
          "output_type": "execute_result",
          "data": {
            "text/plain": [
              "0.8012131082073275"
            ]
          },
          "metadata": {
            "tags": []
          },
          "execution_count": 8
        }
      ]
    },
    {
      "cell_type": "code",
      "metadata": {
        "id": "nxHXaDA5qQ54",
        "colab_type": "code",
        "colab": {
          "base_uri": "https://localhost:8080/",
          "height": 144
        },
        "outputId": "e706d5ae-70df-4ddc-c2a8-d04699f296a4"
      },
      "source": [
        "np.random.rand(2,3,4)"
      ],
      "execution_count": 9,
      "outputs": [
        {
          "output_type": "execute_result",
          "data": {
            "text/plain": [
              "array([[[0.85891674, 0.91109301, 0.16706771, 0.88234529],\n",
              "        [0.3793865 , 0.1349819 , 0.42296404, 0.58389001],\n",
              "        [0.26464704, 0.61851786, 0.46875073, 0.66974207]],\n",
              "\n",
              "       [[0.87207773, 0.08414641, 0.04312689, 0.8711474 ],\n",
              "        [0.21310928, 0.87266148, 0.27505016, 0.54420349],\n",
              "        [0.22075563, 0.61134353, 0.17379865, 0.00795591]]])"
            ]
          },
          "metadata": {
            "tags": []
          },
          "execution_count": 9
        }
      ]
    },
    {
      "cell_type": "code",
      "metadata": {
        "id": "32aL9F6HqaIR",
        "colab_type": "code",
        "colab": {
          "base_uri": "https://localhost:8080/",
          "height": 71
        },
        "outputId": "63780598-336e-49d7-bbf8-e2004659a643"
      },
      "source": [
        "np.random.randint(10, size=(3,4)) # 지정한 범위에 해당하는 정수로 난수 배열을 생성"
      ],
      "execution_count": 10,
      "outputs": [
        {
          "output_type": "execute_result",
          "data": {
            "text/plain": [
              "array([[4, 2, 5, 7],\n",
              "       [4, 1, 8, 5],\n",
              "       [2, 5, 7, 7]])"
            ]
          },
          "metadata": {
            "tags": []
          },
          "execution_count": 10
        }
      ]
    },
    {
      "cell_type": "code",
      "metadata": {
        "id": "4HmYKh_0qkTo",
        "colab_type": "code",
        "colab": {
          "base_uri": "https://localhost:8080/",
          "height": 35
        },
        "outputId": "0f7a6c12-112e-4625-c9fa-328d292867f8"
      },
      "source": [
        "np.random.randint(1,30)"
      ],
      "execution_count": 11,
      "outputs": [
        {
          "output_type": "execute_result",
          "data": {
            "text/plain": [
              "27"
            ]
          },
          "metadata": {
            "tags": []
          },
          "execution_count": 11
        }
      ]
    },
    {
      "cell_type": "markdown",
      "metadata": {
        "id": "il_w5wlZq4YN",
        "colab_type": "text"
      },
      "source": [
        "## 배열의 연산"
      ]
    },
    {
      "cell_type": "markdown",
      "metadata": {
        "id": "oS0bLsohq7SS",
        "colab_type": "text"
      },
      "source": [
        "### 기본 연산"
      ]
    },
    {
      "cell_type": "code",
      "metadata": {
        "id": "xqeo9XOSqwVu",
        "colab_type": "code",
        "colab": {}
      },
      "source": [
        "arr1 = np.array([10, 20, 30, 40])\n",
        "arr2 = np.array([1, 2, 3, 4])"
      ],
      "execution_count": 14,
      "outputs": []
    },
    {
      "cell_type": "code",
      "metadata": {
        "id": "houuX_XfrLdq",
        "colab_type": "code",
        "colab": {
          "base_uri": "https://localhost:8080/",
          "height": 35
        },
        "outputId": "71785e8a-742b-4d5f-9aa0-0570a726dfa3"
      },
      "source": [
        "arr1 + arr2"
      ],
      "execution_count": 15,
      "outputs": [
        {
          "output_type": "execute_result",
          "data": {
            "text/plain": [
              "array([11, 22, 33, 44])"
            ]
          },
          "metadata": {
            "tags": []
          },
          "execution_count": 15
        }
      ]
    },
    {
      "cell_type": "code",
      "metadata": {
        "id": "ixEMLuUarhFt",
        "colab_type": "code",
        "colab": {
          "base_uri": "https://localhost:8080/",
          "height": 35
        },
        "outputId": "d6abfb0e-bf13-4ea5-b079-1b4b2409e189"
      },
      "source": [
        "arr1 - arr2"
      ],
      "execution_count": 16,
      "outputs": [
        {
          "output_type": "execute_result",
          "data": {
            "text/plain": [
              "array([ 9, 18, 27, 36])"
            ]
          },
          "metadata": {
            "tags": []
          },
          "execution_count": 16
        }
      ]
    },
    {
      "cell_type": "code",
      "metadata": {
        "id": "COk4k7wwrjMA",
        "colab_type": "code",
        "colab": {
          "base_uri": "https://localhost:8080/",
          "height": 35
        },
        "outputId": "453a8ed6-14db-4e3d-d546-aef253e1b886"
      },
      "source": [
        "arr2*2"
      ],
      "execution_count": 17,
      "outputs": [
        {
          "output_type": "execute_result",
          "data": {
            "text/plain": [
              "array([2, 4, 6, 8])"
            ]
          },
          "metadata": {
            "tags": []
          },
          "execution_count": 17
        }
      ]
    },
    {
      "cell_type": "code",
      "metadata": {
        "id": "ebg0ntERrlZV",
        "colab_type": "code",
        "colab": {
          "base_uri": "https://localhost:8080/",
          "height": 35
        },
        "outputId": "124b53d8-48d9-4825-a417-5b02121666bf"
      },
      "source": [
        "arr2**2"
      ],
      "execution_count": 19,
      "outputs": [
        {
          "output_type": "execute_result",
          "data": {
            "text/plain": [
              "array([ 1,  4,  9, 16])"
            ]
          },
          "metadata": {
            "tags": []
          },
          "execution_count": 19
        }
      ]
    },
    {
      "cell_type": "code",
      "metadata": {
        "id": "2uXgg4xYrm8f",
        "colab_type": "code",
        "colab": {
          "base_uri": "https://localhost:8080/",
          "height": 35
        },
        "outputId": "09a07db5-f9db-45c0-fd52-d9b649970f17"
      },
      "source": [
        "arr1*arr2"
      ],
      "execution_count": 20,
      "outputs": [
        {
          "output_type": "execute_result",
          "data": {
            "text/plain": [
              "array([ 10,  40,  90, 160])"
            ]
          },
          "metadata": {
            "tags": []
          },
          "execution_count": 20
        }
      ]
    },
    {
      "cell_type": "code",
      "metadata": {
        "id": "RCvtPCiFrq4N",
        "colab_type": "code",
        "colab": {
          "base_uri": "https://localhost:8080/",
          "height": 35
        },
        "outputId": "fc0799fb-3628-48e6-e737-7e7d4da40ab2"
      },
      "source": [
        "arr1/arr2"
      ],
      "execution_count": 21,
      "outputs": [
        {
          "output_type": "execute_result",
          "data": {
            "text/plain": [
              "array([10., 10., 10., 10.])"
            ]
          },
          "metadata": {
            "tags": []
          },
          "execution_count": 21
        }
      ]
    },
    {
      "cell_type": "code",
      "metadata": {
        "id": "7R0EEnnqrx9P",
        "colab_type": "code",
        "colab": {
          "base_uri": "https://localhost:8080/",
          "height": 35
        },
        "outputId": "7e098119-c1a2-4788-c6a2-5d523b037903"
      },
      "source": [
        "arr1/(arr2**2)"
      ],
      "execution_count": 22,
      "outputs": [
        {
          "output_type": "execute_result",
          "data": {
            "text/plain": [
              "array([10.        ,  5.        ,  3.33333333,  2.5       ])"
            ]
          },
          "metadata": {
            "tags": []
          },
          "execution_count": 22
        }
      ]
    },
    {
      "cell_type": "code",
      "metadata": {
        "id": "eZqESobHr06q",
        "colab_type": "code",
        "colab": {
          "base_uri": "https://localhost:8080/",
          "height": 35
        },
        "outputId": "ac3fcdbc-9057-4756-f800-04e4361e491f"
      },
      "source": [
        "arr1>20 # 비교 연산을 통해 일치하면 True, 그렇지 않으면 False 반환"
      ],
      "execution_count": 23,
      "outputs": [
        {
          "output_type": "execute_result",
          "data": {
            "text/plain": [
              "array([False, False,  True,  True])"
            ]
          },
          "metadata": {
            "tags": []
          },
          "execution_count": 23
        }
      ]
    },
    {
      "cell_type": "markdown",
      "metadata": {
        "id": "fxI711HJr-a3",
        "colab_type": "text"
      },
      "source": [
        "### 통계를 위한 연산"
      ]
    },
    {
      "cell_type": "code",
      "metadata": {
        "id": "XDrdAvAIr2Oh",
        "colab_type": "code",
        "colab": {
          "base_uri": "https://localhost:8080/",
          "height": 35
        },
        "outputId": "33840e35-1b69-4efe-c385-d2ec4fedee02"
      },
      "source": [
        "arr3 = np.arange(5)\n",
        "arr3"
      ],
      "execution_count": 24,
      "outputs": [
        {
          "output_type": "execute_result",
          "data": {
            "text/plain": [
              "array([0, 1, 2, 3, 4])"
            ]
          },
          "metadata": {
            "tags": []
          },
          "execution_count": 24
        }
      ]
    },
    {
      "cell_type": "code",
      "metadata": {
        "id": "EuhoMUiosEb7",
        "colab_type": "code",
        "colab": {
          "base_uri": "https://localhost:8080/",
          "height": 35
        },
        "outputId": "7ff92e42-58bf-43cb-d7a6-7a57d118aa6b"
      },
      "source": [
        "arr3.sum(), arr3.mean()"
      ],
      "execution_count": 25,
      "outputs": [
        {
          "output_type": "execute_result",
          "data": {
            "text/plain": [
              "(10, 2.0)"
            ]
          },
          "metadata": {
            "tags": []
          },
          "execution_count": 25
        }
      ]
    },
    {
      "cell_type": "code",
      "metadata": {
        "id": "Xg7JR42zsL8n",
        "colab_type": "code",
        "colab": {
          "base_uri": "https://localhost:8080/",
          "height": 35
        },
        "outputId": "7ab7664b-c4ae-4989-9ae7-dcdeb0f61db4"
      },
      "source": [
        "arr3.std(), arr3.var() # 표준편차, 분산"
      ],
      "execution_count": 26,
      "outputs": [
        {
          "output_type": "execute_result",
          "data": {
            "text/plain": [
              "(1.4142135623730951, 2.0)"
            ]
          },
          "metadata": {
            "tags": []
          },
          "execution_count": 26
        }
      ]
    },
    {
      "cell_type": "code",
      "metadata": {
        "id": "MTFNgPXMsUBR",
        "colab_type": "code",
        "colab": {
          "base_uri": "https://localhost:8080/",
          "height": 35
        },
        "outputId": "09e3b23b-1b09-4986-a194-f72058914bf2"
      },
      "source": [
        "arr3.min(), arr3.max()"
      ],
      "execution_count": 28,
      "outputs": [
        {
          "output_type": "execute_result",
          "data": {
            "text/plain": [
              "(0, 4)"
            ]
          },
          "metadata": {
            "tags": []
          },
          "execution_count": 28
        }
      ]
    },
    {
      "cell_type": "code",
      "metadata": {
        "id": "X5p9rp99sZ0Y",
        "colab_type": "code",
        "colab": {
          "base_uri": "https://localhost:8080/",
          "height": 35
        },
        "outputId": "30b638a7-be37-49c5-c158-9bedb14c6a00"
      },
      "source": [
        "arr4 = np.arange(1,5)\n",
        "arr4"
      ],
      "execution_count": 29,
      "outputs": [
        {
          "output_type": "execute_result",
          "data": {
            "text/plain": [
              "array([1, 2, 3, 4])"
            ]
          },
          "metadata": {
            "tags": []
          },
          "execution_count": 29
        }
      ]
    },
    {
      "cell_type": "code",
      "metadata": {
        "id": "oiUVlIF3sjP6",
        "colab_type": "code",
        "colab": {
          "base_uri": "https://localhost:8080/",
          "height": 35
        },
        "outputId": "c7b3b34f-9a48-455c-afc7-ef3e5c08b703"
      },
      "source": [
        "arr4.cumsum() # 누적합"
      ],
      "execution_count": 31,
      "outputs": [
        {
          "output_type": "execute_result",
          "data": {
            "text/plain": [
              "array([ 1,  3,  6, 10])"
            ]
          },
          "metadata": {
            "tags": []
          },
          "execution_count": 31
        }
      ]
    },
    {
      "cell_type": "code",
      "metadata": {
        "id": "QB3IDo0xsnCu",
        "colab_type": "code",
        "colab": {
          "base_uri": "https://localhost:8080/",
          "height": 35
        },
        "outputId": "0475a510-e36e-4df6-b523-fe12218abff7"
      },
      "source": [
        "arr4.cumprod() # 누적 곱"
      ],
      "execution_count": 32,
      "outputs": [
        {
          "output_type": "execute_result",
          "data": {
            "text/plain": [
              "array([ 1,  2,  6, 24])"
            ]
          },
          "metadata": {
            "tags": []
          },
          "execution_count": 32
        }
      ]
    },
    {
      "cell_type": "markdown",
      "metadata": {
        "id": "ZU2mE_Lfs2aj",
        "colab_type": "text"
      },
      "source": [
        "### 행렬연산"
      ]
    },
    {
      "cell_type": "code",
      "metadata": {
        "id": "di_0KhXQszSu",
        "colab_type": "code",
        "colab": {
          "base_uri": "https://localhost:8080/",
          "height": 53
        },
        "outputId": "4ea89b12-2fcc-410e-a1d0-ee66bc9a5c81"
      },
      "source": [
        "a = np.array([0,1,2,3,]).reshape(2,2)\n",
        "a"
      ],
      "execution_count": 37,
      "outputs": [
        {
          "output_type": "execute_result",
          "data": {
            "text/plain": [
              "array([[0, 1],\n",
              "       [2, 3]])"
            ]
          },
          "metadata": {
            "tags": []
          },
          "execution_count": 37
        }
      ]
    },
    {
      "cell_type": "code",
      "metadata": {
        "id": "06g5QfpotCpo",
        "colab_type": "code",
        "colab": {
          "base_uri": "https://localhost:8080/",
          "height": 53
        },
        "outputId": "1deaee36-c2de-4d81-f3dc-de516cf964ca"
      },
      "source": [
        "b = np.array([3,2,0,1]).reshape(2,2)\n",
        "b"
      ],
      "execution_count": 38,
      "outputs": [
        {
          "output_type": "execute_result",
          "data": {
            "text/plain": [
              "array([[3, 2],\n",
              "       [0, 1]])"
            ]
          },
          "metadata": {
            "tags": []
          },
          "execution_count": 38
        }
      ]
    },
    {
      "cell_type": "code",
      "metadata": {
        "id": "brDP68ymtKe-",
        "colab_type": "code",
        "colab": {
          "base_uri": "https://localhost:8080/",
          "height": 53
        },
        "outputId": "d8a7c79f-b5de-4503-c018-dedc8a9a1cde"
      },
      "source": [
        "a.dot(b)"
      ],
      "execution_count": 36,
      "outputs": [
        {
          "output_type": "execute_result",
          "data": {
            "text/plain": [
              "array([[0, 1],\n",
              "       [6, 7]])"
            ]
          },
          "metadata": {
            "tags": []
          },
          "execution_count": 36
        }
      ]
    },
    {
      "cell_type": "code",
      "metadata": {
        "id": "QtDwFGpTtLxV",
        "colab_type": "code",
        "colab": {
          "base_uri": "https://localhost:8080/",
          "height": 53
        },
        "outputId": "8d5230af-8e86-427c-aec4-89f4c7381545"
      },
      "source": [
        "np.dot(a, b)"
      ],
      "execution_count": 39,
      "outputs": [
        {
          "output_type": "execute_result",
          "data": {
            "text/plain": [
              "array([[0, 1],\n",
              "       [6, 7]])"
            ]
          },
          "metadata": {
            "tags": []
          },
          "execution_count": 39
        }
      ]
    },
    {
      "cell_type": "code",
      "metadata": {
        "id": "Oya9OeobtTxF",
        "colab_type": "code",
        "colab": {
          "base_uri": "https://localhost:8080/",
          "height": 53
        },
        "outputId": "77618d91-9ce3-43f0-a5b5-a4fe9590b975"
      },
      "source": [
        "np.transpose(a)"
      ],
      "execution_count": 40,
      "outputs": [
        {
          "output_type": "execute_result",
          "data": {
            "text/plain": [
              "array([[0, 2],\n",
              "       [1, 3]])"
            ]
          },
          "metadata": {
            "tags": []
          },
          "execution_count": 40
        }
      ]
    },
    {
      "cell_type": "code",
      "metadata": {
        "id": "E7sZIT4YtZTg",
        "colab_type": "code",
        "colab": {
          "base_uri": "https://localhost:8080/",
          "height": 53
        },
        "outputId": "60b943dc-f90a-46f0-b818-7036de8d6705"
      },
      "source": [
        "a.T"
      ],
      "execution_count": 41,
      "outputs": [
        {
          "output_type": "execute_result",
          "data": {
            "text/plain": [
              "array([[0, 2],\n",
              "       [1, 3]])"
            ]
          },
          "metadata": {
            "tags": []
          },
          "execution_count": 41
        }
      ]
    },
    {
      "cell_type": "code",
      "metadata": {
        "id": "yWZOjwUYtbX7",
        "colab_type": "code",
        "colab": {
          "base_uri": "https://localhost:8080/",
          "height": 53
        },
        "outputId": "a68f15c0-c2a6-4e81-c8b3-b0118c6f31cf"
      },
      "source": [
        "np.linalg.inv(a) # 역행렬"
      ],
      "execution_count": 42,
      "outputs": [
        {
          "output_type": "execute_result",
          "data": {
            "text/plain": [
              "array([[-1.5,  0.5],\n",
              "       [ 1. ,  0. ]])"
            ]
          },
          "metadata": {
            "tags": []
          },
          "execution_count": 42
        }
      ]
    },
    {
      "cell_type": "code",
      "metadata": {
        "id": "xSNWhagatgic",
        "colab_type": "code",
        "colab": {
          "base_uri": "https://localhost:8080/",
          "height": 35
        },
        "outputId": "248002d0-cff5-44b5-f6d9-ef559990ca7d"
      },
      "source": [
        "np.linalg.det(a)"
      ],
      "execution_count": 43,
      "outputs": [
        {
          "output_type": "execute_result",
          "data": {
            "text/plain": [
              "-2.0"
            ]
          },
          "metadata": {
            "tags": []
          },
          "execution_count": 43
        }
      ]
    }
  ]
}