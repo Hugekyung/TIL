{
  "nbformat": 4,
  "nbformat_minor": 0,
  "metadata": {
    "colab": {
      "name": "파이썬철저입문3.ipynb",
      "provenance": [],
      "collapsed_sections": [],
      "authorship_tag": "ABX9TyO+1oRtHv9ZKGfAjBgscN9D",
      "include_colab_link": true
    },
    "kernelspec": {
      "name": "python3",
      "display_name": "Python 3"
    }
  },
  "cells": [
    {
      "cell_type": "markdown",
      "metadata": {
        "id": "view-in-github",
        "colab_type": "text"
      },
      "source": [
        "<a href=\"https://colab.research.google.com/github/Hugekyung/TIL/blob/master/python_basic/%ED%8C%8C%EC%9D%B4%EC%8D%AC%EC%B2%A0%EC%A0%80%EC%9E%85%EB%AC%B83.ipynb\" target=\"_parent\"><img src=\"https://colab.research.google.com/assets/colab-badge.svg\" alt=\"Open In Colab\"/></a>"
      ]
    },
    {
      "cell_type": "markdown",
      "metadata": {
        "id": "Ne6pjsU1jFKS",
        "colab_type": "text"
      },
      "source": [
        "# 파일에서 문자열 한 줄씩 쓰기&읽기\n"
      ]
    },
    {
      "cell_type": "code",
      "metadata": {
        "id": "SYA1miD8hoyi",
        "colab_type": "code",
        "colab": {}
      },
      "source": [
        "f = open('two_times_table.txt','w') # 파일을 쓰기모드로 열기\n",
        "for num in range(1,6):\n",
        "    format_string = \"2 x {0} = {1}\\n\".format(num,num*2)\n",
        "    f.write(format_string) # 파일에 문자열 저장\n",
        "f.close() # 파일 닫기"
      ],
      "execution_count": 3,
      "outputs": []
    },
    {
      "cell_type": "code",
      "metadata": {
        "id": "ZaQQ9wpkjuf7",
        "colab_type": "code",
        "colab": {
          "base_uri": "https://localhost:8080/",
          "height": 34
        },
        "outputId": "b772f99d-40bb-414b-e1a9-9df5838ac753"
      },
      "source": [
        "!type two_times_table.txt"
      ],
      "execution_count": 4,
      "outputs": [
        {
          "output_type": "stream",
          "text": [
            "/bin/bash: line 0: type: two_times_table.txt: not found\n"
          ],
          "name": "stdout"
        }
      ]
    },
    {
      "cell_type": "code",
      "metadata": {
        "id": "8kOiPU69j86-",
        "colab_type": "code",
        "colab": {
          "base_uri": "https://localhost:8080/",
          "height": 70
        },
        "outputId": "98fb07dd-47c4-4400-df05-dcdddbc7773b"
      },
      "source": [
        "f = open('two_times_table.txt')\n",
        "line1 = f.readline()\n",
        "line2 = f.readline()\n",
        "f.close()\n",
        "print(line1, end='')\n",
        "print(line2)"
      ],
      "execution_count": 9,
      "outputs": [
        {
          "output_type": "stream",
          "text": [
            "2 x 1 = 2\n",
            "2 x 2 = 4\n",
            "\n"
          ],
          "name": "stdout"
        }
      ]
    },
    {
      "cell_type": "code",
      "metadata": {
        "id": "jeWteAXxlWSn",
        "colab_type": "code",
        "colab": {
          "base_uri": "https://localhost:8080/",
          "height": 34
        },
        "outputId": "99308070-1f2b-40ed-d172-4d97bc273ae2"
      },
      "source": [
        "f = open('two_times_table.txt')\n",
        "lines = f.readlines() # 파일 전체의 모든 줄을 읽어서 한 줄 씩을 요소로 갖는 리스트 타입으로 반환\n",
        "f.close()\n",
        "print(lines)"
      ],
      "execution_count": 10,
      "outputs": [
        {
          "output_type": "stream",
          "text": [
            "['2 x 1 = 2\\n', '2 x 2 = 4\\n', '2 x 3 = 6\\n', '2 x 4 = 8\\n', '2 x 5 = 10\\n']\n"
          ],
          "name": "stdout"
        }
      ]
    },
    {
      "cell_type": "markdown",
      "metadata": {
        "id": "bxPV2qeznLRC",
        "colab_type": "text"
      },
      "source": [
        "# with문으로 파일 읽고 쓰기\n",
        "- 앞에서는 1. 파일 열기 2. 파일 읽고/쓰기 3. 파일 닫기 순이었다면  \n",
        "- with문은 수행이 끝난 후 자동으로 파일 닫으므로 close()를 수행하지 않아도 된다"
      ]
    },
    {
      "cell_type": "code",
      "metadata": {
        "id": "1bJKdlU9lwaL",
        "colab_type": "code",
        "colab": {}
      },
      "source": [
        "with open('mytextfile3.txt', 'w') as f :\n",
        "    for num in range(1,6) :\n",
        "        format_string = \"3 x {0} = {1}\\n\".format(num, 3*num) # 문자열 생성\n",
        "        f.write(format_string)"
      ],
      "execution_count": 14,
      "outputs": []
    },
    {
      "cell_type": "code",
      "metadata": {
        "id": "45oHRtF6n15_",
        "colab_type": "code",
        "colab": {
          "base_uri": "https://localhost:8080/",
          "height": 105
        },
        "outputId": "cc0ce06b-966f-4ffa-a0be-dd55de77d229"
      },
      "source": [
        "with open('mytextfile3.txt', 'r') as f : \n",
        "    for line in f :\n",
        "        print(line, end='')"
      ],
      "execution_count": 15,
      "outputs": [
        {
          "output_type": "stream",
          "text": [
            "3 x 1 = 3\n",
            "3 x 2 = 6\n",
            "3 x 3 = 9\n",
            "3 x 4 = 12\n",
            "3 x 5 = 15\n"
          ],
          "name": "stdout"
        }
      ]
    },
    {
      "cell_type": "markdown",
      "metadata": {
        "id": "zRHWGk37qQoj",
        "colab_type": "text"
      },
      "source": [
        "# 함수"
      ]
    },
    {
      "cell_type": "markdown",
      "metadata": {
        "id": "dQMi9WgVqzpb",
        "colab_type": "text"
      },
      "source": [
        "## 인자도 반환 값도 없는 함수"
      ]
    },
    {
      "cell_type": "code",
      "metadata": {
        "id": "F-z1qPw-pWEK",
        "colab_type": "code",
        "colab": {}
      },
      "source": [
        "def my_func() :\n",
        "    print(\"my first function!\")\n",
        "    print(\"this is a function\")"
      ],
      "execution_count": 16,
      "outputs": []
    },
    {
      "cell_type": "code",
      "metadata": {
        "id": "p5pAnL1mq9DZ",
        "colab_type": "code",
        "colab": {
          "base_uri": "https://localhost:8080/",
          "height": 52
        },
        "outputId": "7330d076-1572-4060-99e0-e685e861656c"
      },
      "source": [
        "my_func()"
      ],
      "execution_count": 17,
      "outputs": [
        {
          "output_type": "stream",
          "text": [
            "my first function!\n",
            "this is a function\n"
          ],
          "name": "stdout"
        }
      ]
    },
    {
      "cell_type": "markdown",
      "metadata": {
        "id": "3VHVW_YXsMfF",
        "colab_type": "text"
      },
      "source": [
        "## 인자는 있으나 반환 값이 없는 함수"
      ]
    },
    {
      "cell_type": "code",
      "metadata": {
        "id": "8LAdeyjXsKj2",
        "colab_type": "code",
        "colab": {}
      },
      "source": [
        "def my_friend(name) :\n",
        "    print(\"{}는 나의 친구입니다.\".format(name))"
      ],
      "execution_count": 18,
      "outputs": []
    },
    {
      "cell_type": "code",
      "metadata": {
        "id": "uHbH-6sLssbi",
        "colab_type": "code",
        "colab": {
          "base_uri": "https://localhost:8080/",
          "height": 52
        },
        "outputId": "a9e07841-1e74-48f9-fea0-143f534e085b"
      },
      "source": [
        "my_friend('철수')\n",
        "my_friend('영미')"
      ],
      "execution_count": 20,
      "outputs": [
        {
          "output_type": "stream",
          "text": [
            "철수는 나의 친구입니다.\n",
            "영미는 나의 친구입니다.\n"
          ],
          "name": "stdout"
        }
      ]
    },
    {
      "cell_type": "code",
      "metadata": {
        "id": "oJtgswLnsxRN",
        "colab_type": "code",
        "colab": {}
      },
      "source": [
        "def my_student_info(name, school_ID, phonenumber) :\n",
        "    print(\"------------------------\")\n",
        "    print(\"- 학생이름:\", name)\n",
        "    print(\"- 학급번호:\", school_ID)\n",
        "    print(\"- 전화번호:\", phonenumber)"
      ],
      "execution_count": 21,
      "outputs": []
    },
    {
      "cell_type": "code",
      "metadata": {
        "id": "llTKN2zctcXk",
        "colab_type": "code",
        "colab": {
          "base_uri": "https://localhost:8080/",
          "height": 158
        },
        "outputId": "2b50d0ab-9ca5-452f-950b-211a5cd4ebb3"
      },
      "source": [
        "my_student_info('철수', '01', '010-0000-0001')\n",
        "my_student_info('영미', '02', '010-0000-0002')"
      ],
      "execution_count": 23,
      "outputs": [
        {
          "output_type": "stream",
          "text": [
            "------------------------\n",
            "- 학생이름: 철수\n",
            "- 학급번호: 01\n",
            "- 전화번호: 010-0000-0001\n",
            "------------------------\n",
            "- 학생이름: 영미\n",
            "- 학급번호: 02\n",
            "- 전화번호: 010-0000-0002\n"
          ],
          "name": "stdout"
        }
      ]
    },
    {
      "cell_type": "markdown",
      "metadata": {
        "id": "BGAO9f9suh54",
        "colab_type": "text"
      },
      "source": [
        "## 인자도 있고 반환 값도 있는 함수"
      ]
    },
    {
      "cell_type": "code",
      "metadata": {
        "id": "5x_GSzNXtkUz",
        "colab_type": "code",
        "colab": {}
      },
      "source": [
        "def my_calc(x,y) :\n",
        "    z = x*y\n",
        "    return z"
      ],
      "execution_count": 24,
      "outputs": []
    },
    {
      "cell_type": "code",
      "metadata": {
        "id": "SAVtu0KPuxx1",
        "colab_type": "code",
        "colab": {
          "base_uri": "https://localhost:8080/",
          "height": 34
        },
        "outputId": "8c3edab4-ac65-440f-c13a-29440f26fead"
      },
      "source": [
        "my_calc(2,4)"
      ],
      "execution_count": 25,
      "outputs": [
        {
          "output_type": "execute_result",
          "data": {
            "text/plain": [
              "8"
            ]
          },
          "metadata": {
            "tags": []
          },
          "execution_count": 25
        }
      ]
    },
    {
      "cell_type": "code",
      "metadata": {
        "id": "5h8c76Pyu0du",
        "colab_type": "code",
        "colab": {}
      },
      "source": [
        "def my_student_info(student_ls) :\n",
        "    print(\"------------------------\")\n",
        "    print(\"- 학생이름:\", student_ls[0])\n",
        "    print(\"- 학급번호:\", student_ls[1])\n",
        "    print(\"- 전화번호:\", student_ls[2])"
      ],
      "execution_count": 26,
      "outputs": []
    },
    {
      "cell_type": "code",
      "metadata": {
        "id": "FZ0w3cCPvKdQ",
        "colab_type": "code",
        "colab": {
          "base_uri": "https://localhost:8080/",
          "height": 87
        },
        "outputId": "7eba3316-baf4-4395-dd01-d70cbb40cc49"
      },
      "source": [
        "student_ls = ['철수', '01', '010-9999-0000']\n",
        "my_student_info(student_ls) # 함수에 리스트를 인자로 넣기"
      ],
      "execution_count": 29,
      "outputs": [
        {
          "output_type": "stream",
          "text": [
            "------------------------\n",
            "- 학생이름: 철수\n",
            "- 학급번호: 01\n",
            "- 전화번호: 010-9999-0000\n"
          ],
          "name": "stdout"
        }
      ]
    },
    {
      "cell_type": "markdown",
      "metadata": {
        "id": "G9650g8kwpkF",
        "colab_type": "text"
      },
      "source": [
        "## 변수의 요휴 범위"
      ]
    },
    {
      "cell_type": "code",
      "metadata": {
        "id": "X8Te2hDYvc1J",
        "colab_type": "code",
        "colab": {}
      },
      "source": [
        "a = 5 # 전역변수\n",
        "    \n",
        "def func1():\n",
        "    a = 1 # 지역변수, func1에서만 사용\n",
        "    print('func1 지역변수 a = ', a)\n",
        "\n",
        "def func2():\n",
        "    a = 2 # 지역변수, func2에서만 사용\n",
        "    print('func1 지역변수 a = ', a)\n",
        "\n",
        "def func3():\n",
        "    print('func1 전역변수 a = ', a) # 전역변수 사용\n",
        "\n",
        "def func4():\n",
        "    global a # 함수 내에서 전역변수를 변경하기 위해 선언\n",
        "    a = 4 # 전역변수 값 변경\n",
        "    print('func1 지역변수 a = ', a)"
      ],
      "execution_count": 33,
      "outputs": []
    },
    {
      "cell_type": "code",
      "metadata": {
        "id": "sTVQvDu6xQfx",
        "colab_type": "code",
        "colab": {
          "base_uri": "https://localhost:8080/",
          "height": 87
        },
        "outputId": "9f110bcc-3759-470b-a88f-fba26c369f82"
      },
      "source": [
        "func1()\n",
        "func2()\n",
        "func3()\n",
        "func4()"
      ],
      "execution_count": 34,
      "outputs": [
        {
          "output_type": "stream",
          "text": [
            "func1 지역변수 a =  1\n",
            "func1 지역변수 a =  2\n",
            "func1 전역변수 a =  5\n",
            "func1 지역변수 a =  4\n"
          ],
          "name": "stdout"
        }
      ]
    }
  ]
}