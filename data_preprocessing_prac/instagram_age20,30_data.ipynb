{
 "cells": [
  {
   "cell_type": "code",
   "execution_count": 1,
   "metadata": {},
   "outputs": [],
   "source": [
    "import pandas as pd\n",
    "import numpy as np\n",
    "import re\n",
    "import emoji"
   ]
  },
  {
   "cell_type": "markdown",
   "metadata": {},
   "source": [
    "# 20대"
   ]
  },
  {
   "cell_type": "code",
   "execution_count": 4,
   "metadata": {},
   "outputs": [],
   "source": [
    "df_20 = pd.read_csv(r'C:\\Users\\haech\\Desktop\\2020국어경진대회\\20대-20200906T062757Z-001\\20대\\20dae.csv')\n",
    "df_gae = pd.read_csv(r'C:\\Users\\haech\\Desktop\\2020국어경진대회\\20대-20200906T062757Z-001\\20대\\개강.csv')\n",
    "df_u = pd.read_csv(r'C:\\Users\\haech\\Desktop\\2020국어경진대회\\20대-20200906T062757Z-001\\20대\\대학생.csv')\n",
    "df_stagram = pd.read_csv(r'C:\\Users\\haech\\Desktop\\2020국어경진대회\\20대-20200906T062757Z-001\\20대\\대학생공스타그램.csv')\n",
    "df_hak= pd.read_csv(r'C:\\Users\\haech\\Desktop\\2020국어경진대회\\20대-20200906T062757Z-001\\20대\\학사모.csv')"
   ]
  },
  {
   "cell_type": "code",
   "execution_count": 5,
   "metadata": {},
   "outputs": [],
   "source": [
    "df_20.rename(columns = {\"13325420421\": \"inner_id\"}, inplace = True)\n",
    "df_gae.rename(columns = {\"2070932064\": \"inner_id\"}, inplace = True)\n",
    "df_u.rename(columns = {\"39930893113\": \"inner_id\"}, inplace = True)\n",
    "df_stagram.rename(columns = {\"8464766470\": \"inner_id\"}, inplace = True)\n",
    "df_hak.rename(columns = {\"3864251862\": \"inner_id\"}, inplace = True)"
   ]
  },
  {
   "cell_type": "code",
   "execution_count": 6,
   "metadata": {},
   "outputs": [],
   "source": [
    "df_20 = df_20.append([df_gae, df_u, df_stagram, df_hak])"
   ]
  },
  {
   "cell_type": "code",
   "execution_count": 7,
   "metadata": {},
   "outputs": [
    {
     "data": {
      "text/plain": [
       "5244"
      ]
     },
     "execution_count": 7,
     "metadata": {},
     "output_type": "execute_result"
    }
   ],
   "source": [
    "df_20_ls = list(map(str, np.unique(df_20)))\n",
    "len(df_20_ls)"
   ]
  },
  {
   "cell_type": "code",
   "execution_count": 8,
   "metadata": {},
   "outputs": [],
   "source": [
    "df_20_sam = df_20.sample(4500)"
   ]
  },
  {
   "cell_type": "code",
   "execution_count": 9,
   "metadata": {},
   "outputs": [
    {
     "data": {
      "text/html": [
       "<div>\n",
       "<style scoped>\n",
       "    .dataframe tbody tr th:only-of-type {\n",
       "        vertical-align: middle;\n",
       "    }\n",
       "\n",
       "    .dataframe tbody tr th {\n",
       "        vertical-align: top;\n",
       "    }\n",
       "\n",
       "    .dataframe thead th {\n",
       "        text-align: right;\n",
       "    }\n",
       "</style>\n",
       "<table border=\"1\" class=\"dataframe\">\n",
       "  <thead>\n",
       "    <tr style=\"text-align: right;\">\n",
       "      <th></th>\n",
       "      <th>inner_id</th>\n",
       "    </tr>\n",
       "  </thead>\n",
       "  <tbody>\n",
       "    <tr>\n",
       "      <th>239</th>\n",
       "      <td>13922524405</td>\n",
       "    </tr>\n",
       "    <tr>\n",
       "      <th>131</th>\n",
       "      <td>3186899928</td>\n",
       "    </tr>\n",
       "    <tr>\n",
       "      <th>163</th>\n",
       "      <td>32048590864</td>\n",
       "    </tr>\n",
       "    <tr>\n",
       "      <th>131</th>\n",
       "      <td>2226549778</td>\n",
       "    </tr>\n",
       "    <tr>\n",
       "      <th>521</th>\n",
       "      <td>40695105247</td>\n",
       "    </tr>\n",
       "    <tr>\n",
       "      <th>...</th>\n",
       "      <td>...</td>\n",
       "    </tr>\n",
       "    <tr>\n",
       "      <th>752</th>\n",
       "      <td>8571769459</td>\n",
       "    </tr>\n",
       "    <tr>\n",
       "      <th>125</th>\n",
       "      <td>29200930739</td>\n",
       "    </tr>\n",
       "    <tr>\n",
       "      <th>165</th>\n",
       "      <td>6854643731</td>\n",
       "    </tr>\n",
       "    <tr>\n",
       "      <th>1046</th>\n",
       "      <td>5525798403</td>\n",
       "    </tr>\n",
       "    <tr>\n",
       "      <th>693</th>\n",
       "      <td>3274198367</td>\n",
       "    </tr>\n",
       "  </tbody>\n",
       "</table>\n",
       "<p>4500 rows × 1 columns</p>\n",
       "</div>"
      ],
      "text/plain": [
       "         inner_id\n",
       "239   13922524405\n",
       "131    3186899928\n",
       "163   32048590864\n",
       "131    2226549778\n",
       "521   40695105247\n",
       "...           ...\n",
       "752    8571769459\n",
       "125   29200930739\n",
       "165    6854643731\n",
       "1046   5525798403\n",
       "693    3274198367\n",
       "\n",
       "[4500 rows x 1 columns]"
      ]
     },
     "execution_count": 9,
     "metadata": {},
     "output_type": "execute_result"
    }
   ],
   "source": [
    "df_20_sam"
   ]
  },
  {
   "cell_type": "code",
   "execution_count": 43,
   "metadata": {},
   "outputs": [],
   "source": [
    "# df_20_sam.to_csv('20dae_4500id.csv')"
   ]
  },
  {
   "cell_type": "markdown",
   "metadata": {},
   "source": [
    "# 30대"
   ]
  },
  {
   "cell_type": "code",
   "execution_count": 10,
   "metadata": {},
   "outputs": [],
   "source": [
    "df_30 = pd.read_csv(r'C:\\Users\\haech\\Desktop\\2020국어경진대회\\30대-20200906T121255Z-001\\30대\\30대.csv')\n",
    "df_egg = pd.read_csv(r'C:\\Users\\haech\\Desktop\\2020국어경진대회\\30대-20200906T121255Z-001\\30대\\계란한판.csv')\n",
    "df_tirty = pd.read_csv(r'C:\\Users\\haech\\Desktop\\2020국어경진대회\\30대-20200906T121255Z-001\\30대\\서른.csv')\n",
    "df_2010 = pd.read_csv(r'C:\\Users\\haech\\Desktop\\2020국어경진대회\\30대-20200906T121255Z-001\\30대\\스물열살.csv')"
   ]
  },
  {
   "cell_type": "code",
   "execution_count": 11,
   "metadata": {},
   "outputs": [],
   "source": [
    "df_30.rename(columns = {\"3979687336\": \"inner_id\"}, inplace = True)\n",
    "df_egg.rename(columns = {\"2293285577\": \"inner_id\"}, inplace = True)\n",
    "df_tirty.rename(columns = {\"590247026\": \"inner_id\"}, inplace = True)\n",
    "df_2010.rename(columns = {\"859198646\": \"inner_id\"}, inplace = True)"
   ]
  },
  {
   "cell_type": "code",
   "execution_count": 12,
   "metadata": {},
   "outputs": [],
   "source": [
    "df_30 = df_30.append([df_egg, df_tirty, df_2010])"
   ]
  },
  {
   "cell_type": "code",
   "execution_count": 13,
   "metadata": {},
   "outputs": [
    {
     "data": {
      "text/plain": [
       "8114"
      ]
     },
     "execution_count": 13,
     "metadata": {},
     "output_type": "execute_result"
    }
   ],
   "source": [
    "df_30_ls = list(map(str, np.unique(df_30)))\n",
    "len(df_30_ls)"
   ]
  },
  {
   "cell_type": "code",
   "execution_count": 14,
   "metadata": {},
   "outputs": [],
   "source": [
    "df_30_sam = df_30.sample(4500)"
   ]
  },
  {
   "cell_type": "code",
   "execution_count": 15,
   "metadata": {},
   "outputs": [
    {
     "data": {
      "text/html": [
       "<div>\n",
       "<style scoped>\n",
       "    .dataframe tbody tr th:only-of-type {\n",
       "        vertical-align: middle;\n",
       "    }\n",
       "\n",
       "    .dataframe tbody tr th {\n",
       "        vertical-align: top;\n",
       "    }\n",
       "\n",
       "    .dataframe thead th {\n",
       "        text-align: right;\n",
       "    }\n",
       "</style>\n",
       "<table border=\"1\" class=\"dataframe\">\n",
       "  <thead>\n",
       "    <tr style=\"text-align: right;\">\n",
       "      <th></th>\n",
       "      <th>inner_id</th>\n",
       "    </tr>\n",
       "  </thead>\n",
       "  <tbody>\n",
       "    <tr>\n",
       "      <th>6220</th>\n",
       "      <td>630205849</td>\n",
       "    </tr>\n",
       "    <tr>\n",
       "      <th>5326</th>\n",
       "      <td>3280514984</td>\n",
       "    </tr>\n",
       "    <tr>\n",
       "      <th>295</th>\n",
       "      <td>30744972438</td>\n",
       "    </tr>\n",
       "    <tr>\n",
       "      <th>434</th>\n",
       "      <td>34730950892</td>\n",
       "    </tr>\n",
       "    <tr>\n",
       "      <th>354</th>\n",
       "      <td>1118607487</td>\n",
       "    </tr>\n",
       "    <tr>\n",
       "      <th>...</th>\n",
       "      <td>...</td>\n",
       "    </tr>\n",
       "    <tr>\n",
       "      <th>4878</th>\n",
       "      <td>429160639</td>\n",
       "    </tr>\n",
       "    <tr>\n",
       "      <th>960</th>\n",
       "      <td>2256264830</td>\n",
       "    </tr>\n",
       "    <tr>\n",
       "      <th>4580</th>\n",
       "      <td>21678277840</td>\n",
       "    </tr>\n",
       "    <tr>\n",
       "      <th>2510</th>\n",
       "      <td>1379847864</td>\n",
       "    </tr>\n",
       "    <tr>\n",
       "      <th>1144</th>\n",
       "      <td>2269855260</td>\n",
       "    </tr>\n",
       "  </tbody>\n",
       "</table>\n",
       "<p>4500 rows × 1 columns</p>\n",
       "</div>"
      ],
      "text/plain": [
       "         inner_id\n",
       "6220    630205849\n",
       "5326   3280514984\n",
       "295   30744972438\n",
       "434   34730950892\n",
       "354    1118607487\n",
       "...           ...\n",
       "4878    429160639\n",
       "960    2256264830\n",
       "4580  21678277840\n",
       "2510   1379847864\n",
       "1144   2269855260\n",
       "\n",
       "[4500 rows x 1 columns]"
      ]
     },
     "execution_count": 15,
     "metadata": {},
     "output_type": "execute_result"
    }
   ],
   "source": [
    "df_30_sam"
   ]
  },
  {
   "cell_type": "code",
   "execution_count": 50,
   "metadata": {},
   "outputs": [],
   "source": [
    "# df_30_sam.to_csv('30dae_4500id.csv')"
   ]
  },
  {
   "cell_type": "markdown",
   "metadata": {},
   "source": [
    "# 20,30 data handle\n",
    "- content에서 한글만 남기기\n",
    "- 한글 텍스트 띄어쓰기 교정하기(spacing모델 활용)\n",
    "- 이모지는 따로 뺴서 컬럼 만들기"
   ]
  },
  {
   "cell_type": "code",
   "execution_count": 16,
   "metadata": {},
   "outputs": [],
   "source": [
    "df_20dae = pd.read_csv(r'C:\\Users\\haech\\my_workspace\\prac_scrapy\\20dae_4500id_post.csv')\n",
    "df_30dae = pd.read_csv(r'C:\\Users\\haech\\my_workspace\\prac_scrapy\\30dae_4500id_post.csv')"
   ]
  },
  {
   "cell_type": "code",
   "execution_count": 19,
   "metadata": {
    "scrolled": true
   },
   "outputs": [
    {
     "data": {
      "text/html": [
       "<div>\n",
       "<style scoped>\n",
       "    .dataframe tbody tr th:only-of-type {\n",
       "        vertical-align: middle;\n",
       "    }\n",
       "\n",
       "    .dataframe tbody tr th {\n",
       "        vertical-align: top;\n",
       "    }\n",
       "\n",
       "    .dataframe thead th {\n",
       "        text-align: right;\n",
       "    }\n",
       "</style>\n",
       "<table border=\"1\" class=\"dataframe\">\n",
       "  <thead>\n",
       "    <tr style=\"text-align: right;\">\n",
       "      <th></th>\n",
       "      <th>insta_id</th>\n",
       "      <th>inner_id</th>\n",
       "      <th>url</th>\n",
       "      <th>content</th>\n",
       "      <th>hashtag</th>\n",
       "      <th>region_tag</th>\n",
       "    </tr>\n",
       "  </thead>\n",
       "  <tbody>\n",
       "    <tr>\n",
       "      <th>19802</th>\n",
       "      <td>9em1nlstella</td>\n",
       "      <td>1835704104</td>\n",
       "      <td>https://www.instagram.com/p/CD3H_kRnIrb/</td>\n",
       "      <td>언니가 그려준 그림.....</td>\n",
       "      <td>#일상 #소통 #선팔 #맞팔 #언팔싫어요 #좋아요 #좋아요꾹 #청주 #선팔하면맞팔 ...</td>\n",
       "      <td>NaN</td>\n",
       "    </tr>\n",
       "    <tr>\n",
       "      <th>16095</th>\n",
       "      <td>seong.__.hwan</td>\n",
       "      <td>1627582945</td>\n",
       "      <td>https://www.instagram.com/p/B8v81VWn0nw/</td>\n",
       "      <td>....</td>\n",
       "      <td>#왕십리 #우에노421 #카페 #카페사진찍기 #맛들림😎 #수플레맛집 #드라이브🚗</td>\n",
       "      <td>우에노</td>\n",
       "    </tr>\n",
       "    <tr>\n",
       "      <th>24081</th>\n",
       "      <td>yuhasuha</td>\n",
       "      <td>2126807154</td>\n",
       "      <td>https://www.instagram.com/p/CDpzVriFJ57/</td>\n",
       "      <td>#둘이좋아하는원피스😎</td>\n",
       "      <td>#제주도</td>\n",
       "      <td>NaN</td>\n",
       "    </tr>\n",
       "    <tr>\n",
       "      <th>54888</th>\n",
       "      <td>sunshine__eng</td>\n",
       "      <td>8652840189</td>\n",
       "      <td>https://www.instagram.com/p/CD_U_exjli4/</td>\n",
       "      <td>긴 연휴중에 그래도 추억만들고싶은 마음에 달려간 강화도가는데만 2시간45분...ㅋㅋ...</td>\n",
       "      <td>#강화도루지 타기</td>\n",
       "      <td>씨사이드리조트 루지 탑승장</td>\n",
       "    </tr>\n",
       "    <tr>\n",
       "      <th>68566</th>\n",
       "      <td>pharm_study20</td>\n",
       "      <td>26092006770</td>\n",
       "      <td>https://www.instagram.com/p/CDy8c49BKLb/</td>\n",
       "      <td>수강신청은 정말 힘든 일입니다...기가 쭉쭉 빨리고 시간도 뺏기고 하루종일 조마조마...</td>\n",
       "      <td>#대학생#대1#01년생#스무살#20학번#공스타그램#공스타#대학생공스타#대학생공스타그...</td>\n",
       "      <td>NaN</td>\n",
       "    </tr>\n",
       "    <tr>\n",
       "      <th>32404</th>\n",
       "      <td>luvvvv__sh</td>\n",
       "      <td>3286269960</td>\n",
       "      <td>https://www.instagram.com/p/CD-OLLhl3FF/</td>\n",
       "      <td>👒갇힘안개가 많아 섬에서 못나가는중씻ᄌ...</td>\n",
       "      <td>#세연정</td>\n",
       "      <td>보길도</td>\n",
       "    </tr>\n",
       "  </tbody>\n",
       "</table>\n",
       "</div>"
      ],
      "text/plain": [
       "            insta_id     inner_id                                       url  \\\n",
       "19802   9em1nlstella   1835704104  https://www.instagram.com/p/CD3H_kRnIrb/   \n",
       "16095  seong.__.hwan   1627582945  https://www.instagram.com/p/B8v81VWn0nw/   \n",
       "24081       yuhasuha   2126807154  https://www.instagram.com/p/CDpzVriFJ57/   \n",
       "54888  sunshine__eng   8652840189  https://www.instagram.com/p/CD_U_exjli4/   \n",
       "68566  pharm_study20  26092006770  https://www.instagram.com/p/CDy8c49BKLb/   \n",
       "32404     luvvvv__sh   3286269960  https://www.instagram.com/p/CD-OLLhl3FF/   \n",
       "\n",
       "                                                 content  \\\n",
       "19802                                    언니가 그려준 그림.....   \n",
       "16095                                               ....   \n",
       "24081                                        #둘이좋아하는원피스😎   \n",
       "54888  긴 연휴중에 그래도 추억만들고싶은 마음에 달려간 강화도가는데만 2시간45분...ㅋㅋ...   \n",
       "68566  수강신청은 정말 힘든 일입니다...기가 쭉쭉 빨리고 시간도 뺏기고 하루종일 조마조마...   \n",
       "32404  👒갇힘안개가 많아 섬에서 못나가는중씻ᄌ...   \n",
       "\n",
       "                                                 hashtag      region_tag  \n",
       "19802  #일상 #소통 #선팔 #맞팔 #언팔싫어요 #좋아요 #좋아요꾹 #청주 #선팔하면맞팔 ...             NaN  \n",
       "16095       #왕십리 #우에노421 #카페 #카페사진찍기 #맛들림😎 #수플레맛집 #드라이브🚗             우에노  \n",
       "24081                                               #제주도             NaN  \n",
       "54888                                          #강화도루지 타기  씨사이드리조트 루지 탑승장  \n",
       "68566  #대학생#대1#01년생#스무살#20학번#공스타그램#공스타#대학생공스타#대학생공스타그...             NaN  \n",
       "32404                                          #세연정             보길도  "
      ]
     },
     "execution_count": 19,
     "metadata": {},
     "output_type": "execute_result"
    }
   ],
   "source": [
    "df_20dae.sample(6)"
   ]
  },
  {
   "cell_type": "code",
   "execution_count": 20,
   "metadata": {},
   "outputs": [],
   "source": [
    "df_20dae.drop('region_tag', axis=1, inplace=True)\n",
    "df_30dae.drop('region_tag', axis=1, inplace=True)"
   ]
  },
  {
   "cell_type": "code",
   "execution_count": 21,
   "metadata": {},
   "outputs": [],
   "source": [
    "# 한글이 아닌 텍스트 제거하기\n",
    "\n",
    "def del_foreign(df):\n",
    "    id_lst = list(set(df['insta_id']))\n",
    "    for user_id in id_lst:\n",
    "        count = 0\n",
    "        for y in list(df[df['insta_id']==user_id]['content']):\n",
    "            if type(y) != str:\n",
    "                pass\n",
    "            elif re.search('[가-힣]', y):\n",
    "                count += 1\n",
    "        if count == 0:\n",
    "            idx = df[df['insta_id']==user_id].index\n",
    "            df.drop(idx, inplace=True)\n",
    "    return df"
   ]
  },
  {
   "cell_type": "code",
   "execution_count": 22,
   "metadata": {},
   "outputs": [],
   "source": [
    "df_20dae = del_foreign(df_20dae)\n",
    "df_30dae = del_foreign(df_30dae)"
   ]
  },
  {
   "cell_type": "code",
   "execution_count": 23,
   "metadata": {},
   "outputs": [],
   "source": [
    "text = list(df_20dae['content'])\n",
    "hashtag = list(df_20dae['hashtag'])"
   ]
  },
  {
   "cell_type": "markdown",
   "metadata": {},
   "source": [
    "# 이모지 추출하기(content와 hashtag모두에서 빼낸 것)"
   ]
  },
  {
   "cell_type": "code",
   "execution_count": 24,
   "metadata": {},
   "outputs": [],
   "source": [
    "def extract_emojis(str):\n",
    "     return [c for c in str if c in emoji.UNICODE_EMOJI]"
   ]
  },
  {
   "cell_type": "code",
   "execution_count": 25,
   "metadata": {},
   "outputs": [],
   "source": [
    "emojis_ls = []\n",
    "\n",
    "for i, v in enumerate(text):\n",
    "    try:\n",
    "        emojis = extract_emojis(v)\n",
    "        for e in emojis:\n",
    "            emojis_ls.append(e)\n",
    "    except:\n",
    "        pass\n",
    "    \n",
    "    \n",
    "for i, v in enumerate(hashtag):\n",
    "    try:\n",
    "        emojis = extract_emojis(v)\n",
    "        for e in emojis:\n",
    "            emojis_ls.append(e)\n",
    "    except:\n",
    "        pass"
   ]
  },
  {
   "cell_type": "code",
   "execution_count": 26,
   "metadata": {},
   "outputs": [
    {
     "data": {
      "text/plain": [
       "129781"
      ]
     },
     "execution_count": 26,
     "metadata": {},
     "output_type": "execute_result"
    }
   ],
   "source": [
    "len(emojis_ls)"
   ]
  },
  {
   "cell_type": "markdown",
   "metadata": {},
   "source": [
    "# 본문 text추출하기(text에서 이모지 제거)"
   ]
  },
  {
   "cell_type": "code",
   "execution_count": 27,
   "metadata": {},
   "outputs": [],
   "source": [
    "# 텍스트에서 이모지 제거하기\n",
    "# -*- coding: utf-8 -*-\n",
    "\n",
    "def extract_text(text):\n",
    "    hangul = re.compile('[^ ㄱ-ㅣ가-힣\\s]') # 한글과 띄어쓰기를 제외한 모든 글자\n",
    "    result = hangul.sub(r'', text) # 한글과 띄어쓰기를 제외한 모든 부분을 제거\n",
    "    return result"
   ]
  },
  {
   "cell_type": "code",
   "execution_count": 28,
   "metadata": {},
   "outputs": [],
   "source": [
    "content_ls = []\n",
    "for i, v in enumerate(text):\n",
    "    try:\n",
    "        content_ls.append(extract_text(v))\n",
    "    except:\n",
    "        pass"
   ]
  },
  {
   "cell_type": "code",
   "execution_count": 29,
   "metadata": {},
   "outputs": [],
   "source": [
    "content_ls = [v for v in content_ls if v]"
   ]
  },
  {
   "cell_type": "code",
   "execution_count": 31,
   "metadata": {},
   "outputs": [
    {
     "data": {
      "text/plain": [
       "['다시 어지르는거보니   ',\n",
       " '오늘 티맵이 나에게 한 몹쓸짓너무 한 년만에 가는 데라 입구가 헷갈려서 티맵키고 가는데 날 쭈꾸미집 가는 큰길로 가라하길래 굴다리로 가게 하려나바 했더니 유턴해서 원위치시키질 않나 미쳐가지고 다시 수지방향으로 가라고 나오고 ',\n",
       " '갑자기 또 이런 불쌍한 관종력 가득한 포즈 그래도 스릉흔드   ',\n",
       " '오늘 빌리 아직  은 못봤는데 상태는 정도 돌아온듯 내일은 가즈아       ',\n",
       " '어제 빌리 진심 저녁때까지 첫번째사진처럼 쳐져있다가 페이버릿 여사친 만나고 넘나 업되서 원기회복 완성 와중 갑툭튀 뜬금포 퓌퓌의 급고백 빌리야 사랑해                     ',\n",
       " '                 ',\n",
       " '드뎌 월 하늘 시작인가 태풍 또 온다메나오는데 어딘가로 숨어버린 빌리 걱정하면서 사진찍냐 나님은 ',\n",
       " '     ㄸㄲ             ㄸㄲ  개꼼 먹는다길래 이닦고 줬더니 그게 또 안좋나봄 ㅠ                   ',\n",
       " '저녁 잘먹고 잠깐 분 놀더니 지쳐서 뻗으심 도련님위해 최고급황태 갈아 계란과 푹 끓였 엄마 밥도 못해먹고있능데 엄마 맴 알아줠       ',\n",
       " '오늘 빌리 학생들오면 원래 엄청 미쳐날뛰는데 아는척 도 안하고 만지지말라고 이빨까지 보임 똥꼬 계속 열려서  지가 빨아없애고 있고 ㅠㅠ 시간전부터 약빨 드뎌 받는지 똥꼬 말라감 아효 빌리 에 울고 웃고 또 세탁기는 돌아가고                   ']"
      ]
     },
     "execution_count": 31,
     "metadata": {},
     "output_type": "execute_result"
    }
   ],
   "source": [
    "content_ls[:10]"
   ]
  },
  {
   "cell_type": "markdown",
   "metadata": {},
   "source": [
    "# 해시태그 리스트"
   ]
  },
  {
   "cell_type": "code",
   "execution_count": 32,
   "metadata": {},
   "outputs": [],
   "source": [
    "# 해시태그에서 이모지 제거하기\n",
    "# -*- coding: utf-8 -*-\n",
    "\n",
    "def extract_text(text):\n",
    "    hangul = re.compile('[^ ㄱ-ㅣ가-힣!\\.?#]') # 한글과 띄어쓰기를 제외한 모든 글자\n",
    "    result = hangul.sub(r'', text) # 한글과 띄어쓰기를 제외한 모든 부분을 제거\n",
    "    return result"
   ]
  },
  {
   "cell_type": "code",
   "execution_count": 33,
   "metadata": {},
   "outputs": [],
   "source": [
    "hashtag_ls = []\n",
    "for i, v in enumerate(hashtag):\n",
    "    try:\n",
    "        tag = extract_text(v)\n",
    "        tag = re.sub('# ', '', tag) # 내용없이 #만 있는 것 제거\n",
    "        tag = re.sub(' ', '', tag)\n",
    "        hashtag_ls.append(tag)\n",
    "    except:\n",
    "        pass"
   ]
  },
  {
   "cell_type": "code",
   "execution_count": 41,
   "metadata": {},
   "outputs": [
    {
     "data": {
      "text/plain": [
       "['#흰여울문화마을#부산#선팔맞팔#데일리#일상',\n",
       " '#머스탱#선팔맞팔#좋반#데일리#일상',\n",
       " '#제주도#여름휴가#선팔맞팔#데일리#일상#노는게젤조아',\n",
       " '#첫번째일기',\n",
       " '#책추천북한아이들과문화에대해다시생각해볼수있는책이에요!글도쉽게읽혀서흥미롭게읽을수있었답니다']"
      ]
     },
     "execution_count": 41,
     "metadata": {},
     "output_type": "execute_result"
    }
   ],
   "source": [
    "hashtag_ls[-5:]"
   ]
  }
 ],
 "metadata": {
  "kernelspec": {
   "display_name": "Python 3",
   "language": "python",
   "name": "python3"
  },
  "language_info": {
   "codemirror_mode": {
    "name": "ipython",
    "version": 3
   },
   "file_extension": ".py",
   "mimetype": "text/x-python",
   "name": "python",
   "nbconvert_exporter": "python",
   "pygments_lexer": "ipython3",
   "version": "3.7.6"
  }
 },
 "nbformat": 4,
 "nbformat_minor": 4
}
