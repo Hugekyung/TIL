{
 "cells": [
  {
   "cell_type": "code",
   "execution_count": 55,
   "metadata": {},
   "outputs": [],
   "source": [
    "import pandas as pd\n",
    "import json"
   ]
  },
  {
   "cell_type": "code",
   "execution_count": 36,
   "metadata": {
    "scrolled": true
   },
   "outputs": [],
   "source": [
    "df = pd.read_csv(r'C:\\Users\\haech\\Desktop\\STT_project\\ksponspeech_train.csv', engine='python', header=None)"
   ]
  },
  {
   "cell_type": "code",
   "execution_count": 38,
   "metadata": {
    "scrolled": true
   },
   "outputs": [],
   "source": [
    "df = df.drop(df.columns[[2, 3]], axis='columns')"
   ]
  },
  {
   "cell_type": "code",
   "execution_count": 39,
   "metadata": {},
   "outputs": [],
   "source": [
    "df.columns = ['wav', 'text']"
   ]
  },
  {
   "cell_type": "code",
   "execution_count": 41,
   "metadata": {},
   "outputs": [],
   "source": [
    "import re\n",
    "\n",
    "def bracket_filter(sentence, mode='numeric_phonetic_others_spelling'):\n",
    "    new_sentence = str()\n",
    "\n",
    "    if mode == 'phonetic':\n",
    "        flag = False\n",
    "\n",
    "        for ch in sentence:\n",
    "            if ch == '(' and flag is False:\n",
    "                flag = True\n",
    "                continue\n",
    "            if ch == '(' and flag is True:\n",
    "                flag = False\n",
    "                continue\n",
    "            if ch != ')' and flag is False:\n",
    "                new_sentence += ch\n",
    "\n",
    "    elif mode == 'spelling':\n",
    "        flag = True\n",
    "\n",
    "        for ch in sentence:\n",
    "            if ch == '(':\n",
    "                continue\n",
    "            if ch == ')':\n",
    "                if flag is True:\n",
    "                    flag = False\n",
    "                    continue\n",
    "                else:\n",
    "                    flag = True\n",
    "                    continue\n",
    "            if ch != ')' and flag is True:\n",
    "                new_sentence += ch\n",
    "\n",
    "    elif mode == 'numeric_phonetic_otherwise_spelling':\n",
    "        isfront = False\n",
    "        front_bracket = False\n",
    "        back_bracket = False\n",
    "        skip = False\n",
    "\n",
    "        for idx, ch in enumerate(sentence):\n",
    "            if ch == '(':\n",
    "                if isfront:\n",
    "                    isfront = False\n",
    "                else:\n",
    "                    isfront = True\n",
    "\n",
    "                if isfront:\n",
    "                    if sentence[idx + 1].isnumeric():\n",
    "                        front_bracket = False\n",
    "                        back_bracket = True\n",
    "                        skip = True\n",
    "                    else:\n",
    "                        front_bracket = True\n",
    "                        back_bracket = False\n",
    "\n",
    "                if front_bracket and isfront:\n",
    "                    skip = False\n",
    "\n",
    "                elif front_bracket and not isfront:\n",
    "                    skip = True\n",
    "\n",
    "                elif back_bracket and isfront:\n",
    "                    skip = True\n",
    "\n",
    "                elif back_bracket and not isfront:\n",
    "                    skip = False\n",
    "\n",
    "            elif ch == ')':\n",
    "                if front_bracket and isfront:\n",
    "                    skip = True\n",
    "\n",
    "                elif front_bracket and not isfront:\n",
    "                    skip = False\n",
    "\n",
    "                elif back_bracket and isfront:\n",
    "                    skip = True\n",
    "\n",
    "                elif back_bracket and not isfront:\n",
    "                    skip = False\n",
    "\n",
    "            elif not skip:\n",
    "                new_sentence += ch\n",
    "\n",
    "    return new_sentence\n",
    "\n",
    "def special_filter(sentence, mode='phonetic', replace=None):\n",
    "    SENTENCE_MARK = ['?', '!', '.']\n",
    "    NOISE = ['o', 'n', 'u', 'b', 'l']\n",
    "    EXCEPT = ['/', '+', '*', '-', '@', '$', '^', '&', '[', ']', '=', ':', ';', ',']\n",
    "\n",
    "    new_sentence = str()\n",
    "    for idx, ch in enumerate(sentence):\n",
    "        if ch not in SENTENCE_MARK:\n",
    "            if idx + 1 < len(sentence) and ch in NOISE and sentence[idx + 1] == '/':\n",
    "                continue\n",
    "\n",
    "        if ch == '#':\n",
    "            new_sentence += '샾'\n",
    "\n",
    "        elif ch == '%':\n",
    "            if mode == 'phonetic':\n",
    "                new_sentence += replace\n",
    "            elif mode == 'spelling':\n",
    "                new_sentence += '%'\n",
    "\n",
    "        elif ch not in EXCEPT:\n",
    "            new_sentence += ch\n",
    "\n",
    "    pattern = re.compile(r'\\s\\s+')\n",
    "    new_sentence = re.sub(pattern, ' ', new_sentence.strip())\n",
    "    return new_sentence"
   ]
  },
  {
   "cell_type": "code",
   "execution_count": 43,
   "metadata": {},
   "outputs": [],
   "source": [
    "def sentence_filter(raw_sentence, mode, replace=None):\n",
    "    return special_filter(bracket_filter(raw_sentence, mode), mode, replace)"
   ]
  },
  {
   "cell_type": "code",
   "execution_count": 17,
   "metadata": {},
   "outputs": [],
   "source": [
    "txt_ls = list(df['txt'])\n",
    "for i in txt_ls:\n",
    "    i = sentence_filter(i, mode='spelling', replace=None)"
   ]
  },
  {
   "cell_type": "code",
   "execution_count": 25,
   "metadata": {},
   "outputs": [],
   "source": [
    "txt_ls = list(df['txt'])\n",
    "new_ls = []\n",
    "\n",
    "for i in txt_ls:\n",
    "    new_ls.append(sentence_filter(i, mode='spelling', replace=None))"
   ]
  },
  {
   "cell_type": "code",
   "execution_count": 58,
   "metadata": {},
   "outputs": [
    {
     "data": {
      "text/plain": [
       "620000"
      ]
     },
     "execution_count": 58,
     "metadata": {},
     "output_type": "execute_result"
    }
   ],
   "source": [
    "len(new_ls)"
   ]
  },
  {
   "cell_type": "code",
   "execution_count": 45,
   "metadata": {},
   "outputs": [],
   "source": [
    "df['text'] = new_ls"
   ]
  },
  {
   "cell_type": "code",
   "execution_count": 49,
   "metadata": {},
   "outputs": [],
   "source": [
    "df.to_json('AIhub_train.json', orient='records')"
   ]
  },
  {
   "cell_type": "code",
   "execution_count": 57,
   "metadata": {
    "scrolled": true
   },
   "outputs": [],
   "source": [
    "# pd.read_json('AIhub_train.json')"
   ]
  },
  {
   "cell_type": "code",
   "execution_count": 52,
   "metadata": {},
   "outputs": [],
   "source": [
    "with open(\"AIhub_train.json\",\"r\",encoding=\"utf-8\") as f:\n",
    "    train=json.load(f)"
   ]
  },
  {
   "cell_type": "code",
   "execution_count": 56,
   "metadata": {},
   "outputs": [
    {
     "data": {
      "text/plain": [
       "620000"
      ]
     },
     "execution_count": 56,
     "metadata": {},
     "output_type": "execute_result"
    }
   ],
   "source": [
    "len(train)"
   ]
  }
 ],
 "metadata": {
  "kernelspec": {
   "display_name": "Python 3",
   "language": "python",
   "name": "python3"
  },
  "language_info": {
   "codemirror_mode": {
    "name": "ipython",
    "version": 3
   },
   "file_extension": ".py",
   "mimetype": "text/x-python",
   "name": "python",
   "nbconvert_exporter": "python",
   "pygments_lexer": "ipython3",
   "version": "3.7.6"
  }
 },
 "nbformat": 4,
 "nbformat_minor": 4
}
