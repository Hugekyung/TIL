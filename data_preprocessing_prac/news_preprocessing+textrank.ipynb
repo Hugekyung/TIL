{
  "nbformat": 4,
  "nbformat_minor": 0,
  "metadata": {
    "colab": {
      "name": "news_preprocessing+textrank.ipynb",
      "provenance": [],
      "collapsed_sections": [],
      "authorship_tag": "ABX9TyO0muSkSMFxnQRw6yMjYqvI",
      "include_colab_link": true
    },
    "kernelspec": {
      "name": "python3",
      "display_name": "Python 3"
    }
  },
  "cells": [
    {
      "cell_type": "markdown",
      "metadata": {
        "id": "view-in-github",
        "colab_type": "text"
      },
      "source": [
        "<a href=\"https://colab.research.google.com/github/Hugekyung/TIL/blob/master/data_preprocessing_prac/news_preprocessing%2Btextrank.ipynb\" target=\"_parent\"><img src=\"https://colab.research.google.com/assets/colab-badge.svg\" alt=\"Open In Colab\"/></a>"
      ]
    },
    {
      "cell_type": "markdown",
      "metadata": {
        "id": "c7x63Pesl3Er"
      },
      "source": [
        "- 뉴스 데이터 전처리"
      ]
    },
    {
      "cell_type": "code",
      "metadata": {
        "id": "nf17ntoEllFo"
      },
      "source": [
        "import pandas as pd\n",
        "import numpy as np\n",
        "import re"
      ],
      "execution_count": 1,
      "outputs": []
    },
    {
      "cell_type": "code",
      "metadata": {
        "id": "akYAZ1sFmNas"
      },
      "source": [
        "temp = []\n",
        "for y in yeonhab.iloc:\n",
        "    temp_text = y['text']\n",
        "    temp_text = re.sub('\\(([A-Za-z가-힣]*=[가-힣]*\\))','',str(temp_text)) # (서울=연합뉴스) or (AP=연합뉴스) 형식 제거\n",
        "    temp_text = re.sub('.*[가-힣] 기자 =','',temp_text) # 기자이름 제거\n",
        "    temp_text = re.sub('.*[가-힣] 특파원 =','',temp_text)\n",
        "    temp_text = re.sub('.*[가-힣] 기자=','',temp_text)\n",
        "    temp_text = re.sub('    ','',temp_text)\n",
        "    temp_text = re.sub('\\'','',temp_text)\n",
        "    temp_text = re.sub('.*[가-힣]기자','',temp_text) # 기자이름 제거\n",
        "    temp_text = re.sub('\\\\xa0','',temp_text) # .*\\\\xa0.* 포함된 거 제거\n",
        "    temp_text = re.sub('[A-Za-z]+@yna.co.kr.*','',temp_text) # 이메일 제거\n",
        "    temp_text = re.sub('[A-Za-z]+@yonhapnews.co.kr.*','',temp_text) # 이메일 제거\n",
        "    temp_text = re.sub('([0-9a-zA-Z]{1,100}\\.[0-9a-zA-Z]{0,100}%?)','',temp_text) # 00.00형태 삭제\n",
        "    temp_text.strip()\n",
        "    temp.append(temp_text)\n",
        "yeonhab['text_pre'] = temp"
      ],
      "execution_count": null,
      "outputs": []
    },
    {
      "cell_type": "markdown",
      "metadata": {
        "id": "5soT96WFmagc"
      },
      "source": [
        "- TextRank를 사용해 뉴스 요약(textrankr패키지 사용)"
      ]
    },
    {
      "cell_type": "code",
      "metadata": {
        "id": "sBX3TOwemqcq"
      },
      "source": [
        "from textrankr import TextRank"
      ],
      "execution_count": null,
      "outputs": []
    },
    {
      "cell_type": "code",
      "metadata": {
        "id": "13yDY0XImz4L"
      },
      "source": [
        "from typing import List\n",
        "from konlpy.tag import Okt\n",
        "\n",
        "class OktTokenizer:\n",
        "    okt: Okt = Okt()\n",
        "\n",
        "    def __call__(self, text: str) -> List[str]:\n",
        "        tokens: List[str] = self.okt.phrases(text)\n",
        "        return tokens"
      ],
      "execution_count": null,
      "outputs": []
    },
    {
      "cell_type": "code",
      "metadata": {
        "id": "PhG98ksom3Vf"
      },
      "source": [
        "from typing import List\n",
        "from textrankr import TextRank\n",
        "\n",
        "mytokenizer: MyTokenizer = OktTokenizer()\n",
        "textrank: TextRank = TextRank(mytokenizer)\n",
        "\n",
        "k: int = 3  # num sentences in the resulting summary\n",
        "\n",
        "summary_ls = []\n",
        "for t in news_ls:\n",
        "    summarized: str = textrank.summarize(t, k)\n",
        "    summarized = re.sub('\\n', '. ', summarized)\n",
        "    summarized = summarized + '.'\n",
        "    summary_ls.append(summarized)"
      ],
      "execution_count": null,
      "outputs": []
    }
  ]
}