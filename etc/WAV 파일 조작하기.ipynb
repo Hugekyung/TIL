{
 "cells": [
  {
   "cell_type": "code",
   "execution_count": 1,
   "metadata": {},
   "outputs": [
    {
     "name": "stdout",
     "output_type": "stream",
     "text": [
      "Frames: 192000\n",
      "Nr output channels: 2\n",
      "Nr output samples: 256000\n"
     ]
    },
    {
     "name": "stderr",
     "output_type": "stream",
     "text": [
      "C:\\ProgramData\\Anaconda3\\lib\\site-packages\\ipykernel_launcher.py:72: DeprecationWarning: The binary mode of fromstring is deprecated, as it behaves surprisingly on unicode inputs. Use frombuffer instead\n"
     ]
    }
   ],
   "source": [
    "#!/usr/bin/env python\n",
    "# -*- coding: utf-8 -*-\n",
    "#\n",
    "#  downsample.py\n",
    "#  \n",
    "#  Copyright 2015 John Coppens <john@jcoppens.com>\n",
    "#  \n",
    "#  This program is free software; you can redistribute it and/or modify\n",
    "#  it under the terms of the GNU General Public License as published by\n",
    "#  the Free Software Foundation; either version 2 of the License, or\n",
    "#  (at your option) any later version.\n",
    "#  \n",
    "#  This program is distributed in the hope that it will be useful,\n",
    "#  but WITHOUT ANY WARRANTY; without even the implied warranty of\n",
    "#  MERCHANTABILITY or FITNESS FOR A PARTICULAR PURPOSE.  See the\n",
    "#  GNU General Public License for more details.\n",
    "#  \n",
    "#  You should have received a copy of the GNU General Public License\n",
    "#  along with this program; if not, write to the Free Software\n",
    "#  Foundation, Inc., 51 Franklin Street, Fifth Floor, Boston,\n",
    "#  MA 02110-1301, USA.\n",
    "#  \n",
    "#\n",
    "\n",
    "inwave = \"youtube_test_short2.wav\"\n",
    "outwave = \"youtube_test_short2_16k.wav\"\n",
    "\n",
    "import wave\n",
    "import numpy as np\n",
    "import scipy.signal as sps\n",
    "\n",
    "class DownSample():\n",
    "    def __init__(self):\n",
    "        self.in_rate = 48000.0\n",
    "        self.out_rate = 16000.0\n",
    "\n",
    "    def open_file(self, fname):\n",
    "        try:\n",
    "            self.in_wav = wave.open(fname)\n",
    "        except:\n",
    "            print(\"Cannot open wav file (%s)\" % fname)\n",
    "            return False\n",
    "\n",
    "        if self.in_wav.getframerate() != self.in_rate:\n",
    "            print(\"Frame rate is not %d (it's %d)\" % \\\n",
    "                  (self.in_rate, self.in_wav.getframerate()))\n",
    "            return False\n",
    "\n",
    "        self.in_nframes = self.in_wav.getnframes()\n",
    "        print(\"Frames: %d\" % self.in_wav.getnframes())\n",
    "\n",
    "        if self.in_wav.getsampwidth() == 1:\n",
    "            self.nptype = np.uint8\n",
    "        elif self.in_wav.getsampwidth() == 2:\n",
    "            self.nptype = np.uint16\n",
    "\n",
    "        return True\n",
    "\n",
    "    def resample(self, fname):\n",
    "        self.out_wav = wave.open(fname, \"w\")\n",
    "        self.out_wav.setframerate(self.out_rate)\n",
    "        self.out_wav.setnchannels(self.in_wav.getnchannels())\n",
    "        self.out_wav.setsampwidth (self.in_wav.getsampwidth())\n",
    "        self.out_wav.setnframes(1)\n",
    "\n",
    "        print(\"Nr output channels: %d\" % self.out_wav.getnchannels())\n",
    "\n",
    "        audio = self.in_wav.readframes(self.in_nframes)\n",
    "        nroutsamples = round(len(audio) * self.out_rate/self.in_rate)\n",
    "        print(\"Nr output samples: %d\" %  nroutsamples)\n",
    "\n",
    "        audio_out = sps.resample(np.fromstring(audio, self.nptype), nroutsamples)\n",
    "        audio_out = audio_out.astype(self.nptype)\n",
    "\n",
    "        self.out_wav.writeframes(audio_out.copy(order='C'))\n",
    "\n",
    "        self.out_wav.close()\n",
    "\n",
    "def main():\n",
    "    ds = DownSample()\n",
    "    if not ds.open_file(inwave): return 1\n",
    "    ds.resample(outwave)\n",
    "    return 0\n",
    "\n",
    "if __name__ == '__main__':\n",
    "    main()"
   ]
  },
  {
   "cell_type": "code",
   "execution_count": 2,
   "metadata": {},
   "outputs": [],
   "source": [
    "def down_sample(input_wav, origin_sr, resample_sr):\n",
    "    y, sr = librosa.load(input_wav, sr=origin_sr)\n",
    "    resample = librosa.resample(y, sr, resample_sr)"
   ]
  },
  {
   "cell_type": "code",
   "execution_count": null,
   "metadata": {},
   "outputs": [],
   "source": [
    "man_original_data = 'youtube_test_short2.wav'\n",
    "down_sample(man_original_data, 16000, 8000)"
   ]
  },
  {
   "cell_type": "code",
   "execution_count": null,
   "metadata": {},
   "outputs": [],
   "source": [
    " sf.write('./' + '16k.wav' , y, origin_sr, format='WAV', endian='LITTLE', subtype='PCM_16')"
   ]
  },
  {
   "cell_type": "code",
   "execution_count": null,
   "metadata": {},
   "outputs": [],
   "source": []
  },
  {
   "cell_type": "code",
   "execution_count": 13,
   "metadata": {},
   "outputs": [],
   "source": [
    "import wave\n",
    "\n",
    "file_path = 'youtube_test_short2.wav'\n",
    "file_path2 = 'heykakao.wav'\n",
    "\n",
    "wav1 = wave.open(file_path, mode='wb')"
   ]
  },
  {
   "cell_type": "code",
   "execution_count": 1,
   "metadata": {},
   "outputs": [
    {
     "name": "stdout",
     "output_type": "stream",
     "text": [
      "Collecting pydub\n",
      "  Downloading pydub-0.24.1-py2.py3-none-any.whl (30 kB)\n",
      "Installing collected packages: pydub\n",
      "Successfully installed pydub-0.24.1\n",
      "Note: you may need to restart the kernel to use updated packages.\n"
     ]
    }
   ],
   "source": [
    "pip install pydub"
   ]
  },
  {
   "cell_type": "code",
   "execution_count": 2,
   "metadata": {},
   "outputs": [
    {
     "name": "stderr",
     "output_type": "stream",
     "text": [
      "C:\\ProgramData\\Anaconda3\\lib\\site-packages\\pydub\\utils.py:170: RuntimeWarning: Couldn't find ffmpeg or avconv - defaulting to ffmpeg, but may not work\n",
      "  warn(\"Couldn't find ffmpeg or avconv - defaulting to ffmpeg, but may not work\", RuntimeWarning)\n"
     ]
    },
    {
     "data": {
      "text/plain": [
       "<_io.BufferedRandom name='short2.wav'>"
      ]
     },
     "execution_count": 2,
     "metadata": {},
     "output_type": "execute_result"
    }
   ],
   "source": [
    "from pydub import AudioSegment\n",
    "\n",
    "sound = AudioSegment.from_wav(\"youtube_test_short2.wav\")\n",
    "sound = sound.set_channels(1)\n",
    "sound.export(\"short2.wav\", format=\"wav\")"
   ]
  },
  {
   "cell_type": "code",
   "execution_count": null,
   "metadata": {},
   "outputs": [],
   "source": []
  }
 ],
 "metadata": {
  "kernelspec": {
   "display_name": "Python 3",
   "language": "python",
   "name": "python3"
  },
  "language_info": {
   "codemirror_mode": {
    "name": "ipython",
    "version": 3
   },
   "file_extension": ".py",
   "mimetype": "text/x-python",
   "name": "python",
   "nbconvert_exporter": "python",
   "pygments_lexer": "ipython3",
   "version": "3.7.6"
  }
 },
 "nbformat": 4,
 "nbformat_minor": 4
}
