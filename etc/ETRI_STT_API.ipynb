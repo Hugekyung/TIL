{
  "nbformat": 4,
  "nbformat_minor": 0,
  "metadata": {
    "colab": {
      "name": "ETRI_STT_API.ipynb",
      "provenance": [],
      "collapsed_sections": [],
      "authorship_tag": "ABX9TyPvHreLqJVccVNIJmy68NXe",
      "include_colab_link": true
    },
    "kernelspec": {
      "name": "python3",
      "display_name": "Python 3"
    }
  },
  "cells": [
    {
      "cell_type": "markdown",
      "metadata": {
        "id": "view-in-github",
        "colab_type": "text"
      },
      "source": [
        "<a href=\"https://colab.research.google.com/github/Hugekyung/TIL/blob/master/etc/ETRI_STT_API.ipynb\" target=\"_parent\"><img src=\"https://colab.research.google.com/assets/colab-badge.svg\" alt=\"Open In Colab\"/></a>"
      ]
    },
    {
      "cell_type": "markdown",
      "metadata": {
        "id": "d79iVHdXr98k"
      },
      "source": [
        "- accessKey: 발급 받은 key\n",
        "- audioFilePath: 오디오 파일 경로\n",
        "- languageCode: 언어 설정"
      ]
    },
    {
      "cell_type": "code",
      "metadata": {
        "id": "pWsnCgk1r2ep"
      },
      "source": [
        "#-*- coding:utf-8 -*-\n",
        "import urllib3\n",
        "import json\n",
        "import base64\n",
        "openApiURL = \"http://aiopen.etri.re.kr:8000/WiseASR/Recognition\"\n",
        "accessKey = \"YOUR_ACCESS_KEY\"\n",
        "audioFilePath = \"AUDIO_FILE_PATH\"\n",
        "languageCode = \"korean\"\n",
        " \n",
        "file = open(audioFilePath, \"rb\")\n",
        "audioContents = base64.b64encode(file.read()).decode(\"utf8\")\n",
        "file.close()\n",
        " \n",
        "requestJson = {\n",
        "    \"access_key\": accessKey,\n",
        "    \"argument\": {\n",
        "        \"language_code\": languageCode,\n",
        "        \"audio\": audioContents\n",
        "    }\n",
        "}\n",
        " \n",
        "http = urllib3.PoolManager()\n",
        "response = http.request(\n",
        "    \"POST\", # post방식으로 호출\n",
        "    openApiURL,\n",
        "    headers={\"Content-Type\": \"application/json; charset=UTF-8\"},\n",
        "    body=json.dumps(requestJson)\n",
        ")\n",
        " \n",
        "print(\"[responseCode] \" + str(response.status))\n",
        "print(\"[responBody]\")\n",
        "print(str(response.data,\"utf-8\"))"
      ],
      "execution_count": null,
      "outputs": []
    }
  ]
}