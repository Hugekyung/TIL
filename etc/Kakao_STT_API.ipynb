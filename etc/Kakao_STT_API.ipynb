{
  "nbformat": 4,
  "nbformat_minor": 0,
  "metadata": {
    "colab": {
      "name": "Kakao_STT_API.ipynb",
      "provenance": [],
      "collapsed_sections": [],
      "authorship_tag": "ABX9TyMHPySoeG2moufNwKUN+3i+",
      "include_colab_link": true
    },
    "kernelspec": {
      "name": "python3",
      "display_name": "Python 3"
    }
  },
  "cells": [
    {
      "cell_type": "markdown",
      "metadata": {
        "id": "view-in-github",
        "colab_type": "text"
      },
      "source": [
        "<a href=\"https://colab.research.google.com/github/Hugekyung/TIL/blob/master/etc/Kakao_STT_API.ipynb\" target=\"_parent\"><img src=\"https://colab.research.google.com/assets/colab-badge.svg\" alt=\"Open In Colab\"/></a>"
      ]
    },
    {
      "cell_type": "markdown",
      "metadata": {
        "id": "3IcJBigppMrR"
      },
      "source": [
        "- 기본 설명\n",
        "    - 음성 인식 API는 사람이 말하는 음성 언어를 컴퓨터가 해석해 문자 데이터로 변환하는 API입니다. 사람의 음성이 인식 될 때마다 중간 인식 결과를 반환하여 주며, 사람의 음성이 끝날 때 최종 인식 결과를 반환합니다.   \n",
        "    \n",
        "- kakao developers 사이트에서 API키를 발급 받아야 함  \n",
        "\n",
        "- 설치환경: speech_recognition / pyaudio 설치 필요\n",
        "    - window에서 pyaudio 설치시 pip install pipwin -> pipwin install pyaudio  \n",
        "    \n",
        "- 주의사항\n",
        "    - 음성 데이터는 Mono channel, 16000 Hz samplerate, 16 bit depth인 RAW PCM 포맷만 지원합니다."
      ]
    },
    {
      "cell_type": "code",
      "metadata": {
        "id": "zm4nkX8cpF-e"
      },
      "source": [
        "import requests\n",
        "import json\n",
        "import speech_recognition as sr\n",
        "\n",
        "kakao_speech_url = \"https://kakaoi-newtone-openapi.kakao.com/v1/recognize\"\n",
        "\n",
        "rest_api_key = 'de826e450389e974c1075234987b2af7'\n",
        "\n",
        "headers = {\n",
        "    \"Content-Type\": \"application/octet-stream\",\n",
        "#     \"X-DSS-Service\": \"DICTATION\",\n",
        "    \"Authorization\": \"KakaoAK \" + rest_api_key,\n",
        "}\n",
        "\n",
        "r = sr.Recognizer()\n",
        "with sr.Microphone(sample_rate=16000) as source:\n",
        "    print('말해주세요.')\n",
        "    audio = r.listen(source)"
      ],
      "execution_count": null,
      "outputs": []
    },
    {
      "cell_type": "code",
      "metadata": {
        "id": "p1pl37EOpQjP"
      },
      "source": [
        "res = requests.post(kakao_speech_url, headers=headers, data=audio.get_raw_data())\n",
        "print(res.text)"
      ],
      "execution_count": null,
      "outputs": []
    },
    {
      "cell_type": "code",
      "metadata": {
        "id": "bkEkR-LtpUac"
      },
      "source": [
        "result_json_string = res.text[res.text.index('{\"type\":\"finalResult\"'):res.text.rindex('}')+1]\n",
        "# rindex = 마지막에 출현 str을 문자열에서 문자열의 위치를 돌려줍니다.\n",
        "result = json.loads(result_json_string) # json 형식으로 변환\n",
        "# print(result)\n",
        "sen = result['value']\n",
        "sen = sen.replace('니다', '니다.')\n",
        "print(sen)"
      ],
      "execution_count": null,
      "outputs": []
    }
  ]
}