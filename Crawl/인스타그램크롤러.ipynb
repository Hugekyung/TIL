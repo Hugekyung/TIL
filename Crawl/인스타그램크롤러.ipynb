{
  "nbformat": 4,
  "nbformat_minor": 0,
  "metadata": {
    "kernelspec": {
      "display_name": "Python 3",
      "language": "python",
      "name": "python3"
    },
    "language_info": {
      "codemirror_mode": {
        "name": "ipython",
        "version": 3
      },
      "file_extension": ".py",
      "mimetype": "text/x-python",
      "name": "python",
      "nbconvert_exporter": "python",
      "pygments_lexer": "ipython3",
      "version": "3.7.3"
    },
    "colab": {
      "name": "인스타그램크롤러.ipynb",
      "provenance": [],
      "collapsed_sections": [],
      "include_colab_link": true
    }
  },
  "cells": [
    {
      "cell_type": "markdown",
      "metadata": {
        "id": "view-in-github",
        "colab_type": "text"
      },
      "source": [
        "<a href=\"https://colab.research.google.com/github/Hugekyung/TIL/blob/master/Crawl/%EC%9D%B8%EC%8A%A4%ED%83%80%EA%B7%B8%EB%9E%A8%ED%81%AC%EB%A1%A4%EB%9F%AC.ipynb\" target=\"_parent\"><img src=\"https://colab.research.google.com/assets/colab-badge.svg\" alt=\"Open In Colab\"/></a>"
      ]
    },
    {
      "cell_type": "code",
      "metadata": {
        "id": "pGl7uBNkaGAz",
        "colab_type": "code",
        "colab": {}
      },
      "source": [
        "# -*- coding: utf-8 -*-\n",
        "import requests\n",
        "import re\n",
        "import json\n",
        "import urllib\n",
        "import datetime\n",
        "from bs4 import BeautifulSoup\n",
        "\n",
        "#search = '%EC%9D%B4%EC%8A%B9%EA%B8%B0'\n",
        "def insta(query):\n",
        "    search = urllib.parse.quote(query)\n",
        "\n",
        "    headers = {'x-instagram-gis': 'ad034c3799ec2a9b083be2bbb257ffec',\n",
        "               'user-agent': 'Mozilla/5.0 (Macintosh; Intel Mac OS X 10_14_2) AppleWebKit/537.36 (KHTML, like Gecko) Chrome/73.0.3683.86 Safari/537.36'}\n",
        "\n",
        "    response = requests.get('https://www.instagram.com/explore/tags/' + search + '/?__a=1')\n",
        "    json = response.json()\n",
        "\n",
        "    for data in json['graphql']['hashtag']['edge_hashtag_to_media']['edges']:\n",
        "        \n",
        "        #print(data['node']['id'])\n",
        "        #print(data['node']['is_video'])\n",
        "        print(\"작성자 : \", data['node']['owner']['id'])\n",
        "        print(\"작성일 : \", datetime.datetime.fromtimestamp(int(data['node']['taken_at_timestamp'])).strftime('%Y-%m-%d %H:%M:%S'))\n",
        "        print(\"내용 : \", data['node']['edge_media_to_caption']['edges'][0]['node']['text'].strip())\n",
        "        #print(len(data['node']['edge_media_to_caption']['edges']))\n",
        "        print('')\n",
        "        print('')\n",
        "\n",
        "    max_id = json['graphql']['hashtag']['edge_hashtag_to_media']['edges'][len(json['graphql']['hashtag']['edge_hashtag_to_media']['edges']) - 1]['node']['id']\n",
        "    is_next = True\n",
        "\n",
        "    while is_next:\n",
        "        print('https://www.instagram.com/explore/tags/' + search + '/?__a=1&max_id=' + max_id)\n",
        "        response2 = requests.get('https://www.instagram.com/explore/tags/' + search + '/?__a=1&max_id=' + max_id, headers = headers)\n",
        "        json2 = response2.json()\n",
        "\n",
        "        for data in json2['graphql']['hashtag']['edge_hashtag_to_media']['edges']:\n",
        "\n",
        "            #print(data['node']['id'])\n",
        "            #print(data['node']['is_video'])\n",
        "            print(\"작성자 : \", data['node']['owner']['id'])\n",
        "            print(\"작성일 : \", datetime.datetime.fromtimestamp(int(data['node']['taken_at_timestamp'])).strftime('%Y-%m-%d %H:%M:%S'))\n",
        "            print(\"내용 : \", data['node']['edge_media_to_caption']['edges'][0]['node']['text'].strip())\n",
        "            #print(len(data['node']['edge_media_to_caption']['edges']))\n",
        "            print('')\n",
        "            print('')\n",
        "\n",
        "        try:\n",
        "            max_id = json2['graphql']['hashtag']['edge_hashtag_to_media']['edges'][len(json2['graphql']['hashtag']['edge_hashtag_to_media']['edges']) - 1]['node']['id']\n",
        "        except:\n",
        "            is_next = False\n",
        "\n",
        "\n",
        "insta(\"수원\")"
      ],
      "execution_count": null,
      "outputs": []
    }
  ]
}