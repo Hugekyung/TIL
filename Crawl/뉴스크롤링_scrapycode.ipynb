{
  "nbformat": 4,
  "nbformat_minor": 0,
  "metadata": {
    "colab": {
      "name": "뉴스크롤링_scrapycode.ipynb",
      "provenance": [],
      "collapsed_sections": [],
      "authorship_tag": "ABX9TyPbH6qWA3We1GHY8gIB94aQ",
      "include_colab_link": true
    },
    "kernelspec": {
      "name": "python3",
      "display_name": "Python 3"
    }
  },
  "cells": [
    {
      "cell_type": "markdown",
      "metadata": {
        "id": "view-in-github",
        "colab_type": "text"
      },
      "source": [
        "<a href=\"https://colab.research.google.com/github/Hugekyung/TIL/blob/master/Crawl/%EB%89%B4%EC%8A%A4%ED%81%AC%EB%A1%A4%EB%A7%81_scrapycode.ipynb\" target=\"_parent\"><img src=\"https://colab.research.google.com/assets/colab-badge.svg\" alt=\"Open In Colab\"/></a>"
      ]
    },
    {
      "cell_type": "code",
      "metadata": {
        "id": "zG2kRVYMwrGq"
      },
      "source": [
        "# -*- coding: utf-8 -*-\n",
        "import scrapy\n",
        "import re\n",
        "from datetime import datetime\n",
        "import pandas as pd\n",
        "import time\n",
        "import json\n",
        "import requests\n",
        "# 네이버 뉴스 '사회' 카테고리\n",
        "# 기사 수 TOP3 연합뉴스, 뉴시스, 뉴스1\n",
        "# 연합뉴스 https://news.naver.com/main/list.nhn?mode=LPOD&mid=sec&oid=001&date={}\n",
        "# 뉴시스 https://news.naver.com/main/list.nhn?mode=LPOD&mid=sec&oid=003&date={}\n",
        "# 뉴스1 https://news.naver.com/main/list.nhn?mode=LPOD&mid=sec&oid=421&date={}\n",
        "\n",
        "class CrawlNews(scrapy.Spider):\n",
        "    name = \"news\"\n",
        "    allowed_domains = [\"news.naver.com\", \"tts.news.naver.com\"]\n",
        "    url_format = \"https://news.naver.com/main/list.nhn?mode=LPOD&mid=sec&oid=421&date={}\"\n",
        "\n",
        "\n",
        "    def __init__(self):\n",
        "        start = input(\"시작 날짜를 입력하세요(ex.2020-09-30): \")\n",
        "        end = input(\"마지막 날짜를 입력하세요(ex.2020-09-30): \")\n",
        "        startdate =  datetime.strptime(start, \"%Y-%m-%d\")\n",
        "        enddate =  datetime.strptime(end, \"%Y-%m-%d\")\n",
        "\n",
        "        self.start_urls= [] # startdate~enddate 사이 날짜에 해당하는 start_url들을 모두 저장\n",
        "        for cur_date in pd.date_range(startdate, enddate):\n",
        "            self.start_urls.append(self.url_format.format(cur_date.strftime(\"%Y%m%d\")))\n",
        "\n",
        "\n",
        "    def start_requests(self):\n",
        "        for start_url in self.start_urls: # 가져올 페이지를 리스트에 저장\n",
        "            yield scrapy.Request(url=start_url, callback=self.parse, meta={\"start_url\" : start_url, \"page_num\": 1})\n",
        "            time.sleep(5)\n",
        "\n",
        "\n",
        "    def parse(self, response):\n",
        "        page_num = response.meta[\"page_num\"]\n",
        "        if int(response.css(\"div.paging strong::text\").get()) != page_num: # 뉴스 페이지 번호와 for문을 도는 page_num이 일치하지 않으면 중지\n",
        "            return # 함수 종료\n",
        "        else:\n",
        "            for item in response.css(\"ul.type06_headline li\"):\n",
        "                url = item.css(\"a::attr(href)\").get()\n",
        "                yield scrapy.Request(url, callback=self.parse_detail)\n",
        "\n",
        "            for item2 in response.css(\"ul.type06 li\"):\n",
        "                url2 = item2.css(\"a::attr(href)\").get()\n",
        "                yield scrapy.Request(url2, callback=self.parse_detail)\n",
        "                \n",
        "        # 다음 페이지 url\n",
        "        page_num += 1\n",
        "        start_url = response.meta[\"start_url\"]\n",
        "        next_page = start_url + \"&page={}\".format(page_num)\n",
        "        print(\"다음 페이지============\", next_page)\n",
        "        yield scrapy.Request(next_page, callback=self.parse, meta={\"start_url\" : start_url, \"page_num\" : page_num})\n",
        "    \n",
        "\n",
        "    def parse_detail(self, response):\n",
        "        try:\n",
        "            if response.css(\"div.media_end_head_autosummary._auto_summary_wrapper > a::text\").get() == '요약봇': # 요약봇 버튼이 있는 경우만 크롤링\n",
        "                upload_date = response.css(\"div.sponsor span.t11::text\").get()\n",
        "                media = response.css(\"div.press_logo img::attr(title)\").get()\n",
        "                title = response.css(\"h3#articleTitle::text\").get()\n",
        "                text = ''.join(response.css(\"div#articleBodyContents::text\").getall()).replace(\"\\n\",\"\").strip()\n",
        "            yield {\n",
        "                    \"upload_date\": upload_date,\n",
        "                    \"media\": media,\n",
        "                    \"title\": title,\n",
        "                    \"text\": text\n",
        "            }\n",
        "        except:\n",
        "            pass"
      ],
      "execution_count": null,
      "outputs": []
    }
  ]
}